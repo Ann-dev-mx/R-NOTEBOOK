{
 "cells": [
  {
   "cell_type": "markdown",
   "metadata": {},
   "source": [
    "20MCS1008\n",
    "ANN MARIYA XAVIER"
   ]
  },
  {
   "cell_type": "code",
   "execution_count": 1,
   "metadata": {},
   "outputs": [
    {
     "name": "stderr",
     "output_type": "stream",
     "text": [
      "\n",
      "Attaching package: 'dplyr'\n",
      "\n",
      "The following objects are masked from 'package:stats':\n",
      "\n",
      "    filter, lag\n",
      "\n",
      "The following objects are masked from 'package:base':\n",
      "\n",
      "    intersect, setdiff, setequal, union\n",
      "\n"
     ]
    },
    {
     "name": "stdout",
     "output_type": "stream",
     "text": [
      "Observations: 48\n",
      "Variables: 3\n",
      "$ time   <dbl> 0.31, 0.45, 0.46, 0.43, 0.36, 0.29, 0.40, 0.23, 0.22, 0.21, ...\n",
      "$ poison <ord> 1, 1, 1, 1, 2, 2, 2, 2, 3, 3, 3, 3, 1, 1, 1, 1, 2, 2, 2, 2, ...\n",
      "$ treat  <fct> A, A, A, A, A, A, A, A, A, A, A, A, B, B, B, B, B, B, B, B, ...\n"
     ]
    }
   ],
   "source": [
    "library(dplyr)\n",
    "PATH <- \"https://raw.githubusercontent.com/guru99-edu/R-Programming/master/poisons.csv\"\n",
    "df <- read.csv(PATH) %>%\n",
    "select(-X) %>% \n",
    "mutate(poison = factor(poison, ordered = TRUE))\n",
    "glimpse(df)"
   ]
  },
  {
   "cell_type": "code",
   "execution_count": 2,
   "metadata": {},
   "outputs": [
    {
     "data": {
      "text/html": [
       "<ol class=list-inline>\n",
       "\t<li>'1'</li>\n",
       "\t<li>'2'</li>\n",
       "\t<li>'3'</li>\n",
       "</ol>\n"
      ],
      "text/latex": [
       "\\begin{enumerate*}\n",
       "\\item '1'\n",
       "\\item '2'\n",
       "\\item '3'\n",
       "\\end{enumerate*}\n"
      ],
      "text/markdown": [
       "1. '1'\n",
       "2. '2'\n",
       "3. '3'\n",
       "\n",
       "\n"
      ],
      "text/plain": [
       "[1] \"1\" \"2\" \"3\""
      ]
     },
     "metadata": {},
     "output_type": "display_data"
    }
   ],
   "source": [
    "levels(df$poison)"
   ]
  },
  {
   "cell_type": "code",
   "execution_count": 3,
   "metadata": {},
   "outputs": [
    {
     "data": {
      "text/html": [
       "<table>\n",
       "<thead><tr><th scope=col>poison</th><th scope=col>count_poison</th><th scope=col>mean_time</th><th scope=col>sd_time</th></tr></thead>\n",
       "<tbody>\n",
       "\t<tr><td>1         </td><td>16        </td><td>0.617500  </td><td>0.20942779</td></tr>\n",
       "\t<tr><td>2         </td><td>16        </td><td>0.544375  </td><td>0.28936641</td></tr>\n",
       "\t<tr><td>3         </td><td>16        </td><td>0.276250  </td><td>0.06227627</td></tr>\n",
       "</tbody>\n",
       "</table>\n"
      ],
      "text/latex": [
       "\\begin{tabular}{r|llll}\n",
       " poison & count\\_poison & mean\\_time & sd\\_time\\\\\n",
       "\\hline\n",
       "\t 1          & 16         & 0.617500   & 0.20942779\\\\\n",
       "\t 2          & 16         & 0.544375   & 0.28936641\\\\\n",
       "\t 3          & 16         & 0.276250   & 0.06227627\\\\\n",
       "\\end{tabular}\n"
      ],
      "text/markdown": [
       "\n",
       "| poison | count_poison | mean_time | sd_time |\n",
       "|---|---|---|---|\n",
       "| 1          | 16         | 0.617500   | 0.20942779 |\n",
       "| 2          | 16         | 0.544375   | 0.28936641 |\n",
       "| 3          | 16         | 0.276250   | 0.06227627 |\n",
       "\n"
      ],
      "text/plain": [
       "  poison count_poison mean_time sd_time   \n",
       "1 1      16           0.617500  0.20942779\n",
       "2 2      16           0.544375  0.28936641\n",
       "3 3      16           0.276250  0.06227627"
      ]
     },
     "metadata": {},
     "output_type": "display_data"
    }
   ],
   "source": [
    "df %>%\n",
    "    group_by(poison) %>%\n",
    "    summarise(\n",
    "        count_poison = n(),\n",
    "        mean_time = mean(time, na.rm = TRUE),\n",
    "        sd_time = sd(time, na.rm = TRUE)\n",
    "    )"
   ]
  },
  {
   "cell_type": "code",
   "execution_count": 4,
   "metadata": {},
   "outputs": [
    {
     "name": "stderr",
     "output_type": "stream",
     "text": [
      "Registered S3 methods overwritten by 'ggplot2':\n",
      "  method         from \n",
      "  [.quosures     rlang\n",
      "  c.quosures     rlang\n",
      "  print.quosures rlang\n"
     ]
    }
   ],
   "source": [
    "library(ggplot2)"
   ]
  },
  {
   "cell_type": "code",
   "execution_count": 5,
   "metadata": {},
   "outputs": [
    {
     "data": {
      "image/png": "[encoded data removed]",
      "text/plain": [
       "plot without title"
      ]
     },
     "metadata": {},
     "output_type": "display_data"
    }
   ],
   "source": [
    "ggplot(df, aes(x = poison, y = time, fill = poison)) +\n",
    "    geom_boxplot() \n",
    "   "
   ]
  },
  {
   "cell_type": "code",
   "execution_count": 8,
   "metadata": {},
   "outputs": [
    {
     "data": {
      "text/plain": [
       "            Df Sum Sq Mean Sq F value   Pr(>F)    \n",
       "poison       2  1.033  0.5165   11.79 7.66e-05 ***\n",
       "Residuals   45  1.972  0.0438                     \n",
       "---\n",
       "Signif. codes:  0 '***' 0.001 '**' 0.01 '*' 0.05 '.' 0.1 ' ' 1"
      ]
     },
     "metadata": {},
     "output_type": "display_data"
    }
   ],
   "source": [
    "anova_one_way <- aov(time~poison, data = df)\n",
    "summary(anova_one_way)"
   ]
  },
  {
   "cell_type": "code",
   "execution_count": 9,
   "metadata": {},
   "outputs": [
    {
     "data": {
      "text/plain": [
       "  Tukey multiple comparisons of means\n",
       "    95% family-wise confidence level\n",
       "\n",
       "Fit: aov(formula = time ~ poison, data = df)\n",
       "\n",
       "$poison\n",
       "         diff        lwr         upr     p adj\n",
       "2-1 -0.073125 -0.2525046  0.10625464 0.5881654\n",
       "3-1 -0.341250 -0.5206296 -0.16187036 0.0000971\n",
       "3-2 -0.268125 -0.4475046 -0.08874536 0.0020924\n"
      ]
     },
     "metadata": {},
     "output_type": "display_data"
    }
   ],
   "source": [
    "TukeyHSD(anova_one_way)"
   ]
  },
  {
   "cell_type": "code",
   "execution_count": 10,
   "metadata": {},
   "outputs": [
    {
     "data": {
      "image/png": "[encoded data removed]",
      "text/plain": [
       "Plot with title \"\""
      ]
     },
     "metadata": {},
     "output_type": "display_data"
    }
   ],
   "source": [
    "plot(anova_one_way, 1)"
   ]
  },
  {
   "cell_type": "code",
   "execution_count": 11,
   "metadata": {},
   "outputs": [
    {
     "name": "stderr",
     "output_type": "stream",
     "text": [
      "Warning message:\n",
      "\"package 'car' was built under R version 3.6.3\"Loading required package: carData\n",
      "Warning message:\n",
      "\"package 'carData' was built under R version 3.6.3\"\n",
      "Attaching package: 'car'\n",
      "\n",
      "The following object is masked from 'package:dplyr':\n",
      "\n",
      "    recode\n",
      "\n"
     ]
    },
    {
     "data": {
      "text/html": [
       "<table>\n",
       "<thead><tr><th></th><th scope=col>Df</th><th scope=col>F value</th><th scope=col>Pr(&gt;F)</th></tr></thead>\n",
       "<tbody>\n",
       "\t<tr><th scope=row>group</th><td> 2        </td><td>4.196405  </td><td>0.02132648</td></tr>\n",
       "\t<tr><th scope=row> </th><td>45        </td><td>      NA  </td><td>        NA</td></tr>\n",
       "</tbody>\n",
       "</table>\n"
      ],
      "text/latex": [
       "\\begin{tabular}{r|lll}\n",
       "  & Df & F value & Pr(>F)\\\\\n",
       "\\hline\n",
       "\tgroup &  2         & 4.196405   & 0.02132648\\\\\n",
       "\t  & 45         &       NA   &         NA\\\\\n",
       "\\end{tabular}\n"
      ],
      "text/markdown": [
       "\n",
       "| <!--/--> | Df | F value | Pr(>F) |\n",
       "|---|---|---|---|\n",
       "| group |  2         | 4.196405   | 0.02132648 |\n",
       "|   | 45         |       NA   |         NA |\n",
       "\n"
      ],
      "text/plain": [
       "      Df F value  Pr(>F)    \n",
       "group  2 4.196405 0.02132648\n",
       "      45       NA         NA"
      ]
     },
     "metadata": {},
     "output_type": "display_data"
    }
   ],
   "source": [
    "library(car)\n",
    "leveneTest(time~poison, data = df)"
   ]
  },
  {
   "cell_type": "code",
   "execution_count": 12,
   "metadata": {},
   "outputs": [
    {
     "data": {
      "image/png": "[encoded data removed]",
      "text/plain": [
       "Plot with title \"\""
      ]
     },
     "metadata": {},
     "output_type": "display_data"
    }
   ],
   "source": [
    "plot(anova_one_way, 2)"
   ]
  },
  {
   "cell_type": "code",
   "execution_count": 13,
   "metadata": {},
   "outputs": [
    {
     "data": {
      "text/plain": [
       "\n",
       "\tShapiro-Wilk normality test\n",
       "\n",
       "data:  aov_residuals\n",
       "W = 0.90648, p-value = 0.001025\n"
      ]
     },
     "metadata": {},
     "output_type": "display_data"
    }
   ],
   "source": [
    "aov_residuals <- residuals(anova_one_way)\n",
    "# Run Shapiro-Wilk test\n",
    "shapiro.test(x = aov_residuals )"
   ]
  },
  {
   "cell_type": "code",
   "execution_count": 14,
   "metadata": {},
   "outputs": [
    {
     "data": {
      "text/plain": [
       "\n",
       "\tKruskal-Wallis rank sum test\n",
       "\n",
       "data:  time by poison\n",
       "Kruskal-Wallis chi-squared = 25.584, df = 2, p-value = 2.782e-06\n"
      ]
     },
     "metadata": {},
     "output_type": "display_data"
    }
   ],
   "source": [
    "kruskal.test(time ~ poison, data = df)"
   ]
  },
  {
   "cell_type": "code",
   "execution_count": 56,
   "metadata": {},
   "outputs": [
    {
     "data": {
      "text/plain": [
       "            Df Sum Sq Mean Sq F value  Pr(>F)    \n",
       "poison       2 1.0330  0.5165   20.64 5.7e-07 ***\n",
       "treat        3 0.9212  0.3071   12.27 6.7e-06 ***\n",
       "Residuals   42 1.0509  0.0250                    \n",
       "---\n",
       "Signif. codes:  0 '***' 0.001 '**' 0.01 '*' 0.05 '.' 0.1 ' ' 1"
      ]
     },
     "metadata": {},
     "output_type": "display_data"
    }
   ],
   "source": [
    "anova_two_way <- aov(time~poison + treat, data = df)\n",
    "summary(anova_two_way)"
   ]
  },
  {
   "cell_type": "markdown",
   "metadata": {},
   "source": [
    "TWO WAY ANOVA"
   ]
  },
  {
   "cell_type": "code",
   "execution_count": 15,
   "metadata": {},
   "outputs": [
    {
     "data": {
      "text/html": [
       "<table>\n",
       "<thead><tr><th scope=col>time</th><th scope=col>poison</th><th scope=col>treat</th></tr></thead>\n",
       "<tbody>\n",
       "\t<tr><td>0.76</td><td>1   </td><td>C   </td></tr>\n",
       "\t<tr><td>0.72</td><td>1   </td><td>B   </td></tr>\n",
       "\t<tr><td>0.37</td><td>3   </td><td>B   </td></tr>\n",
       "\t<tr><td>0.45</td><td>1   </td><td>D   </td></tr>\n",
       "\t<tr><td>0.38</td><td>2   </td><td>D   </td></tr>\n",
       "\t<tr><td>0.22</td><td>3   </td><td>A   </td></tr>\n",
       "\t<tr><td>0.36</td><td>2   </td><td>A   </td></tr>\n",
       "\t<tr><td>0.71</td><td>1   </td><td>D   </td></tr>\n",
       "\t<tr><td>0.31</td><td>3   </td><td>D   </td></tr>\n",
       "\t<tr><td>0.43</td><td>1   </td><td>A   </td></tr>\n",
       "</tbody>\n",
       "</table>\n"
      ],
      "text/latex": [
       "\\begin{tabular}{r|lll}\n",
       " time & poison & treat\\\\\n",
       "\\hline\n",
       "\t 0.76 & 1    & C   \\\\\n",
       "\t 0.72 & 1    & B   \\\\\n",
       "\t 0.37 & 3    & B   \\\\\n",
       "\t 0.45 & 1    & D   \\\\\n",
       "\t 0.38 & 2    & D   \\\\\n",
       "\t 0.22 & 3    & A   \\\\\n",
       "\t 0.36 & 2    & A   \\\\\n",
       "\t 0.71 & 1    & D   \\\\\n",
       "\t 0.31 & 3    & D   \\\\\n",
       "\t 0.43 & 1    & A   \\\\\n",
       "\\end{tabular}\n"
      ],
      "text/markdown": [
       "\n",
       "| time | poison | treat |\n",
       "|---|---|---|\n",
       "| 0.76 | 1    | C    |\n",
       "| 0.72 | 1    | B    |\n",
       "| 0.37 | 3    | B    |\n",
       "| 0.45 | 1    | D    |\n",
       "| 0.38 | 2    | D    |\n",
       "| 0.22 | 3    | A    |\n",
       "| 0.36 | 2    | A    |\n",
       "| 0.71 | 1    | D    |\n",
       "| 0.31 | 3    | D    |\n",
       "| 0.43 | 1    | A    |\n",
       "\n"
      ],
      "text/plain": [
       "   time poison treat\n",
       "1  0.76 1      C    \n",
       "2  0.72 1      B    \n",
       "3  0.37 3      B    \n",
       "4  0.45 1      D    \n",
       "5  0.38 2      D    \n",
       "6  0.22 3      A    \n",
       "7  0.36 2      A    \n",
       "8  0.71 1      D    \n",
       "9  0.31 3      D    \n",
       "10 0.43 1      A    "
      ]
     },
     "metadata": {},
     "output_type": "display_data"
    }
   ],
   "source": [
    "set.seed(1234)\n",
    "sample_n(df, 10)"
   ]
  },
  {
   "cell_type": "code",
   "execution_count": 16,
   "metadata": {},
   "outputs": [
    {
     "data": {
      "text/html": [
       "<table>\n",
       "<thead><tr><th scope=col>time</th><th scope=col>poison</th><th scope=col>treat</th></tr></thead>\n",
       "<tbody>\n",
       "\t<tr><td>0.31</td><td>D1  </td><td>A   </td></tr>\n",
       "\t<tr><td>0.45</td><td>D1  </td><td>A   </td></tr>\n",
       "\t<tr><td>0.46</td><td>D1  </td><td>A   </td></tr>\n",
       "\t<tr><td>0.43</td><td>D1  </td><td>A   </td></tr>\n",
       "\t<tr><td>0.36</td><td>D2  </td><td>A   </td></tr>\n",
       "\t<tr><td>0.29</td><td>D2  </td><td>A   </td></tr>\n",
       "</tbody>\n",
       "</table>\n"
      ],
      "text/latex": [
       "\\begin{tabular}{r|lll}\n",
       " time & poison & treat\\\\\n",
       "\\hline\n",
       "\t 0.31 & D1   & A   \\\\\n",
       "\t 0.45 & D1   & A   \\\\\n",
       "\t 0.46 & D1   & A   \\\\\n",
       "\t 0.43 & D1   & A   \\\\\n",
       "\t 0.36 & D2   & A   \\\\\n",
       "\t 0.29 & D2   & A   \\\\\n",
       "\\end{tabular}\n"
      ],
      "text/markdown": [
       "\n",
       "| time | poison | treat |\n",
       "|---|---|---|\n",
       "| 0.31 | D1   | A    |\n",
       "| 0.45 | D1   | A    |\n",
       "| 0.46 | D1   | A    |\n",
       "| 0.43 | D1   | A    |\n",
       "| 0.36 | D2   | A    |\n",
       "| 0.29 | D2   | A    |\n",
       "\n"
      ],
      "text/plain": [
       "  time poison treat\n",
       "1 0.31 D1     A    \n",
       "2 0.45 D1     A    \n",
       "3 0.46 D1     A    \n",
       "4 0.43 D1     A    \n",
       "5 0.36 D2     A    \n",
       "6 0.29 D2     A    "
      ]
     },
     "metadata": {},
     "output_type": "display_data"
    }
   ],
   "source": [
    "df$poison<- factor(df$poison,\n",
    "                  levels=c(1,3,2),\n",
    "                  labels=c(\"D1\",\"D3\",\"D2\"))\n",
    "head(df)"
   ]
  },
  {
   "cell_type": "code",
   "execution_count": 17,
   "metadata": {},
   "outputs": [
    {
     "name": "stdout",
     "output_type": "stream",
     "text": [
      "'data.frame':\t48 obs. of  3 variables:\n",
      " $ time  : num  0.31 0.45 0.46 0.43 0.36 0.29 0.4 0.23 0.22 0.21 ...\n",
      " $ poison: Ord.factor w/ 3 levels \"D1\"<\"D3\"<\"D2\": 1 1 1 1 3 3 3 3 2 2 ...\n",
      " $ treat : Factor w/ 4 levels \"A\",\"B\",\"C\",\"D\": 1 1 1 1 1 1 1 1 1 1 ...\n"
     ]
    }
   ],
   "source": [
    "str(df)"
   ]
  },
  {
   "cell_type": "code",
   "execution_count": 18,
   "metadata": {},
   "outputs": [
    {
     "data": {
      "text/plain": [
       "    \n",
       "     A B C D\n",
       "  D1 4 4 4 4\n",
       "  D3 4 4 4 4\n",
       "  D2 4 4 4 4"
      ]
     },
     "metadata": {},
     "output_type": "display_data"
    }
   ],
   "source": [
    "table(df$poison,df$treat)"
   ]
  },
  {
   "cell_type": "code",
   "execution_count": 19,
   "metadata": {},
   "outputs": [
    {
     "data": {
      "text/html": [
       "<table>\n",
       "<thead><tr><th scope=col>poison</th><th scope=col>treat</th><th scope=col>count</th><th scope=col>mn</th><th scope=col>sd</th></tr></thead>\n",
       "<tbody>\n",
       "\t<tr><td>D1        </td><td>A         </td><td>4         </td><td>0.4125    </td><td>0.06946222</td></tr>\n",
       "\t<tr><td>D1        </td><td>B         </td><td>4         </td><td>0.8800    </td><td>0.16083117</td></tr>\n",
       "\t<tr><td>D1        </td><td>C         </td><td>4         </td><td>0.5675    </td><td>0.15671099</td></tr>\n",
       "\t<tr><td>D1        </td><td>D         </td><td>4         </td><td>0.6100    </td><td>0.11284207</td></tr>\n",
       "\t<tr><td>D3        </td><td>A         </td><td>4         </td><td>0.2100    </td><td>0.02160247</td></tr>\n",
       "\t<tr><td>D3        </td><td>B         </td><td>4         </td><td>0.3350    </td><td>0.04654747</td></tr>\n",
       "\t<tr><td>D3        </td><td>C         </td><td>4         </td><td>0.2350    </td><td>0.01290994</td></tr>\n",
       "\t<tr><td>D3        </td><td>D         </td><td>4         </td><td>0.3250    </td><td>0.02645751</td></tr>\n",
       "\t<tr><td>D2        </td><td>A         </td><td>4         </td><td>0.3200    </td><td>0.07527727</td></tr>\n",
       "\t<tr><td>D2        </td><td>B         </td><td>4         </td><td>0.8150    </td><td>0.33630343</td></tr>\n",
       "\t<tr><td>D2        </td><td>C         </td><td>4         </td><td>0.3750    </td><td>0.05686241</td></tr>\n",
       "\t<tr><td>D2        </td><td>D         </td><td>4         </td><td>0.6675    </td><td>0.27097048</td></tr>\n",
       "</tbody>\n",
       "</table>\n"
      ],
      "text/latex": [
       "\\begin{tabular}{r|lllll}\n",
       " poison & treat & count & mn & sd\\\\\n",
       "\\hline\n",
       "\t D1         & A          & 4          & 0.4125     & 0.06946222\\\\\n",
       "\t D1         & B          & 4          & 0.8800     & 0.16083117\\\\\n",
       "\t D1         & C          & 4          & 0.5675     & 0.15671099\\\\\n",
       "\t D1         & D          & 4          & 0.6100     & 0.11284207\\\\\n",
       "\t D3         & A          & 4          & 0.2100     & 0.02160247\\\\\n",
       "\t D3         & B          & 4          & 0.3350     & 0.04654747\\\\\n",
       "\t D3         & C          & 4          & 0.2350     & 0.01290994\\\\\n",
       "\t D3         & D          & 4          & 0.3250     & 0.02645751\\\\\n",
       "\t D2         & A          & 4          & 0.3200     & 0.07527727\\\\\n",
       "\t D2         & B          & 4          & 0.8150     & 0.33630343\\\\\n",
       "\t D2         & C          & 4          & 0.3750     & 0.05686241\\\\\n",
       "\t D2         & D          & 4          & 0.6675     & 0.27097048\\\\\n",
       "\\end{tabular}\n"
      ],
      "text/markdown": [
       "\n",
       "| poison | treat | count | mn | sd |\n",
       "|---|---|---|---|---|\n",
       "| D1         | A          | 4          | 0.4125     | 0.06946222 |\n",
       "| D1         | B          | 4          | 0.8800     | 0.16083117 |\n",
       "| D1         | C          | 4          | 0.5675     | 0.15671099 |\n",
       "| D1         | D          | 4          | 0.6100     | 0.11284207 |\n",
       "| D3         | A          | 4          | 0.2100     | 0.02160247 |\n",
       "| D3         | B          | 4          | 0.3350     | 0.04654747 |\n",
       "| D3         | C          | 4          | 0.2350     | 0.01290994 |\n",
       "| D3         | D          | 4          | 0.3250     | 0.02645751 |\n",
       "| D2         | A          | 4          | 0.3200     | 0.07527727 |\n",
       "| D2         | B          | 4          | 0.8150     | 0.33630343 |\n",
       "| D2         | C          | 4          | 0.3750     | 0.05686241 |\n",
       "| D2         | D          | 4          | 0.6675     | 0.27097048 |\n",
       "\n"
      ],
      "text/plain": [
       "   poison treat count mn     sd        \n",
       "1  D1     A     4     0.4125 0.06946222\n",
       "2  D1     B     4     0.8800 0.16083117\n",
       "3  D1     C     4     0.5675 0.15671099\n",
       "4  D1     D     4     0.6100 0.11284207\n",
       "5  D3     A     4     0.2100 0.02160247\n",
       "6  D3     B     4     0.3350 0.04654747\n",
       "7  D3     C     4     0.2350 0.01290994\n",
       "8  D3     D     4     0.3250 0.02645751\n",
       "9  D2     A     4     0.3200 0.07527727\n",
       "10 D2     B     4     0.8150 0.33630343\n",
       "11 D2     C     4     0.3750 0.05686241\n",
       "12 D2     D     4     0.6675 0.27097048"
      ]
     },
     "metadata": {},
     "output_type": "display_data"
    }
   ],
   "source": [
    "df %>%\n",
    "group_by(poison,treat) %>%\n",
    "summarize(count=n(),mn=mean(time,na.rm = TRUE),sd=sd(time,na.rm=TRUE))"
   ]
  },
  {
   "cell_type": "code",
   "execution_count": 20,
   "metadata": {},
   "outputs": [
    {
     "data": {
      "image/png": "[encoded data removed]",
      "text/plain": [
       "plot without title"
      ]
     },
     "metadata": {},
     "output_type": "display_data"
    }
   ],
   "source": [
    "ggplot(df,aes(x=treat,y=time,color=poison))+geom_boxplot()"
   ]
  },
  {
   "cell_type": "code",
   "execution_count": 21,
   "metadata": {},
   "outputs": [
    {
     "data": {
      "text/plain": [
       "            Df Sum Sq Mean Sq F value  Pr(>F)    \n",
       "poison       2 1.0330  0.5165   20.64 5.7e-07 ***\n",
       "treat        3 0.9212  0.3071   12.27 6.7e-06 ***\n",
       "Residuals   42 1.0509  0.0250                    \n",
       "---\n",
       "Signif. codes:  0 '***' 0.001 '**' 0.01 '*' 0.05 '.' 0.1 ' ' 1"
      ]
     },
     "metadata": {},
     "output_type": "display_data"
    }
   ],
   "source": [
    "res.aov2 <- aov(time ~ poison + treat, data = df)\n",
    "summary(res.aov2)"
   ]
  },
  {
   "cell_type": "code",
   "execution_count": 22,
   "metadata": {},
   "outputs": [
    {
     "data": {
      "text/plain": [
       "             Df Sum Sq Mean Sq F value   Pr(>F)    \n",
       "poison        2 1.0330  0.5165  23.222 3.33e-07 ***\n",
       "treat         3 0.9212  0.3071  13.806 3.78e-06 ***\n",
       "poison:treat  6 0.2501  0.0417   1.874    0.112    \n",
       "Residuals    36 0.8007  0.0222                     \n",
       "---\n",
       "Signif. codes:  0 '***' 0.001 '**' 0.01 '*' 0.05 '.' 0.1 ' ' 1"
      ]
     },
     "metadata": {},
     "output_type": "display_data"
    }
   ],
   "source": [
    "res.aov3 <- aov(time ~ poison * treat, data = df)\n",
    "summary(res.aov3)"
   ]
  },
  {
   "cell_type": "code",
   "execution_count": 23,
   "metadata": {},
   "outputs": [
    {
     "data": {
      "text/plain": [
       "  Tukey multiple comparisons of means\n",
       "    95% family-wise confidence level\n",
       "\n",
       "Fit: aov(formula = time ~ poison * treat, data = df)\n",
       "\n",
       "$treat\n",
       "           diff         lwr         upr     p adj\n",
       "B-A  0.36250000  0.19852116  0.52647884 0.0000047\n",
       "C-A  0.07833333 -0.08564550  0.24231217 0.5772283\n",
       "D-A  0.22000000  0.05602116  0.38397884 0.0048556\n",
       "C-B -0.28416667 -0.44814550 -0.12018783 0.0002333\n",
       "D-B -0.14250000 -0.30647884  0.02147884 0.1077087\n",
       "D-C  0.14166667 -0.02231217  0.30564550 0.1107678\n"
      ]
     },
     "metadata": {},
     "output_type": "display_data"
    }
   ],
   "source": [
    "TukeyHSD(res.aov3, which = \"treat\")"
   ]
  },
  {
   "cell_type": "code",
   "execution_count": 24,
   "metadata": {},
   "outputs": [
    {
     "data": {
      "image/png": "[encoded data removed]",
      "text/plain": [
       "Plot with title \"\""
      ]
     },
     "metadata": {},
     "output_type": "display_data"
    }
   ],
   "source": [
    "plot(res.aov3, 1)"
   ]
  },
  {
   "cell_type": "code",
   "execution_count": 25,
   "metadata": {},
   "outputs": [
    {
     "data": {
      "text/html": [
       "<table>\n",
       "<thead><tr><th></th><th scope=col>Df</th><th scope=col>F value</th><th scope=col>Pr(&gt;F)</th></tr></thead>\n",
       "<tbody>\n",
       "\t<tr><th scope=row>group</th><td>11          </td><td>4.13233     </td><td>0.0005833475</td></tr>\n",
       "\t<tr><th scope=row> </th><td>36          </td><td>     NA     </td><td>          NA</td></tr>\n",
       "</tbody>\n",
       "</table>\n"
      ],
      "text/latex": [
       "\\begin{tabular}{r|lll}\n",
       "  & Df & F value & Pr(>F)\\\\\n",
       "\\hline\n",
       "\tgroup & 11           & 4.13233      & 0.0005833475\\\\\n",
       "\t  & 36           &      NA      &           NA\\\\\n",
       "\\end{tabular}\n"
      ],
      "text/markdown": [
       "\n",
       "| <!--/--> | Df | F value | Pr(>F) |\n",
       "|---|---|---|---|\n",
       "| group | 11           | 4.13233      | 0.0005833475 |\n",
       "|   | 36           |      NA      |           NA |\n",
       "\n"
      ],
      "text/plain": [
       "      Df F value Pr(>F)      \n",
       "group 11 4.13233 0.0005833475\n",
       "      36      NA           NA"
      ]
     },
     "metadata": {},
     "output_type": "display_data"
    }
   ],
   "source": [
    "leveneTest(time ~ poison * treat, data = df)"
   ]
  },
  {
   "cell_type": "code",
   "execution_count": 26,
   "metadata": {},
   "outputs": [
    {
     "data": {
      "image/png": "[encoded data removed]",
      "text/plain": [
       "Plot with title \"\""
      ]
     },
     "metadata": {},
     "output_type": "display_data"
    }
   ],
   "source": [
    "plot(res.aov3, 2)"
   ]
  },
  {
   "cell_type": "code",
   "execution_count": 27,
   "metadata": {},
   "outputs": [
    {
     "data": {
      "text/plain": [
       "\n",
       "\tShapiro-Wilk normality test\n",
       "\n",
       "data:  aov_residuals\n",
       "W = 0.91229, p-value = 0.001607\n"
      ]
     },
     "metadata": {},
     "output_type": "display_data"
    }
   ],
   "source": [
    "aov_residuals <- residuals(object = res.aov3)\n",
    "# Run Shapiro-Wilk test\n",
    "shapiro.test(x = aov_residuals )"
   ]
  },
  {
   "cell_type": "code",
   "execution_count": 28,
   "metadata": {},
   "outputs": [
    {
     "data": {
      "text/html": [
       "<table>\n",
       "<thead><tr><th></th><th scope=col>Sum Sq</th><th scope=col>Df</th><th scope=col>F value</th><th scope=col>Pr(&gt;F)</th></tr></thead>\n",
       "<tbody>\n",
       "\t<tr><th scope=row>(Intercept)</th><td>1.1844083   </td><td> 1          </td><td>47.33745    </td><td>2.156765e-08</td></tr>\n",
       "\t<tr><th scope=row>poison</th><td>1.0330125   </td><td> 2          </td><td>20.64329    </td><td>5.703728e-07</td></tr>\n",
       "\t<tr><th scope=row>treat</th><td>0.9212062   </td><td> 3          </td><td>12.27267    </td><td>6.696971e-06</td></tr>\n",
       "\t<tr><th scope=row>Residuals</th><td>1.0508625   </td><td>42          </td><td>      NA    </td><td>          NA</td></tr>\n",
       "</tbody>\n",
       "</table>\n"
      ],
      "text/latex": [
       "\\begin{tabular}{r|llll}\n",
       "  & Sum Sq & Df & F value & Pr(>F)\\\\\n",
       "\\hline\n",
       "\t(Intercept) & 1.1844083    &  1           & 47.33745     & 2.156765e-08\\\\\n",
       "\tpoison & 1.0330125    &  2           & 20.64329     & 5.703728e-07\\\\\n",
       "\ttreat & 0.9212062    &  3           & 12.27267     & 6.696971e-06\\\\\n",
       "\tResiduals & 1.0508625    & 42           &       NA     &           NA\\\\\n",
       "\\end{tabular}\n"
      ],
      "text/markdown": [
       "\n",
       "| <!--/--> | Sum Sq | Df | F value | Pr(>F) |\n",
       "|---|---|---|---|---|\n",
       "| (Intercept) | 1.1844083    |  1           | 47.33745     | 2.156765e-08 |\n",
       "| poison | 1.0330125    |  2           | 20.64329     | 5.703728e-07 |\n",
       "| treat | 0.9212062    |  3           | 12.27267     | 6.696971e-06 |\n",
       "| Residuals | 1.0508625    | 42           |       NA     |           NA |\n",
       "\n"
      ],
      "text/plain": [
       "            Sum Sq    Df F value  Pr(>F)      \n",
       "(Intercept) 1.1844083  1 47.33745 2.156765e-08\n",
       "poison      1.0330125  2 20.64329 5.703728e-07\n",
       "treat       0.9212062  3 12.27267 6.696971e-06\n",
       "Residuals   1.0508625 42       NA           NA"
      ]
     },
     "metadata": {},
     "output_type": "display_data"
    }
   ],
   "source": [
    "my_anova <- aov(time ~ poison + treat, data = df)\n",
    "Anova(my_anova, type = \"III\")"
   ]
  },
  {
   "cell_type": "markdown",
   "metadata": {},
   "source": [
    "MANOVA test - where there are multiple response variables you can test them simultaneously"
   ]
  },
  {
   "cell_type": "code",
   "execution_count": 29,
   "metadata": {},
   "outputs": [
    {
     "name": "stdout",
     "output_type": "stream",
     "text": [
      "'data.frame':\t150 obs. of  5 variables:\n",
      " $ Sepal.Length: num  5.1 4.9 4.7 4.6 5 5.4 4.6 5 4.4 4.9 ...\n",
      " $ Sepal.Width : num  3.5 3 3.2 3.1 3.6 3.9 3.4 3.4 2.9 3.1 ...\n",
      " $ Petal.Length: num  1.4 1.4 1.3 1.5 1.4 1.7 1.4 1.5 1.4 1.5 ...\n",
      " $ Petal.Width : num  0.2 0.2 0.2 0.2 0.2 0.4 0.3 0.2 0.2 0.1 ...\n",
      " $ Species     : Factor w/ 3 levels \"setosa\",\"versicolor\",..: 1 1 1 1 1 1 1 1 1 1 ...\n"
     ]
    }
   ],
   "source": [
    "my_df <- iris\n",
    "str(my_df)"
   ]
  },
  {
   "cell_type": "code",
   "execution_count": 30,
   "metadata": {},
   "outputs": [
    {
     "data": {
      "text/html": [
       "<table>\n",
       "<thead><tr><th scope=col>Sepal.Length</th><th scope=col>Sepal.Width</th><th scope=col>Petal.Length</th><th scope=col>Petal.Width</th><th scope=col>Species</th></tr></thead>\n",
       "<tbody>\n",
       "\t<tr><td>5.2       </td><td>3.5       </td><td>1.5       </td><td>0.2       </td><td>setosa    </td></tr>\n",
       "\t<tr><td>5.7       </td><td>2.6       </td><td>3.5       </td><td>1.0       </td><td>versicolor</td></tr>\n",
       "\t<tr><td>6.3       </td><td>3.3       </td><td>6.0       </td><td>2.5       </td><td>virginica </td></tr>\n",
       "\t<tr><td>6.5       </td><td>3.2       </td><td>5.1       </td><td>2.0       </td><td>virginica </td></tr>\n",
       "\t<tr><td>6.3       </td><td>3.4       </td><td>5.6       </td><td>2.4       </td><td>virginica </td></tr>\n",
       "\t<tr><td>6.4       </td><td>2.8       </td><td>5.6       </td><td>2.2       </td><td>virginica </td></tr>\n",
       "\t<tr><td>6.8       </td><td>3.2       </td><td>5.9       </td><td>2.3       </td><td>virginica </td></tr>\n",
       "\t<tr><td>7.9       </td><td>3.8       </td><td>6.4       </td><td>2.0       </td><td>virginica </td></tr>\n",
       "\t<tr><td>6.2       </td><td>2.9       </td><td>4.3       </td><td>1.3       </td><td>versicolor</td></tr>\n",
       "\t<tr><td>7.1       </td><td>3.0       </td><td>5.9       </td><td>2.1       </td><td>virginica </td></tr>\n",
       "</tbody>\n",
       "</table>\n"
      ],
      "text/latex": [
       "\\begin{tabular}{r|lllll}\n",
       " Sepal.Length & Sepal.Width & Petal.Length & Petal.Width & Species\\\\\n",
       "\\hline\n",
       "\t 5.2        & 3.5        & 1.5        & 0.2        & setosa    \\\\\n",
       "\t 5.7        & 2.6        & 3.5        & 1.0        & versicolor\\\\\n",
       "\t 6.3        & 3.3        & 6.0        & 2.5        & virginica \\\\\n",
       "\t 6.5        & 3.2        & 5.1        & 2.0        & virginica \\\\\n",
       "\t 6.3        & 3.4        & 5.6        & 2.4        & virginica \\\\\n",
       "\t 6.4        & 2.8        & 5.6        & 2.2        & virginica \\\\\n",
       "\t 6.8        & 3.2        & 5.9        & 2.3        & virginica \\\\\n",
       "\t 7.9        & 3.8        & 6.4        & 2.0        & virginica \\\\\n",
       "\t 6.2        & 2.9        & 4.3        & 1.3        & versicolor\\\\\n",
       "\t 7.1        & 3.0        & 5.9        & 2.1        & virginica \\\\\n",
       "\\end{tabular}\n"
      ],
      "text/markdown": [
       "\n",
       "| Sepal.Length | Sepal.Width | Petal.Length | Petal.Width | Species |\n",
       "|---|---|---|---|---|\n",
       "| 5.2        | 3.5        | 1.5        | 0.2        | setosa     |\n",
       "| 5.7        | 2.6        | 3.5        | 1.0        | versicolor |\n",
       "| 6.3        | 3.3        | 6.0        | 2.5        | virginica  |\n",
       "| 6.5        | 3.2        | 5.1        | 2.0        | virginica  |\n",
       "| 6.3        | 3.4        | 5.6        | 2.4        | virginica  |\n",
       "| 6.4        | 2.8        | 5.6        | 2.2        | virginica  |\n",
       "| 6.8        | 3.2        | 5.9        | 2.3        | virginica  |\n",
       "| 7.9        | 3.8        | 6.4        | 2.0        | virginica  |\n",
       "| 6.2        | 2.9        | 4.3        | 1.3        | versicolor |\n",
       "| 7.1        | 3.0        | 5.9        | 2.1        | virginica  |\n",
       "\n"
      ],
      "text/plain": [
       "   Sepal.Length Sepal.Width Petal.Length Petal.Width Species   \n",
       "1  5.2          3.5         1.5          0.2         setosa    \n",
       "2  5.7          2.6         3.5          1.0         versicolor\n",
       "3  6.3          3.3         6.0          2.5         virginica \n",
       "4  6.5          3.2         5.1          2.0         virginica \n",
       "5  6.3          3.4         5.6          2.4         virginica \n",
       "6  6.4          2.8         5.6          2.2         virginica \n",
       "7  6.8          3.2         5.9          2.3         virginica \n",
       "8  7.9          3.8         6.4          2.0         virginica \n",
       "9  6.2          2.9         4.3          1.3         versicolor\n",
       "10 7.1          3.0         5.9          2.1         virginica "
      ]
     },
     "metadata": {},
     "output_type": "display_data"
    }
   ],
   "source": [
    "set.seed(1234)\n",
    "sample_n(my_df, 10)"
   ]
  },
  {
   "cell_type": "code",
   "execution_count": 31,
   "metadata": {},
   "outputs": [
    {
     "data": {
      "text/plain": [
       "           Df Pillai approx F num Df den Df    Pr(>F)    \n",
       "Species     2 0.9885   71.829      4    294 < 2.2e-16 ***\n",
       "Residuals 147                                            \n",
       "---\n",
       "Signif. codes:  0 '***' 0.001 '**' 0.01 '*' 0.05 '.' 0.1 ' ' 1"
      ]
     },
     "metadata": {},
     "output_type": "display_data"
    }
   ],
   "source": [
    "sepl <- iris$Sepal.Length\n",
    "petl <- iris$Petal.Length\n",
    "# MANOVA test\n",
    "res.man <- manova(cbind(Sepal.Length, Petal.Length) ~ Species, data = iris)\n",
    "summary(res.man)"
   ]
  },
  {
   "cell_type": "code",
   "execution_count": 32,
   "metadata": {},
   "outputs": [
    {
     "data": {
      "text/plain": [
       " Response Sepal.Length :\n",
       "             Df Sum Sq Mean Sq F value    Pr(>F)    \n",
       "Species       2 63.212  31.606  119.26 < 2.2e-16 ***\n",
       "Residuals   147 38.956   0.265                      \n",
       "---\n",
       "Signif. codes:  0 '***' 0.001 '**' 0.01 '*' 0.05 '.' 0.1 ' ' 1\n",
       "\n",
       " Response Petal.Length :\n",
       "             Df Sum Sq Mean Sq F value    Pr(>F)    \n",
       "Species       2 437.10 218.551  1180.2 < 2.2e-16 ***\n",
       "Residuals   147  27.22   0.185                      \n",
       "---\n",
       "Signif. codes:  0 '***' 0.001 '**' 0.01 '*' 0.05 '.' 0.1 ' ' 1\n"
      ]
     },
     "metadata": {},
     "output_type": "display_data"
    }
   ],
   "source": [
    "summary.aov(res.man)"
   ]
  },
  {
   "cell_type": "markdown",
   "metadata": {},
   "source": [
    "Correlation Analysis - finds the linear dependence between two variables"
   ]
  },
  {
   "cell_type": "code",
   "execution_count": 33,
   "metadata": {},
   "outputs": [
    {
     "name": "stdout",
     "output_type": "stream",
     "text": [
      "'data.frame':\t32 obs. of  11 variables:\n",
      " $ mpg : num  21 21 22.8 21.4 18.7 18.1 14.3 24.4 22.8 19.2 ...\n",
      " $ cyl : num  6 6 4 6 8 6 8 4 4 6 ...\n",
      " $ disp: num  160 160 108 258 360 ...\n",
      " $ hp  : num  110 110 93 110 175 105 245 62 95 123 ...\n",
      " $ drat: num  3.9 3.9 3.85 3.08 3.15 2.76 3.21 3.69 3.92 3.92 ...\n",
      " $ wt  : num  2.62 2.88 2.32 3.21 3.44 ...\n",
      " $ qsec: num  16.5 17 18.6 19.4 17 ...\n",
      " $ vs  : num  0 0 1 1 0 1 0 1 1 1 ...\n",
      " $ am  : num  1 1 1 0 0 0 0 0 0 0 ...\n",
      " $ gear: num  4 4 4 3 3 3 3 4 4 4 ...\n",
      " $ carb: num  4 4 1 1 2 1 4 2 2 4 ...\n"
     ]
    }
   ],
   "source": [
    "df=mtcars\n",
    "str(df)"
   ]
  },
  {
   "cell_type": "code",
   "execution_count": 34,
   "metadata": {},
   "outputs": [
    {
     "data": {
      "image/png": "[encoded data removed]",
      "text/plain": [
       "plot without title"
      ]
     },
     "metadata": {},
     "output_type": "display_data"
    }
   ],
   "source": [
    "plot(df$cyl,df$gear)"
   ]
  },
  {
   "cell_type": "code",
   "execution_count": 35,
   "metadata": {},
   "outputs": [
    {
     "data": {
      "image/png": "[encoded data removed]",
      "text/plain": [
       "plot without title"
      ]
     },
     "metadata": {},
     "output_type": "display_data"
    }
   ],
   "source": [
    "ggplot(df,aes(x=cyl,y=gear))+geom_point()+geom_smooth(method='lm')"
   ]
  },
  {
   "cell_type": "code",
   "execution_count": 36,
   "metadata": {},
   "outputs": [
    {
     "data": {
      "text/plain": [
       "\n",
       "\tShapiro-Wilk normality test\n",
       "\n",
       "data:  df$cyl\n",
       "W = 0.75331, p-value = 6.058e-06\n"
      ]
     },
     "metadata": {},
     "output_type": "display_data"
    }
   ],
   "source": [
    "#normality test\n",
    "shapiro.test(df$cyl)"
   ]
  },
  {
   "cell_type": "code",
   "execution_count": 37,
   "metadata": {},
   "outputs": [
    {
     "data": {
      "image/png": "[encoded data removed]",
      "text/plain": [
       "Plot with title \"Normal Q-Q Plot\""
      ]
     },
     "metadata": {},
     "output_type": "display_data"
    }
   ],
   "source": [
    "qqnorm(df$cyl)\n",
    "qqline(df$cyl)"
   ]
  },
  {
   "cell_type": "code",
   "execution_count": 38,
   "metadata": {},
   "outputs": [
    {
     "data": {
      "text/plain": [
       "\n",
       "\tShapiro-Wilk normality test\n",
       "\n",
       "data:  df$gear\n",
       "W = 0.77279, p-value = 1.307e-05\n"
      ]
     },
     "metadata": {},
     "output_type": "display_data"
    }
   ],
   "source": [
    "shapiro.test(df$gear)"
   ]
  },
  {
   "cell_type": "code",
   "execution_count": 39,
   "metadata": {},
   "outputs": [
    {
     "data": {
      "image/png": "[encoded data removed]",
      "text/plain": [
       "Plot with title \"Normal Q-Q Plot\""
      ]
     },
     "metadata": {},
     "output_type": "display_data"
    }
   ],
   "source": [
    "qqnorm(df$gear)\n",
    "qqline(df$gear)"
   ]
  },
  {
   "cell_type": "code",
   "execution_count": 40,
   "metadata": {},
   "outputs": [
    {
     "data": {
      "text/html": [
       "-0.492686599389471"
      ],
      "text/latex": [
       "-0.492686599389471"
      ],
      "text/markdown": [
       "-0.492686599389471"
      ],
      "text/plain": [
       "[1] -0.4926866"
      ]
     },
     "metadata": {},
     "output_type": "display_data"
    }
   ],
   "source": [
    "cor(df$cyl,df$gear)"
   ]
  },
  {
   "cell_type": "code",
   "execution_count": 41,
   "metadata": {},
   "outputs": [
    {
     "data": {
      "text/plain": [
       "\n",
       "\tPearson's product-moment correlation\n",
       "\n",
       "data:  df$cyl and df$gear\n",
       "t = -3.1011, df = 30, p-value = 0.004173\n",
       "alternative hypothesis: true correlation is not equal to 0\n",
       "95 percent confidence interval:\n",
       " -0.7180260 -0.1738615\n",
       "sample estimates:\n",
       "       cor \n",
       "-0.4926866 \n"
      ]
     },
     "metadata": {},
     "output_type": "display_data"
    }
   ],
   "source": [
    "cor.test(df$cyl,df$gear)"
   ]
  },
  {
   "cell_type": "code",
   "execution_count": 42,
   "metadata": {},
   "outputs": [
    {
     "name": "stderr",
     "output_type": "stream",
     "text": [
      "Warning message in cor.test.default(df$cyl, df$gear, method = \"kendall\"):\n",
      "\"Cannot compute exact p-value with ties\""
     ]
    },
    {
     "data": {
      "text/plain": [
       "\n",
       "\tKendall's rank correlation tau\n",
       "\n",
       "data:  df$cyl and df$gear\n",
       "z = -3.1551, p-value = 0.001604\n",
       "alternative hypothesis: true tau is not equal to 0\n",
       "sample estimates:\n",
       "       tau \n",
       "-0.5125435 \n"
      ]
     },
     "metadata": {},
     "output_type": "display_data"
    }
   ],
   "source": [
    "cor.test(df$cyl,df$gear,method=\"kendall\")"
   ]
  },
  {
   "cell_type": "code",
   "execution_count": 43,
   "metadata": {},
   "outputs": [
    {
     "name": "stderr",
     "output_type": "stream",
     "text": [
      "Warning message in cor.test.default(df$cyl, df$gear, method = \"spearman\"):\n",
      "\"Cannot compute exact p-value with ties\""
     ]
    },
    {
     "data": {
      "text/plain": [
       "\n",
       "\tSpearman's rank correlation rho\n",
       "\n",
       "data:  df$cyl and df$gear\n",
       "S = 8534.9, p-value = 0.0007678\n",
       "alternative hypothesis: true rho is not equal to 0\n",
       "sample estimates:\n",
       "       rho \n",
       "-0.5643105 \n"
      ]
     },
     "metadata": {},
     "output_type": "display_data"
    }
   ],
   "source": [
    "cor.test(df$cyl,df$gear,method=\"spearman\")"
   ]
  },
  {
   "cell_type": "code",
   "execution_count": 44,
   "metadata": {},
   "outputs": [
    {
     "data": {
      "text/html": [
       "<table>\n",
       "<thead><tr><th></th><th scope=col>mpg</th><th scope=col>disp</th><th scope=col>hp</th><th scope=col>drat</th><th scope=col>wt</th><th scope=col>qsec</th></tr></thead>\n",
       "<tbody>\n",
       "\t<tr><th scope=row>Mazda RX4</th><td>21.0 </td><td>160  </td><td>110  </td><td>3.90 </td><td>2.620</td><td>16.46</td></tr>\n",
       "\t<tr><th scope=row>Mazda RX4 Wag</th><td>21.0 </td><td>160  </td><td>110  </td><td>3.90 </td><td>2.875</td><td>17.02</td></tr>\n",
       "\t<tr><th scope=row>Datsun 710</th><td>22.8 </td><td>108  </td><td> 93  </td><td>3.85 </td><td>2.320</td><td>18.61</td></tr>\n",
       "\t<tr><th scope=row>Hornet 4 Drive</th><td>21.4 </td><td>258  </td><td>110  </td><td>3.08 </td><td>3.215</td><td>19.44</td></tr>\n",
       "\t<tr><th scope=row>Hornet Sportabout</th><td>18.7 </td><td>360  </td><td>175  </td><td>3.15 </td><td>3.440</td><td>17.02</td></tr>\n",
       "\t<tr><th scope=row>Valiant</th><td>18.1 </td><td>225  </td><td>105  </td><td>2.76 </td><td>3.460</td><td>20.22</td></tr>\n",
       "</tbody>\n",
       "</table>\n"
      ],
      "text/latex": [
       "\\begin{tabular}{r|llllll}\n",
       "  & mpg & disp & hp & drat & wt & qsec\\\\\n",
       "\\hline\n",
       "\tMazda RX4 & 21.0  & 160   & 110   & 3.90  & 2.620 & 16.46\\\\\n",
       "\tMazda RX4 Wag & 21.0  & 160   & 110   & 3.90  & 2.875 & 17.02\\\\\n",
       "\tDatsun 710 & 22.8  & 108   &  93   & 3.85  & 2.320 & 18.61\\\\\n",
       "\tHornet 4 Drive & 21.4  & 258   & 110   & 3.08  & 3.215 & 19.44\\\\\n",
       "\tHornet Sportabout & 18.7  & 360   & 175   & 3.15  & 3.440 & 17.02\\\\\n",
       "\tValiant & 18.1  & 225   & 105   & 2.76  & 3.460 & 20.22\\\\\n",
       "\\end{tabular}\n"
      ],
      "text/markdown": [
       "\n",
       "| <!--/--> | mpg | disp | hp | drat | wt | qsec |\n",
       "|---|---|---|---|---|---|---|\n",
       "| Mazda RX4 | 21.0  | 160   | 110   | 3.90  | 2.620 | 16.46 |\n",
       "| Mazda RX4 Wag | 21.0  | 160   | 110   | 3.90  | 2.875 | 17.02 |\n",
       "| Datsun 710 | 22.8  | 108   |  93   | 3.85  | 2.320 | 18.61 |\n",
       "| Hornet 4 Drive | 21.4  | 258   | 110   | 3.08  | 3.215 | 19.44 |\n",
       "| Hornet Sportabout | 18.7  | 360   | 175   | 3.15  | 3.440 | 17.02 |\n",
       "| Valiant | 18.1  | 225   | 105   | 2.76  | 3.460 | 20.22 |\n",
       "\n"
      ],
      "text/plain": [
       "                  mpg  disp hp  drat wt    qsec \n",
       "Mazda RX4         21.0 160  110 3.90 2.620 16.46\n",
       "Mazda RX4 Wag     21.0 160  110 3.90 2.875 17.02\n",
       "Datsun 710        22.8 108   93 3.85 2.320 18.61\n",
       "Hornet 4 Drive    21.4 258  110 3.08 3.215 19.44\n",
       "Hornet Sportabout 18.7 360  175 3.15 3.440 17.02\n",
       "Valiant           18.1 225  105 2.76 3.460 20.22"
      ]
     },
     "metadata": {},
     "output_type": "display_data"
    }
   ],
   "source": [
    "df=df[,c(1,3,4,5,6,7)]\n",
    "head(df)"
   ]
  },
  {
   "cell_type": "code",
   "execution_count": 45,
   "metadata": {},
   "outputs": [
    {
     "data": {
      "text/html": [
       "<table>\n",
       "<thead><tr><th></th><th scope=col>mpg</th><th scope=col>disp</th><th scope=col>hp</th><th scope=col>drat</th><th scope=col>wt</th><th scope=col>qsec</th></tr></thead>\n",
       "<tbody>\n",
       "\t<tr><th scope=row>mpg</th><td> 1.0000000 </td><td>-0.8475514 </td><td>-0.7761684 </td><td> 0.68117191</td><td>-0.8676594 </td><td> 0.41868403</td></tr>\n",
       "\t<tr><th scope=row>disp</th><td>-0.8475514 </td><td> 1.0000000 </td><td> 0.7909486 </td><td>-0.71021393</td><td> 0.8879799 </td><td>-0.43369788</td></tr>\n",
       "\t<tr><th scope=row>hp</th><td>-0.7761684 </td><td> 0.7909486 </td><td> 1.0000000 </td><td>-0.44875912</td><td> 0.6587479 </td><td>-0.70822339</td></tr>\n",
       "\t<tr><th scope=row>drat</th><td> 0.6811719 </td><td>-0.7102139 </td><td>-0.4487591 </td><td> 1.00000000</td><td>-0.7124406 </td><td> 0.09120476</td></tr>\n",
       "\t<tr><th scope=row>wt</th><td>-0.8676594 </td><td> 0.8879799 </td><td> 0.6587479 </td><td>-0.71244065</td><td> 1.0000000 </td><td>-0.17471588</td></tr>\n",
       "\t<tr><th scope=row>qsec</th><td> 0.4186840 </td><td>-0.4336979 </td><td>-0.7082234 </td><td> 0.09120476</td><td>-0.1747159 </td><td> 1.00000000</td></tr>\n",
       "</tbody>\n",
       "</table>\n"
      ],
      "text/latex": [
       "\\begin{tabular}{r|llllll}\n",
       "  & mpg & disp & hp & drat & wt & qsec\\\\\n",
       "\\hline\n",
       "\tmpg &  1.0000000  & -0.8475514  & -0.7761684  &  0.68117191 & -0.8676594  &  0.41868403\\\\\n",
       "\tdisp & -0.8475514  &  1.0000000  &  0.7909486  & -0.71021393 &  0.8879799  & -0.43369788\\\\\n",
       "\thp & -0.7761684  &  0.7909486  &  1.0000000  & -0.44875912 &  0.6587479  & -0.70822339\\\\\n",
       "\tdrat &  0.6811719  & -0.7102139  & -0.4487591  &  1.00000000 & -0.7124406  &  0.09120476\\\\\n",
       "\twt & -0.8676594  &  0.8879799  &  0.6587479  & -0.71244065 &  1.0000000  & -0.17471588\\\\\n",
       "\tqsec &  0.4186840  & -0.4336979  & -0.7082234  &  0.09120476 & -0.1747159  &  1.00000000\\\\\n",
       "\\end{tabular}\n"
      ],
      "text/markdown": [
       "\n",
       "| <!--/--> | mpg | disp | hp | drat | wt | qsec |\n",
       "|---|---|---|---|---|---|---|\n",
       "| mpg |  1.0000000  | -0.8475514  | -0.7761684  |  0.68117191 | -0.8676594  |  0.41868403 |\n",
       "| disp | -0.8475514  |  1.0000000  |  0.7909486  | -0.71021393 |  0.8879799  | -0.43369788 |\n",
       "| hp | -0.7761684  |  0.7909486  |  1.0000000  | -0.44875912 |  0.6587479  | -0.70822339 |\n",
       "| drat |  0.6811719  | -0.7102139  | -0.4487591  |  1.00000000 | -0.7124406  |  0.09120476 |\n",
       "| wt | -0.8676594  |  0.8879799  |  0.6587479  | -0.71244065 |  1.0000000  | -0.17471588 |\n",
       "| qsec |  0.4186840  | -0.4336979  | -0.7082234  |  0.09120476 | -0.1747159  |  1.00000000 |\n",
       "\n"
      ],
      "text/plain": [
       "     mpg        disp       hp         drat        wt         qsec       \n",
       "mpg   1.0000000 -0.8475514 -0.7761684  0.68117191 -0.8676594  0.41868403\n",
       "disp -0.8475514  1.0000000  0.7909486 -0.71021393  0.8879799 -0.43369788\n",
       "hp   -0.7761684  0.7909486  1.0000000 -0.44875912  0.6587479 -0.70822339\n",
       "drat  0.6811719 -0.7102139 -0.4487591  1.00000000 -0.7124406  0.09120476\n",
       "wt   -0.8676594  0.8879799  0.6587479 -0.71244065  1.0000000 -0.17471588\n",
       "qsec  0.4186840 -0.4336979 -0.7082234  0.09120476 -0.1747159  1.00000000"
      ]
     },
     "metadata": {},
     "output_type": "display_data"
    }
   ],
   "source": [
    "my_res <- cor(df)\n",
    "my_res"
   ]
  },
  {
   "cell_type": "code",
   "execution_count": 46,
   "metadata": {},
   "outputs": [
    {
     "name": "stderr",
     "output_type": "stream",
     "text": [
      "also installing the dependencies 'png', 'jpeg', 'checkmate', 'survival', 'Formula', 'latticeExtra', 'gridExtra', 'htmlTable', 'viridis'\n",
      "\n"
     ]
    },
    {
     "name": "stdout",
     "output_type": "stream",
     "text": [
      "package 'png' successfully unpacked and MD5 sums checked\n",
      "package 'jpeg' successfully unpacked and MD5 sums checked\n",
      "package 'checkmate' successfully unpacked and MD5 sums checked\n",
      "package 'survival' successfully unpacked and MD5 sums checked\n",
      "package 'Formula' successfully unpacked and MD5 sums checked\n",
      "package 'latticeExtra' successfully unpacked and MD5 sums checked\n",
      "package 'gridExtra' successfully unpacked and MD5 sums checked\n",
      "package 'htmlTable' successfully unpacked and MD5 sums checked\n",
      "package 'viridis' successfully unpacked and MD5 sums checked\n",
      "package 'Hmisc' successfully unpacked and MD5 sums checked\n",
      "\n",
      "The downloaded binary packages are in\n",
      "\tC:\\Users\\AKHIL\\AppData\\Local\\Temp\\RtmpqGpgkz\\downloaded_packages\n"
     ]
    }
   ],
   "source": [
    "install.packages(\"Hmisc\")"
   ]
  },
  {
   "cell_type": "code",
   "execution_count": 47,
   "metadata": {},
   "outputs": [
    {
     "name": "stderr",
     "output_type": "stream",
     "text": [
      "Warning message:\n",
      "\"package 'Hmisc' was built under R version 3.6.3\"Loading required package: lattice\n",
      "Loading required package: survival\n",
      "Warning message:\n",
      "\"package 'survival' was built under R version 3.6.3\"Loading required package: Formula\n",
      "Warning message:\n",
      "\"package 'Formula' was built under R version 3.6.3\"\n",
      "Attaching package: 'Hmisc'\n",
      "\n",
      "The following objects are masked from 'package:dplyr':\n",
      "\n",
      "    src, summarize\n",
      "\n",
      "The following objects are masked from 'package:base':\n",
      "\n",
      "    format.pval, units\n",
      "\n"
     ]
    }
   ],
   "source": [
    "library(Hmisc)"
   ]
  },
  {
   "cell_type": "code",
   "execution_count": 48,
   "metadata": {},
   "outputs": [
    {
     "name": "stderr",
     "output_type": "stream",
     "text": [
      "Warning message in storage.mode(x) <- \"double\":\n",
      "\"NAs introduced by coercion\""
     ]
    },
    {
     "ename": "ERROR",
     "evalue": "Error in rcorr(as.matrix(my_df)): NA/NaN/Inf in foreign function call (arg 1)\n",
     "output_type": "error",
     "traceback": [
      "Error in rcorr(as.matrix(my_df)): NA/NaN/Inf in foreign function call (arg 1)\nTraceback:\n",
      "1. rcorr(as.matrix(my_df))"
     ]
    }
   ],
   "source": [
    "res <- rcorr(as.matrix(my_df))\n",
    "res"
   ]
  },
  {
   "cell_type": "code",
   "execution_count": 111,
   "metadata": {},
   "outputs": [
    {
     "data": {
      "text/html": [
       "<table>\n",
       "<thead><tr><th></th><th scope=col>mpg</th><th scope=col>cyl</th><th scope=col>disp</th><th scope=col>hp</th><th scope=col>drat</th><th scope=col>wt</th><th scope=col>qsec</th><th scope=col>vs</th><th scope=col>am</th><th scope=col>gear</th><th scope=col>carb</th></tr></thead>\n",
       "<tbody>\n",
       "\t<tr><th scope=row>mpg</th><td> 1.0000000 </td><td>-0.8521620 </td><td>-0.8475514 </td><td>-0.7761684 </td><td> 0.68117191</td><td>-0.8676594 </td><td> 0.41868403</td><td> 0.6640389 </td><td> 0.59983243</td><td> 0.4802848 </td><td>-0.55092507</td></tr>\n",
       "\t<tr><th scope=row>cyl</th><td>-0.8521620 </td><td> 1.0000000 </td><td> 0.9020329 </td><td> 0.8324475 </td><td>-0.69993811</td><td> 0.7824958 </td><td>-0.59124207</td><td>-0.8108118 </td><td>-0.52260705</td><td>-0.4926866 </td><td> 0.52698829</td></tr>\n",
       "\t<tr><th scope=row>disp</th><td>-0.8475514 </td><td> 0.9020329 </td><td> 1.0000000 </td><td> 0.7909486 </td><td>-0.71021393</td><td> 0.8879799 </td><td>-0.43369788</td><td>-0.7104159 </td><td>-0.59122704</td><td>-0.5555692 </td><td> 0.39497686</td></tr>\n",
       "\t<tr><th scope=row>hp</th><td>-0.7761684 </td><td> 0.8324475 </td><td> 0.7909486 </td><td> 1.0000000 </td><td>-0.44875912</td><td> 0.6587479 </td><td>-0.70822339</td><td>-0.7230967 </td><td>-0.24320426</td><td>-0.1257043 </td><td> 0.74981247</td></tr>\n",
       "\t<tr><th scope=row>drat</th><td> 0.6811719 </td><td>-0.6999381 </td><td>-0.7102139 </td><td>-0.4487591 </td><td> 1.00000000</td><td>-0.7124406 </td><td> 0.09120476</td><td> 0.4402785 </td><td> 0.71271113</td><td> 0.6996101 </td><td>-0.09078980</td></tr>\n",
       "\t<tr><th scope=row>wt</th><td>-0.8676594 </td><td> 0.7824958 </td><td> 0.8879799 </td><td> 0.6587479 </td><td>-0.71244065</td><td> 1.0000000 </td><td>-0.17471588</td><td>-0.5549157 </td><td>-0.69249526</td><td>-0.5832870 </td><td> 0.42760594</td></tr>\n",
       "\t<tr><th scope=row>qsec</th><td> 0.4186840 </td><td>-0.5912421 </td><td>-0.4336979 </td><td>-0.7082234 </td><td> 0.09120476</td><td>-0.1747159 </td><td> 1.00000000</td><td> 0.7445354 </td><td>-0.22986086</td><td>-0.2126822 </td><td>-0.65624923</td></tr>\n",
       "\t<tr><th scope=row>vs</th><td> 0.6640389 </td><td>-0.8108118 </td><td>-0.7104159 </td><td>-0.7230967 </td><td> 0.44027846</td><td>-0.5549157 </td><td> 0.74453544</td><td> 1.0000000 </td><td> 0.16834512</td><td> 0.2060233 </td><td>-0.56960714</td></tr>\n",
       "\t<tr><th scope=row>am</th><td> 0.5998324 </td><td>-0.5226070 </td><td>-0.5912270 </td><td>-0.2432043 </td><td> 0.71271113</td><td>-0.6924953 </td><td>-0.22986086</td><td> 0.1683451 </td><td> 1.00000000</td><td> 0.7940588 </td><td> 0.05753435</td></tr>\n",
       "\t<tr><th scope=row>gear</th><td> 0.4802848 </td><td>-0.4926866 </td><td>-0.5555692 </td><td>-0.1257043 </td><td> 0.69961013</td><td>-0.5832870 </td><td>-0.21268223</td><td> 0.2060233 </td><td> 0.79405876</td><td> 1.0000000 </td><td> 0.27407284</td></tr>\n",
       "\t<tr><th scope=row>carb</th><td>-0.5509251 </td><td> 0.5269883 </td><td> 0.3949769 </td><td> 0.7498125 </td><td>-0.09078980</td><td> 0.4276059 </td><td>-0.65624923</td><td>-0.5696071 </td><td> 0.05753435</td><td> 0.2740728 </td><td> 1.00000000</td></tr>\n",
       "</tbody>\n",
       "</table>\n"
      ],
      "text/latex": [
       "\\begin{tabular}{r|lllllllllll}\n",
       "  & mpg & cyl & disp & hp & drat & wt & qsec & vs & am & gear & carb\\\\\n",
       "\\hline\n",
       "\tmpg &  1.0000000  & -0.8521620  & -0.8475514  & -0.7761684  &  0.68117191 & -0.8676594  &  0.41868403 &  0.6640389  &  0.59983243 &  0.4802848  & -0.55092507\\\\\n",
       "\tcyl & -0.8521620  &  1.0000000  &  0.9020329  &  0.8324475  & -0.69993811 &  0.7824958  & -0.59124207 & -0.8108118  & -0.52260705 & -0.4926866  &  0.52698829\\\\\n",
       "\tdisp & -0.8475514  &  0.9020329  &  1.0000000  &  0.7909486  & -0.71021393 &  0.8879799  & -0.43369788 & -0.7104159  & -0.59122704 & -0.5555692  &  0.39497686\\\\\n",
       "\thp & -0.7761684  &  0.8324475  &  0.7909486  &  1.0000000  & -0.44875912 &  0.6587479  & -0.70822339 & -0.7230967  & -0.24320426 & -0.1257043  &  0.74981247\\\\\n",
       "\tdrat &  0.6811719  & -0.6999381  & -0.7102139  & -0.4487591  &  1.00000000 & -0.7124406  &  0.09120476 &  0.4402785  &  0.71271113 &  0.6996101  & -0.09078980\\\\\n",
       "\twt & -0.8676594  &  0.7824958  &  0.8879799  &  0.6587479  & -0.71244065 &  1.0000000  & -0.17471588 & -0.5549157  & -0.69249526 & -0.5832870  &  0.42760594\\\\\n",
       "\tqsec &  0.4186840  & -0.5912421  & -0.4336979  & -0.7082234  &  0.09120476 & -0.1747159  &  1.00000000 &  0.7445354  & -0.22986086 & -0.2126822  & -0.65624923\\\\\n",
       "\tvs &  0.6640389  & -0.8108118  & -0.7104159  & -0.7230967  &  0.44027846 & -0.5549157  &  0.74453544 &  1.0000000  &  0.16834512 &  0.2060233  & -0.56960714\\\\\n",
       "\tam &  0.5998324  & -0.5226070  & -0.5912270  & -0.2432043  &  0.71271113 & -0.6924953  & -0.22986086 &  0.1683451  &  1.00000000 &  0.7940588  &  0.05753435\\\\\n",
       "\tgear &  0.4802848  & -0.4926866  & -0.5555692  & -0.1257043  &  0.69961013 & -0.5832870  & -0.21268223 &  0.2060233  &  0.79405876 &  1.0000000  &  0.27407284\\\\\n",
       "\tcarb & -0.5509251  &  0.5269883  &  0.3949769  &  0.7498125  & -0.09078980 &  0.4276059  & -0.65624923 & -0.5696071  &  0.05753435 &  0.2740728  &  1.00000000\\\\\n",
       "\\end{tabular}\n"
      ],
      "text/markdown": [
       "\n",
       "| <!--/--> | mpg | cyl | disp | hp | drat | wt | qsec | vs | am | gear | carb |\n",
       "|---|---|---|---|---|---|---|---|---|---|---|---|\n",
       "| mpg |  1.0000000  | -0.8521620  | -0.8475514  | -0.7761684  |  0.68117191 | -0.8676594  |  0.41868403 |  0.6640389  |  0.59983243 |  0.4802848  | -0.55092507 |\n",
       "| cyl | -0.8521620  |  1.0000000  |  0.9020329  |  0.8324475  | -0.69993811 |  0.7824958  | -0.59124207 | -0.8108118  | -0.52260705 | -0.4926866  |  0.52698829 |\n",
       "| disp | -0.8475514  |  0.9020329  |  1.0000000  |  0.7909486  | -0.71021393 |  0.8879799  | -0.43369788 | -0.7104159  | -0.59122704 | -0.5555692  |  0.39497686 |\n",
       "| hp | -0.7761684  |  0.8324475  |  0.7909486  |  1.0000000  | -0.44875912 |  0.6587479  | -0.70822339 | -0.7230967  | -0.24320426 | -0.1257043  |  0.74981247 |\n",
       "| drat |  0.6811719  | -0.6999381  | -0.7102139  | -0.4487591  |  1.00000000 | -0.7124406  |  0.09120476 |  0.4402785  |  0.71271113 |  0.6996101  | -0.09078980 |\n",
       "| wt | -0.8676594  |  0.7824958  |  0.8879799  |  0.6587479  | -0.71244065 |  1.0000000  | -0.17471588 | -0.5549157  | -0.69249526 | -0.5832870  |  0.42760594 |\n",
       "| qsec |  0.4186840  | -0.5912421  | -0.4336979  | -0.7082234  |  0.09120476 | -0.1747159  |  1.00000000 |  0.7445354  | -0.22986086 | -0.2126822  | -0.65624923 |\n",
       "| vs |  0.6640389  | -0.8108118  | -0.7104159  | -0.7230967  |  0.44027846 | -0.5549157  |  0.74453544 |  1.0000000  |  0.16834512 |  0.2060233  | -0.56960714 |\n",
       "| am |  0.5998324  | -0.5226070  | -0.5912270  | -0.2432043  |  0.71271113 | -0.6924953  | -0.22986086 |  0.1683451  |  1.00000000 |  0.7940588  |  0.05753435 |\n",
       "| gear |  0.4802848  | -0.4926866  | -0.5555692  | -0.1257043  |  0.69961013 | -0.5832870  | -0.21268223 |  0.2060233  |  0.79405876 |  1.0000000  |  0.27407284 |\n",
       "| carb | -0.5509251  |  0.5269883  |  0.3949769  |  0.7498125  | -0.09078980 |  0.4276059  | -0.65624923 | -0.5696071  |  0.05753435 |  0.2740728  |  1.00000000 |\n",
       "\n"
      ],
      "text/plain": [
       "     mpg        cyl        disp       hp         drat        wt        \n",
       "mpg   1.0000000 -0.8521620 -0.8475514 -0.7761684  0.68117191 -0.8676594\n",
       "cyl  -0.8521620  1.0000000  0.9020329  0.8324475 -0.69993811  0.7824958\n",
       "disp -0.8475514  0.9020329  1.0000000  0.7909486 -0.71021393  0.8879799\n",
       "hp   -0.7761684  0.8324475  0.7909486  1.0000000 -0.44875912  0.6587479\n",
       "drat  0.6811719 -0.6999381 -0.7102139 -0.4487591  1.00000000 -0.7124406\n",
       "wt   -0.8676594  0.7824958  0.8879799  0.6587479 -0.71244065  1.0000000\n",
       "qsec  0.4186840 -0.5912421 -0.4336979 -0.7082234  0.09120476 -0.1747159\n",
       "vs    0.6640389 -0.8108118 -0.7104159 -0.7230967  0.44027846 -0.5549157\n",
       "am    0.5998324 -0.5226070 -0.5912270 -0.2432043  0.71271113 -0.6924953\n",
       "gear  0.4802848 -0.4926866 -0.5555692 -0.1257043  0.69961013 -0.5832870\n",
       "carb -0.5509251  0.5269883  0.3949769  0.7498125 -0.09078980  0.4276059\n",
       "     qsec        vs         am          gear       carb       \n",
       "mpg   0.41868403  0.6640389  0.59983243  0.4802848 -0.55092507\n",
       "cyl  -0.59124207 -0.8108118 -0.52260705 -0.4926866  0.52698829\n",
       "disp -0.43369788 -0.7104159 -0.59122704 -0.5555692  0.39497686\n",
       "hp   -0.70822339 -0.7230967 -0.24320426 -0.1257043  0.74981247\n",
       "drat  0.09120476  0.4402785  0.71271113  0.6996101 -0.09078980\n",
       "wt   -0.17471588 -0.5549157 -0.69249526 -0.5832870  0.42760594\n",
       "qsec  1.00000000  0.7445354 -0.22986086 -0.2126822 -0.65624923\n",
       "vs    0.74453544  1.0000000  0.16834512  0.2060233 -0.56960714\n",
       "am   -0.22986086  0.1683451  1.00000000  0.7940588  0.05753435\n",
       "gear -0.21268223  0.2060233  0.79405876  1.0000000  0.27407284\n",
       "carb -0.65624923 -0.5696071  0.05753435  0.2740728  1.00000000"
      ]
     },
     "metadata": {},
     "output_type": "display_data"
    }
   ],
   "source": [
    "res$r"
   ]
  }
 ],
 "metadata": {
  "kernelspec": {
   "display_name": "R",
   "language": "R",
   "name": "ir"
  },
  "language_info": {
   "codemirror_mode": "r",
   "file_extension": ".r",
   "mimetype": "text/x-r-source",
   "name": "R",
   "pygments_lexer": "r",
   "version": "3.6.1"
  }
 },
 "nbformat": 4,
 "nbformat_minor": 4
}
