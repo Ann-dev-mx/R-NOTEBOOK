{
 "cells": [
  {
   "cell_type": "code",
   "execution_count": 1,
   "metadata": {},
   "outputs": [
    {
     "name": "stdout",
     "output_type": "stream",
     "text": [
      "'data.frame':\t30 obs. of  2 variables:\n",
      " $ weight: num  4.17 5.58 5.18 6.11 4.5 4.61 5.17 4.53 5.33 5.14 ...\n",
      " $ group : Factor w/ 3 levels \"ctrl\",\"trt1\",..: 1 1 1 1 1 1 1 1 1 1 ...\n"
     ]
    }
   ],
   "source": [
    "my_df  <- PlantGrowth\n",
    "str(my_df)"
   ]
  },
  {
   "cell_type": "code",
   "execution_count": 2,
   "metadata": {},
   "outputs": [
    {
     "data": {
      "text/html": [
       "<table>\n",
       "<thead><tr><th scope=col>weight</th><th scope=col>group</th></tr></thead>\n",
       "<tbody>\n",
       "\t<tr><td>6.15</td><td>trt2</td></tr>\n",
       "\t<tr><td>3.83</td><td>trt1</td></tr>\n",
       "\t<tr><td>5.29</td><td>trt2</td></tr>\n",
       "\t<tr><td>5.12</td><td>trt2</td></tr>\n",
       "\t<tr><td>4.50</td><td>ctrl</td></tr>\n",
       "\t<tr><td>4.17</td><td>trt1</td></tr>\n",
       "\t<tr><td>5.87</td><td>trt1</td></tr>\n",
       "\t<tr><td>5.33</td><td>ctrl</td></tr>\n",
       "\t<tr><td>5.26</td><td>trt2</td></tr>\n",
       "\t<tr><td>4.61</td><td>ctrl</td></tr>\n",
       "</tbody>\n",
       "</table>\n"
      ],
      "text/latex": [
       "\\begin{tabular}{r|ll}\n",
       " weight & group\\\\\n",
       "\\hline\n",
       "\t 6.15 & trt2\\\\\n",
       "\t 3.83 & trt1\\\\\n",
       "\t 5.29 & trt2\\\\\n",
       "\t 5.12 & trt2\\\\\n",
       "\t 4.50 & ctrl\\\\\n",
       "\t 4.17 & trt1\\\\\n",
       "\t 5.87 & trt1\\\\\n",
       "\t 5.33 & ctrl\\\\\n",
       "\t 5.26 & trt2\\\\\n",
       "\t 4.61 & ctrl\\\\\n",
       "\\end{tabular}\n"
      ],
      "text/markdown": [
       "\n",
       "| weight | group |\n",
       "|---|---|\n",
       "| 6.15 | trt2 |\n",
       "| 3.83 | trt1 |\n",
       "| 5.29 | trt2 |\n",
       "| 5.12 | trt2 |\n",
       "| 4.50 | ctrl |\n",
       "| 4.17 | trt1 |\n",
       "| 5.87 | trt1 |\n",
       "| 5.33 | ctrl |\n",
       "| 5.26 | trt2 |\n",
       "| 4.61 | ctrl |\n",
       "\n"
      ],
      "text/plain": [
       "   weight group\n",
       "1  6.15   trt2 \n",
       "2  3.83   trt1 \n",
       "3  5.29   trt2 \n",
       "4  5.12   trt2 \n",
       "5  4.50   ctrl \n",
       "6  4.17   trt1 \n",
       "7  5.87   trt1 \n",
       "8  5.33   ctrl \n",
       "9  5.26   trt2 \n",
       "10 4.61   ctrl "
      ]
     },
     "metadata": {},
     "output_type": "display_data"
    }
   ],
   "source": [
    "set.seed(1234)\n",
    "dplyr::sample_n(my_df,10)"
   ]
  },
  {
   "cell_type": "code",
   "execution_count": 3,
   "metadata": {},
   "outputs": [
    {
     "data": {
      "text/html": [
       "<ol class=list-inline>\n",
       "\t<li>'ctrl'</li>\n",
       "\t<li>'trt1'</li>\n",
       "\t<li>'trt2'</li>\n",
       "</ol>\n"
      ],
      "text/latex": [
       "\\begin{enumerate*}\n",
       "\\item 'ctrl'\n",
       "\\item 'trt1'\n",
       "\\item 'trt2'\n",
       "\\end{enumerate*}\n"
      ],
      "text/markdown": [
       "1. 'ctrl'\n",
       "2. 'trt1'\n",
       "3. 'trt2'\n",
       "\n",
       "\n"
      ],
      "text/plain": [
       "[1] \"ctrl\" \"trt1\" \"trt2\""
      ]
     },
     "metadata": {},
     "output_type": "display_data"
    }
   ],
   "source": [
    "levels(my_df$group)"
   ]
  },
  {
   "cell_type": "code",
   "execution_count": 5,
   "metadata": {},
   "outputs": [
    {
     "ename": "ERROR",
     "evalue": "Error in orderd(my_df$group, levels = t(\"trt1\", \"trt2\", \"crt\")): could not find function \"orderd\"\n",
     "output_type": "error",
     "traceback": [
      "Error in orderd(my_df$group, levels = t(\"trt1\", \"trt2\", \"crt\")): could not find function \"orderd\"\nTraceback:\n"
     ]
    }
   ],
   "source": [
    "#if we want to order the levels\n",
    "my_df$group  <- orderd(my_df$group,levels=t('trt1','trt2','crt'))"
   ]
  },
  {
   "cell_type": "code",
   "execution_count": 4,
   "metadata": {},
   "outputs": [
    {
     "name": "stderr",
     "output_type": "stream",
     "text": [
      "\n",
      "Attaching package: 'dplyr'\n",
      "\n",
      "The following objects are masked from 'package:stats':\n",
      "\n",
      "    filter, lag\n",
      "\n",
      "The following objects are masked from 'package:base':\n",
      "\n",
      "    intersect, setdiff, setequal, union\n",
      "\n"
     ]
    }
   ],
   "source": [
    "library(dplyr)"
   ]
  },
  {
   "cell_type": "code",
   "execution_count": null,
   "metadata": {},
   "outputs": [],
   "source": [
    "my_df%>%\n",
    "group_by(group)%>%\n",
    "summarize(count=n(),mn_val=mean(weight,na.rm=TRUE))"
   ]
  },
  {
   "cell_type": "code",
   "execution_count": 7,
   "metadata": {},
   "outputs": [
    {
     "name": "stderr",
     "output_type": "stream",
     "text": [
      "Registered S3 methods overwritten by 'ggplot2':\n",
      "  method         from \n",
      "  [.quosures     rlang\n",
      "  c.quosures     rlang\n",
      "  print.quosures rlang\n"
     ]
    }
   ],
   "source": [
    "library(ggplot2)"
   ]
  },
  {
   "cell_type": "code",
   "execution_count": 8,
   "metadata": {},
   "outputs": [
    {
     "data": {
      "image/png": "[encoded data removed]",
      "text/plain": [
       "plot without title"
      ]
     },
     "metadata": {},
     "output_type": "display_data"
    }
   ],
   "source": [
    "ggplot(my_df,aes(x=group,y=weight))+geom_boxplot()"
   ]
  },
  {
   "cell_type": "code",
   "execution_count": 9,
   "metadata": {},
   "outputs": [
    {
     "data": {
      "text/plain": [
       "            Df Sum Sq Mean Sq F value Pr(>F)  \n",
       "group        2  3.766  1.8832   4.846 0.0159 *\n",
       "Residuals   27 10.492  0.3886                 \n",
       "---\n",
       "Signif. codes:  0 '***' 0.001 '**' 0.01 '*' 0.05 '.' 0.1 ' ' 1"
      ]
     },
     "metadata": {},
     "output_type": "display_data"
    }
   ],
   "source": [
    "res.aov  <- aov(weight ~ group,data = my_df)\n",
    "summary(res.aov)"
   ]
  },
  {
   "cell_type": "code",
   "execution_count": 11,
   "metadata": {},
   "outputs": [
    {
     "data": {
      "text/plain": [
       "  Tukey multiple comparisons of means\n",
       "    95% family-wise confidence level\n",
       "\n",
       "Fit: aov(formula = weight ~ group, data = my_df)\n",
       "\n",
       "$group\n",
       "            diff        lwr       upr     p adj\n",
       "trt1-ctrl -0.371 -1.0622161 0.3202161 0.3908711\n",
       "trt2-ctrl  0.494 -0.1972161 1.1852161 0.1979960\n",
       "trt2-trt1  0.865  0.1737839 1.5562161 0.0120064\n"
      ]
     },
     "metadata": {},
     "output_type": "display_data"
    }
   ],
   "source": [
    "TukeyHSD(res.aov)"
   ]
  },
  {
   "cell_type": "code",
   "execution_count": 12,
   "metadata": {},
   "outputs": [
    {
     "data": {
      "image/png": "[encoded data removed]",
      "text/plain": [
       "Plot with title \"\""
      ]
     },
     "metadata": {},
     "output_type": "display_data"
    }
   ],
   "source": [
    "plot(res.aov,1)"
   ]
  },
  {
   "cell_type": "code",
   "execution_count": 13,
   "metadata": {},
   "outputs": [
    {
     "name": "stderr",
     "output_type": "stream",
     "text": [
      "Warning message:\n",
      "\"package 'car' was built under R version 3.6.3\"Loading required package: carData\n",
      "Warning message:\n",
      "\"package 'carData' was built under R version 3.6.3\"\n",
      "Attaching package: 'car'\n",
      "\n",
      "The following object is masked from 'package:dplyr':\n",
      "\n",
      "    recode\n",
      "\n"
     ]
    }
   ],
   "source": [
    "library(car)"
   ]
  },
  {
   "cell_type": "code",
   "execution_count": 14,
   "metadata": {},
   "outputs": [
    {
     "data": {
      "text/html": [
       "<table>\n",
       "<thead><tr><th></th><th scope=col>Df</th><th scope=col>F value</th><th scope=col>Pr(&gt;F)</th></tr></thead>\n",
       "<tbody>\n",
       "\t<tr><th scope=row>group</th><td> 2       </td><td>1.119186 </td><td>0.3412266</td></tr>\n",
       "\t<tr><th scope=row> </th><td>27       </td><td>      NA </td><td>       NA</td></tr>\n",
       "</tbody>\n",
       "</table>\n"
      ],
      "text/latex": [
       "\\begin{tabular}{r|lll}\n",
       "  & Df & F value & Pr(>F)\\\\\n",
       "\\hline\n",
       "\tgroup &  2        & 1.119186  & 0.3412266\\\\\n",
       "\t  & 27        &       NA  &        NA\\\\\n",
       "\\end{tabular}\n"
      ],
      "text/markdown": [
       "\n",
       "| <!--/--> | Df | F value | Pr(>F) |\n",
       "|---|---|---|---|\n",
       "| group |  2        | 1.119186  | 0.3412266 |\n",
       "|   | 27        |       NA  |        NA |\n",
       "\n"
      ],
      "text/plain": [
       "      Df F value  Pr(>F)   \n",
       "group  2 1.119186 0.3412266\n",
       "      27       NA        NA"
      ]
     },
     "metadata": {},
     "output_type": "display_data"
    }
   ],
   "source": [
    "leveneTest(weight ~ group,data = my_df )"
   ]
  },
  {
   "cell_type": "code",
   "execution_count": 15,
   "metadata": {},
   "outputs": [
    {
     "data": {
      "image/png": "[encoded data removed]",
      "text/plain": [
       "Plot with title \"\""
      ]
     },
     "metadata": {},
     "output_type": "display_data"
    }
   ],
   "source": [
    "plot(res.aov,2)"
   ]
  },
  {
   "cell_type": "code",
   "execution_count": 16,
   "metadata": {},
   "outputs": [
    {
     "data": {
      "text/plain": [
       "\n",
       "\tShapiro-Wilk normality test\n",
       "\n",
       "data:  aov_residuals\n",
       "W = 0.96607, p-value = 0.4379\n"
      ]
     },
     "metadata": {},
     "output_type": "display_data"
    }
   ],
   "source": [
    "aov_residuals  <-  residuals(object = res.aov)\n",
    "shapiro.test(x = aov_residuals)"
   ]
  },
  {
   "cell_type": "code",
   "execution_count": 18,
   "metadata": {},
   "outputs": [
    {
     "data": {
      "text/plain": [
       "\n",
       "\tKruskal-Wallis rank sum test\n",
       "\n",
       "data:  weight by group\n",
       "Kruskal-Wallis chi-squared = 7.9882, df = 2, p-value = 0.01842\n"
      ]
     },
     "metadata": {},
     "output_type": "display_data"
    }
   ],
   "source": [
    "kruskal.test(weight ~ group,data = my_df)"
   ]
  },
  {
   "cell_type": "markdown",
   "metadata": {},
   "source": [
    "2 -way annova test"
   ]
  },
  {
   "cell_type": "code",
   "execution_count": 19,
   "metadata": {},
   "outputs": [
    {
     "name": "stdout",
     "output_type": "stream",
     "text": [
      "'data.frame':\t60 obs. of  3 variables:\n",
      " $ len : num  4.2 11.5 7.3 5.8 6.4 10 11.2 11.2 5.2 7 ...\n",
      " $ supp: Factor w/ 2 levels \"OJ\",\"VC\": 2 2 2 2 2 2 2 2 2 2 ...\n",
      " $ dose: num  0.5 0.5 0.5 0.5 0.5 0.5 0.5 0.5 0.5 0.5 ...\n"
     ]
    }
   ],
   "source": [
    "my_df  <-  ToothGrowth\n",
    "str(my_df)"
   ]
  },
  {
   "cell_type": "code",
   "execution_count": 20,
   "metadata": {},
   "outputs": [
    {
     "data": {
      "text/html": [
       "<table>\n",
       "<thead><tr><th scope=col>len</th><th scope=col>supp</th><th scope=col>dose</th></tr></thead>\n",
       "<tbody>\n",
       "\t<tr><td>21.5</td><td>VC  </td><td>2.0 </td></tr>\n",
       "\t<tr><td>17.3</td><td>VC  </td><td>1.0 </td></tr>\n",
       "\t<tr><td>27.3</td><td>OJ  </td><td>2.0 </td></tr>\n",
       "\t<tr><td>18.5</td><td>VC  </td><td>2.0 </td></tr>\n",
       "\t<tr><td> 8.2</td><td>OJ  </td><td>0.5 </td></tr>\n",
       "\t<tr><td>26.4</td><td>OJ  </td><td>1.0 </td></tr>\n",
       "\t<tr><td>25.8</td><td>OJ  </td><td>1.0 </td></tr>\n",
       "\t<tr><td> 5.2</td><td>VC  </td><td>0.5 </td></tr>\n",
       "\t<tr><td> 6.4</td><td>VC  </td><td>0.5 </td></tr>\n",
       "\t<tr><td> 9.4</td><td>OJ  </td><td>0.5 </td></tr>\n",
       "</tbody>\n",
       "</table>\n"
      ],
      "text/latex": [
       "\\begin{tabular}{r|lll}\n",
       " len & supp & dose\\\\\n",
       "\\hline\n",
       "\t 21.5 & VC   & 2.0 \\\\\n",
       "\t 17.3 & VC   & 1.0 \\\\\n",
       "\t 27.3 & OJ   & 2.0 \\\\\n",
       "\t 18.5 & VC   & 2.0 \\\\\n",
       "\t  8.2 & OJ   & 0.5 \\\\\n",
       "\t 26.4 & OJ   & 1.0 \\\\\n",
       "\t 25.8 & OJ   & 1.0 \\\\\n",
       "\t  5.2 & VC   & 0.5 \\\\\n",
       "\t  6.4 & VC   & 0.5 \\\\\n",
       "\t  9.4 & OJ   & 0.5 \\\\\n",
       "\\end{tabular}\n"
      ],
      "text/markdown": [
       "\n",
       "| len | supp | dose |\n",
       "|---|---|---|\n",
       "| 21.5 | VC   | 2.0  |\n",
       "| 17.3 | VC   | 1.0  |\n",
       "| 27.3 | OJ   | 2.0  |\n",
       "| 18.5 | VC   | 2.0  |\n",
       "|  8.2 | OJ   | 0.5  |\n",
       "| 26.4 | OJ   | 1.0  |\n",
       "| 25.8 | OJ   | 1.0  |\n",
       "|  5.2 | VC   | 0.5  |\n",
       "|  6.4 | VC   | 0.5  |\n",
       "|  9.4 | OJ   | 0.5  |\n",
       "\n"
      ],
      "text/plain": [
       "   len  supp dose\n",
       "1  21.5 VC   2.0 \n",
       "2  17.3 VC   1.0 \n",
       "3  27.3 OJ   2.0 \n",
       "4  18.5 VC   2.0 \n",
       "5   8.2 OJ   0.5 \n",
       "6  26.4 OJ   1.0 \n",
       "7  25.8 OJ   1.0 \n",
       "8   5.2 VC   0.5 \n",
       "9   6.4 VC   0.5 \n",
       "10  9.4 OJ   0.5 "
      ]
     },
     "metadata": {},
     "output_type": "display_data"
    }
   ],
   "source": [
    "set.seed(1234)\n",
    "sample_n(my_df,10)"
   ]
  },
  {
   "cell_type": "code",
   "execution_count": 21,
   "metadata": {},
   "outputs": [
    {
     "data": {
      "text/html": [
       "<table>\n",
       "<thead><tr><th scope=col>len</th><th scope=col>supp</th><th scope=col>dose</th></tr></thead>\n",
       "<tbody>\n",
       "\t<tr><td> 4.2</td><td>VC  </td><td>D0.5</td></tr>\n",
       "\t<tr><td>11.5</td><td>VC  </td><td>D0.5</td></tr>\n",
       "\t<tr><td> 7.3</td><td>VC  </td><td>D0.5</td></tr>\n",
       "\t<tr><td> 5.8</td><td>VC  </td><td>D0.5</td></tr>\n",
       "\t<tr><td> 6.4</td><td>VC  </td><td>D0.5</td></tr>\n",
       "\t<tr><td>10.0</td><td>VC  </td><td>D0.5</td></tr>\n",
       "</tbody>\n",
       "</table>\n"
      ],
      "text/latex": [
       "\\begin{tabular}{r|lll}\n",
       " len & supp & dose\\\\\n",
       "\\hline\n",
       "\t  4.2 & VC   & D0.5\\\\\n",
       "\t 11.5 & VC   & D0.5\\\\\n",
       "\t  7.3 & VC   & D0.5\\\\\n",
       "\t  5.8 & VC   & D0.5\\\\\n",
       "\t  6.4 & VC   & D0.5\\\\\n",
       "\t 10.0 & VC   & D0.5\\\\\n",
       "\\end{tabular}\n"
      ],
      "text/markdown": [
       "\n",
       "| len | supp | dose |\n",
       "|---|---|---|\n",
       "|  4.2 | VC   | D0.5 |\n",
       "| 11.5 | VC   | D0.5 |\n",
       "|  7.3 | VC   | D0.5 |\n",
       "|  5.8 | VC   | D0.5 |\n",
       "|  6.4 | VC   | D0.5 |\n",
       "| 10.0 | VC   | D0.5 |\n",
       "\n"
      ],
      "text/plain": [
       "  len  supp dose\n",
       "1  4.2 VC   D0.5\n",
       "2 11.5 VC   D0.5\n",
       "3  7.3 VC   D0.5\n",
       "4  5.8 VC   D0.5\n",
       "5  6.4 VC   D0.5\n",
       "6 10.0 VC   D0.5"
      ]
     },
     "metadata": {},
     "output_type": "display_data"
    }
   ],
   "source": [
    "my_df$dose  <-  factor(my_df$dose,\n",
    "                      levels =c(0.5, 1, 2),\n",
    "                      labels = c(\"D0.5\", \"D1\", \"D2\"))\n",
    "head(my_df)"
   ]
  },
  {
   "cell_type": "code",
   "execution_count": 22,
   "metadata": {},
   "outputs": [
    {
     "data": {
      "text/plain": [
       "\n",
       "OJ VC \n",
       "30 30 "
      ]
     },
     "metadata": {},
     "output_type": "display_data"
    }
   ],
   "source": [
    "table(my_df$supp)"
   ]
  },
  {
   "cell_type": "code",
   "execution_count": 23,
   "metadata": {},
   "outputs": [
    {
     "data": {
      "text/plain": [
       "    \n",
       "     D0.5 D1 D2\n",
       "  OJ   10 10 10\n",
       "  VC   10 10 10"
      ]
     },
     "metadata": {},
     "output_type": "display_data"
    }
   ],
   "source": [
    "table(my_df$supp, my_df$dose)"
   ]
  },
  {
   "cell_type": "code",
   "execution_count": 26,
   "metadata": {},
   "outputs": [
    {
     "data": {
      "text/html": [
       "<table>\n",
       "<thead><tr><th scope=col>supp</th><th scope=col>dose</th><th scope=col>count</th><th scope=col>mn</th><th scope=col>sd</th></tr></thead>\n",
       "<tbody>\n",
       "\t<tr><td>OJ      </td><td>D0.5    </td><td>10      </td><td>13.23   </td><td>4.459709</td></tr>\n",
       "\t<tr><td>OJ      </td><td>D1      </td><td>10      </td><td>22.70   </td><td>3.910953</td></tr>\n",
       "\t<tr><td>OJ      </td><td>D2      </td><td>10      </td><td>26.06   </td><td>2.655058</td></tr>\n",
       "\t<tr><td>VC      </td><td>D0.5    </td><td>10      </td><td> 7.98   </td><td>2.746634</td></tr>\n",
       "\t<tr><td>VC      </td><td>D1      </td><td>10      </td><td>16.77   </td><td>2.515309</td></tr>\n",
       "\t<tr><td>VC      </td><td>D2      </td><td>10      </td><td>26.14   </td><td>4.797731</td></tr>\n",
       "</tbody>\n",
       "</table>\n"
      ],
      "text/latex": [
       "\\begin{tabular}{r|lllll}\n",
       " supp & dose & count & mn & sd\\\\\n",
       "\\hline\n",
       "\t OJ       & D0.5     & 10       & 13.23    & 4.459709\\\\\n",
       "\t OJ       & D1       & 10       & 22.70    & 3.910953\\\\\n",
       "\t OJ       & D2       & 10       & 26.06    & 2.655058\\\\\n",
       "\t VC       & D0.5     & 10       &  7.98    & 2.746634\\\\\n",
       "\t VC       & D1       & 10       & 16.77    & 2.515309\\\\\n",
       "\t VC       & D2       & 10       & 26.14    & 4.797731\\\\\n",
       "\\end{tabular}\n"
      ],
      "text/markdown": [
       "\n",
       "| supp | dose | count | mn | sd |\n",
       "|---|---|---|---|---|\n",
       "| OJ       | D0.5     | 10       | 13.23    | 4.459709 |\n",
       "| OJ       | D1       | 10       | 22.70    | 3.910953 |\n",
       "| OJ       | D2       | 10       | 26.06    | 2.655058 |\n",
       "| VC       | D0.5     | 10       |  7.98    | 2.746634 |\n",
       "| VC       | D1       | 10       | 16.77    | 2.515309 |\n",
       "| VC       | D2       | 10       | 26.14    | 4.797731 |\n",
       "\n"
      ],
      "text/plain": [
       "  supp dose count mn    sd      \n",
       "1 OJ   D0.5 10    13.23 4.459709\n",
       "2 OJ   D1   10    22.70 3.910953\n",
       "3 OJ   D2   10    26.06 2.655058\n",
       "4 VC   D0.5 10     7.98 2.746634\n",
       "5 VC   D1   10    16.77 2.515309\n",
       "6 VC   D2   10    26.14 4.797731"
      ]
     },
     "metadata": {},
     "output_type": "display_data"
    }
   ],
   "source": [
    "my_df%>%\n",
    "group_by(supp,dose)%>%\n",
    "summarize(count=n(),mn=mean(len,na.rm= TRUE),sd=sd(len,na.rm=TRUE))"
   ]
  },
  {
   "cell_type": "code",
   "execution_count": 27,
   "metadata": {},
   "outputs": [
    {
     "data": {
      "image/png": "[encoded data removed]",
      "text/plain": [
       "plot without title"
      ]
     },
     "metadata": {},
     "output_type": "display_data"
    }
   ],
   "source": [
    "ggplot(my_df,aes(x=dose,y=len,color=supp))+geom_boxplot()"
   ]
  },
  {
   "cell_type": "code",
   "execution_count": 29,
   "metadata": {},
   "outputs": [
    {
     "data": {
      "text/plain": [
       "            Df Sum Sq Mean Sq F value   Pr(>F)    \n",
       "supp         1  205.4   205.4   14.02 0.000429 ***\n",
       "dose         2 2426.4  1213.2   82.81  < 2e-16 ***\n",
       "Residuals   56  820.4    14.7                     \n",
       "---\n",
       "Signif. codes:  0 '***' 0.001 '**' 0.01 '*' 0.05 '.' 0.1 ' ' 1"
      ]
     },
     "metadata": {},
     "output_type": "display_data"
    }
   ],
   "source": [
    "res.aov2  <- aov(len ~ supp + dose,data = my_df)\n",
    "summary(res.aov2)"
   ]
  },
  {
   "cell_type": "code",
   "execution_count": 31,
   "metadata": {},
   "outputs": [
    {
     "data": {
      "text/plain": [
       "            Df Sum Sq Mean Sq F value   Pr(>F)    \n",
       "supp         1  205.4   205.4  15.572 0.000231 ***\n",
       "dose         2 2426.4  1213.2  92.000  < 2e-16 ***\n",
       "supp:dose    2  108.3    54.2   4.107 0.021860 *  \n",
       "Residuals   54  712.1    13.2                     \n",
       "---\n",
       "Signif. codes:  0 '***' 0.001 '**' 0.01 '*' 0.05 '.' 0.1 ' ' 1"
      ]
     },
     "metadata": {},
     "output_type": "display_data"
    }
   ],
   "source": [
    "res.aov3  <- aov(len ~ supp * dose, data = my_df)\n",
    "summary(res.aov3)"
   ]
  },
  {
   "cell_type": "code",
   "execution_count": 33,
   "metadata": {},
   "outputs": [
    {
     "data": {
      "text/plain": [
       "  Tukey multiple comparisons of means\n",
       "    95% family-wise confidence level\n",
       "\n",
       "Fit: aov(formula = len ~ supp * dose, data = my_df)\n",
       "\n",
       "$dose\n",
       "          diff       lwr       upr   p adj\n",
       "D1-D0.5  9.130  6.362488 11.897512 0.0e+00\n",
       "D2-D0.5 15.495 12.727488 18.262512 0.0e+00\n",
       "D2-D1    6.365  3.597488  9.132512 2.7e-06\n"
      ]
     },
     "metadata": {},
     "output_type": "display_data"
    }
   ],
   "source": [
    "TukeyHSD(res.aov3, which = \"dose\")"
   ]
  },
  {
   "cell_type": "code",
   "execution_count": 34,
   "metadata": {},
   "outputs": [
    {
     "data": {
      "image/png": "[encoded data removed]",
      "text/plain": [
       "Plot with title \"\""
      ]
     },
     "metadata": {},
     "output_type": "display_data"
    }
   ],
   "source": [
    "plot(res.aov3,1)"
   ]
  },
  {
   "cell_type": "code",
   "execution_count": 35,
   "metadata": {},
   "outputs": [
    {
     "data": {
      "text/html": [
       "<table>\n",
       "<thead><tr><th></th><th scope=col>Df</th><th scope=col>F value</th><th scope=col>Pr(&gt;F)</th></tr></thead>\n",
       "<tbody>\n",
       "\t<tr><th scope=row>group</th><td> 5       </td><td>1.708578 </td><td>0.1483606</td></tr>\n",
       "\t<tr><th scope=row> </th><td>54       </td><td>      NA </td><td>       NA</td></tr>\n",
       "</tbody>\n",
       "</table>\n"
      ],
      "text/latex": [
       "\\begin{tabular}{r|lll}\n",
       "  & Df & F value & Pr(>F)\\\\\n",
       "\\hline\n",
       "\tgroup &  5        & 1.708578  & 0.1483606\\\\\n",
       "\t  & 54        &       NA  &        NA\\\\\n",
       "\\end{tabular}\n"
      ],
      "text/markdown": [
       "\n",
       "| <!--/--> | Df | F value | Pr(>F) |\n",
       "|---|---|---|---|\n",
       "| group |  5        | 1.708578  | 0.1483606 |\n",
       "|   | 54        |       NA  |        NA |\n",
       "\n"
      ],
      "text/plain": [
       "      Df F value  Pr(>F)   \n",
       "group  5 1.708578 0.1483606\n",
       "      54       NA        NA"
      ]
     },
     "metadata": {},
     "output_type": "display_data"
    }
   ],
   "source": [
    "leveneTest(len ~ supp*dose, data = my_df)"
   ]
  },
  {
   "cell_type": "code",
   "execution_count": 36,
   "metadata": {},
   "outputs": [
    {
     "data": {
      "image/png": "[encoded data removed]",
      "text/plain": [
       "Plot with title \"\""
      ]
     },
     "metadata": {},
     "output_type": "display_data"
    }
   ],
   "source": [
    "plot(res.aov3, 2)"
   ]
  },
  {
   "cell_type": "code",
   "execution_count": 37,
   "metadata": {},
   "outputs": [
    {
     "data": {
      "text/plain": [
       "\n",
       "\tShapiro-Wilk normality test\n",
       "\n",
       "data:  aov_residuals\n",
       "W = 0.98499, p-value = 0.6694\n"
      ]
     },
     "metadata": {},
     "output_type": "display_data"
    }
   ],
   "source": [
    "aov_residuals  <-  residuals(object = res.aov3)\n",
    "shapiro.test(x = aov_residuals)"
   ]
  },
  {
   "cell_type": "code",
   "execution_count": 38,
   "metadata": {},
   "outputs": [
    {
     "data": {
      "text/html": [
       "<table>\n",
       "<thead><tr><th></th><th scope=col>Sum Sq</th><th scope=col>Df</th><th scope=col>F value</th><th scope=col>Pr(&gt;F)</th></tr></thead>\n",
       "<tbody>\n",
       "\t<tr><th scope=row>(Intercept)</th><td>1750.3290   </td><td> 1          </td><td>132.729911  </td><td>3.602548e-16</td></tr>\n",
       "\t<tr><th scope=row>supp</th><td> 137.8125   </td><td> 1          </td><td> 10.450516  </td><td>2.092470e-03</td></tr>\n",
       "\t<tr><th scope=row>dose</th><td> 885.2647   </td><td> 2          </td><td> 33.565433  </td><td>3.363190e-10</td></tr>\n",
       "\t<tr><th scope=row>supp:dose</th><td> 108.3190   </td><td> 2          </td><td>  4.106991  </td><td>2.186027e-02</td></tr>\n",
       "\t<tr><th scope=row>Residuals</th><td> 712.1060   </td><td>54          </td><td>        NA  </td><td>          NA</td></tr>\n",
       "</tbody>\n",
       "</table>\n"
      ],
      "text/latex": [
       "\\begin{tabular}{r|llll}\n",
       "  & Sum Sq & Df & F value & Pr(>F)\\\\\n",
       "\\hline\n",
       "\t(Intercept) & 1750.3290    &  1           & 132.729911   & 3.602548e-16\\\\\n",
       "\tsupp &  137.8125    &  1           &  10.450516   & 2.092470e-03\\\\\n",
       "\tdose &  885.2647    &  2           &  33.565433   & 3.363190e-10\\\\\n",
       "\tsupp:dose &  108.3190    &  2           &   4.106991   & 2.186027e-02\\\\\n",
       "\tResiduals &  712.1060    & 54           &         NA   &           NA\\\\\n",
       "\\end{tabular}\n"
      ],
      "text/markdown": [
       "\n",
       "| <!--/--> | Sum Sq | Df | F value | Pr(>F) |\n",
       "|---|---|---|---|---|\n",
       "| (Intercept) | 1750.3290    |  1           | 132.729911   | 3.602548e-16 |\n",
       "| supp |  137.8125    |  1           |  10.450516   | 2.092470e-03 |\n",
       "| dose |  885.2647    |  2           |  33.565433   | 3.363190e-10 |\n",
       "| supp:dose |  108.3190    |  2           |   4.106991   | 2.186027e-02 |\n",
       "| Residuals |  712.1060    | 54           |         NA   |           NA |\n",
       "\n"
      ],
      "text/plain": [
       "            Sum Sq    Df F value    Pr(>F)      \n",
       "(Intercept) 1750.3290  1 132.729911 3.602548e-16\n",
       "supp         137.8125  1  10.450516 2.092470e-03\n",
       "dose         885.2647  2  33.565433 3.363190e-10\n",
       "supp:dose    108.3190  2   4.106991 2.186027e-02\n",
       "Residuals    712.1060 54         NA           NA"
      ]
     },
     "metadata": {},
     "output_type": "display_data"
    }
   ],
   "source": [
    "my_anova  <-  aov(len ~ supp * dose, data = my_df)\n",
    "Anova(my_anova, type = \"III\")"
   ]
  },
  {
   "cell_type": "code",
   "execution_count": 39,
   "metadata": {},
   "outputs": [
    {
     "name": "stdout",
     "output_type": "stream",
     "text": [
      "'data.frame':\t150 obs. of  5 variables:\n",
      " $ Sepal.Length: num  5.1 4.9 4.7 4.6 5 5.4 4.6 5 4.4 4.9 ...\n",
      " $ Sepal.Width : num  3.5 3 3.2 3.1 3.6 3.9 3.4 3.4 2.9 3.1 ...\n",
      " $ Petal.Length: num  1.4 1.4 1.3 1.5 1.4 1.7 1.4 1.5 1.4 1.5 ...\n",
      " $ Petal.Width : num  0.2 0.2 0.2 0.2 0.2 0.4 0.3 0.2 0.2 0.1 ...\n",
      " $ Species     : Factor w/ 3 levels \"setosa\",\"versicolor\",..: 1 1 1 1 1 1 1 1 1 1 ...\n"
     ]
    }
   ],
   "source": [
    "my_df  <- iris\n",
    "str(my_df)"
   ]
  },
  {
   "cell_type": "code",
   "execution_count": 40,
   "metadata": {},
   "outputs": [
    {
     "data": {
      "text/html": [
       "<table>\n",
       "<thead><tr><th scope=col>Sepal.Length</th><th scope=col>Sepal.Width</th><th scope=col>Petal.Length</th><th scope=col>Petal.Width</th><th scope=col>Species</th></tr></thead>\n",
       "<tbody>\n",
       "\t<tr><td>5.2       </td><td>3.5       </td><td>1.5       </td><td>0.2       </td><td>setosa    </td></tr>\n",
       "\t<tr><td>5.7       </td><td>2.6       </td><td>3.5       </td><td>1.0       </td><td>versicolor</td></tr>\n",
       "\t<tr><td>6.3       </td><td>3.3       </td><td>6.0       </td><td>2.5       </td><td>virginica </td></tr>\n",
       "\t<tr><td>6.5       </td><td>3.2       </td><td>5.1       </td><td>2.0       </td><td>virginica </td></tr>\n",
       "\t<tr><td>6.3       </td><td>3.4       </td><td>5.6       </td><td>2.4       </td><td>virginica </td></tr>\n",
       "\t<tr><td>6.4       </td><td>2.8       </td><td>5.6       </td><td>2.2       </td><td>virginica </td></tr>\n",
       "\t<tr><td>6.8       </td><td>3.2       </td><td>5.9       </td><td>2.3       </td><td>virginica </td></tr>\n",
       "\t<tr><td>7.9       </td><td>3.8       </td><td>6.4       </td><td>2.0       </td><td>virginica </td></tr>\n",
       "\t<tr><td>6.2       </td><td>2.9       </td><td>4.3       </td><td>1.3       </td><td>versicolor</td></tr>\n",
       "\t<tr><td>7.1       </td><td>3.0       </td><td>5.9       </td><td>2.1       </td><td>virginica </td></tr>\n",
       "</tbody>\n",
       "</table>\n"
      ],
      "text/latex": [
       "\\begin{tabular}{r|lllll}\n",
       " Sepal.Length & Sepal.Width & Petal.Length & Petal.Width & Species\\\\\n",
       "\\hline\n",
       "\t 5.2        & 3.5        & 1.5        & 0.2        & setosa    \\\\\n",
       "\t 5.7        & 2.6        & 3.5        & 1.0        & versicolor\\\\\n",
       "\t 6.3        & 3.3        & 6.0        & 2.5        & virginica \\\\\n",
       "\t 6.5        & 3.2        & 5.1        & 2.0        & virginica \\\\\n",
       "\t 6.3        & 3.4        & 5.6        & 2.4        & virginica \\\\\n",
       "\t 6.4        & 2.8        & 5.6        & 2.2        & virginica \\\\\n",
       "\t 6.8        & 3.2        & 5.9        & 2.3        & virginica \\\\\n",
       "\t 7.9        & 3.8        & 6.4        & 2.0        & virginica \\\\\n",
       "\t 6.2        & 2.9        & 4.3        & 1.3        & versicolor\\\\\n",
       "\t 7.1        & 3.0        & 5.9        & 2.1        & virginica \\\\\n",
       "\\end{tabular}\n"
      ],
      "text/markdown": [
       "\n",
       "| Sepal.Length | Sepal.Width | Petal.Length | Petal.Width | Species |\n",
       "|---|---|---|---|---|\n",
       "| 5.2        | 3.5        | 1.5        | 0.2        | setosa     |\n",
       "| 5.7        | 2.6        | 3.5        | 1.0        | versicolor |\n",
       "| 6.3        | 3.3        | 6.0        | 2.5        | virginica  |\n",
       "| 6.5        | 3.2        | 5.1        | 2.0        | virginica  |\n",
       "| 6.3        | 3.4        | 5.6        | 2.4        | virginica  |\n",
       "| 6.4        | 2.8        | 5.6        | 2.2        | virginica  |\n",
       "| 6.8        | 3.2        | 5.9        | 2.3        | virginica  |\n",
       "| 7.9        | 3.8        | 6.4        | 2.0        | virginica  |\n",
       "| 6.2        | 2.9        | 4.3        | 1.3        | versicolor |\n",
       "| 7.1        | 3.0        | 5.9        | 2.1        | virginica  |\n",
       "\n"
      ],
      "text/plain": [
       "   Sepal.Length Sepal.Width Petal.Length Petal.Width Species   \n",
       "1  5.2          3.5         1.5          0.2         setosa    \n",
       "2  5.7          2.6         3.5          1.0         versicolor\n",
       "3  6.3          3.3         6.0          2.5         virginica \n",
       "4  6.5          3.2         5.1          2.0         virginica \n",
       "5  6.3          3.4         5.6          2.4         virginica \n",
       "6  6.4          2.8         5.6          2.2         virginica \n",
       "7  6.8          3.2         5.9          2.3         virginica \n",
       "8  7.9          3.8         6.4          2.0         virginica \n",
       "9  6.2          2.9         4.3          1.3         versicolor\n",
       "10 7.1          3.0         5.9          2.1         virginica "
      ]
     },
     "metadata": {},
     "output_type": "display_data"
    }
   ],
   "source": [
    "set.seed(1234)\n",
    "sample_n(my_df,10)"
   ]
  },
  {
   "cell_type": "code",
   "execution_count": 42,
   "metadata": {},
   "outputs": [
    {
     "data": {
      "text/plain": [
       "           Df Pillai approx F num Df den Df    Pr(>F)    \n",
       "Species     2 0.9885   71.829      4    294 < 2.2e-16 ***\n",
       "Residuals 147                                            \n",
       "---\n",
       "Signif. codes:  0 '***' 0.001 '**' 0.01 '*' 0.05 '.' 0.1 ' ' 1"
      ]
     },
     "metadata": {},
     "output_type": "display_data"
    }
   ],
   "source": [
    "sep1  <-  iris$Sepal.Length\n",
    "pet1  <-  iris$Petal.Length\n",
    "res.mam  <-  manova(cbind(Sepal.Length,Petal.Length) ~ Species, data = iris)\n",
    "summary(res.mam)"
   ]
  },
  {
   "cell_type": "code",
   "execution_count": 44,
   "metadata": {},
   "outputs": [
    {
     "data": {
      "text/plain": [
       " Response Sepal.Length :\n",
       "             Df Sum Sq Mean Sq F value    Pr(>F)    \n",
       "Species       2 63.212  31.606  119.26 < 2.2e-16 ***\n",
       "Residuals   147 38.956   0.265                      \n",
       "---\n",
       "Signif. codes:  0 '***' 0.001 '**' 0.01 '*' 0.05 '.' 0.1 ' ' 1\n",
       "\n",
       " Response Petal.Length :\n",
       "             Df Sum Sq Mean Sq F value    Pr(>F)    \n",
       "Species       2 437.10 218.551  1180.2 < 2.2e-16 ***\n",
       "Residuals   147  27.22   0.185                      \n",
       "---\n",
       "Signif. codes:  0 '***' 0.001 '**' 0.01 '*' 0.05 '.' 0.1 ' ' 1\n"
      ]
     },
     "metadata": {},
     "output_type": "display_data"
    }
   ],
   "source": [
    "summary.aov(res.mam)"
   ]
  },
  {
   "cell_type": "code",
   "execution_count": null,
   "metadata": {},
   "outputs": [],
   "source": []
  }
 ],
 "metadata": {
  "kernelspec": {
   "display_name": "R",
   "language": "R",
   "name": "ir"
  },
  "language_info": {
   "codemirror_mode": "r",
   "file_extension": ".r",
   "mimetype": "text/x-r-source",
   "name": "R",
   "pygments_lexer": "r",
   "version": "3.6.1"
  }
 },
 "nbformat": 4,
 "nbformat_minor": 4
}
