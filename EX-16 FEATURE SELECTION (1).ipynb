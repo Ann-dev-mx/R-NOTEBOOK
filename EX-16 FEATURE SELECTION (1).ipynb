{
 "cells": [
  {
   "cell_type": "markdown",
   "metadata": {},
   "source": [
    "20MCS1008\n",
    "ANN MARIYA XAVIER"
   ]
  },
  {
   "cell_type": "code",
   "execution_count": 1,
   "metadata": {},
   "outputs": [
    {
     "name": "stderr",
     "output_type": "stream",
     "text": [
      "also installing the dependency 'ranger'\n",
      "\n"
     ]
    },
    {
     "name": "stdout",
     "output_type": "stream",
     "text": [
      "package 'ranger' successfully unpacked and MD5 sums checked\n",
      "package 'Boruta' successfully unpacked and MD5 sums checked\n",
      "\n",
      "The downloaded binary packages are in\n",
      "\tC:\\Users\\AKHIL\\AppData\\Local\\Temp\\RtmpUfGY9w\\downloaded_packages\n"
     ]
    }
   ],
   "source": [
    "install.packages('Boruta')"
   ]
  },
  {
   "cell_type": "code",
   "execution_count": 2,
   "metadata": {},
   "outputs": [
    {
     "name": "stderr",
     "output_type": "stream",
     "text": [
      "Warning message:\n",
      "\"package 'Boruta' was built under R version 3.6.3\""
     ]
    }
   ],
   "source": [
    "library(Boruta)"
   ]
  },
  {
   "cell_type": "code",
   "execution_count": 3,
   "metadata": {},
   "outputs": [
    {
     "name": "stdout",
     "output_type": "stream",
     "text": [
      "package 'mlbench' successfully unpacked and MD5 sums checked\n",
      "\n",
      "The downloaded binary packages are in\n",
      "\tC:\\Users\\AKHIL\\AppData\\Local\\Temp\\RtmpUfGY9w\\downloaded_packages\n"
     ]
    }
   ],
   "source": [
    "install.packages('mlbench')"
   ]
  },
  {
   "cell_type": "code",
   "execution_count": 4,
   "metadata": {},
   "outputs": [
    {
     "name": "stderr",
     "output_type": "stream",
     "text": [
      "Warning message:\n",
      "\"package 'mlbench' was built under R version 3.6.3\""
     ]
    }
   ],
   "source": [
    "library(mlbench)"
   ]
  },
  {
   "cell_type": "code",
   "execution_count": 5,
   "metadata": {},
   "outputs": [
    {
     "name": "stderr",
     "output_type": "stream",
     "text": [
      "Loading required package: lattice\n",
      "Loading required package: ggplot2\n",
      "Registered S3 methods overwritten by 'ggplot2':\n",
      "  method         from \n",
      "  [.quosures     rlang\n",
      "  c.quosures     rlang\n",
      "  print.quosures rlang\n"
     ]
    }
   ],
   "source": [
    "library(caret)"
   ]
  },
  {
   "cell_type": "code",
   "execution_count": 6,
   "metadata": {},
   "outputs": [
    {
     "name": "stderr",
     "output_type": "stream",
     "text": [
      "randomForest 4.6-14\n",
      "Type rfNews() to see new features/changes/bug fixes.\n",
      "\n",
      "Attaching package: 'randomForest'\n",
      "\n",
      "The following object is masked from 'package:ggplot2':\n",
      "\n",
      "    margin\n",
      "\n"
     ]
    }
   ],
   "source": [
    "library(randomForest)"
   ]
  },
  {
   "cell_type": "code",
   "execution_count": 7,
   "metadata": {},
   "outputs": [
    {
     "name": "stdout",
     "output_type": "stream",
     "text": [
      "'data.frame':\t150 obs. of  5 variables:\n",
      " $ Sepal.Length: num  5.1 4.9 4.7 4.6 5 5.4 4.6 5 4.4 4.9 ...\n",
      " $ Sepal.Width : num  3.5 3 3.2 3.1 3.6 3.9 3.4 3.4 2.9 3.1 ...\n",
      " $ Petal.Length: num  1.4 1.4 1.3 1.5 1.4 1.7 1.4 1.5 1.4 1.5 ...\n",
      " $ Petal.Width : num  0.2 0.2 0.2 0.2 0.2 0.4 0.3 0.2 0.2 0.1 ...\n",
      " $ Species     : Factor w/ 3 levels \"setosa\",\"versicolor\",..: 1 1 1 1 1 1 1 1 1 1 ...\n"
     ]
    }
   ],
   "source": [
    "data(iris)\n",
    "str(iris)"
   ]
  },
  {
   "cell_type": "code",
   "execution_count": 8,
   "metadata": {},
   "outputs": [
    {
     "name": "stderr",
     "output_type": "stream",
     "text": [
      " 1. run of importance source...\n",
      " 2. run of importance source...\n",
      " 3. run of importance source...\n",
      " 4. run of importance source...\n",
      " 5. run of importance source...\n",
      " 6. run of importance source...\n",
      " 7. run of importance source...\n",
      " 8. run of importance source...\n",
      " 9. run of importance source...\n",
      "After 9 iterations, +0.32 secs: \n",
      " confirmed 4 attributes: Petal.Length, Petal.Width, Sepal.Length, Sepal.Width;\n",
      " no more attributes left.\n",
      "\n"
     ]
    }
   ],
   "source": [
    "set.seed(111)\n",
    "res <- Boruta(Species~.,data=iris,doTrace = 2)"
   ]
  },
  {
   "cell_type": "code",
   "execution_count": 9,
   "metadata": {},
   "outputs": [
    {
     "data": {
      "text/plain": [
       "Boruta performed 9 iterations in 0.3246741 secs.\n",
       " 4 attributes confirmed important: Petal.Length, Petal.Width,\n",
       "Sepal.Length, Sepal.Width;\n",
       " No attributes deemed unimportant."
      ]
     },
     "metadata": {},
     "output_type": "display_data"
    }
   ],
   "source": [
    "res"
   ]
  },
  {
   "cell_type": "code",
   "execution_count": 10,
   "metadata": {},
   "outputs": [
    {
     "name": "stderr",
     "output_type": "stream",
     "text": [
      " 1. run of importance source...\n",
      " 2. run of importance source...\n",
      " 3. run of importance source...\n",
      " 4. run of importance source...\n",
      " 5. run of importance source...\n",
      " 6. run of importance source...\n",
      " 7. run of importance source...\n",
      " 8. run of importance source...\n",
      " 9. run of importance source...\n",
      "After 9 iterations, +0.28 secs: \n",
      " confirmed 4 attributes: Petal.Length, Petal.Width, Sepal.Length, Sepal.Width;\n",
      " no more attributes left.\n",
      "\n"
     ]
    }
   ],
   "source": [
    "res <- Boruta(Species~.,data = iris,doTrace = 2,maxRuns = 100)"
   ]
  },
  {
   "cell_type": "code",
   "execution_count": 11,
   "metadata": {},
   "outputs": [
    {
     "name": "stdout",
     "output_type": "stream",
     "text": [
      "Boruta performed 9 iterations in 0.290976 secs.\n",
      " 4 attributes confirmed important: Petal.Length, Petal.Width,\n",
      "Sepal.Length, Sepal.Width;\n",
      " No attributes deemed unimportant.\n"
     ]
    }
   ],
   "source": [
    "print(res)"
   ]
  },
  {
   "cell_type": "code",
   "execution_count": 12,
   "metadata": {},
   "outputs": [
    {
     "data": {
      "image/png": "[encoded data removed]",
      "text/plain": [
       "plot without title"
      ]
     },
     "metadata": {},
     "output_type": "display_data"
    }
   ],
   "source": [
    "plot(res,las=2)"
   ]
  },
  {
   "cell_type": "code",
   "execution_count": 13,
   "metadata": {},
   "outputs": [
    {
     "data": {
      "image/png": "[encoded data removed]",
      "text/plain": [
       "plot without title"
      ]
     },
     "metadata": {},
     "output_type": "display_data"
    }
   ],
   "source": [
    "plotImpHistory(res)"
   ]
  },
  {
   "cell_type": "code",
   "execution_count": 14,
   "metadata": {},
   "outputs": [
    {
     "data": {
      "text/html": [
       "<table>\n",
       "<thead><tr><th></th><th scope=col>meanImp</th><th scope=col>medianImp</th><th scope=col>minImp</th><th scope=col>maxImp</th><th scope=col>normHits</th><th scope=col>decision</th></tr></thead>\n",
       "<tbody>\n",
       "\t<tr><th scope=row>Sepal.Length</th><td>15.73912 </td><td>15.73782 </td><td>14.733713</td><td>16.52755 </td><td>1        </td><td>Confirmed</td></tr>\n",
       "\t<tr><th scope=row>Sepal.Width</th><td>10.94925 </td><td>11.15349 </td><td> 9.906585</td><td>11.84923 </td><td>1        </td><td>Confirmed</td></tr>\n",
       "\t<tr><th scope=row>Petal.Length</th><td>30.91112 </td><td>31.16595 </td><td>29.746683</td><td>31.97131 </td><td>1        </td><td>Confirmed</td></tr>\n",
       "\t<tr><th scope=row>Petal.Width</th><td>31.64935 </td><td>31.65172 </td><td>30.752000</td><td>32.76085 </td><td>1        </td><td>Confirmed</td></tr>\n",
       "</tbody>\n",
       "</table>\n"
      ],
      "text/latex": [
       "\\begin{tabular}{r|llllll}\n",
       "  & meanImp & medianImp & minImp & maxImp & normHits & decision\\\\\n",
       "\\hline\n",
       "\tSepal.Length & 15.73912  & 15.73782  & 14.733713 & 16.52755  & 1         & Confirmed\\\\\n",
       "\tSepal.Width & 10.94925  & 11.15349  &  9.906585 & 11.84923  & 1         & Confirmed\\\\\n",
       "\tPetal.Length & 30.91112  & 31.16595  & 29.746683 & 31.97131  & 1         & Confirmed\\\\\n",
       "\tPetal.Width & 31.64935  & 31.65172  & 30.752000 & 32.76085  & 1         & Confirmed\\\\\n",
       "\\end{tabular}\n"
      ],
      "text/markdown": [
       "\n",
       "| <!--/--> | meanImp | medianImp | minImp | maxImp | normHits | decision |\n",
       "|---|---|---|---|---|---|---|\n",
       "| Sepal.Length | 15.73912  | 15.73782  | 14.733713 | 16.52755  | 1         | Confirmed |\n",
       "| Sepal.Width | 10.94925  | 11.15349  |  9.906585 | 11.84923  | 1         | Confirmed |\n",
       "| Petal.Length | 30.91112  | 31.16595  | 29.746683 | 31.97131  | 1         | Confirmed |\n",
       "| Petal.Width | 31.64935  | 31.65172  | 30.752000 | 32.76085  | 1         | Confirmed |\n",
       "\n"
      ],
      "text/plain": [
       "             meanImp  medianImp minImp    maxImp   normHits decision \n",
       "Sepal.Length 15.73912 15.73782  14.733713 16.52755 1        Confirmed\n",
       "Sepal.Width  10.94925 11.15349   9.906585 11.84923 1        Confirmed\n",
       "Petal.Length 30.91112 31.16595  29.746683 31.97131 1        Confirmed\n",
       "Petal.Width  31.64935 31.65172  30.752000 32.76085 1        Confirmed"
      ]
     },
     "metadata": {},
     "output_type": "display_data"
    }
   ],
   "source": [
    "attStats(res)"
   ]
  },
  {
   "cell_type": "code",
   "execution_count": 15,
   "metadata": {},
   "outputs": [
    {
     "data": {
      "text/plain": [
       "  Sepal.Length    Sepal.Width     Petal.Length    Petal.Width   \n",
       " Min.   :4.300   Min.   :2.000   Min.   :1.000   Min.   :0.100  \n",
       " 1st Qu.:5.100   1st Qu.:2.800   1st Qu.:1.600   1st Qu.:0.300  \n",
       " Median :5.800   Median :3.000   Median :4.350   Median :1.300  \n",
       " Mean   :5.843   Mean   :3.057   Mean   :3.758   Mean   :1.199  \n",
       " 3rd Qu.:6.400   3rd Qu.:3.300   3rd Qu.:5.100   3rd Qu.:1.800  \n",
       " Max.   :7.900   Max.   :4.400   Max.   :6.900   Max.   :2.500  \n",
       "       Species  \n",
       " setosa    :50  \n",
       " versicolor:50  \n",
       " virginica :50  \n",
       "                \n",
       "                \n",
       "                "
      ]
     },
     "metadata": {},
     "output_type": "display_data"
    }
   ],
   "source": [
    "summary(iris)"
   ]
  },
  {
   "cell_type": "code",
   "execution_count": 16,
   "metadata": {},
   "outputs": [
    {
     "name": "stderr",
     "output_type": "stream",
     "text": [
      "Warning message in TentativeRoughFix(res):\n",
      "\"There are no Tentative attributes! Returning original object.\""
     ]
    },
    {
     "data": {
      "text/plain": [
       "Boruta performed 9 iterations in 0.290976 secs.\n",
       " 4 attributes confirmed important: Petal.Length, Petal.Width,\n",
       "Sepal.Length, Sepal.Width;\n",
       " No attributes deemed unimportant."
      ]
     },
     "metadata": {},
     "output_type": "display_data"
    }
   ],
   "source": [
    "res_tent <- TentativeRoughFix(res)\n",
    "res_tent"
   ]
  },
  {
   "cell_type": "code",
   "execution_count": 17,
   "metadata": {},
   "outputs": [],
   "source": [
    "set.seed(222)\n",
    "sda <- sample(2,nrow(iris),replace = TRUE, prob = c(0.6,0.4))\n",
    "train <- iris[sda==1,]\n",
    "test <- iris[sda==2,]"
   ]
  },
  {
   "cell_type": "code",
   "execution_count": 18,
   "metadata": {},
   "outputs": [],
   "source": [
    "set.seed(333)"
   ]
  },
  {
   "cell_type": "code",
   "execution_count": 22,
   "metadata": {},
   "outputs": [
    {
     "data": {
      "text/plain": [
       "\n",
       "Call:\n",
       " randomForest(formula = Species ~ ., data = train) \n",
       "               Type of random forest: classification\n",
       "                     Number of trees: 500\n",
       "No. of variables tried at each split: 2\n",
       "\n",
       "        OOB estimate of  error rate: 4.71%\n",
       "Confusion matrix:\n",
       "           setosa versicolor virginica class.error\n",
       "setosa         28          0         0  0.00000000\n",
       "versicolor      0         27         2  0.06896552\n",
       "virginica       0          2        26  0.07142857"
      ]
     },
     "metadata": {},
     "output_type": "display_data"
    }
   ],
   "source": [
    "rf_all <- randomForest(Species~.,data = train)\n",
    "rf_all"
   ]
  },
  {
   "cell_type": "code",
   "execution_count": 24,
   "metadata": {},
   "outputs": [
    {
     "data": {
      "text/plain": [
       "Species ~ Sepal.Length + Sepal.Width + Petal.Length + Petal.Width\n",
       "<environment: 0x000000006437e6e8>"
      ]
     },
     "metadata": {},
     "output_type": "display_data"
    }
   ],
   "source": [
    "getNonRejectedFormula(res)"
   ]
  },
  {
   "cell_type": "code",
   "execution_count": 25,
   "metadata": {},
   "outputs": [
    {
     "data": {
      "text/plain": [
       "\n",
       "Call:\n",
       " randomForest(formula = Species ~ Sepal.Length + Sepal.Width +      Petal.Length + Petal.Width, data = train) \n",
       "               Type of random forest: classification\n",
       "                     Number of trees: 500\n",
       "No. of variables tried at each split: 2\n",
       "\n",
       "        OOB estimate of  error rate: 4.71%\n",
       "Confusion matrix:\n",
       "           setosa versicolor virginica class.error\n",
       "setosa         28          0         0  0.00000000\n",
       "versicolor      0         27         2  0.06896552\n",
       "virginica       0          2        26  0.07142857"
      ]
     },
     "metadata": {},
     "output_type": "display_data"
    }
   ],
   "source": [
    "rf_conf_tent <- randomForest(Species ~ Sepal.Length + Sepal.Width + Petal.Length + Petal.Width ,data=train)\n",
    "rf_conf_tent"
   ]
  },
  {
   "cell_type": "code",
   "execution_count": 23,
   "metadata": {},
   "outputs": [
    {
     "name": "stdout",
     "output_type": "stream",
     "text": [
      "package 'e1071' successfully unpacked and MD5 sums checked\n",
      "\n",
      "The downloaded binary packages are in\n",
      "\tC:\\Users\\LENOVO\\AppData\\Local\\Temp\\RtmpADcxXx\\downloaded_packages\n"
     ]
    }
   ],
   "source": [
    "install.packages('e1071')"
   ]
  },
  {
   "cell_type": "code",
   "execution_count": 24,
   "metadata": {},
   "outputs": [
    {
     "data": {
      "text/plain": [
       "Confusion Matrix and Statistics\n",
       "\n",
       "            Reference\n",
       "Prediction   setosa versicolor virginica\n",
       "  setosa         22          0         0\n",
       "  versicolor      0         20         3\n",
       "  virginica       0          1        19\n",
       "\n",
       "Overall Statistics\n",
       "                                         \n",
       "               Accuracy : 0.9385         \n",
       "                 95% CI : (0.8499, 0.983)\n",
       "    No Information Rate : 0.3385         \n",
       "    P-Value [Acc > NIR] : < 2.2e-16      \n",
       "                                         \n",
       "                  Kappa : 0.9077         \n",
       "                                         \n",
       " Mcnemar's Test P-Value : NA             \n",
       "\n",
       "Statistics by Class:\n",
       "\n",
       "                     Class: setosa Class: versicolor Class: virginica\n",
       "Sensitivity                 1.0000            0.9524           0.8636\n",
       "Specificity                 1.0000            0.9318           0.9767\n",
       "Pos Pred Value              1.0000            0.8696           0.9500\n",
       "Neg Pred Value              1.0000            0.9762           0.9333\n",
       "Prevalence                  0.3385            0.3231           0.3385\n",
       "Detection Rate              0.3385            0.3077           0.2923\n",
       "Detection Prevalence        0.3385            0.3538           0.3077\n",
       "Balanced Accuracy           1.0000            0.9421           0.9202"
      ]
     },
     "metadata": {},
     "output_type": "display_data"
    }
   ],
   "source": [
    "p <- predict(rf_conf_tent,test)\n",
    "confusionMatrix(p,test$Species)"
   ]
  },
  {
   "cell_type": "code",
   "execution_count": 25,
   "metadata": {},
   "outputs": [
    {
     "data": {
      "text/plain": [
       "Species ~ Sepal.Length + Sepal.Width + Petal.Length + Petal.Width\n",
       "<environment: 0x000000000c97c4c0>"
      ]
     },
     "metadata": {},
     "output_type": "display_data"
    }
   ],
   "source": [
    "getConfirmedFormula(res)"
   ]
  },
  {
   "cell_type": "code",
   "execution_count": 26,
   "metadata": {},
   "outputs": [
    {
     "data": {
      "text/plain": [
       "\n",
       "Call:\n",
       " randomForest(formula = Species ~ Sepal.Length + Sepal.Width +      Petal.Length + Petal.Width, data = train) \n",
       "               Type of random forest: classification\n",
       "                     Number of trees: 500\n",
       "No. of variables tried at each split: 2\n",
       "\n",
       "        OOB estimate of  error rate: 4.71%\n",
       "Confusion matrix:\n",
       "           setosa versicolor virginica class.error\n",
       "setosa         28          0         0  0.00000000\n",
       "versicolor      0         27         2  0.06896552\n",
       "virginica       0          2        26  0.07142857"
      ]
     },
     "metadata": {},
     "output_type": "display_data"
    }
   ],
   "source": [
    "set.seed(333)\n",
    "rf_conf <- randomForest(Species ~ Sepal.Length + Sepal.Width + Petal.Length + Petal.Width,data=train)\n",
    "rf_conf"
   ]
  },
  {
   "cell_type": "code",
   "execution_count": 27,
   "metadata": {},
   "outputs": [
    {
     "data": {
      "text/plain": [
       "Confusion Matrix and Statistics\n",
       "\n",
       "            Reference\n",
       "Prediction   setosa versicolor virginica\n",
       "  setosa         22          0         0\n",
       "  versicolor      0         20         3\n",
       "  virginica       0          1        19\n",
       "\n",
       "Overall Statistics\n",
       "                                         \n",
       "               Accuracy : 0.9385         \n",
       "                 95% CI : (0.8499, 0.983)\n",
       "    No Information Rate : 0.3385         \n",
       "    P-Value [Acc > NIR] : < 2.2e-16      \n",
       "                                         \n",
       "                  Kappa : 0.9077         \n",
       "                                         \n",
       " Mcnemar's Test P-Value : NA             \n",
       "\n",
       "Statistics by Class:\n",
       "\n",
       "                     Class: setosa Class: versicolor Class: virginica\n",
       "Sensitivity                 1.0000            0.9524           0.8636\n",
       "Specificity                 1.0000            0.9318           0.9767\n",
       "Pos Pred Value              1.0000            0.8696           0.9500\n",
       "Neg Pred Value              1.0000            0.9762           0.9333\n",
       "Prevalence                  0.3385            0.3231           0.3385\n",
       "Detection Rate              0.3385            0.3077           0.2923\n",
       "Detection Prevalence        0.3385            0.3538           0.3077\n",
       "Balanced Accuracy           1.0000            0.9421           0.9202"
      ]
     },
     "metadata": {},
     "output_type": "display_data"
    }
   ],
   "source": [
    "p <- predict(rf_conf,test)\n",
    "confusionMatrix(p,test$Species)"
   ]
  }
 ],
 "metadata": {
  "kernelspec": {
   "display_name": "R",
   "language": "R",
   "name": "ir"
  },
  "language_info": {
   "codemirror_mode": "r",
   "file_extension": ".r",
   "mimetype": "text/x-r-source",
   "name": "R",
   "pygments_lexer": "r",
   "version": "3.6.1"
  }
 },
 "nbformat": 4,
 "nbformat_minor": 4
}
