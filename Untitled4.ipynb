{
 "cells": [
  {
   "cell_type": "code",
   "execution_count": 2,
   "metadata": {},
   "outputs": [
    {
     "data": {
      "text/html": [
       "<table>\n",
       "<thead><tr><th scope=col>eruptions</th><th scope=col>waiting</th></tr></thead>\n",
       "<tbody>\n",
       "\t<tr><td>3.600</td><td>79   </td></tr>\n",
       "\t<tr><td>1.800</td><td>54   </td></tr>\n",
       "\t<tr><td>3.333</td><td>74   </td></tr>\n",
       "\t<tr><td>2.283</td><td>62   </td></tr>\n",
       "\t<tr><td>4.533</td><td>85   </td></tr>\n",
       "\t<tr><td>2.883</td><td>55   </td></tr>\n",
       "</tbody>\n",
       "</table>\n"
      ],
      "text/latex": [
       "\\begin{tabular}{r|ll}\n",
       " eruptions & waiting\\\\\n",
       "\\hline\n",
       "\t 3.600 & 79   \\\\\n",
       "\t 1.800 & 54   \\\\\n",
       "\t 3.333 & 74   \\\\\n",
       "\t 2.283 & 62   \\\\\n",
       "\t 4.533 & 85   \\\\\n",
       "\t 2.883 & 55   \\\\\n",
       "\\end{tabular}\n"
      ],
      "text/markdown": [
       "\n",
       "| eruptions | waiting |\n",
       "|---|---|\n",
       "| 3.600 | 79    |\n",
       "| 1.800 | 54    |\n",
       "| 3.333 | 74    |\n",
       "| 2.283 | 62    |\n",
       "| 4.533 | 85    |\n",
       "| 2.883 | 55    |\n",
       "\n"
      ],
      "text/plain": [
       "  eruptions waiting\n",
       "1 3.600     79     \n",
       "2 1.800     54     \n",
       "3 3.333     74     \n",
       "4 2.283     62     \n",
       "5 4.533     85     \n",
       "6 2.883     55     "
      ]
     },
     "metadata": {},
     "output_type": "display_data"
    }
   ],
   "source": [
    "library (MASS)\n",
    "data(faithful)\n",
    "head(faithful)"
   ]
  },
  {
   "cell_type": "code",
   "execution_count": 3,
   "metadata": {},
   "outputs": [],
   "source": [
    "attach(faithful)"
   ]
  },
  {
   "cell_type": "code",
   "execution_count": 5,
   "metadata": {},
   "outputs": [
    {
     "data": {
      "text/html": [
       "<ol class=list-inline>\n",
       "\t<li>1.6</li>\n",
       "\t<li>5.1</li>\n",
       "</ol>\n"
      ],
      "text/latex": [
       "\\begin{enumerate*}\n",
       "\\item 1.6\n",
       "\\item 5.1\n",
       "\\end{enumerate*}\n"
      ],
      "text/markdown": [
       "1. 1.6\n",
       "2. 5.1\n",
       "\n",
       "\n"
      ],
      "text/plain": [
       "[1] 1.6 5.1"
      ]
     },
     "metadata": {},
     "output_type": "display_data"
    }
   ],
   "source": [
    "range(eruptions)"
   ]
  },
  {
   "cell_type": "code",
   "execution_count": 11,
   "metadata": {},
   "outputs": [
    {
     "data": {
      "text/html": [
       "<ol class=list-inline>\n",
       "\t<li>[3.5,4)</li>\n",
       "\t<li>[1.5,2)</li>\n",
       "\t<li>[3,3.5)</li>\n",
       "\t<li>[2,2.5)</li>\n",
       "\t<li>[4.5,5)</li>\n",
       "\t<li>[2.5,3)</li>\n",
       "\t<li>[4.5,5)</li>\n",
       "\t<li>[3.5,4)</li>\n",
       "\t<li>[1.5,2)</li>\n",
       "\t<li>[4,4.5)</li>\n",
       "\t<li>[1.5,2)</li>\n",
       "\t<li>[3.5,4)</li>\n",
       "\t<li>[4,4.5)</li>\n",
       "\t<li>[1.5,2)</li>\n",
       "\t<li>[4.5,5)</li>\n",
       "\t<li>[2,2.5)</li>\n",
       "\t<li>[1.5,2)</li>\n",
       "\t<li>[4.5,5)</li>\n",
       "\t<li>[1.5,2)</li>\n",
       "\t<li>[4,4.5)</li>\n",
       "\t<li>[1.5,2)</li>\n",
       "\t<li>[1.5,2)</li>\n",
       "\t<li>[3,3.5)</li>\n",
       "\t<li>[3,3.5)</li>\n",
       "\t<li>[4.5,5)</li>\n",
       "\t<li>[3.5,4)</li>\n",
       "\t<li>[1.5,2)</li>\n",
       "\t<li>[4,4.5)</li>\n",
       "\t<li>[3.5,4)</li>\n",
       "\t<li>[4,4.5)</li>\n",
       "\t<li>[4,4.5)</li>\n",
       "\t<li>[4,4.5)</li>\n",
       "\t<li>[3,3.5)</li>\n",
       "\t<li>[4,4.5)</li>\n",
       "\t<li>[3.5,4)</li>\n",
       "\t<li>[2,2.5)</li>\n",
       "\t<li>[1.5,2)</li>\n",
       "\t<li>[4.5,5)</li>\n",
       "\t<li>[1.5,2)</li>\n",
       "\t<li>[4.5,5)</li>\n",
       "\t<li>[4,4.5)</li>\n",
       "\t<li>[1.5,2)</li>\n",
       "\t<li>[4.5,5)</li>\n",
       "\t<li>[1.5,2)</li>\n",
       "\t<li>[4.5,5)</li>\n",
       "\t<li>[3,3.5)</li>\n",
       "\t<li>[3.5,4)</li>\n",
       "\t<li>[2,2.5)</li>\n",
       "\t<li>[4.5,5)</li>\n",
       "\t<li>[2,2.5)</li>\n",
       "\t<li>[4.5,5)</li>\n",
       "\t<li>[4.5,5)</li>\n",
       "\t<li>[1.5,2)</li>\n",
       "\t<li>[4.5,5)</li>\n",
       "\t<li>[1.5,2)</li>\n",
       "\t<li>[4.5,5)</li>\n",
       "\t<li>[3.5,4)</li>\n",
       "\t<li>[1.5,2)</li>\n",
       "\t<li>[4.5,5)</li>\n",
       "\t<li>[4,4.5)</li>\n",
       "\t<li>[2,2.5)</li>\n",
       "\t<li>[4.5,5)</li>\n",
       "\t<li>[1.5,2)</li>\n",
       "\t<li>[4.5,5)</li>\n",
       "\t<li>[1.5,2)</li>\n",
       "\t<li>[4,4.5)</li>\n",
       "\t<li>[4,4.5)</li>\n",
       "\t<li>[4.5,5)</li>\n",
       "\t<li>[2,2.5)</li>\n",
       "\t<li>[4.5,5)</li>\n",
       "\t<li>[4,4.5)</li>\n",
       "\t<li>[1.5,2)</li>\n",
       "\t<li>[4.5,5)</li>\n",
       "\t<li>[4,4.5)</li>\n",
       "\t<li>[1.5,2)</li>\n",
       "\t<li>[5,5.5)</li>\n",
       "\t<li>[2,2.5)</li>\n",
       "\t<li>[4.5,5)</li>\n",
       "\t<li>[3.5,4)</li>\n",
       "\t<li>[3.5,4)</li>\n",
       "\t<li>[4,4.5)</li>\n",
       "\t<li>[4,4.5)</li>\n",
       "\t<li>[4,4.5)</li>\n",
       "\t<li>[2.5,3)</li>\n",
       "\t<li>[4,4.5)</li>\n",
       "\t<li>[4.5,5)</li>\n",
       "\t<li>[3.5,4)</li>\n",
       "\t<li>[4.5,5)</li>\n",
       "\t<li>[2,2.5)</li>\n",
       "\t<li>[4,4.5)</li>\n",
       "\t<li>[2,2.5)</li>\n",
       "\t<li>[4,4.5)</li>\n",
       "\t<li>[1.5,2)</li>\n",
       "\t<li>[4.5,5)</li>\n",
       "\t<li>[1.5,2)</li>\n",
       "\t<li>[4,4.5)</li>\n",
       "\t<li>[4.5,5)</li>\n",
       "\t<li>[3.5,4)</li>\n",
       "\t<li>[1.5,2)</li>\n",
       "\t<li>[4.5,5)</li>\n",
       "\t<li>[2,2.5)</li>\n",
       "\t<li>[4,4.5)</li>\n",
       "\t<li>[2,2.5)</li>\n",
       "\t<li>[4.5,5)</li>\n",
       "\t<li>[4,4.5)</li>\n",
       "\t<li>[1.5,2)</li>\n",
       "\t<li>[4.5,5)</li>\n",
       "\t<li>[1.5,2)</li>\n",
       "\t<li>[4.5,5)</li>\n",
       "\t<li>[3.5,4)</li>\n",
       "\t<li>[4.5,5)</li>\n",
       "\t<li>[2,2.5)</li>\n",
       "\t<li>[4.5,5)</li>\n",
       "\t<li>[4,4.5)</li>\n",
       "\t<li>[1.5,2)</li>\n",
       "\t<li>[4.5,5)</li>\n",
       "\t<li>[2,2.5)</li>\n",
       "\t<li>[4.5,5)</li>\n",
       "\t<li>[1.5,2)</li>\n",
       "\t<li>[4,4.5)</li>\n",
       "\t<li>[2.5,3)</li>\n",
       "\t<li>[4,4.5)</li>\n",
       "\t<li>[4,4.5)</li>\n",
       "\t<li>[1.5,2)</li>\n",
       "\t<li>[4.5,5)</li>\n",
       "\t<li>[3.5,4)</li>\n",
       "\t<li>[1.5,2)</li>\n",
       "\t<li>[4.5,5)</li>\n",
       "\t<li>[2,2.5)</li>\n",
       "\t<li>[4.5,5)</li>\n",
       "\t<li>[1.5,2)</li>\n",
       "\t<li>[4,4.5)</li>\n",
       "\t<li>[2.5,3)</li>\n",
       "\t<li>[4,4.5)</li>\n",
       "\t<li>[1.5,2)</li>\n",
       "\t<li>[4,4.5)</li>\n",
       "\t<li>[1.5,2)</li>\n",
       "\t<li>[4.5,5)</li>\n",
       "\t<li>[2,2.5)</li>\n",
       "\t<li>[3.5,4)</li>\n",
       "\t<li>[4,4.5)</li>\n",
       "\t<li>[2,2.5)</li>\n",
       "\t<li>[4.5,5)</li>\n",
       "\t<li>[4.5,5)</li>\n",
       "\t<li>[4,4.5)</li>\n",
       "\t<li>[1.5,2)</li>\n",
       "\t<li>[4.5,5)</li>\n",
       "\t<li>[2,2.5)</li>\n",
       "\t<li>[5,5.5)</li>\n",
       "\t<li>[1.5,2)</li>\n",
       "\t<li>[5,5.5)</li>\n",
       "\t<li>[4,4.5)</li>\n",
       "\t<li>[2,2.5)</li>\n",
       "\t<li>[4.5,5)</li>\n",
       "\t<li>[3.5,4)</li>\n",
       "\t<li>[4,4.5)</li>\n",
       "\t<li>[4.5,5)</li>\n",
       "\t<li>[4,4.5)</li>\n",
       "\t<li>[1.5,2)</li>\n",
       "\t<li>[3.5,4)</li>\n",
       "\t<li>[2,2.5)</li>\n",
       "\t<li>[4,4.5)</li>\n",
       "\t<li>[2,2.5)</li>\n",
       "\t<li>[3.5,4)</li>\n",
       "\t<li>[3.5,4)</li>\n",
       "\t<li>[4.5,5)</li>\n",
       "\t<li>[2,2.5)</li>\n",
       "\t<li>[5,5.5)</li>\n",
       "\t<li>[1.5,2)</li>\n",
       "\t<li>[4.5,5)</li>\n",
       "\t<li>[1.5,2)</li>\n",
       "\t<li>[2,2.5)</li>\n",
       "\t<li>[4.5,5)</li>\n",
       "\t<li>[3,3.5)</li>\n",
       "\t<li>[4,4.5)</li>\n",
       "\t<li>[4,4.5)</li>\n",
       "\t<li>[4.5,5)</li>\n",
       "\t<li>[2,2.5)</li>\n",
       "\t<li>[4,4.5)</li>\n",
       "\t<li>[4,4.5)</li>\n",
       "\t<li>[1.5,2)</li>\n",
       "\t<li>[4.5,5)</li>\n",
       "\t<li>[4,4.5)</li>\n",
       "\t<li>[3.5,4)</li>\n",
       "\t<li>[2,2.5)</li>\n",
       "\t<li>[4,4.5)</li>\n",
       "\t<li>[4,4.5)</li>\n",
       "\t<li>[1.5,2)</li>\n",
       "\t<li>[4,4.5)</li>\n",
       "\t<li>[2,2.5)</li>\n",
       "\t<li>[4.5,5)</li>\n",
       "\t<li>[1.5,2)</li>\n",
       "\t<li>[4.5,5)</li>\n",
       "\t<li>[4,4.5)</li>\n",
       "\t<li>[3.5,4)</li>\n",
       "\t<li>[4,4.5)</li>\n",
       "\t<li>[3.5,4)</li>\n",
       "\t<li>[4,4.5)</li>\n",
       "\t<li>[2,2.5)</li>\n",
       "\t<li>[4.5,5)</li>\n",
       "\t<li>[2,2.5)</li>\n",
       "\t<li>[4,4.5)</li>\n",
       "\t<li>[4,4.5)</li>\n",
       "\t<li>[1.5,2)</li>\n",
       "\t<li>[4.5,5)</li>\n",
       "\t<li>[1.5,2)</li>\n",
       "\t<li>[4,4.5)</li>\n",
       "\t<li>[3.5,4)</li>\n",
       "\t<li>[1.5,2)</li>\n",
       "\t<li>[4.5,5)</li>\n",
       "\t<li>[2,2.5)</li>\n",
       "\t<li>[4.5,5)</li>\n",
       "\t<li>[1.5,2)</li>\n",
       "\t<li>[3.5,4)</li>\n",
       "\t<li>[3,3.5)</li>\n",
       "\t<li>[4,4.5)</li>\n",
       "\t<li>[2,2.5)</li>\n",
       "\t<li>[4.5,5)</li>\n",
       "\t<li>[2,2.5)</li>\n",
       "\t<li>[4,4.5)</li>\n",
       "\t<li>[1.5,2)</li>\n",
       "\t<li>[4,4.5)</li>\n",
       "\t<li>[1.5,2)</li>\n",
       "\t<li>[4,4.5)</li>\n",
       "\t<li>[4,4.5)</li>\n",
       "\t<li>[4,4.5)</li>\n",
       "\t<li>[4,4.5)</li>\n",
       "\t<li>[4,4.5)</li>\n",
       "\t<li>[3.5,4)</li>\n",
       "\t<li>[4.5,5)</li>\n",
       "\t<li>[4,4.5)</li>\n",
       "\t<li>[2,2.5)</li>\n",
       "\t<li>[4,4.5)</li>\n",
       "\t<li>[2,2.5)</li>\n",
       "\t<li>[4,4.5)</li>\n",
       "\t<li>[1.5,2)</li>\n",
       "\t<li>[1.5,2)</li>\n",
       "\t<li>[4,4.5)</li>\n",
       "\t<li>[3.5,4)</li>\n",
       "\t<li>[2,2.5)</li>\n",
       "\t<li>[4,4.5)</li>\n",
       "\t<li>[2,2.5)</li>\n",
       "\t<li>[4.5,5)</li>\n",
       "\t<li>[2.5,3)</li>\n",
       "\t<li>[4.5,5)</li>\n",
       "\t<li>[3.5,4)</li>\n",
       "\t<li>[2,2.5)</li>\n",
       "\t<li>[4,4.5)</li>\n",
       "\t<li>[2,2.5)</li>\n",
       "\t<li>[4,4.5)</li>\n",
       "\t<li>[2,2.5)</li>\n",
       "\t<li>[4,4.5)</li>\n",
       "\t<li>[3.5,4)</li>\n",
       "\t<li>[4.5,5)</li>\n",
       "\t<li>[4,4.5)</li>\n",
       "\t<li>[3.5,4)</li>\n",
       "\t<li>[3.5,4)</li>\n",
       "\t<li>[4,4.5)</li>\n",
       "\t<li>[2,2.5)</li>\n",
       "\t<li>[4,4.5)</li>\n",
       "\t<li>[4.5,5)</li>\n",
       "\t<li>[4.5,5)</li>\n",
       "\t<li>[1.5,2)</li>\n",
       "\t<li>[4,4.5)</li>\n",
       "\t<li>[1.5,2)</li>\n",
       "\t<li>[2,2.5)</li>\n",
       "\t<li>[4.5,5)</li>\n",
       "\t<li>[4,4.5)</li>\n",
       "\t<li>[2,2.5)</li>\n",
       "\t<li>[4,4.5)</li>\n",
       "\t<li>[1.5,2)</li>\n",
       "\t<li>[4,4.5)</li>\n",
       "</ol>\n",
       "\n",
       "<details>\n",
       "\t<summary style=display:list-item;cursor:pointer>\n",
       "\t\t<strong>Levels</strong>:\n",
       "\t</summary>\n",
       "\t<ol class=list-inline>\n",
       "\t\t<li>'[1.5,2)'</li>\n",
       "\t\t<li>'[2,2.5)'</li>\n",
       "\t\t<li>'[2.5,3)'</li>\n",
       "\t\t<li>'[3,3.5)'</li>\n",
       "\t\t<li>'[3.5,4)'</li>\n",
       "\t\t<li>'[4,4.5)'</li>\n",
       "\t\t<li>'[4.5,5)'</li>\n",
       "\t\t<li>'[5,5.5)'</li>\n",
       "\t</ol>\n",
       "</details>"
      ],
      "text/latex": [
       "\\begin{enumerate*}\n",
       "\\item {[}3.5,4)\n",
       "\\item {[}1.5,2)\n",
       "\\item {[}3,3.5)\n",
       "\\item {[}2,2.5)\n",
       "\\item {[}4.5,5)\n",
       "\\item {[}2.5,3)\n",
       "\\item {[}4.5,5)\n",
       "\\item {[}3.5,4)\n",
       "\\item {[}1.5,2)\n",
       "\\item {[}4,4.5)\n",
       "\\item {[}1.5,2)\n",
       "\\item {[}3.5,4)\n",
       "\\item {[}4,4.5)\n",
       "\\item {[}1.5,2)\n",
       "\\item {[}4.5,5)\n",
       "\\item {[}2,2.5)\n",
       "\\item {[}1.5,2)\n",
       "\\item {[}4.5,5)\n",
       "\\item {[}1.5,2)\n",
       "\\item {[}4,4.5)\n",
       "\\item {[}1.5,2)\n",
       "\\item {[}1.5,2)\n",
       "\\item {[}3,3.5)\n",
       "\\item {[}3,3.5)\n",
       "\\item {[}4.5,5)\n",
       "\\item {[}3.5,4)\n",
       "\\item {[}1.5,2)\n",
       "\\item {[}4,4.5)\n",
       "\\item {[}3.5,4)\n",
       "\\item {[}4,4.5)\n",
       "\\item {[}4,4.5)\n",
       "\\item {[}4,4.5)\n",
       "\\item {[}3,3.5)\n",
       "\\item {[}4,4.5)\n",
       "\\item {[}3.5,4)\n",
       "\\item {[}2,2.5)\n",
       "\\item {[}1.5,2)\n",
       "\\item {[}4.5,5)\n",
       "\\item {[}1.5,2)\n",
       "\\item {[}4.5,5)\n",
       "\\item {[}4,4.5)\n",
       "\\item {[}1.5,2)\n",
       "\\item {[}4.5,5)\n",
       "\\item {[}1.5,2)\n",
       "\\item {[}4.5,5)\n",
       "\\item {[}3,3.5)\n",
       "\\item {[}3.5,4)\n",
       "\\item {[}2,2.5)\n",
       "\\item {[}4.5,5)\n",
       "\\item {[}2,2.5)\n",
       "\\item {[}4.5,5)\n",
       "\\item {[}4.5,5)\n",
       "\\item {[}1.5,2)\n",
       "\\item {[}4.5,5)\n",
       "\\item {[}1.5,2)\n",
       "\\item {[}4.5,5)\n",
       "\\item {[}3.5,4)\n",
       "\\item {[}1.5,2)\n",
       "\\item {[}4.5,5)\n",
       "\\item {[}4,4.5)\n",
       "\\item {[}2,2.5)\n",
       "\\item {[}4.5,5)\n",
       "\\item {[}1.5,2)\n",
       "\\item {[}4.5,5)\n",
       "\\item {[}1.5,2)\n",
       "\\item {[}4,4.5)\n",
       "\\item {[}4,4.5)\n",
       "\\item {[}4.5,5)\n",
       "\\item {[}2,2.5)\n",
       "\\item {[}4.5,5)\n",
       "\\item {[}4,4.5)\n",
       "\\item {[}1.5,2)\n",
       "\\item {[}4.5,5)\n",
       "\\item {[}4,4.5)\n",
       "\\item {[}1.5,2)\n",
       "\\item {[}5,5.5)\n",
       "\\item {[}2,2.5)\n",
       "\\item {[}4.5,5)\n",
       "\\item {[}3.5,4)\n",
       "\\item {[}3.5,4)\n",
       "\\item {[}4,4.5)\n",
       "\\item {[}4,4.5)\n",
       "\\item {[}4,4.5)\n",
       "\\item {[}2.5,3)\n",
       "\\item {[}4,4.5)\n",
       "\\item {[}4.5,5)\n",
       "\\item {[}3.5,4)\n",
       "\\item {[}4.5,5)\n",
       "\\item {[}2,2.5)\n",
       "\\item {[}4,4.5)\n",
       "\\item {[}2,2.5)\n",
       "\\item {[}4,4.5)\n",
       "\\item {[}1.5,2)\n",
       "\\item {[}4.5,5)\n",
       "\\item {[}1.5,2)\n",
       "\\item {[}4,4.5)\n",
       "\\item {[}4.5,5)\n",
       "\\item {[}3.5,4)\n",
       "\\item {[}1.5,2)\n",
       "\\item {[}4.5,5)\n",
       "\\item {[}2,2.5)\n",
       "\\item {[}4,4.5)\n",
       "\\item {[}2,2.5)\n",
       "\\item {[}4.5,5)\n",
       "\\item {[}4,4.5)\n",
       "\\item {[}1.5,2)\n",
       "\\item {[}4.5,5)\n",
       "\\item {[}1.5,2)\n",
       "\\item {[}4.5,5)\n",
       "\\item {[}3.5,4)\n",
       "\\item {[}4.5,5)\n",
       "\\item {[}2,2.5)\n",
       "\\item {[}4.5,5)\n",
       "\\item {[}4,4.5)\n",
       "\\item {[}1.5,2)\n",
       "\\item {[}4.5,5)\n",
       "\\item {[}2,2.5)\n",
       "\\item {[}4.5,5)\n",
       "\\item {[}1.5,2)\n",
       "\\item {[}4,4.5)\n",
       "\\item {[}2.5,3)\n",
       "\\item {[}4,4.5)\n",
       "\\item {[}4,4.5)\n",
       "\\item {[}1.5,2)\n",
       "\\item {[}4.5,5)\n",
       "\\item {[}3.5,4)\n",
       "\\item {[}1.5,2)\n",
       "\\item {[}4.5,5)\n",
       "\\item {[}2,2.5)\n",
       "\\item {[}4.5,5)\n",
       "\\item {[}1.5,2)\n",
       "\\item {[}4,4.5)\n",
       "\\item {[}2.5,3)\n",
       "\\item {[}4,4.5)\n",
       "\\item {[}1.5,2)\n",
       "\\item {[}4,4.5)\n",
       "\\item {[}1.5,2)\n",
       "\\item {[}4.5,5)\n",
       "\\item {[}2,2.5)\n",
       "\\item {[}3.5,4)\n",
       "\\item {[}4,4.5)\n",
       "\\item {[}2,2.5)\n",
       "\\item {[}4.5,5)\n",
       "\\item {[}4.5,5)\n",
       "\\item {[}4,4.5)\n",
       "\\item {[}1.5,2)\n",
       "\\item {[}4.5,5)\n",
       "\\item {[}2,2.5)\n",
       "\\item {[}5,5.5)\n",
       "\\item {[}1.5,2)\n",
       "\\item {[}5,5.5)\n",
       "\\item {[}4,4.5)\n",
       "\\item {[}2,2.5)\n",
       "\\item {[}4.5,5)\n",
       "\\item {[}3.5,4)\n",
       "\\item {[}4,4.5)\n",
       "\\item {[}4.5,5)\n",
       "\\item {[}4,4.5)\n",
       "\\item {[}1.5,2)\n",
       "\\item {[}3.5,4)\n",
       "\\item {[}2,2.5)\n",
       "\\item {[}4,4.5)\n",
       "\\item {[}2,2.5)\n",
       "\\item {[}3.5,4)\n",
       "\\item {[}3.5,4)\n",
       "\\item {[}4.5,5)\n",
       "\\item {[}2,2.5)\n",
       "\\item {[}5,5.5)\n",
       "\\item {[}1.5,2)\n",
       "\\item {[}4.5,5)\n",
       "\\item {[}1.5,2)\n",
       "\\item {[}2,2.5)\n",
       "\\item {[}4.5,5)\n",
       "\\item {[}3,3.5)\n",
       "\\item {[}4,4.5)\n",
       "\\item {[}4,4.5)\n",
       "\\item {[}4.5,5)\n",
       "\\item {[}2,2.5)\n",
       "\\item {[}4,4.5)\n",
       "\\item {[}4,4.5)\n",
       "\\item {[}1.5,2)\n",
       "\\item {[}4.5,5)\n",
       "\\item {[}4,4.5)\n",
       "\\item {[}3.5,4)\n",
       "\\item {[}2,2.5)\n",
       "\\item {[}4,4.5)\n",
       "\\item {[}4,4.5)\n",
       "\\item {[}1.5,2)\n",
       "\\item {[}4,4.5)\n",
       "\\item {[}2,2.5)\n",
       "\\item {[}4.5,5)\n",
       "\\item {[}1.5,2)\n",
       "\\item {[}4.5,5)\n",
       "\\item {[}4,4.5)\n",
       "\\item {[}3.5,4)\n",
       "\\item {[}4,4.5)\n",
       "\\item {[}3.5,4)\n",
       "\\item {[}4,4.5)\n",
       "\\item {[}2,2.5)\n",
       "\\item {[}4.5,5)\n",
       "\\item {[}2,2.5)\n",
       "\\item {[}4,4.5)\n",
       "\\item {[}4,4.5)\n",
       "\\item {[}1.5,2)\n",
       "\\item {[}4.5,5)\n",
       "\\item {[}1.5,2)\n",
       "\\item {[}4,4.5)\n",
       "\\item {[}3.5,4)\n",
       "\\item {[}1.5,2)\n",
       "\\item {[}4.5,5)\n",
       "\\item {[}2,2.5)\n",
       "\\item {[}4.5,5)\n",
       "\\item {[}1.5,2)\n",
       "\\item {[}3.5,4)\n",
       "\\item {[}3,3.5)\n",
       "\\item {[}4,4.5)\n",
       "\\item {[}2,2.5)\n",
       "\\item {[}4.5,5)\n",
       "\\item {[}2,2.5)\n",
       "\\item {[}4,4.5)\n",
       "\\item {[}1.5,2)\n",
       "\\item {[}4,4.5)\n",
       "\\item {[}1.5,2)\n",
       "\\item {[}4,4.5)\n",
       "\\item {[}4,4.5)\n",
       "\\item {[}4,4.5)\n",
       "\\item {[}4,4.5)\n",
       "\\item {[}4,4.5)\n",
       "\\item {[}3.5,4)\n",
       "\\item {[}4.5,5)\n",
       "\\item {[}4,4.5)\n",
       "\\item {[}2,2.5)\n",
       "\\item {[}4,4.5)\n",
       "\\item {[}2,2.5)\n",
       "\\item {[}4,4.5)\n",
       "\\item {[}1.5,2)\n",
       "\\item {[}1.5,2)\n",
       "\\item {[}4,4.5)\n",
       "\\item {[}3.5,4)\n",
       "\\item {[}2,2.5)\n",
       "\\item {[}4,4.5)\n",
       "\\item {[}2,2.5)\n",
       "\\item {[}4.5,5)\n",
       "\\item {[}2.5,3)\n",
       "\\item {[}4.5,5)\n",
       "\\item {[}3.5,4)\n",
       "\\item {[}2,2.5)\n",
       "\\item {[}4,4.5)\n",
       "\\item {[}2,2.5)\n",
       "\\item {[}4,4.5)\n",
       "\\item {[}2,2.5)\n",
       "\\item {[}4,4.5)\n",
       "\\item {[}3.5,4)\n",
       "\\item {[}4.5,5)\n",
       "\\item {[}4,4.5)\n",
       "\\item {[}3.5,4)\n",
       "\\item {[}3.5,4)\n",
       "\\item {[}4,4.5)\n",
       "\\item {[}2,2.5)\n",
       "\\item {[}4,4.5)\n",
       "\\item {[}4.5,5)\n",
       "\\item {[}4.5,5)\n",
       "\\item {[}1.5,2)\n",
       "\\item {[}4,4.5)\n",
       "\\item {[}1.5,2)\n",
       "\\item {[}2,2.5)\n",
       "\\item {[}4.5,5)\n",
       "\\item {[}4,4.5)\n",
       "\\item {[}2,2.5)\n",
       "\\item {[}4,4.5)\n",
       "\\item {[}1.5,2)\n",
       "\\item {[}4,4.5)\n",
       "\\end{enumerate*}\n",
       "\n",
       "\\emph{Levels}: \\begin{enumerate*}\n",
       "\\item '{[}1.5,2)'\n",
       "\\item '{[}2,2.5)'\n",
       "\\item '{[}2.5,3)'\n",
       "\\item '{[}3,3.5)'\n",
       "\\item '{[}3.5,4)'\n",
       "\\item '{[}4,4.5)'\n",
       "\\item '{[}4.5,5)'\n",
       "\\item '{[}5,5.5)'\n",
       "\\end{enumerate*}\n"
      ],
      "text/markdown": [
       "1. [3.5,4)\n",
       "2. [1.5,2)\n",
       "3. [3,3.5)\n",
       "4. [2,2.5)\n",
       "5. [4.5,5)\n",
       "6. [2.5,3)\n",
       "7. [4.5,5)\n",
       "8. [3.5,4)\n",
       "9. [1.5,2)\n",
       "10. [4,4.5)\n",
       "11. [1.5,2)\n",
       "12. [3.5,4)\n",
       "13. [4,4.5)\n",
       "14. [1.5,2)\n",
       "15. [4.5,5)\n",
       "16. [2,2.5)\n",
       "17. [1.5,2)\n",
       "18. [4.5,5)\n",
       "19. [1.5,2)\n",
       "20. [4,4.5)\n",
       "21. [1.5,2)\n",
       "22. [1.5,2)\n",
       "23. [3,3.5)\n",
       "24. [3,3.5)\n",
       "25. [4.5,5)\n",
       "26. [3.5,4)\n",
       "27. [1.5,2)\n",
       "28. [4,4.5)\n",
       "29. [3.5,4)\n",
       "30. [4,4.5)\n",
       "31. [4,4.5)\n",
       "32. [4,4.5)\n",
       "33. [3,3.5)\n",
       "34. [4,4.5)\n",
       "35. [3.5,4)\n",
       "36. [2,2.5)\n",
       "37. [1.5,2)\n",
       "38. [4.5,5)\n",
       "39. [1.5,2)\n",
       "40. [4.5,5)\n",
       "41. [4,4.5)\n",
       "42. [1.5,2)\n",
       "43. [4.5,5)\n",
       "44. [1.5,2)\n",
       "45. [4.5,5)\n",
       "46. [3,3.5)\n",
       "47. [3.5,4)\n",
       "48. [2,2.5)\n",
       "49. [4.5,5)\n",
       "50. [2,2.5)\n",
       "51. [4.5,5)\n",
       "52. [4.5,5)\n",
       "53. [1.5,2)\n",
       "54. [4.5,5)\n",
       "55. [1.5,2)\n",
       "56. [4.5,5)\n",
       "57. [3.5,4)\n",
       "58. [1.5,2)\n",
       "59. [4.5,5)\n",
       "60. [4,4.5)\n",
       "61. [2,2.5)\n",
       "62. [4.5,5)\n",
       "63. [1.5,2)\n",
       "64. [4.5,5)\n",
       "65. [1.5,2)\n",
       "66. [4,4.5)\n",
       "67. [4,4.5)\n",
       "68. [4.5,5)\n",
       "69. [2,2.5)\n",
       "70. [4.5,5)\n",
       "71. [4,4.5)\n",
       "72. [1.5,2)\n",
       "73. [4.5,5)\n",
       "74. [4,4.5)\n",
       "75. [1.5,2)\n",
       "76. [5,5.5)\n",
       "77. [2,2.5)\n",
       "78. [4.5,5)\n",
       "79. [3.5,4)\n",
       "80. [3.5,4)\n",
       "81. [4,4.5)\n",
       "82. [4,4.5)\n",
       "83. [4,4.5)\n",
       "84. [2.5,3)\n",
       "85. [4,4.5)\n",
       "86. [4.5,5)\n",
       "87. [3.5,4)\n",
       "88. [4.5,5)\n",
       "89. [2,2.5)\n",
       "90. [4,4.5)\n",
       "91. [2,2.5)\n",
       "92. [4,4.5)\n",
       "93. [1.5,2)\n",
       "94. [4.5,5)\n",
       "95. [1.5,2)\n",
       "96. [4,4.5)\n",
       "97. [4.5,5)\n",
       "98. [3.5,4)\n",
       "99. [1.5,2)\n",
       "100. [4.5,5)\n",
       "101. [2,2.5)\n",
       "102. [4,4.5)\n",
       "103. [2,2.5)\n",
       "104. [4.5,5)\n",
       "105. [4,4.5)\n",
       "106. [1.5,2)\n",
       "107. [4.5,5)\n",
       "108. [1.5,2)\n",
       "109. [4.5,5)\n",
       "110. [3.5,4)\n",
       "111. [4.5,5)\n",
       "112. [2,2.5)\n",
       "113. [4.5,5)\n",
       "114. [4,4.5)\n",
       "115. [1.5,2)\n",
       "116. [4.5,5)\n",
       "117. [2,2.5)\n",
       "118. [4.5,5)\n",
       "119. [1.5,2)\n",
       "120. [4,4.5)\n",
       "121. [2.5,3)\n",
       "122. [4,4.5)\n",
       "123. [4,4.5)\n",
       "124. [1.5,2)\n",
       "125. [4.5,5)\n",
       "126. [3.5,4)\n",
       "127. [1.5,2)\n",
       "128. [4.5,5)\n",
       "129. [2,2.5)\n",
       "130. [4.5,5)\n",
       "131. [1.5,2)\n",
       "132. [4,4.5)\n",
       "133. [2.5,3)\n",
       "134. [4,4.5)\n",
       "135. [1.5,2)\n",
       "136. [4,4.5)\n",
       "137. [1.5,2)\n",
       "138. [4.5,5)\n",
       "139. [2,2.5)\n",
       "140. [3.5,4)\n",
       "141. [4,4.5)\n",
       "142. [2,2.5)\n",
       "143. [4.5,5)\n",
       "144. [4.5,5)\n",
       "145. [4,4.5)\n",
       "146. [1.5,2)\n",
       "147. [4.5,5)\n",
       "148. [2,2.5)\n",
       "149. [5,5.5)\n",
       "150. [1.5,2)\n",
       "151. [5,5.5)\n",
       "152. [4,4.5)\n",
       "153. [2,2.5)\n",
       "154. [4.5,5)\n",
       "155. [3.5,4)\n",
       "156. [4,4.5)\n",
       "157. [4.5,5)\n",
       "158. [4,4.5)\n",
       "159. [1.5,2)\n",
       "160. [3.5,4)\n",
       "161. [2,2.5)\n",
       "162. [4,4.5)\n",
       "163. [2,2.5)\n",
       "164. [3.5,4)\n",
       "165. [3.5,4)\n",
       "166. [4.5,5)\n",
       "167. [2,2.5)\n",
       "168. [5,5.5)\n",
       "169. [1.5,2)\n",
       "170. [4.5,5)\n",
       "171. [1.5,2)\n",
       "172. [2,2.5)\n",
       "173. [4.5,5)\n",
       "174. [3,3.5)\n",
       "175. [4,4.5)\n",
       "176. [4,4.5)\n",
       "177. [4.5,5)\n",
       "178. [2,2.5)\n",
       "179. [4,4.5)\n",
       "180. [4,4.5)\n",
       "181. [1.5,2)\n",
       "182. [4.5,5)\n",
       "183. [4,4.5)\n",
       "184. [3.5,4)\n",
       "185. [2,2.5)\n",
       "186. [4,4.5)\n",
       "187. [4,4.5)\n",
       "188. [1.5,2)\n",
       "189. [4,4.5)\n",
       "190. [2,2.5)\n",
       "191. [4.5,5)\n",
       "192. [1.5,2)\n",
       "193. [4.5,5)\n",
       "194. [4,4.5)\n",
       "195. [3.5,4)\n",
       "196. [4,4.5)\n",
       "197. [3.5,4)\n",
       "198. [4,4.5)\n",
       "199. [2,2.5)\n",
       "200. [4.5,5)\n",
       "201. [2,2.5)\n",
       "202. [4,4.5)\n",
       "203. [4,4.5)\n",
       "204. [1.5,2)\n",
       "205. [4.5,5)\n",
       "206. [1.5,2)\n",
       "207. [4,4.5)\n",
       "208. [3.5,4)\n",
       "209. [1.5,2)\n",
       "210. [4.5,5)\n",
       "211. [2,2.5)\n",
       "212. [4.5,5)\n",
       "213. [1.5,2)\n",
       "214. [3.5,4)\n",
       "215. [3,3.5)\n",
       "216. [4,4.5)\n",
       "217. [2,2.5)\n",
       "218. [4.5,5)\n",
       "219. [2,2.5)\n",
       "220. [4,4.5)\n",
       "221. [1.5,2)\n",
       "222. [4,4.5)\n",
       "223. [1.5,2)\n",
       "224. [4,4.5)\n",
       "225. [4,4.5)\n",
       "226. [4,4.5)\n",
       "227. [4,4.5)\n",
       "228. [4,4.5)\n",
       "229. [3.5,4)\n",
       "230. [4.5,5)\n",
       "231. [4,4.5)\n",
       "232. [2,2.5)\n",
       "233. [4,4.5)\n",
       "234. [2,2.5)\n",
       "235. [4,4.5)\n",
       "236. [1.5,2)\n",
       "237. [1.5,2)\n",
       "238. [4,4.5)\n",
       "239. [3.5,4)\n",
       "240. [2,2.5)\n",
       "241. [4,4.5)\n",
       "242. [2,2.5)\n",
       "243. [4.5,5)\n",
       "244. [2.5,3)\n",
       "245. [4.5,5)\n",
       "246. [3.5,4)\n",
       "247. [2,2.5)\n",
       "248. [4,4.5)\n",
       "249. [2,2.5)\n",
       "250. [4,4.5)\n",
       "251. [2,2.5)\n",
       "252. [4,4.5)\n",
       "253. [3.5,4)\n",
       "254. [4.5,5)\n",
       "255. [4,4.5)\n",
       "256. [3.5,4)\n",
       "257. [3.5,4)\n",
       "258. [4,4.5)\n",
       "259. [2,2.5)\n",
       "260. [4,4.5)\n",
       "261. [4.5,5)\n",
       "262. [4.5,5)\n",
       "263. [1.5,2)\n",
       "264. [4,4.5)\n",
       "265. [1.5,2)\n",
       "266. [2,2.5)\n",
       "267. [4.5,5)\n",
       "268. [4,4.5)\n",
       "269. [2,2.5)\n",
       "270. [4,4.5)\n",
       "271. [1.5,2)\n",
       "272. [4,4.5)\n",
       "\n",
       "\n",
       "\n",
       "**Levels**: 1. '[1.5,2)'\n",
       "2. '[2,2.5)'\n",
       "3. '[2.5,3)'\n",
       "4. '[3,3.5)'\n",
       "5. '[3.5,4)'\n",
       "6. '[4,4.5)'\n",
       "7. '[4.5,5)'\n",
       "8. '[5,5.5)'\n",
       "\n",
       "\n"
      ],
      "text/plain": [
       "  [1] [3.5,4) [1.5,2) [3,3.5) [2,2.5) [4.5,5) [2.5,3) [4.5,5) [3.5,4) [1.5,2)\n",
       " [10] [4,4.5) [1.5,2) [3.5,4) [4,4.5) [1.5,2) [4.5,5) [2,2.5) [1.5,2) [4.5,5)\n",
       " [19] [1.5,2) [4,4.5) [1.5,2) [1.5,2) [3,3.5) [3,3.5) [4.5,5) [3.5,4) [1.5,2)\n",
       " [28] [4,4.5) [3.5,4) [4,4.5) [4,4.5) [4,4.5) [3,3.5) [4,4.5) [3.5,4) [2,2.5)\n",
       " [37] [1.5,2) [4.5,5) [1.5,2) [4.5,5) [4,4.5) [1.5,2) [4.5,5) [1.5,2) [4.5,5)\n",
       " [46] [3,3.5) [3.5,4) [2,2.5) [4.5,5) [2,2.5) [4.5,5) [4.5,5) [1.5,2) [4.5,5)\n",
       " [55] [1.5,2) [4.5,5) [3.5,4) [1.5,2) [4.5,5) [4,4.5) [2,2.5) [4.5,5) [1.5,2)\n",
       " [64] [4.5,5) [1.5,2) [4,4.5) [4,4.5) [4.5,5) [2,2.5) [4.5,5) [4,4.5) [1.5,2)\n",
       " [73] [4.5,5) [4,4.5) [1.5,2) [5,5.5) [2,2.5) [4.5,5) [3.5,4) [3.5,4) [4,4.5)\n",
       " [82] [4,4.5) [4,4.5) [2.5,3) [4,4.5) [4.5,5) [3.5,4) [4.5,5) [2,2.5) [4,4.5)\n",
       " [91] [2,2.5) [4,4.5) [1.5,2) [4.5,5) [1.5,2) [4,4.5) [4.5,5) [3.5,4) [1.5,2)\n",
       "[100] [4.5,5) [2,2.5) [4,4.5) [2,2.5) [4.5,5) [4,4.5) [1.5,2) [4.5,5) [1.5,2)\n",
       "[109] [4.5,5) [3.5,4) [4.5,5) [2,2.5) [4.5,5) [4,4.5) [1.5,2) [4.5,5) [2,2.5)\n",
       "[118] [4.5,5) [1.5,2) [4,4.5) [2.5,3) [4,4.5) [4,4.5) [1.5,2) [4.5,5) [3.5,4)\n",
       "[127] [1.5,2) [4.5,5) [2,2.5) [4.5,5) [1.5,2) [4,4.5) [2.5,3) [4,4.5) [1.5,2)\n",
       "[136] [4,4.5) [1.5,2) [4.5,5) [2,2.5) [3.5,4) [4,4.5) [2,2.5) [4.5,5) [4.5,5)\n",
       "[145] [4,4.5) [1.5,2) [4.5,5) [2,2.5) [5,5.5) [1.5,2) [5,5.5) [4,4.5) [2,2.5)\n",
       "[154] [4.5,5) [3.5,4) [4,4.5) [4.5,5) [4,4.5) [1.5,2) [3.5,4) [2,2.5) [4,4.5)\n",
       "[163] [2,2.5) [3.5,4) [3.5,4) [4.5,5) [2,2.5) [5,5.5) [1.5,2) [4.5,5) [1.5,2)\n",
       "[172] [2,2.5) [4.5,5) [3,3.5) [4,4.5) [4,4.5) [4.5,5) [2,2.5) [4,4.5) [4,4.5)\n",
       "[181] [1.5,2) [4.5,5) [4,4.5) [3.5,4) [2,2.5) [4,4.5) [4,4.5) [1.5,2) [4,4.5)\n",
       "[190] [2,2.5) [4.5,5) [1.5,2) [4.5,5) [4,4.5) [3.5,4) [4,4.5) [3.5,4) [4,4.5)\n",
       "[199] [2,2.5) [4.5,5) [2,2.5) [4,4.5) [4,4.5) [1.5,2) [4.5,5) [1.5,2) [4,4.5)\n",
       "[208] [3.5,4) [1.5,2) [4.5,5) [2,2.5) [4.5,5) [1.5,2) [3.5,4) [3,3.5) [4,4.5)\n",
       "[217] [2,2.5) [4.5,5) [2,2.5) [4,4.5) [1.5,2) [4,4.5) [1.5,2) [4,4.5) [4,4.5)\n",
       "[226] [4,4.5) [4,4.5) [4,4.5) [3.5,4) [4.5,5) [4,4.5) [2,2.5) [4,4.5) [2,2.5)\n",
       "[235] [4,4.5) [1.5,2) [1.5,2) [4,4.5) [3.5,4) [2,2.5) [4,4.5) [2,2.5) [4.5,5)\n",
       "[244] [2.5,3) [4.5,5) [3.5,4) [2,2.5) [4,4.5) [2,2.5) [4,4.5) [2,2.5) [4,4.5)\n",
       "[253] [3.5,4) [4.5,5) [4,4.5) [3.5,4) [3.5,4) [4,4.5) [2,2.5) [4,4.5) [4.5,5)\n",
       "[262] [4.5,5) [1.5,2) [4,4.5) [1.5,2) [2,2.5) [4.5,5) [4,4.5) [2,2.5) [4,4.5)\n",
       "[271] [1.5,2) [4,4.5)\n",
       "Levels: [1.5,2) [2,2.5) [2.5,3) [3,3.5) [3.5,4) [4,4.5) [4.5,5) [5,5.5)"
      ]
     },
     "metadata": {},
     "output_type": "display_data"
    }
   ],
   "source": [
    "breaks  <- seq(1.5,5.5,by=0.5)\n",
    "erupt_bins  <- cut(eruptions,breaks,right=FALSE)\n",
    "erupt_bins"
   ]
  },
  {
   "cell_type": "code",
   "execution_count": 12,
   "metadata": {},
   "outputs": [
    {
     "data": {
      "text/plain": [
       "erupt_bins\n",
       "[1.5,2) [2,2.5) [2.5,3) [3,3.5) [3.5,4) [4,4.5) [4.5,5) [5,5.5) \n",
       "     51      41       5       7      30      73      61       4 "
      ]
     },
     "metadata": {},
     "output_type": "display_data"
    }
   ],
   "source": [
    "erupt_freq  <- table(erupt_bins)\n",
    "erupt_freq"
   ]
  },
  {
   "cell_type": "code",
   "execution_count": 13,
   "metadata": {},
   "outputs": [
    {
     "data": {
      "image/png": "[encoded data removed]",
      "text/plain": [
       "Plot with title \"Histogram of eruptions\""
      ]
     },
     "metadata": {},
     "output_type": "display_data"
    }
   ],
   "source": [
    "hist(eruptions)"
   ]
  },
  {
   "cell_type": "code",
   "execution_count": 14,
   "metadata": {},
   "outputs": [
    {
     "data": {
      "text/html": [
       "3.48778308823529"
      ],
      "text/latex": [
       "3.48778308823529"
      ],
      "text/markdown": [
       "3.48778308823529"
      ],
      "text/plain": [
       "[1] 3.487783"
      ]
     },
     "metadata": {},
     "output_type": "display_data"
    }
   ],
   "source": [
    "mean(eruptions)"
   ]
  },
  {
   "cell_type": "code",
   "execution_count": 15,
   "metadata": {},
   "outputs": [
    {
     "data": {
      "text/html": [
       "4"
      ],
      "text/latex": [
       "4"
      ],
      "text/markdown": [
       "4"
      ],
      "text/plain": [
       "[1] 4"
      ]
     },
     "metadata": {},
     "output_type": "display_data"
    }
   ],
   "source": [
    "median(eruptions)"
   ]
  },
  {
   "cell_type": "code",
   "execution_count": 16,
   "metadata": {},
   "outputs": [
    {
     "data": {
      "image/png": "[encoded data removed]",
      "text/plain": [
       "plot without title"
      ]
     },
     "metadata": {},
     "output_type": "display_data"
    }
   ],
   "source": [
    "boxplot(eruptions)"
   ]
  },
  {
   "cell_type": "code",
   "execution_count": 17,
   "metadata": {},
   "outputs": [
    {
     "data": {
      "text/html": [
       "<dl class=dl-horizontal>\n",
       "\t<dt>0%</dt>\n",
       "\t\t<dd>1.6</dd>\n",
       "\t<dt>25%</dt>\n",
       "\t\t<dd>2.16275</dd>\n",
       "\t<dt>50%</dt>\n",
       "\t\t<dd>4</dd>\n",
       "\t<dt>75%</dt>\n",
       "\t\t<dd>4.45425</dd>\n",
       "\t<dt>100%</dt>\n",
       "\t\t<dd>5.1</dd>\n",
       "</dl>\n"
      ],
      "text/latex": [
       "\\begin{description*}\n",
       "\\item[0\\textbackslash{}\\%] 1.6\n",
       "\\item[25\\textbackslash{}\\%] 2.16275\n",
       "\\item[50\\textbackslash{}\\%] 4\n",
       "\\item[75\\textbackslash{}\\%] 4.45425\n",
       "\\item[100\\textbackslash{}\\%] 5.1\n",
       "\\end{description*}\n"
      ],
      "text/markdown": [
       "0%\n",
       ":   1.625%\n",
       ":   2.1627550%\n",
       ":   475%\n",
       ":   4.45425100%\n",
       ":   5.1\n",
       "\n"
      ],
      "text/plain": [
       "     0%     25%     50%     75%    100% \n",
       "1.60000 2.16275 4.00000 4.45425 5.10000 "
      ]
     },
     "metadata": {},
     "output_type": "display_data"
    }
   ],
   "source": [
    "quantile(eruptions)"
   ]
  },
  {
   "cell_type": "code",
   "execution_count": 19,
   "metadata": {},
   "outputs": [
    {
     "data": {
      "text/html": [
       "<dl class=dl-horizontal>\n",
       "\t<dt>30%</dt>\n",
       "\t\t<dd>2.3051</dd>\n",
       "\t<dt>60%</dt>\n",
       "\t\t<dd>4.167</dd>\n",
       "\t<dt>90%</dt>\n",
       "\t\t<dd>4.7</dd>\n",
       "</dl>\n"
      ],
      "text/latex": [
       "\\begin{description*}\n",
       "\\item[30\\textbackslash{}\\%] 2.3051\n",
       "\\item[60\\textbackslash{}\\%] 4.167\n",
       "\\item[90\\textbackslash{}\\%] 4.7\n",
       "\\end{description*}\n"
      ],
      "text/markdown": [
       "30%\n",
       ":   2.305160%\n",
       ":   4.16790%\n",
       ":   4.7\n",
       "\n"
      ],
      "text/plain": [
       "   30%    60%    90% \n",
       "2.3051 4.1670 4.7000 "
      ]
     },
     "metadata": {},
     "output_type": "display_data"
    }
   ],
   "source": [
    "quantile(eruptions,c(0.3,0.6,0.9))"
   ]
  },
  {
   "cell_type": "code",
   "execution_count": 21,
   "metadata": {},
   "outputs": [
    {
     "data": {
      "text/html": [
       "<ol class=list-inline>\n",
       "\t<li>1.6</li>\n",
       "\t<li>5.1</li>\n",
       "</ol>\n"
      ],
      "text/latex": [
       "\\begin{enumerate*}\n",
       "\\item 1.6\n",
       "\\item 5.1\n",
       "\\end{enumerate*}\n"
      ],
      "text/markdown": [
       "1. 1.6\n",
       "2. 5.1\n",
       "\n",
       "\n"
      ],
      "text/plain": [
       "[1] 1.6 5.1"
      ]
     },
     "metadata": {},
     "output_type": "display_data"
    }
   ],
   "source": [
    "range(eruptions)"
   ]
  },
  {
   "cell_type": "code",
   "execution_count": 24,
   "metadata": {},
   "outputs": [
    {
     "data": {
      "text/html": [
       "3.5"
      ],
      "text/latex": [
       "3.5"
      ],
      "text/markdown": [
       "3.5"
      ],
      "text/plain": [
       "[1] 3.5"
      ]
     },
     "metadata": {},
     "output_type": "display_data"
    }
   ],
   "source": [
    "max(eruptions)-min(eruptions)"
   ]
  },
  {
   "cell_type": "code",
   "execution_count": 25,
   "metadata": {},
   "outputs": [
    {
     "data": {
      "text/html": [
       "2.2915"
      ],
      "text/latex": [
       "2.2915"
      ],
      "text/markdown": [
       "2.2915"
      ],
      "text/plain": [
       "[1] 2.2915"
      ]
     },
     "metadata": {},
     "output_type": "display_data"
    }
   ],
   "source": [
    "IQR(eruptions)"
   ]
  },
  {
   "cell_type": "code",
   "execution_count": 26,
   "metadata": {},
   "outputs": [
    {
     "data": {
      "text/html": [
       "1.30272833284947"
      ],
      "text/latex": [
       "1.30272833284947"
      ],
      "text/markdown": [
       "1.30272833284947"
      ],
      "text/plain": [
       "[1] 1.302728"
      ]
     },
     "metadata": {},
     "output_type": "display_data"
    }
   ],
   "source": [
    "var(eruptions)"
   ]
  },
  {
   "cell_type": "code",
   "execution_count": 27,
   "metadata": {},
   "outputs": [
    {
     "data": {
      "text/html": [
       "1.14137125110521"
      ],
      "text/latex": [
       "1.14137125110521"
      ],
      "text/markdown": [
       "1.14137125110521"
      ],
      "text/plain": [
       "[1] 1.141371"
      ]
     },
     "metadata": {},
     "output_type": "display_data"
    }
   ],
   "source": [
    "sd(eruptions)"
   ]
  },
  {
   "cell_type": "code",
   "execution_count": 29,
   "metadata": {},
   "outputs": [
    {
     "data": {
      "text/html": [
       "13.9778078467549"
      ],
      "text/latex": [
       "13.9778078467549"
      ],
      "text/markdown": [
       "13.9778078467549"
      ],
      "text/plain": [
       "[1] 13.97781"
      ]
     },
     "metadata": {},
     "output_type": "display_data"
    }
   ],
   "source": [
    "cov(eruptions,waiting)"
   ]
  },
  {
   "cell_type": "code",
   "execution_count": 30,
   "metadata": {},
   "outputs": [
    {
     "data": {
      "text/html": [
       "0.900811168321813"
      ],
      "text/latex": [
       "0.900811168321813"
      ],
      "text/markdown": [
       "0.900811168321813"
      ],
      "text/plain": [
       "[1] 0.9008112"
      ]
     },
     "metadata": {},
     "output_type": "display_data"
    }
   ],
   "source": [
    "cor(eruptions,waiting)"
   ]
  },
  {
   "cell_type": "code",
   "execution_count": 31,
   "metadata": {},
   "outputs": [
    {
     "data": {
      "image/png": "[encoded data removed]",
      "text/plain": [
       "plot without title"
      ]
     },
     "metadata": {},
     "output_type": "display_data"
    }
   ],
   "source": [
    "plot(eruptions,waiting)"
   ]
  },
  {
   "cell_type": "code",
   "execution_count": 36,
   "metadata": {},
   "outputs": [
    {
     "ename": "ERROR",
     "evalue": "Error in library(e1071): there is no package called 'e1071'\n",
     "output_type": "error",
     "traceback": [
      "Error in library(e1071): there is no package called 'e1071'\nTraceback:\n",
      "1. library(e1071)"
     ]
    }
   ],
   "source": [
    "library(e1071)                  "
   ]
  },
  {
   "cell_type": "code",
   "execution_count": 34,
   "metadata": {},
   "outputs": [
    {
     "ename": "ERROR",
     "evalue": "Error in moment(eruptions, order = 3): could not find function \"moment\"\n",
     "output_type": "error",
     "traceback": [
      "Error in moment(eruptions, order = 3): could not find function \"moment\"\nTraceback:\n"
     ]
    }
   ],
   "source": [
    "moment(eruptions,order=3)"
   ]
  },
  {
   "cell_type": "code",
   "execution_count": 35,
   "metadata": {},
   "outputs": [
    {
     "ename": "ERROR",
     "evalue": "Error in skewness(eruptions): could not find function \"skewness\"\n",
     "output_type": "error",
     "traceback": [
      "Error in skewness(eruptions): could not find function \"skewness\"\nTraceback:\n"
     ]
    }
   ],
   "source": [
    "skewness(eruptions)"
   ]
  },
  {
   "cell_type": "code",
   "execution_count": null,
   "metadata": {},
   "outputs": [],
   "source": []
  }
 ],
 "metadata": {
  "kernelspec": {
   "display_name": "R",
   "language": "R",
   "name": "ir"
  },
  "language_info": {
   "codemirror_mode": "r",
   "file_extension": ".r",
   "mimetype": "text/x-r-source",
   "name": "R",
   "pygments_lexer": "r",
   "version": "3.6.1"
  }
 },
 "nbformat": 4,
 "nbformat_minor": 4
}
