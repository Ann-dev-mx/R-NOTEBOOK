{
 "cells": [
  {
   "cell_type": "markdown",
   "metadata": {},
   "source": [
    "Creating a data frame"
   ]
  },
  {
   "cell_type": "markdown",
   "metadata": {},
   "source": [
    "VIT has conducted technical events for the students. It maintains the name of the participant and the score obtained in different events.\n",
    "    1. Create a data frame by considering 5 students and 4 events. Each event has a maximum score of 10. If a student participates in an event, its entry contains the score value and 0 otherwise.\n",
    "    2. Append a column to include the total score of the participants\n",
    "    3. Find the maximum score and display the name of the participant who scored it.\n",
    "    4. Compute the average score of each event and append it as a new row in the data frame."
   ]
  },
  {
   "cell_type": "code",
   "execution_count": 15,
   "metadata": {},
   "outputs": [
    {
     "data": {
      "text/html": [
       "<table>\n",
       "<thead><tr><th scope=col>id</th><th scope=col>name</th><th scope=col>Event1</th><th scope=col>Event2</th><th scope=col>Event3</th><th scope=col>Event4</th></tr></thead>\n",
       "<tbody>\n",
       "\t<tr><td>1      </td><td>Ann    </td><td>10     </td><td>9      </td><td>7      </td><td>9      </td></tr>\n",
       "\t<tr><td>2      </td><td>Ram    </td><td> 0     </td><td>8      </td><td>9      </td><td>0      </td></tr>\n",
       "\t<tr><td>3      </td><td>Krish  </td><td>10     </td><td>7      </td><td>0      </td><td>7      </td></tr>\n",
       "\t<tr><td>4      </td><td>Shewtha</td><td> 8     </td><td>0      </td><td>4      </td><td>0      </td></tr>\n",
       "\t<tr><td>5      </td><td>Meenu  </td><td> 9     </td><td>9      </td><td>0      </td><td>8      </td></tr>\n",
       "</tbody>\n",
       "</table>\n"
      ],
      "text/latex": [
       "\\begin{tabular}{r|llllll}\n",
       " id & name & Event1 & Event2 & Event3 & Event4\\\\\n",
       "\\hline\n",
       "\t 1       & Ann     & 10      & 9       & 7       & 9      \\\\\n",
       "\t 2       & Ram     &  0      & 8       & 9       & 0      \\\\\n",
       "\t 3       & Krish   & 10      & 7       & 0       & 7      \\\\\n",
       "\t 4       & Shewtha &  8      & 0       & 4       & 0      \\\\\n",
       "\t 5       & Meenu   &  9      & 9       & 0       & 8      \\\\\n",
       "\\end{tabular}\n"
      ],
      "text/markdown": [
       "\n",
       "| id | name | Event1 | Event2 | Event3 | Event4 |\n",
       "|---|---|---|---|---|---|\n",
       "| 1       | Ann     | 10      | 9       | 7       | 9       |\n",
       "| 2       | Ram     |  0      | 8       | 9       | 0       |\n",
       "| 3       | Krish   | 10      | 7       | 0       | 7       |\n",
       "| 4       | Shewtha |  8      | 0       | 4       | 0       |\n",
       "| 5       | Meenu   |  9      | 9       | 0       | 8       |\n",
       "\n"
      ],
      "text/plain": [
       "  id name    Event1 Event2 Event3 Event4\n",
       "1 1  Ann     10     9      7      9     \n",
       "2 2  Ram      0     8      9      0     \n",
       "3 3  Krish   10     7      0      7     \n",
       "4 4  Shewtha  8     0      4      0     \n",
       "5 5  Meenu    9     9      0      8     "
      ]
     },
     "metadata": {},
     "output_type": "display_data"
    }
   ],
   "source": [
    "df <- data.frame(id=c(1,2,3,4,5),name=c(\"Ann\",\"Ram\",\"Krish\",\"Shewtha\",\"Meenu\"),Event1=c(10,0,10,8,9),Event2=c(9,8,7,0,9),Event3=c(7,9,0,4,0),Event4=c(9,0,7,0,8))\n",
    "df"
   ]
  },
  {
   "cell_type": "code",
   "execution_count": 16,
   "metadata": {},
   "outputs": [
    {
     "data": {
      "text/html": [
       "<table>\n",
       "<thead><tr><th scope=col>id</th><th scope=col>name</th><th scope=col>Event1</th><th scope=col>Event2</th><th scope=col>Event3</th><th scope=col>Event4</th><th scope=col>Total</th></tr></thead>\n",
       "<tbody>\n",
       "\t<tr><td>1      </td><td>Ann    </td><td>10     </td><td>9      </td><td>7      </td><td>9      </td><td>35     </td></tr>\n",
       "\t<tr><td>2      </td><td>Ram    </td><td> 0     </td><td>8      </td><td>9      </td><td>0      </td><td>17     </td></tr>\n",
       "\t<tr><td>3      </td><td>Krish  </td><td>10     </td><td>7      </td><td>0      </td><td>7      </td><td>24     </td></tr>\n",
       "\t<tr><td>4      </td><td>Shewtha</td><td> 8     </td><td>0      </td><td>4      </td><td>0      </td><td>12     </td></tr>\n",
       "\t<tr><td>5      </td><td>Meenu  </td><td> 9     </td><td>9      </td><td>0      </td><td>8      </td><td>26     </td></tr>\n",
       "</tbody>\n",
       "</table>\n"
      ],
      "text/latex": [
       "\\begin{tabular}{r|lllllll}\n",
       " id & name & Event1 & Event2 & Event3 & Event4 & Total\\\\\n",
       "\\hline\n",
       "\t 1       & Ann     & 10      & 9       & 7       & 9       & 35     \\\\\n",
       "\t 2       & Ram     &  0      & 8       & 9       & 0       & 17     \\\\\n",
       "\t 3       & Krish   & 10      & 7       & 0       & 7       & 24     \\\\\n",
       "\t 4       & Shewtha &  8      & 0       & 4       & 0       & 12     \\\\\n",
       "\t 5       & Meenu   &  9      & 9       & 0       & 8       & 26     \\\\\n",
       "\\end{tabular}\n"
      ],
      "text/markdown": [
       "\n",
       "| id | name | Event1 | Event2 | Event3 | Event4 | Total |\n",
       "|---|---|---|---|---|---|---|\n",
       "| 1       | Ann     | 10      | 9       | 7       | 9       | 35      |\n",
       "| 2       | Ram     |  0      | 8       | 9       | 0       | 17      |\n",
       "| 3       | Krish   | 10      | 7       | 0       | 7       | 24      |\n",
       "| 4       | Shewtha |  8      | 0       | 4       | 0       | 12      |\n",
       "| 5       | Meenu   |  9      | 9       | 0       | 8       | 26      |\n",
       "\n"
      ],
      "text/plain": [
       "  id name    Event1 Event2 Event3 Event4 Total\n",
       "1 1  Ann     10     9      7      9      35   \n",
       "2 2  Ram      0     8      9      0      17   \n",
       "3 3  Krish   10     7      0      7      24   \n",
       "4 4  Shewtha  8     0      4      0      12   \n",
       "5 5  Meenu    9     9      0      8      26   "
      ]
     },
     "metadata": {},
     "output_type": "display_data"
    }
   ],
   "source": [
    "df$Total <- rowSums(df[3:6])\n",
    "df"
   ]
  },
  {
   "cell_type": "code",
   "execution_count": 17,
   "metadata": {},
   "outputs": [
    {
     "data": {
      "text/html": [
       "35"
      ],
      "text/latex": [
       "35"
      ],
      "text/markdown": [
       "35"
      ],
      "text/plain": [
       "[1] 35"
      ]
     },
     "metadata": {},
     "output_type": "display_data"
    }
   ],
   "source": [
    "max(df$Total)"
   ]
  },
  {
   "cell_type": "code",
   "execution_count": 18,
   "metadata": {},
   "outputs": [
    {
     "data": {
      "text/html": [
       "Ann\n",
       "<details>\n",
       "\t<summary style=display:list-item;cursor:pointer>\n",
       "\t\t<strong>Levels</strong>:\n",
       "\t</summary>\n",
       "\t<ol class=list-inline>\n",
       "\t\t<li>'Ann'</li>\n",
       "\t\t<li>'Krish'</li>\n",
       "\t\t<li>'Meenu'</li>\n",
       "\t\t<li>'Ram'</li>\n",
       "\t\t<li>'Shewtha'</li>\n",
       "\t</ol>\n",
       "</details>"
      ],
      "text/latex": [
       "Ann\n",
       "\\emph{Levels}: \\begin{enumerate*}\n",
       "\\item 'Ann'\n",
       "\\item 'Krish'\n",
       "\\item 'Meenu'\n",
       "\\item 'Ram'\n",
       "\\item 'Shewtha'\n",
       "\\end{enumerate*}\n"
      ],
      "text/markdown": [
       "Ann\n",
       "**Levels**: 1. 'Ann'\n",
       "2. 'Krish'\n",
       "3. 'Meenu'\n",
       "4. 'Ram'\n",
       "5. 'Shewtha'\n",
       "\n",
       "\n"
      ],
      "text/plain": [
       "[1] Ann\n",
       "Levels: Ann Krish Meenu Ram Shewtha"
      ]
     },
     "metadata": {},
     "output_type": "display_data"
    }
   ],
   "source": [
    "df$name[which.max(df$Total)]"
   ]
  },
  {
   "cell_type": "code",
   "execution_count": 20,
   "metadata": {},
   "outputs": [
    {
     "data": {
      "text/html": [
       "<table>\n",
       "<thead><tr><th scope=col>id</th><th scope=col>name</th><th scope=col>Event1</th><th scope=col>Event2</th><th scope=col>Event3</th><th scope=col>Event4</th><th scope=col>Total</th></tr></thead>\n",
       "<tbody>\n",
       "\t<tr><td>1       </td><td>Ann     </td><td>10.0    </td><td>9.0     </td><td>7       </td><td>9.0     </td><td>35.0    </td></tr>\n",
       "\t<tr><td>2       </td><td>Ram     </td><td> 0.0    </td><td>8.0     </td><td>9       </td><td>0.0     </td><td>17.0    </td></tr>\n",
       "\t<tr><td>3       </td><td>Krish   </td><td>10.0    </td><td>7.0     </td><td>0       </td><td>7.0     </td><td>24.0    </td></tr>\n",
       "\t<tr><td>4       </td><td>Shewtha </td><td> 8.0    </td><td>0.0     </td><td>4       </td><td>0.0     </td><td>12.0    </td></tr>\n",
       "\t<tr><td>5       </td><td>Meenu   </td><td> 9.0    </td><td>9.0     </td><td>0       </td><td>8.0     </td><td>26.0    </td></tr>\n",
       "\t<tr><td>4       </td><td>avgscore</td><td> 7.4    </td><td>6.6     </td><td>4       </td><td>4.8     </td><td>22.8    </td></tr>\n",
       "</tbody>\n",
       "</table>\n"
      ],
      "text/latex": [
       "\\begin{tabular}{r|lllllll}\n",
       " id & name & Event1 & Event2 & Event3 & Event4 & Total\\\\\n",
       "\\hline\n",
       "\t 1        & Ann      & 10.0     & 9.0      & 7        & 9.0      & 35.0    \\\\\n",
       "\t 2        & Ram      &  0.0     & 8.0      & 9        & 0.0      & 17.0    \\\\\n",
       "\t 3        & Krish    & 10.0     & 7.0      & 0        & 7.0      & 24.0    \\\\\n",
       "\t 4        & Shewtha  &  8.0     & 0.0      & 4        & 0.0      & 12.0    \\\\\n",
       "\t 5        & Meenu    &  9.0     & 9.0      & 0        & 8.0      & 26.0    \\\\\n",
       "\t 4        & avgscore &  7.4     & 6.6      & 4        & 4.8      & 22.8    \\\\\n",
       "\\end{tabular}\n"
      ],
      "text/markdown": [
       "\n",
       "| id | name | Event1 | Event2 | Event3 | Event4 | Total |\n",
       "|---|---|---|---|---|---|---|\n",
       "| 1        | Ann      | 10.0     | 9.0      | 7        | 9.0      | 35.0     |\n",
       "| 2        | Ram      |  0.0     | 8.0      | 9        | 0.0      | 17.0     |\n",
       "| 3        | Krish    | 10.0     | 7.0      | 0        | 7.0      | 24.0     |\n",
       "| 4        | Shewtha  |  8.0     | 0.0      | 4        | 0.0      | 12.0     |\n",
       "| 5        | Meenu    |  9.0     | 9.0      | 0        | 8.0      | 26.0     |\n",
       "| 4        | avgscore |  7.4     | 6.6      | 4        | 4.8      | 22.8     |\n",
       "\n"
      ],
      "text/plain": [
       "  id name     Event1 Event2 Event3 Event4 Total\n",
       "1 1  Ann      10.0   9.0    7      9.0    35.0 \n",
       "2 2  Ram       0.0   8.0    9      0.0    17.0 \n",
       "3 3  Krish    10.0   7.0    0      7.0    24.0 \n",
       "4 4  Shewtha   8.0   0.0    4      0.0    12.0 \n",
       "5 5  Meenu     9.0   9.0    0      8.0    26.0 \n",
       "6 4  avgscore  7.4   6.6    4      4.8    22.8 "
      ]
     },
     "metadata": {},
     "output_type": "display_data"
    }
   ],
   "source": [
    "df <- rbind(df,data.frame(id=4,name=\"avgscore\",Event1=mean(df$Event1),Event2=mean(df$Event2),Event3=mean(df$Event3),Event4=mean(df$Event4),Total=mean(df$Total)))\n",
    "df"
   ]
  },
  {
   "cell_type": "markdown",
   "metadata": {},
   "source": [
    "Indexing and Slicing data frames"
   ]
  },
  {
   "cell_type": "markdown",
   "metadata": {},
   "source": [
    "    5. Access the scores of participants in event2 using the column name.\n",
    "    6. Use index number to retrieve the same data.\n",
    "    7. Extract the score of third participant in event3.\n",
    "    8. Extract the scores of the first and second participant in all the events.\n",
    "    9. Display the names and total scores of all participants.\n",
    "    10. Make the column “name” as the row index of the data frame.\n",
    "    11. Display the names of the students participated in event3.\n",
    "    12. Obtain the names whose total score is above its average."
   ]
  },
  {
   "cell_type": "code",
   "execution_count": 22,
   "metadata": {},
   "outputs": [
    {
     "data": {
      "text/html": [
       "<table>\n",
       "<thead><tr><th scope=col>name</th><th scope=col>Event2</th></tr></thead>\n",
       "<tbody>\n",
       "\t<tr><td>Ann     </td><td>9.0     </td></tr>\n",
       "\t<tr><td>Ram     </td><td>8.0     </td></tr>\n",
       "\t<tr><td>Krish   </td><td>7.0     </td></tr>\n",
       "\t<tr><td>Shewtha </td><td>0.0     </td></tr>\n",
       "\t<tr><td>Meenu   </td><td>9.0     </td></tr>\n",
       "\t<tr><td>avgscore</td><td>6.6     </td></tr>\n",
       "</tbody>\n",
       "</table>\n"
      ],
      "text/latex": [
       "\\begin{tabular}{r|ll}\n",
       " name & Event2\\\\\n",
       "\\hline\n",
       "\t Ann      & 9.0     \\\\\n",
       "\t Ram      & 8.0     \\\\\n",
       "\t Krish    & 7.0     \\\\\n",
       "\t Shewtha  & 0.0     \\\\\n",
       "\t Meenu    & 9.0     \\\\\n",
       "\t avgscore & 6.6     \\\\\n",
       "\\end{tabular}\n"
      ],
      "text/markdown": [
       "\n",
       "| name | Event2 |\n",
       "|---|---|\n",
       "| Ann      | 9.0      |\n",
       "| Ram      | 8.0      |\n",
       "| Krish    | 7.0      |\n",
       "| Shewtha  | 0.0      |\n",
       "| Meenu    | 9.0      |\n",
       "| avgscore | 6.6      |\n",
       "\n"
      ],
      "text/plain": [
       "  name     Event2\n",
       "1 Ann      9.0   \n",
       "2 Ram      8.0   \n",
       "3 Krish    7.0   \n",
       "4 Shewtha  0.0   \n",
       "5 Meenu    9.0   \n",
       "6 avgscore 6.6   "
      ]
     },
     "metadata": {},
     "output_type": "display_data"
    }
   ],
   "source": [
    "df[,c(\"name\",\"Event2\")]#Access the scores of participants in event2 using the column name."
   ]
  },
  {
   "cell_type": "code",
   "execution_count": 23,
   "metadata": {},
   "outputs": [
    {
     "data": {
      "text/html": [
       "<table>\n",
       "<thead><tr><th scope=col>name</th><th scope=col>Event2</th></tr></thead>\n",
       "<tbody>\n",
       "\t<tr><td>Ann     </td><td>9.0     </td></tr>\n",
       "\t<tr><td>Ram     </td><td>8.0     </td></tr>\n",
       "\t<tr><td>Krish   </td><td>7.0     </td></tr>\n",
       "\t<tr><td>Shewtha </td><td>0.0     </td></tr>\n",
       "\t<tr><td>Meenu   </td><td>9.0     </td></tr>\n",
       "\t<tr><td>avgscore</td><td>6.6     </td></tr>\n",
       "</tbody>\n",
       "</table>\n"
      ],
      "text/latex": [
       "\\begin{tabular}{r|ll}\n",
       " name & Event2\\\\\n",
       "\\hline\n",
       "\t Ann      & 9.0     \\\\\n",
       "\t Ram      & 8.0     \\\\\n",
       "\t Krish    & 7.0     \\\\\n",
       "\t Shewtha  & 0.0     \\\\\n",
       "\t Meenu    & 9.0     \\\\\n",
       "\t avgscore & 6.6     \\\\\n",
       "\\end{tabular}\n"
      ],
      "text/markdown": [
       "\n",
       "| name | Event2 |\n",
       "|---|---|\n",
       "| Ann      | 9.0      |\n",
       "| Ram      | 8.0      |\n",
       "| Krish    | 7.0      |\n",
       "| Shewtha  | 0.0      |\n",
       "| Meenu    | 9.0      |\n",
       "| avgscore | 6.6      |\n",
       "\n"
      ],
      "text/plain": [
       "  name     Event2\n",
       "1 Ann      9.0   \n",
       "2 Ram      8.0   \n",
       "3 Krish    7.0   \n",
       "4 Shewtha  0.0   \n",
       "5 Meenu    9.0   \n",
       "6 avgscore 6.6   "
      ]
     },
     "metadata": {},
     "output_type": "display_data"
    }
   ],
   "source": [
    "subset <- df[c(2,4)]#Use index number to retrieve the same data.\n",
    "subset"
   ]
  },
  {
   "cell_type": "code",
   "execution_count": 24,
   "metadata": {},
   "outputs": [
    {
     "data": {
      "text/html": [
       "0"
      ],
      "text/latex": [
       "0"
      ],
      "text/markdown": [
       "0"
      ],
      "text/plain": [
       "[1] 0"
      ]
     },
     "metadata": {},
     "output_type": "display_data"
    }
   ],
   "source": [
    "df[3,5]#Extract the score of third participant in event3"
   ]
  },
  {
   "cell_type": "code",
   "execution_count": 25,
   "metadata": {},
   "outputs": [
    {
     "data": {
      "text/html": [
       "<table>\n",
       "<thead><tr><th scope=col>Event1</th><th scope=col>Event2</th><th scope=col>Event3</th><th scope=col>Event4</th></tr></thead>\n",
       "<tbody>\n",
       "\t<tr><td>10</td><td>9 </td><td>7 </td><td>9 </td></tr>\n",
       "\t<tr><td> 0</td><td>8 </td><td>9 </td><td>0 </td></tr>\n",
       "</tbody>\n",
       "</table>\n"
      ],
      "text/latex": [
       "\\begin{tabular}{r|llll}\n",
       " Event1 & Event2 & Event3 & Event4\\\\\n",
       "\\hline\n",
       "\t 10 & 9  & 7  & 9 \\\\\n",
       "\t  0 & 8  & 9  & 0 \\\\\n",
       "\\end{tabular}\n"
      ],
      "text/markdown": [
       "\n",
       "| Event1 | Event2 | Event3 | Event4 |\n",
       "|---|---|---|---|\n",
       "| 10 | 9  | 7  | 9  |\n",
       "|  0 | 8  | 9  | 0  |\n",
       "\n"
      ],
      "text/plain": [
       "  Event1 Event2 Event3 Event4\n",
       "1 10     9      7      9     \n",
       "2  0     8      9      0     "
      ]
     },
     "metadata": {},
     "output_type": "display_data"
    }
   ],
   "source": [
    "df[1:2,3:6]#Extract the scores of the first and second participant in all the events."
   ]
  },
  {
   "cell_type": "code",
   "execution_count": 26,
   "metadata": {},
   "outputs": [
    {
     "data": {
      "text/html": [
       "<table>\n",
       "<thead><tr><th scope=col>name</th><th scope=col>Total</th></tr></thead>\n",
       "<tbody>\n",
       "\t<tr><td>Ann     </td><td>35.0    </td></tr>\n",
       "\t<tr><td>Ram     </td><td>17.0    </td></tr>\n",
       "\t<tr><td>Krish   </td><td>24.0    </td></tr>\n",
       "\t<tr><td>Shewtha </td><td>12.0    </td></tr>\n",
       "\t<tr><td>Meenu   </td><td>26.0    </td></tr>\n",
       "\t<tr><td>avgscore</td><td>22.8    </td></tr>\n",
       "</tbody>\n",
       "</table>\n"
      ],
      "text/latex": [
       "\\begin{tabular}{r|ll}\n",
       " name & Total\\\\\n",
       "\\hline\n",
       "\t Ann      & 35.0    \\\\\n",
       "\t Ram      & 17.0    \\\\\n",
       "\t Krish    & 24.0    \\\\\n",
       "\t Shewtha  & 12.0    \\\\\n",
       "\t Meenu    & 26.0    \\\\\n",
       "\t avgscore & 22.8    \\\\\n",
       "\\end{tabular}\n"
      ],
      "text/markdown": [
       "\n",
       "| name | Total |\n",
       "|---|---|\n",
       "| Ann      | 35.0     |\n",
       "| Ram      | 17.0     |\n",
       "| Krish    | 24.0     |\n",
       "| Shewtha  | 12.0     |\n",
       "| Meenu    | 26.0     |\n",
       "| avgscore | 22.8     |\n",
       "\n"
      ],
      "text/plain": [
       "  name     Total\n",
       "1 Ann      35.0 \n",
       "2 Ram      17.0 \n",
       "3 Krish    24.0 \n",
       "4 Shewtha  12.0 \n",
       "5 Meenu    26.0 \n",
       "6 avgscore 22.8 "
      ]
     },
     "metadata": {},
     "output_type": "display_data"
    }
   ],
   "source": [
    "#Display the names and total scores of all participants.\n",
    "p2 <- df[c(2,7)]\n",
    "p2"
   ]
  },
  {
   "cell_type": "code",
   "execution_count": 69,
   "metadata": {},
   "outputs": [
    {
     "data": {
      "text/html": [
       "<table>\n",
       "<thead><tr><th scope=col>id</th><th scope=col>Event1</th><th scope=col>Event2</th><th scope=col>Event3</th><th scope=col>Event4</th><th scope=col>Total</th></tr></thead>\n",
       "<tbody>\n",
       "\t<tr><td>1   </td><td>10.0</td><td>9.0 </td><td>7   </td><td>9.0 </td><td>35.0</td></tr>\n",
       "\t<tr><td>2   </td><td> 0.0</td><td>8.0 </td><td>9   </td><td>0.0 </td><td>17.0</td></tr>\n",
       "\t<tr><td>3   </td><td>10.0</td><td>7.0 </td><td>0   </td><td>7.0 </td><td>24.0</td></tr>\n",
       "\t<tr><td>4   </td><td> 8.0</td><td>0.0 </td><td>4   </td><td>0.0 </td><td>12.0</td></tr>\n",
       "\t<tr><td>5   </td><td> 9.0</td><td>9.0 </td><td>0   </td><td>8.0 </td><td>26.0</td></tr>\n",
       "\t<tr><td>4   </td><td> 7.4</td><td>6.6 </td><td>4   </td><td>4.8 </td><td>22.8</td></tr>\n",
       "</tbody>\n",
       "</table>\n"
      ],
      "text/latex": [
       "\\begin{tabular}{r|llllll}\n",
       " id & Event1 & Event2 & Event3 & Event4 & Total\\\\\n",
       "\\hline\n",
       "\t 1    & 10.0 & 9.0  & 7    & 9.0  & 35.0\\\\\n",
       "\t 2    &  0.0 & 8.0  & 9    & 0.0  & 17.0\\\\\n",
       "\t 3    & 10.0 & 7.0  & 0    & 7.0  & 24.0\\\\\n",
       "\t 4    &  8.0 & 0.0  & 4    & 0.0  & 12.0\\\\\n",
       "\t 5    &  9.0 & 9.0  & 0    & 8.0  & 26.0\\\\\n",
       "\t 4    &  7.4 & 6.6  & 4    & 4.8  & 22.8\\\\\n",
       "\\end{tabular}\n"
      ],
      "text/markdown": [
       "\n",
       "| id | Event1 | Event2 | Event3 | Event4 | Total |\n",
       "|---|---|---|---|---|---|\n",
       "| 1    | 10.0 | 9.0  | 7    | 9.0  | 35.0 |\n",
       "| 2    |  0.0 | 8.0  | 9    | 0.0  | 17.0 |\n",
       "| 3    | 10.0 | 7.0  | 0    | 7.0  | 24.0 |\n",
       "| 4    |  8.0 | 0.0  | 4    | 0.0  | 12.0 |\n",
       "| 5    |  9.0 | 9.0  | 0    | 8.0  | 26.0 |\n",
       "| 4    |  7.4 | 6.6  | 4    | 4.8  | 22.8 |\n",
       "\n"
      ],
      "text/plain": [
       "  id Event1 Event2 Event3 Event4 Total\n",
       "1 1  10.0   9.0    7      9.0    35.0 \n",
       "2 2   0.0   8.0    9      0.0    17.0 \n",
       "3 3  10.0   7.0    0      7.0    24.0 \n",
       "4 4   8.0   0.0    4      0.0    12.0 \n",
       "5 5   9.0   9.0    0      8.0    26.0 \n",
       "6 4   7.4   6.6    4      4.8    22.8 "
      ]
     },
     "metadata": {},
     "output_type": "display_data"
    }
   ],
   "source": [
    "df2 <- df[-2]\n",
    "df2"
   ]
  },
  {
   "cell_type": "code",
   "execution_count": 70,
   "metadata": {},
   "outputs": [
    {
     "data": {
      "text/html": [
       "<table>\n",
       "<thead><tr><th></th><th scope=col>id</th><th scope=col>Event1</th><th scope=col>Event2</th><th scope=col>Event3</th><th scope=col>Event4</th><th scope=col>Total</th></tr></thead>\n",
       "<tbody>\n",
       "\t<tr><th scope=row>Ann</th><td>1   </td><td>10.0</td><td>9.0 </td><td>7   </td><td>9.0 </td><td>35.0</td></tr>\n",
       "\t<tr><th scope=row>Ram</th><td>2   </td><td> 0.0</td><td>8.0 </td><td>9   </td><td>0.0 </td><td>17.0</td></tr>\n",
       "\t<tr><th scope=row>Krish</th><td>3   </td><td>10.0</td><td>7.0 </td><td>0   </td><td>7.0 </td><td>24.0</td></tr>\n",
       "\t<tr><th scope=row>Shewtha</th><td>4   </td><td> 8.0</td><td>0.0 </td><td>4   </td><td>0.0 </td><td>12.0</td></tr>\n",
       "\t<tr><th scope=row>Meenu</th><td>5   </td><td> 9.0</td><td>9.0 </td><td>0   </td><td>8.0 </td><td>26.0</td></tr>\n",
       "\t<tr><th scope=row>avgscore</th><td>4   </td><td> 7.4</td><td>6.6 </td><td>4   </td><td>4.8 </td><td>22.8</td></tr>\n",
       "</tbody>\n",
       "</table>\n"
      ],
      "text/latex": [
       "\\begin{tabular}{r|llllll}\n",
       "  & id & Event1 & Event2 & Event3 & Event4 & Total\\\\\n",
       "\\hline\n",
       "\tAnn & 1    & 10.0 & 9.0  & 7    & 9.0  & 35.0\\\\\n",
       "\tRam & 2    &  0.0 & 8.0  & 9    & 0.0  & 17.0\\\\\n",
       "\tKrish & 3    & 10.0 & 7.0  & 0    & 7.0  & 24.0\\\\\n",
       "\tShewtha & 4    &  8.0 & 0.0  & 4    & 0.0  & 12.0\\\\\n",
       "\tMeenu & 5    &  9.0 & 9.0  & 0    & 8.0  & 26.0\\\\\n",
       "\tavgscore & 4    &  7.4 & 6.6  & 4    & 4.8  & 22.8\\\\\n",
       "\\end{tabular}\n"
      ],
      "text/markdown": [
       "\n",
       "| <!--/--> | id | Event1 | Event2 | Event3 | Event4 | Total |\n",
       "|---|---|---|---|---|---|---|\n",
       "| Ann | 1    | 10.0 | 9.0  | 7    | 9.0  | 35.0 |\n",
       "| Ram | 2    |  0.0 | 8.0  | 9    | 0.0  | 17.0 |\n",
       "| Krish | 3    | 10.0 | 7.0  | 0    | 7.0  | 24.0 |\n",
       "| Shewtha | 4    |  8.0 | 0.0  | 4    | 0.0  | 12.0 |\n",
       "| Meenu | 5    |  9.0 | 9.0  | 0    | 8.0  | 26.0 |\n",
       "| avgscore | 4    |  7.4 | 6.6  | 4    | 4.8  | 22.8 |\n",
       "\n"
      ],
      "text/plain": [
       "         id Event1 Event2 Event3 Event4 Total\n",
       "Ann      1  10.0   9.0    7      9.0    35.0 \n",
       "Ram      2   0.0   8.0    9      0.0    17.0 \n",
       "Krish    3  10.0   7.0    0      7.0    24.0 \n",
       "Shewtha  4   8.0   0.0    4      0.0    12.0 \n",
       "Meenu    5   9.0   9.0    0      8.0    26.0 \n",
       "avgscore 4   7.4   6.6    4      4.8    22.8 "
      ]
     },
     "metadata": {},
     "output_type": "display_data"
    }
   ],
   "source": [
    "row.names(df2) <- df$name\n",
    "df2"
   ]
  },
  {
   "cell_type": "code",
   "execution_count": 72,
   "metadata": {},
   "outputs": [
    {
     "data": {
      "text/html": [
       "<ol class=list-inline>\n",
       "\t<li>'Ann'</li>\n",
       "\t<li>'Krish'</li>\n",
       "\t<li>'Meenu'</li>\n",
       "</ol>\n"
      ],
      "text/latex": [
       "\\begin{enumerate*}\n",
       "\\item 'Ann'\n",
       "\\item 'Krish'\n",
       "\\item 'Meenu'\n",
       "\\end{enumerate*}\n"
      ],
      "text/markdown": [
       "1. 'Ann'\n",
       "2. 'Krish'\n",
       "3. 'Meenu'\n",
       "\n",
       "\n"
      ],
      "text/plain": [
       "[1] \"Ann\"   \"Krish\" \"Meenu\""
      ]
     },
     "metadata": {},
     "output_type": "display_data"
    }
   ],
   "source": [
    "#Obtain the names whose total score is above its average.\n",
    "row.names(df2)[df2$Total>22.8]"
   ]
  },
  {
   "cell_type": "code",
   "execution_count": 73,
   "metadata": {},
   "outputs": [
    {
     "data": {
      "text/html": [
       "<ol class=list-inline>\n",
       "\t<li>'Ann'</li>\n",
       "\t<li>'avgscore'</li>\n",
       "</ol>\n"
      ],
      "text/latex": [
       "\\begin{enumerate*}\n",
       "\\item 'Ann'\n",
       "\\item 'avgscore'\n",
       "\\end{enumerate*}\n"
      ],
      "text/markdown": [
       "1. 'Ann'\n",
       "2. 'avgscore'\n",
       "\n",
       "\n"
      ],
      "text/plain": [
       "[1] \"Ann\"      \"avgscore\""
      ]
     },
     "metadata": {},
     "output_type": "display_data"
    }
   ],
   "source": [
    "#Display the names of the students participated in event3.\n",
    "row.names(df2)[df2$Event1>0.0 & df2$Event2>0.0 & df2$Event3>0.0 & df2$Event4>0.0]"
   ]
  },
  {
   "cell_type": "markdown",
   "metadata": {},
   "source": [
    "Basic Operations in data frame"
   ]
  },
  {
   "cell_type": "code",
   "execution_count": 38,
   "metadata": {},
   "outputs": [
    {
     "data": {
      "text/html": [
       "<table>\n",
       "<thead><tr><th scope=col>Sex</th><th scope=col>Wr.Hnd</th><th scope=col>NW.Hnd</th><th scope=col>W.Hnd</th><th scope=col>Fold</th><th scope=col>Pulse</th><th scope=col>Clap</th><th scope=col>Exer</th><th scope=col>Smoke</th><th scope=col>Height</th><th scope=col>M.I</th><th scope=col>Age</th></tr></thead>\n",
       "<tbody>\n",
       "\t<tr><td>Female  </td><td>18.5    </td><td>18.0    </td><td>Right   </td><td>R on L  </td><td> 92     </td><td>Left    </td><td>Some    </td><td>Never   </td><td>173.00  </td><td>Metric  </td><td>18.250  </td></tr>\n",
       "\t<tr><td>Male    </td><td>19.5    </td><td>20.5    </td><td>Left    </td><td>R on L  </td><td>104     </td><td>Left    </td><td>None    </td><td>Regul   </td><td>177.80  </td><td>Imperial</td><td>17.583  </td></tr>\n",
       "\t<tr><td>Male    </td><td>18.0    </td><td>13.3    </td><td>Right   </td><td>L on R  </td><td> 87     </td><td>Neither </td><td>None    </td><td>Occas   </td><td>    NA  </td><td>NA      </td><td>16.917  </td></tr>\n",
       "\t<tr><td>Male    </td><td>18.8    </td><td>18.9    </td><td>Right   </td><td>R on L  </td><td> NA     </td><td>Neither </td><td>None    </td><td>Never   </td><td>160.00  </td><td>Metric  </td><td>20.333  </td></tr>\n",
       "\t<tr><td>Male    </td><td>20.0    </td><td>20.0    </td><td>Right   </td><td>Neither </td><td> 35     </td><td>Right   </td><td>Some    </td><td>Never   </td><td>165.00  </td><td>Metric  </td><td>23.667  </td></tr>\n",
       "\t<tr><td>Female  </td><td>18.0    </td><td>17.7    </td><td>Right   </td><td>L on R  </td><td> 64     </td><td>Right   </td><td>Some    </td><td>Never   </td><td>172.72  </td><td>Imperial</td><td>21.000  </td></tr>\n",
       "</tbody>\n",
       "</table>\n"
      ],
      "text/latex": [
       "\\begin{tabular}{r|llllllllllll}\n",
       " Sex & Wr.Hnd & NW.Hnd & W.Hnd & Fold & Pulse & Clap & Exer & Smoke & Height & M.I & Age\\\\\n",
       "\\hline\n",
       "\t Female   & 18.5     & 18.0     & Right    & R on L   &  92      & Left     & Some     & Never    & 173.00   & Metric   & 18.250  \\\\\n",
       "\t Male     & 19.5     & 20.5     & Left     & R on L   & 104      & Left     & None     & Regul    & 177.80   & Imperial & 17.583  \\\\\n",
       "\t Male     & 18.0     & 13.3     & Right    & L on R   &  87      & Neither  & None     & Occas    &     NA   & NA       & 16.917  \\\\\n",
       "\t Male     & 18.8     & 18.9     & Right    & R on L   &  NA      & Neither  & None     & Never    & 160.00   & Metric   & 20.333  \\\\\n",
       "\t Male     & 20.0     & 20.0     & Right    & Neither  &  35      & Right    & Some     & Never    & 165.00   & Metric   & 23.667  \\\\\n",
       "\t Female   & 18.0     & 17.7     & Right    & L on R   &  64      & Right    & Some     & Never    & 172.72   & Imperial & 21.000  \\\\\n",
       "\\end{tabular}\n"
      ],
      "text/markdown": [
       "\n",
       "| Sex | Wr.Hnd | NW.Hnd | W.Hnd | Fold | Pulse | Clap | Exer | Smoke | Height | M.I | Age |\n",
       "|---|---|---|---|---|---|---|---|---|---|---|---|\n",
       "| Female   | 18.5     | 18.0     | Right    | R on L   |  92      | Left     | Some     | Never    | 173.00   | Metric   | 18.250   |\n",
       "| Male     | 19.5     | 20.5     | Left     | R on L   | 104      | Left     | None     | Regul    | 177.80   | Imperial | 17.583   |\n",
       "| Male     | 18.0     | 13.3     | Right    | L on R   |  87      | Neither  | None     | Occas    |     NA   | NA       | 16.917   |\n",
       "| Male     | 18.8     | 18.9     | Right    | R on L   |  NA      | Neither  | None     | Never    | 160.00   | Metric   | 20.333   |\n",
       "| Male     | 20.0     | 20.0     | Right    | Neither  |  35      | Right    | Some     | Never    | 165.00   | Metric   | 23.667   |\n",
       "| Female   | 18.0     | 17.7     | Right    | L on R   |  64      | Right    | Some     | Never    | 172.72   | Imperial | 21.000   |\n",
       "\n"
      ],
      "text/plain": [
       "  Sex    Wr.Hnd NW.Hnd W.Hnd Fold    Pulse Clap    Exer Smoke Height M.I     \n",
       "1 Female 18.5   18.0   Right R on L   92   Left    Some Never 173.00 Metric  \n",
       "2 Male   19.5   20.5   Left  R on L  104   Left    None Regul 177.80 Imperial\n",
       "3 Male   18.0   13.3   Right L on R   87   Neither None Occas     NA NA      \n",
       "4 Male   18.8   18.9   Right R on L   NA   Neither None Never 160.00 Metric  \n",
       "5 Male   20.0   20.0   Right Neither  35   Right   Some Never 165.00 Metric  \n",
       "6 Female 18.0   17.7   Right L on R   64   Right   Some Never 172.72 Imperial\n",
       "  Age   \n",
       "1 18.250\n",
       "2 17.583\n",
       "3 16.917\n",
       "4 20.333\n",
       "5 23.667\n",
       "6 21.000"
      ]
     },
     "metadata": {},
     "output_type": "display_data"
    }
   ],
   "source": [
    "library (MASS)\n",
    "data(survey)\n",
    "head(survey)"
   ]
  },
  {
   "cell_type": "code",
   "execution_count": 39,
   "metadata": {},
   "outputs": [
    {
     "name": "stdout",
     "output_type": "stream",
     "text": [
      "'data.frame':\t237 obs. of  12 variables:\n",
      " $ Sex   : Factor w/ 2 levels \"Female\",\"Male\": 1 2 2 2 2 1 2 1 2 2 ...\n",
      " $ Wr.Hnd: num  18.5 19.5 18 18.8 20 18 17.7 17 20 18.5 ...\n",
      " $ NW.Hnd: num  18 20.5 13.3 18.9 20 17.7 17.7 17.3 19.5 18.5 ...\n",
      " $ W.Hnd : Factor w/ 2 levels \"Left\",\"Right\": 2 1 2 2 2 2 2 2 2 2 ...\n",
      " $ Fold  : Factor w/ 3 levels \"L on R\",\"Neither\",..: 3 3 1 3 2 1 1 3 3 3 ...\n",
      " $ Pulse : int  92 104 87 NA 35 64 83 74 72 90 ...\n",
      " $ Clap  : Factor w/ 3 levels \"Left\",\"Neither\",..: 1 1 2 2 3 3 3 3 3 3 ...\n",
      " $ Exer  : Factor w/ 3 levels \"Freq\",\"None\",..: 3 2 2 2 3 3 1 1 3 3 ...\n",
      " $ Smoke : Factor w/ 4 levels \"Heavy\",\"Never\",..: 2 4 3 2 2 2 2 2 2 2 ...\n",
      " $ Height: num  173 178 NA 160 165 ...\n",
      " $ M.I   : Factor w/ 2 levels \"Imperial\",\"Metric\": 2 1 NA 2 2 1 1 2 2 2 ...\n",
      " $ Age   : num  18.2 17.6 16.9 20.3 23.7 ...\n"
     ]
    }
   ],
   "source": [
    "str(survey)#Display the structure of the data survey."
   ]
  },
  {
   "cell_type": "code",
   "execution_count": 40,
   "metadata": {},
   "outputs": [],
   "source": [
    "df1  <-  survey"
   ]
  },
  {
   "cell_type": "code",
   "execution_count": 42,
   "metadata": {},
   "outputs": [
    {
     "data": {
      "text/html": [
       "<ol class=list-inline>\n",
       "\t<li>237</li>\n",
       "\t<li>12</li>\n",
       "</ol>\n"
      ],
      "text/latex": [
       "\\begin{enumerate*}\n",
       "\\item 237\n",
       "\\item 12\n",
       "\\end{enumerate*}\n"
      ],
      "text/markdown": [
       "1. 237\n",
       "2. 12\n",
       "\n",
       "\n"
      ],
      "text/plain": [
       "[1] 237  12"
      ]
     },
     "metadata": {},
     "output_type": "display_data"
    }
   ],
   "source": [
    "#Get the dimension of the survey data frame.\n",
    "dim(df1)"
   ]
  },
  {
   "cell_type": "code",
   "execution_count": 51,
   "metadata": {},
   "outputs": [
    {
     "data": {
      "text/html": [
       "237"
      ],
      "text/latex": [
       "237"
      ],
      "text/markdown": [
       "237"
      ],
      "text/plain": [
       "[1] 237"
      ]
     },
     "metadata": {},
     "output_type": "display_data"
    }
   ],
   "source": [
    "nrow(df1)#Get the number of rows and columns of the survey data frame."
   ]
  },
  {
   "cell_type": "code",
   "execution_count": 52,
   "metadata": {},
   "outputs": [
    {
     "data": {
      "text/html": [
       "12"
      ],
      "text/latex": [
       "12"
      ],
      "text/markdown": [
       "12"
      ],
      "text/plain": [
       "[1] 12"
      ]
     },
     "metadata": {},
     "output_type": "display_data"
    }
   ],
   "source": [
    "ncol(df1)#Get the number of rows and columns of the survey data frame."
   ]
  },
  {
   "cell_type": "code",
   "execution_count": 53,
   "metadata": {},
   "outputs": [
    {
     "data": {
      "text/html": [
       "'list'"
      ],
      "text/latex": [
       "'list'"
      ],
      "text/markdown": [
       "'list'"
      ],
      "text/plain": [
       "[1] \"list\""
      ]
     },
     "metadata": {},
     "output_type": "display_data"
    }
   ],
   "source": [
    "typeof(df1)#Check the class and type of the data set survey in MASS."
   ]
  },
  {
   "cell_type": "code",
   "execution_count": 54,
   "metadata": {},
   "outputs": [
    {
     "data": {
      "text/html": [
       "'data.frame'"
      ],
      "text/latex": [
       "'data.frame'"
      ],
      "text/markdown": [
       "'data.frame'"
      ],
      "text/plain": [
       "[1] \"data.frame\""
      ]
     },
     "metadata": {},
     "output_type": "display_data"
    }
   ],
   "source": [
    "class(df1)#Check the class and type of the data set survey in MASS."
   ]
  },
  {
   "cell_type": "code",
   "execution_count": 55,
   "metadata": {},
   "outputs": [
    {
     "data": {
      "text/plain": [
       "     Sex          Wr.Hnd          NW.Hnd        W.Hnd          Fold    \n",
       " Female:118   Min.   :13.00   Min.   :12.50   Left : 18   L on R : 99  \n",
       " Male  :118   1st Qu.:17.50   1st Qu.:17.50   Right:218   Neither: 18  \n",
       " NA's  :  1   Median :18.50   Median :18.50   NA's :  1   R on L :120  \n",
       "              Mean   :18.67   Mean   :18.58                            \n",
       "              3rd Qu.:19.80   3rd Qu.:19.73                            \n",
       "              Max.   :23.20   Max.   :23.50                            \n",
       "              NA's   :1       NA's   :1                                \n",
       "     Pulse             Clap       Exer       Smoke         Height     \n",
       " Min.   : 35.00   Left   : 39   Freq:115   Heavy: 11   Min.   :150.0  \n",
       " 1st Qu.: 66.00   Neither: 50   None: 24   Never:189   1st Qu.:165.0  \n",
       " Median : 72.50   Right  :147   Some: 98   Occas: 19   Median :171.0  \n",
       " Mean   : 74.15   NA's   :  1              Regul: 17   Mean   :172.4  \n",
       " 3rd Qu.: 80.00                            NA's :  1   3rd Qu.:180.0  \n",
       " Max.   :104.00                                        Max.   :200.0  \n",
       " NA's   :45                                            NA's   :28     \n",
       "       M.I           Age       \n",
       " Imperial: 68   Min.   :16.75  \n",
       " Metric  :141   1st Qu.:17.67  \n",
       " NA's    : 28   Median :18.58  \n",
       "                Mean   :20.37  \n",
       "                3rd Qu.:20.17  \n",
       "                Max.   :73.00  \n",
       "                               "
      ]
     },
     "metadata": {},
     "output_type": "display_data"
    }
   ],
   "source": [
    "#Provide the statistical summary of the data frame.\n",
    "summary(df1)"
   ]
  },
  {
   "cell_type": "code",
   "execution_count": 58,
   "metadata": {},
   "outputs": [
    {
     "data": {
      "text/html": [
       "<ol class=list-inline>\n",
       "\t<li>'Sex'</li>\n",
       "\t<li>'Wr.Hnd'</li>\n",
       "\t<li>'NW.Hnd'</li>\n",
       "\t<li>'W.Hnd'</li>\n",
       "\t<li>'Fold'</li>\n",
       "\t<li>'Pulse'</li>\n",
       "\t<li>'Clap'</li>\n",
       "\t<li>'Exer'</li>\n",
       "\t<li>'Smoke'</li>\n",
       "\t<li>'Height'</li>\n",
       "\t<li>'M.I'</li>\n",
       "\t<li>'Age'</li>\n",
       "</ol>\n"
      ],
      "text/latex": [
       "\\begin{enumerate*}\n",
       "\\item 'Sex'\n",
       "\\item 'Wr.Hnd'\n",
       "\\item 'NW.Hnd'\n",
       "\\item 'W.Hnd'\n",
       "\\item 'Fold'\n",
       "\\item 'Pulse'\n",
       "\\item 'Clap'\n",
       "\\item 'Exer'\n",
       "\\item 'Smoke'\n",
       "\\item 'Height'\n",
       "\\item 'M.I'\n",
       "\\item 'Age'\n",
       "\\end{enumerate*}\n"
      ],
      "text/markdown": [
       "1. 'Sex'\n",
       "2. 'Wr.Hnd'\n",
       "3. 'NW.Hnd'\n",
       "4. 'W.Hnd'\n",
       "5. 'Fold'\n",
       "6. 'Pulse'\n",
       "7. 'Clap'\n",
       "8. 'Exer'\n",
       "9. 'Smoke'\n",
       "10. 'Height'\n",
       "11. 'M.I'\n",
       "12. 'Age'\n",
       "\n",
       "\n"
      ],
      "text/plain": [
       " [1] \"Sex\"    \"Wr.Hnd\" \"NW.Hnd\" \"W.Hnd\"  \"Fold\"   \"Pulse\"  \"Clap\"   \"Exer\"  \n",
       " [9] \"Smoke\"  \"Height\" \"M.I\"    \"Age\"   "
      ]
     },
     "metadata": {},
     "output_type": "display_data"
    }
   ],
   "source": [
    "#Display the column names of the survey data frame\n",
    "names(df1)"
   ]
  },
  {
   "cell_type": "code",
   "execution_count": 59,
   "metadata": {},
   "outputs": [
    {
     "data": {
      "text/html": [
       "<table>\n",
       "<thead><tr><th scope=col>Sex</th><th scope=col>Wr.Hnd</th><th scope=col>NW.Hnd</th><th scope=col>W.Hnd</th><th scope=col>Fold</th><th scope=col>Pulse</th><th scope=col>Clap</th><th scope=col>Exer</th><th scope=col>Smoke</th><th scope=col>Height</th><th scope=col>M.I</th><th scope=col>Age</th></tr></thead>\n",
       "<tbody>\n",
       "\t<tr><td>Female  </td><td>18.5    </td><td>18.0    </td><td>Right   </td><td>R on L  </td><td> 92     </td><td>Left    </td><td>Some    </td><td>Never   </td><td>173.0   </td><td>Metric  </td><td>18.250  </td></tr>\n",
       "\t<tr><td>Male    </td><td>19.5    </td><td>20.5    </td><td>Left    </td><td>R on L  </td><td>104     </td><td>Left    </td><td>None    </td><td>Regul   </td><td>177.8   </td><td>Imperial</td><td>17.583  </td></tr>\n",
       "\t<tr><td>Male    </td><td>18.0    </td><td>13.3    </td><td>Right   </td><td>L on R  </td><td> 87     </td><td>Neither </td><td>None    </td><td>Occas   </td><td>   NA   </td><td>NA      </td><td>16.917  </td></tr>\n",
       "</tbody>\n",
       "</table>\n"
      ],
      "text/latex": [
       "\\begin{tabular}{r|llllllllllll}\n",
       " Sex & Wr.Hnd & NW.Hnd & W.Hnd & Fold & Pulse & Clap & Exer & Smoke & Height & M.I & Age\\\\\n",
       "\\hline\n",
       "\t Female   & 18.5     & 18.0     & Right    & R on L   &  92      & Left     & Some     & Never    & 173.0    & Metric   & 18.250  \\\\\n",
       "\t Male     & 19.5     & 20.5     & Left     & R on L   & 104      & Left     & None     & Regul    & 177.8    & Imperial & 17.583  \\\\\n",
       "\t Male     & 18.0     & 13.3     & Right    & L on R   &  87      & Neither  & None     & Occas    &    NA    & NA       & 16.917  \\\\\n",
       "\\end{tabular}\n"
      ],
      "text/markdown": [
       "\n",
       "| Sex | Wr.Hnd | NW.Hnd | W.Hnd | Fold | Pulse | Clap | Exer | Smoke | Height | M.I | Age |\n",
       "|---|---|---|---|---|---|---|---|---|---|---|---|\n",
       "| Female   | 18.5     | 18.0     | Right    | R on L   |  92      | Left     | Some     | Never    | 173.0    | Metric   | 18.250   |\n",
       "| Male     | 19.5     | 20.5     | Left     | R on L   | 104      | Left     | None     | Regul    | 177.8    | Imperial | 17.583   |\n",
       "| Male     | 18.0     | 13.3     | Right    | L on R   |  87      | Neither  | None     | Occas    |    NA    | NA       | 16.917   |\n",
       "\n"
      ],
      "text/plain": [
       "  Sex    Wr.Hnd NW.Hnd W.Hnd Fold   Pulse Clap    Exer Smoke Height M.I     \n",
       "1 Female 18.5   18.0   Right R on L  92   Left    Some Never 173.0  Metric  \n",
       "2 Male   19.5   20.5   Left  R on L 104   Left    None Regul 177.8  Imperial\n",
       "3 Male   18.0   13.3   Right L on R  87   Neither None Occas    NA  NA      \n",
       "  Age   \n",
       "1 18.250\n",
       "2 17.583\n",
       "3 16.917"
      ]
     },
     "metadata": {},
     "output_type": "display_data"
    }
   ],
   "source": [
    "#Retrieve the top 3 rows from the data frame.\n",
    "df1[1:3,]"
   ]
  },
  {
   "cell_type": "code",
   "execution_count": 62,
   "metadata": {},
   "outputs": [
    {
     "data": {
      "text/html": [
       "<table>\n",
       "<thead><tr><th></th><th scope=col>Sex</th><th scope=col>Wr.Hnd</th><th scope=col>NW.Hnd</th><th scope=col>W.Hnd</th><th scope=col>Fold</th><th scope=col>Pulse</th><th scope=col>Clap</th><th scope=col>Exer</th><th scope=col>Smoke</th><th scope=col>Height</th><th scope=col>M.I</th><th scope=col>Age</th></tr></thead>\n",
       "<tbody>\n",
       "\t<tr><th scope=row>236</th><td>Male  </td><td>21.0  </td><td>21.5  </td><td>Right </td><td>R on L</td><td>90    </td><td>Right </td><td>Some  </td><td>Never </td><td>183.0 </td><td>Metric</td><td>17.167</td></tr>\n",
       "\t<tr><th scope=row>237</th><td>Female</td><td>17.6  </td><td>17.3  </td><td>Right </td><td>R on L</td><td>85    </td><td>Right </td><td>Freq  </td><td>Never </td><td>168.5 </td><td>Metric</td><td>17.750</td></tr>\n",
       "</tbody>\n",
       "</table>\n"
      ],
      "text/latex": [
       "\\begin{tabular}{r|llllllllllll}\n",
       "  & Sex & Wr.Hnd & NW.Hnd & W.Hnd & Fold & Pulse & Clap & Exer & Smoke & Height & M.I & Age\\\\\n",
       "\\hline\n",
       "\t236 & Male   & 21.0   & 21.5   & Right  & R on L & 90     & Right  & Some   & Never  & 183.0  & Metric & 17.167\\\\\n",
       "\t237 & Female & 17.6   & 17.3   & Right  & R on L & 85     & Right  & Freq   & Never  & 168.5  & Metric & 17.750\\\\\n",
       "\\end{tabular}\n"
      ],
      "text/markdown": [
       "\n",
       "| <!--/--> | Sex | Wr.Hnd | NW.Hnd | W.Hnd | Fold | Pulse | Clap | Exer | Smoke | Height | M.I | Age |\n",
       "|---|---|---|---|---|---|---|---|---|---|---|---|---|\n",
       "| 236 | Male   | 21.0   | 21.5   | Right  | R on L | 90     | Right  | Some   | Never  | 183.0  | Metric | 17.167 |\n",
       "| 237 | Female | 17.6   | 17.3   | Right  | R on L | 85     | Right  | Freq   | Never  | 168.5  | Metric | 17.750 |\n",
       "\n"
      ],
      "text/plain": [
       "    Sex    Wr.Hnd NW.Hnd W.Hnd Fold   Pulse Clap  Exer Smoke Height M.I   \n",
       "236 Male   21.0   21.5   Right R on L 90    Right Some Never 183.0  Metric\n",
       "237 Female 17.6   17.3   Right R on L 85    Right Freq Never 168.5  Metric\n",
       "    Age   \n",
       "236 17.167\n",
       "237 17.750"
      ]
     },
     "metadata": {},
     "output_type": "display_data"
    }
   ],
   "source": [
    "#Extract the bottom 2 rows from the data frame.\n",
    "tail(df1, 2)"
   ]
  },
  {
   "cell_type": "code",
   "execution_count": null,
   "metadata": {},
   "outputs": [],
   "source": []
  }
 ],
 "metadata": {
  "kernelspec": {
   "display_name": "R",
   "language": "R",
   "name": "ir"
  },
  "language_info": {
   "codemirror_mode": "r",
   "file_extension": ".r",
   "mimetype": "text/x-r-source",
   "name": "R",
   "pygments_lexer": "r",
   "version": "3.6.1"
  }
 },
 "nbformat": 4,
 "nbformat_minor": 4
}
