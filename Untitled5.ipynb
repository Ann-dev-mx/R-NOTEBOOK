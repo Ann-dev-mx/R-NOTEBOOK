{
 "cells": [
  {
   "cell_type": "code",
   "execution_count": 5,
   "metadata": {},
   "outputs": [],
   "source": [
    "set.seed(1234)\n",
    "\n",
    " my_data <- data.frame(\n",
    "\n",
    " name = paste0(rep(\"M_\", 10), 1:10),\n",
    "\n",
    " weight = round(rnorm(10, 20, 2), 1)\n",
    "\n",
    " )"
   ]
  },
  {
   "cell_type": "code",
   "execution_count": 6,
   "metadata": {},
   "outputs": [
    {
     "data": {
      "text/html": [
       "<table>\n",
       "<thead><tr><th scope=col>name</th><th scope=col>weight</th></tr></thead>\n",
       "<tbody>\n",
       "\t<tr><td>M_1 </td><td>17.6</td></tr>\n",
       "\t<tr><td>M_2 </td><td>20.6</td></tr>\n",
       "\t<tr><td>M_3 </td><td>22.2</td></tr>\n",
       "\t<tr><td>M_4 </td><td>15.3</td></tr>\n",
       "\t<tr><td>M_5 </td><td>20.9</td></tr>\n",
       "\t<tr><td>M_6 </td><td>21.0</td></tr>\n",
       "\t<tr><td>M_7 </td><td>18.9</td></tr>\n",
       "\t<tr><td>M_8 </td><td>18.9</td></tr>\n",
       "\t<tr><td>M_9 </td><td>18.9</td></tr>\n",
       "\t<tr><td>M_10</td><td>18.2</td></tr>\n",
       "</tbody>\n",
       "</table>\n"
      ],
      "text/latex": [
       "\\begin{tabular}{r|ll}\n",
       " name & weight\\\\\n",
       "\\hline\n",
       "\t M\\_1  & 17.6  \\\\\n",
       "\t M\\_2  & 20.6  \\\\\n",
       "\t M\\_3  & 22.2  \\\\\n",
       "\t M\\_4  & 15.3  \\\\\n",
       "\t M\\_5  & 20.9  \\\\\n",
       "\t M\\_6  & 21.0  \\\\\n",
       "\t M\\_7  & 18.9  \\\\\n",
       "\t M\\_8  & 18.9  \\\\\n",
       "\t M\\_9  & 18.9  \\\\\n",
       "\t M\\_10 & 18.2  \\\\\n",
       "\\end{tabular}\n"
      ],
      "text/markdown": [
       "\n",
       "| name | weight |\n",
       "|---|---|\n",
       "| M_1  | 17.6 |\n",
       "| M_2  | 20.6 |\n",
       "| M_3  | 22.2 |\n",
       "| M_4  | 15.3 |\n",
       "| M_5  | 20.9 |\n",
       "| M_6  | 21.0 |\n",
       "| M_7  | 18.9 |\n",
       "| M_8  | 18.9 |\n",
       "| M_9  | 18.9 |\n",
       "| M_10 | 18.2 |\n",
       "\n"
      ],
      "text/plain": [
       "   name weight\n",
       "1  M_1  17.6  \n",
       "2  M_2  20.6  \n",
       "3  M_3  22.2  \n",
       "4  M_4  15.3  \n",
       "5  M_5  20.9  \n",
       "6  M_6  21.0  \n",
       "7  M_7  18.9  \n",
       "8  M_8  18.9  \n",
       "9  M_9  18.9  \n",
       "10 M_10 18.2  "
      ]
     },
     "metadata": {},
     "output_type": "display_data"
    }
   ],
   "source": [
    "my_data"
   ]
  },
  {
   "cell_type": "code",
   "execution_count": 7,
   "metadata": {},
   "outputs": [
    {
     "data": {
      "text/plain": [
       "   Min. 1st Qu.  Median    Mean 3rd Qu.    Max. \n",
       "  15.30   18.38   18.90   19.25   20.82   22.20 "
      ]
     },
     "metadata": {},
     "output_type": "display_data"
    }
   ],
   "source": [
    "summary(my_data$weight)"
   ]
  },
  {
   "cell_type": "code",
   "execution_count": 8,
   "metadata": {},
   "outputs": [
    {
     "data": {
      "image/png": "[encoded data removed]",
      "text/plain": [
       "plot without title"
      ]
     },
     "metadata": {},
     "output_type": "display_data"
    }
   ],
   "source": [
    "boxplot(my_data$weight)"
   ]
  },
  {
   "cell_type": "code",
   "execution_count": 9,
   "metadata": {},
   "outputs": [
    {
     "data": {
      "text/plain": [
       "\n",
       "\tShapiro-Wilk normality test\n",
       "\n",
       "data:  my_data$weight\n",
       "W = 0.9526, p-value = 0.6993\n"
      ]
     },
     "metadata": {},
     "output_type": "display_data"
    }
   ],
   "source": [
    "shapiro.test(my_data$weight)\n"
   ]
  },
  {
   "cell_type": "code",
   "execution_count": 10,
   "metadata": {},
   "outputs": [
    {
     "data": {
      "image/png": "[encoded data removed]",
      "text/plain": [
       "Plot with title \"Normal Q-Q Plot\""
      ]
     },
     "metadata": {},
     "output_type": "display_data"
    }
   ],
   "source": [
    "qqnorm(my_data$weight)"
   ]
  },
  {
   "cell_type": "code",
   "execution_count": 12,
   "metadata": {},
   "outputs": [
    {
     "data": {
      "image/png": "[encoded data removed]",
      "text/plain": [
       "Plot with title \"Normal Q-Q Plot\""
      ]
     },
     "metadata": {},
     "output_type": "display_data"
    }
   ],
   "source": [
    "qqnorm(my_data$weight)\n",
    "\n",
    " qqline(my_data$weight)"
   ]
  },
  {
   "cell_type": "code",
   "execution_count": 13,
   "metadata": {},
   "outputs": [
    {
     "data": {
      "text/plain": [
       "\n",
       "\tOne Sample t-test\n",
       "\n",
       "data:  my_data$weight\n",
       "t = -9.0783, df = 9, p-value = 7.953e-06\n",
       "alternative hypothesis: true mean is not equal to 25\n",
       "95 percent confidence interval:\n",
       " 17.8172 20.6828\n",
       "sample estimates:\n",
       "mean of x \n",
       "    19.25 \n"
      ]
     },
     "metadata": {},
     "output_type": "display_data"
    }
   ],
   "source": [
    "#one-sample t-test - two-tailed test\n",
    "\n",
    " res <- t.test(my_data$weight,mu=25)\n",
    "\n",
    " res"
   ]
  },
  {
   "cell_type": "code",
   "execution_count": 14,
   "metadata": {},
   "outputs": [
    {
     "data": {
      "text/html": [
       "7.95338347946472e-06"
      ],
      "text/latex": [
       "7.95338347946472e-06"
      ],
      "text/markdown": [
       "7.95338347946472e-06"
      ],
      "text/plain": [
       "[1] 7.953383e-06"
      ]
     },
     "metadata": {},
     "output_type": "display_data"
    }
   ],
   "source": [
    "res$p.value"
   ]
  },
  {
   "cell_type": "code",
   "execution_count": 15,
   "metadata": {},
   "outputs": [
    {
     "data": {
      "text/html": [
       "<strong>mean of x:</strong> 19.25"
      ],
      "text/latex": [
       "\\textbf{mean of x:} 19.25"
      ],
      "text/markdown": [
       "**mean of x:** 19.25"
      ],
      "text/plain": [
       "mean of x \n",
       "    19.25 "
      ]
     },
     "metadata": {},
     "output_type": "display_data"
    }
   ],
   "source": [
    "\n",
    "res$estimate\n",
    "\n"
   ]
  },
  {
   "cell_type": "code",
   "execution_count": 16,
   "metadata": {},
   "outputs": [
    {
     "data": {
      "text/html": [
       "<ol class=list-inline>\n",
       "\t<li>17.817201249577</li>\n",
       "\t<li>20.682798750423</li>\n",
       "</ol>\n"
      ],
      "text/latex": [
       "\\begin{enumerate*}\n",
       "\\item 17.817201249577\n",
       "\\item 20.682798750423\n",
       "\\end{enumerate*}\n"
      ],
      "text/markdown": [
       "1. 17.817201249577\n",
       "2. 20.682798750423\n",
       "\n",
       "\n"
      ],
      "text/plain": [
       "[1] 17.8172 20.6828\n",
       "attr(,\"conf.level\")\n",
       "[1] 0.95"
      ]
     },
     "metadata": {},
     "output_type": "display_data"
    }
   ],
   "source": [
    "\n",
    "res$conf.int\n",
    "\n"
   ]
  },
  {
   "cell_type": "code",
   "execution_count": 17,
   "metadata": {},
   "outputs": [
    {
     "data": {
      "text/plain": [
       "\n",
       "\tOne Sample t-test\n",
       "\n",
       "data:  my_data$weight\n",
       "t = -9.0783, df = 9, p-value = 3.977e-06\n",
       "alternative hypothesis: true mean is less than 25\n",
       "95 percent confidence interval:\n",
       "     -Inf 20.41105\n",
       "sample estimates:\n",
       "mean of x \n",
       "    19.25 \n"
      ]
     },
     "metadata": {},
     "output_type": "display_data"
    }
   ],
   "source": [
    "#one-sample t-test - one-tailed test\n",
    "res1 <- t.test(my_data$weight,mu=25,alternative = \"less\")\n",
    "res1\n",
    "\n"
   ]
  },
  {
   "cell_type": "code",
   "execution_count": 18,
   "metadata": {},
   "outputs": [
    {
     "data": {
      "text/plain": [
       "\n",
       "\tOne Sample t-test\n",
       "\n",
       "data:  my_data$weight\n",
       "t = -9.0783, df = 9, p-value = 7.953e-06\n",
       "alternative hypothesis: true mean is not equal to 25\n",
       "95 percent confidence interval:\n",
       " 17.8172 20.6828\n",
       "sample estimates:\n",
       "mean of x \n",
       "    19.25 \n"
      ]
     },
     "metadata": {},
     "output_type": "display_data"
    }
   ],
   "source": [
    "res  <- t.test(my_data$weight,mu=25)\n",
    "res"
   ]
  },
  {
   "cell_type": "code",
   "execution_count": 19,
   "metadata": {},
   "outputs": [
    {
     "data": {
      "text/html": [
       "7.95338347946472e-06"
      ],
      "text/latex": [
       "7.95338347946472e-06"
      ],
      "text/markdown": [
       "7.95338347946472e-06"
      ],
      "text/plain": [
       "[1] 7.953383e-06"
      ]
     },
     "metadata": {},
     "output_type": "display_data"
    }
   ],
   "source": [
    "res$p.value"
   ]
  },
  {
   "cell_type": "code",
   "execution_count": 20,
   "metadata": {},
   "outputs": [
    {
     "data": {
      "text/html": [
       "<strong>mean of x:</strong> 19.25"
      ],
      "text/latex": [
       "\\textbf{mean of x:} 19.25"
      ],
      "text/markdown": [
       "**mean of x:** 19.25"
      ],
      "text/plain": [
       "mean of x \n",
       "    19.25 "
      ]
     },
     "metadata": {},
     "output_type": "display_data"
    }
   ],
   "source": [
    "res$estimate"
   ]
  },
  {
   "cell_type": "code",
   "execution_count": 21,
   "metadata": {},
   "outputs": [
    {
     "data": {
      "text/html": [
       "<ol class=list-inline>\n",
       "\t<li>17.817201249577</li>\n",
       "\t<li>20.682798750423</li>\n",
       "</ol>\n"
      ],
      "text/latex": [
       "\\begin{enumerate*}\n",
       "\\item 17.817201249577\n",
       "\\item 20.682798750423\n",
       "\\end{enumerate*}\n"
      ],
      "text/markdown": [
       "1. 17.817201249577\n",
       "2. 20.682798750423\n",
       "\n",
       "\n"
      ],
      "text/plain": [
       "[1] 17.8172 20.6828\n",
       "attr(,\"conf.level\")\n",
       "[1] 0.95"
      ]
     },
     "metadata": {},
     "output_type": "display_data"
    }
   ],
   "source": [
    "res$conf.int"
   ]
  },
  {
   "cell_type": "code",
   "execution_count": 22,
   "metadata": {},
   "outputs": [
    {
     "data": {
      "text/plain": [
       "\n",
       "\tOne Sample t-test\n",
       "\n",
       "data:  my_data$weight\n",
       "t = -9.0783, df = 9, p-value = 3.977e-06\n",
       "alternative hypothesis: true mean is less than 25\n",
       "95 percent confidence interval:\n",
       "     -Inf 20.41105\n",
       "sample estimates:\n",
       "mean of x \n",
       "    19.25 \n"
      ]
     },
     "metadata": {},
     "output_type": "display_data"
    }
   ],
   "source": [
    "res1  <- t.test(my_data$weight,mu=25,alternative = \"less\")\n",
    "res1"
   ]
  },
  {
   "cell_type": "code",
   "execution_count": 23,
   "metadata": {},
   "outputs": [
    {
     "data": {
      "text/plain": [
       "\n",
       "\tOne Sample t-test\n",
       "\n",
       "data:  my_data$weight\n",
       "t = -9.0783, df = 9, p-value = 1\n",
       "alternative hypothesis: true mean is greater than 25\n",
       "95 percent confidence interval:\n",
       " 18.08895      Inf\n",
       "sample estimates:\n",
       "mean of x \n",
       "    19.25 \n"
      ]
     },
     "metadata": {},
     "output_type": "display_data"
    }
   ],
   "source": [
    "res1  <- t.test(my_data$weight,mu=25,alternative = \"greater\")\n",
    "res1"
   ]
  },
  {
   "cell_type": "code",
   "execution_count": 24,
   "metadata": {},
   "outputs": [
    {
     "name": "stderr",
     "output_type": "stream",
     "text": [
      "Warning message in wilcox.test.default(my_data$weight, mu = 25):\n",
      "\"cannot compute exact p-value with ties\""
     ]
    },
    {
     "data": {
      "text/plain": [
       "\n",
       "\tWilcoxon signed rank test with continuity correction\n",
       "\n",
       "data:  my_data$weight\n",
       "V = 0, p-value = 0.005793\n",
       "alternative hypothesis: true location is not equal to 25\n"
      ]
     },
     "metadata": {},
     "output_type": "display_data"
    }
   ],
   "source": [
    "res  <- wilcox.test(my_data$weight,mu=25)\n",
    "res"
   ]
  },
  {
   "cell_type": "code",
   "execution_count": 25,
   "metadata": {},
   "outputs": [
    {
     "name": "stderr",
     "output_type": "stream",
     "text": [
      "Warning message in wilcox.test.default(my_data$weight, mu = 25, alternative = \"greater\"):\n",
      "\"cannot compute exact p-value with ties\""
     ]
    },
    {
     "data": {
      "text/plain": [
       "\n",
       "\tWilcoxon signed rank test with continuity correction\n",
       "\n",
       "data:  my_data$weight\n",
       "V = 0, p-value = 0.9979\n",
       "alternative hypothesis: true location is greater than 25\n"
      ]
     },
     "metadata": {},
     "output_type": "display_data"
    }
   ],
   "source": [
    "wilcox.test(my_data$weight,mu=25,alternative = \"greater\")"
   ]
  },
  {
   "cell_type": "code",
   "execution_count": 26,
   "metadata": {},
   "outputs": [
    {
     "data": {
      "text/html": [
       "<table>\n",
       "<thead><tr><th scope=col>group</th><th scope=col>weight</th></tr></thead>\n",
       "<tbody>\n",
       "\t<tr><td>Woman</td><td>38.9 </td></tr>\n",
       "\t<tr><td>Woman</td><td>61.2 </td></tr>\n",
       "\t<tr><td>Woman</td><td>73.3 </td></tr>\n",
       "\t<tr><td>Woman</td><td>21.8 </td></tr>\n",
       "\t<tr><td>Woman</td><td>63.4 </td></tr>\n",
       "\t<tr><td>Woman</td><td>64.6 </td></tr>\n",
       "\t<tr><td>Woman</td><td>48.4 </td></tr>\n",
       "\t<tr><td>Woman</td><td>48.8 </td></tr>\n",
       "\t<tr><td>Woman</td><td>48.5 </td></tr>\n",
       "\t<tr><td>Man  </td><td>67.8 </td></tr>\n",
       "\t<tr><td>Man  </td><td>60.0 </td></tr>\n",
       "\t<tr><td>Man  </td><td>63.4 </td></tr>\n",
       "\t<tr><td>Man  </td><td>76.0 </td></tr>\n",
       "\t<tr><td>Man  </td><td>89.4 </td></tr>\n",
       "\t<tr><td>Man  </td><td>73.3 </td></tr>\n",
       "\t<tr><td>Man  </td><td>67.3 </td></tr>\n",
       "\t<tr><td>Man  </td><td>61.3 </td></tr>\n",
       "\t<tr><td>Man  </td><td>62.4 </td></tr>\n",
       "</tbody>\n",
       "</table>\n"
      ],
      "text/latex": [
       "\\begin{tabular}{r|ll}\n",
       " group & weight\\\\\n",
       "\\hline\n",
       "\t Woman & 38.9 \\\\\n",
       "\t Woman & 61.2 \\\\\n",
       "\t Woman & 73.3 \\\\\n",
       "\t Woman & 21.8 \\\\\n",
       "\t Woman & 63.4 \\\\\n",
       "\t Woman & 64.6 \\\\\n",
       "\t Woman & 48.4 \\\\\n",
       "\t Woman & 48.8 \\\\\n",
       "\t Woman & 48.5 \\\\\n",
       "\t Man   & 67.8 \\\\\n",
       "\t Man   & 60.0 \\\\\n",
       "\t Man   & 63.4 \\\\\n",
       "\t Man   & 76.0 \\\\\n",
       "\t Man   & 89.4 \\\\\n",
       "\t Man   & 73.3 \\\\\n",
       "\t Man   & 67.3 \\\\\n",
       "\t Man   & 61.3 \\\\\n",
       "\t Man   & 62.4 \\\\\n",
       "\\end{tabular}\n"
      ],
      "text/markdown": [
       "\n",
       "| group | weight |\n",
       "|---|---|\n",
       "| Woman | 38.9  |\n",
       "| Woman | 61.2  |\n",
       "| Woman | 73.3  |\n",
       "| Woman | 21.8  |\n",
       "| Woman | 63.4  |\n",
       "| Woman | 64.6  |\n",
       "| Woman | 48.4  |\n",
       "| Woman | 48.8  |\n",
       "| Woman | 48.5  |\n",
       "| Man   | 67.8  |\n",
       "| Man   | 60.0  |\n",
       "| Man   | 63.4  |\n",
       "| Man   | 76.0  |\n",
       "| Man   | 89.4  |\n",
       "| Man   | 73.3  |\n",
       "| Man   | 67.3  |\n",
       "| Man   | 61.3  |\n",
       "| Man   | 62.4  |\n",
       "\n"
      ],
      "text/plain": [
       "   group weight\n",
       "1  Woman 38.9  \n",
       "2  Woman 61.2  \n",
       "3  Woman 73.3  \n",
       "4  Woman 21.8  \n",
       "5  Woman 63.4  \n",
       "6  Woman 64.6  \n",
       "7  Woman 48.4  \n",
       "8  Woman 48.8  \n",
       "9  Woman 48.5  \n",
       "10 Man   67.8  \n",
       "11 Man   60.0  \n",
       "12 Man   63.4  \n",
       "13 Man   76.0  \n",
       "14 Man   89.4  \n",
       "15 Man   73.3  \n",
       "16 Man   67.3  \n",
       "17 Man   61.3  \n",
       "18 Man   62.4  "
      ]
     },
     "metadata": {},
     "output_type": "display_data"
    }
   ],
   "source": [
    "#Comparing the means of two independent groups\n",
    "\n",
    " #Unpaired two-samples T-test in R\n",
    "\n",
    " # Data in two numeric vectors\n",
    "\n",
    " women_weight <- c(38.9, 61.2, 73.3, 21.8, 63.4, 64.6, 48.4, 48.8, 48.5)\n",
    "\n",
    " men_weight <- c(67.8, 60, 63.4, 76, 89.4, 73.3, 67.3, 61.3, 62.4)\n",
    "\n",
    " # Create a data frame\n",
    "\n",
    " my_data <- data.frame(\n",
    "\n",
    " group = rep(c(\"Woman\", \"Man\"), each = 9),\n",
    "\n",
    " weight = c(women_weight, men_weight)\n",
    "\n",
    " )\n",
    "\n",
    " my_data"
   ]
  },
  {
   "cell_type": "code",
   "execution_count": 29,
   "metadata": {},
   "outputs": [
    {
     "name": "stderr",
     "output_type": "stream",
     "text": [
      "\n",
      "Attaching package: 'dplyr'\n",
      "\n",
      "The following objects are masked from 'package:stats':\n",
      "\n",
      "    filter, lag\n",
      "\n",
      "The following objects are masked from 'package:base':\n",
      "\n",
      "    intersect, setdiff, setequal, union\n",
      "\n"
     ]
    }
   ],
   "source": [
    "library(dplyr)"
   ]
  },
  {
   "cell_type": "code",
   "execution_count": 30,
   "metadata": {},
   "outputs": [
    {
     "data": {
      "text/plain": [
       "\n",
       "\tShapiro-Wilk normality test\n",
       "\n",
       "data:  weight[group == \"Man\"]\n",
       "W = 0.86425, p-value = 0.1066\n"
      ]
     },
     "metadata": {},
     "output_type": "display_data"
    },
    {
     "data": {
      "text/plain": [
       "\n",
       "\tShapiro-Wilk normality test\n",
       "\n",
       "data:  weight[group == \"Woman\"]\n",
       "W = 0.94266, p-value = 0.6101\n"
      ]
     },
     "metadata": {},
     "output_type": "display_data"
    }
   ],
   "source": [
    "#checking normality assumptions\n",
    "\n",
    " # Shapiro-Wilk normality test for Men's weights\n",
    "\n",
    " with(my_data, shapiro.test(weight[group == \"Man\"]))# p = 0.1\n",
    "\n",
    " # Shapiro-Wilk normality test for Women's weights\n",
    "\n",
    " with(my_data, shapiro.test(weight[group == \"Woman\"])) # p = 0.6"
   ]
  },
  {
   "cell_type": "code",
   "execution_count": 32,
   "metadata": {},
   "outputs": [],
   "source": [
    "\n",
    "# Data in two numeric vectors\n",
    "# ++++++++++++++++++++++++++\n",
    "# Weight of the mice before treatment\n",
    "before <-c(200.1, 190.9, 192.7, 213, 241.4, 196.9, 172.2, 185.5, 205.2, 193.7)\n",
    "# Weight of the mice after treatment\n",
    "after <-c(392.9, 393.2, 345.1, 393, 434, 427.9, 422, 383.9, 392.3, 352.2)\n",
    "# Create a data frame\n",
    "my_data <- data.frame(\n",
    "group = rep(c(\"before\", \"after\"), each = 10),\n",
    "weight = c(before, after)\n",
    ")\n",
    "\n"
   ]
  },
  {
   "cell_type": "code",
   "execution_count": 33,
   "metadata": {},
   "outputs": [
    {
     "data": {
      "text/html": [
       "<table>\n",
       "<thead><tr><th scope=col>group</th><th scope=col>weight</th></tr></thead>\n",
       "<tbody>\n",
       "\t<tr><td>before</td><td>200.1 </td></tr>\n",
       "\t<tr><td>before</td><td>190.9 </td></tr>\n",
       "\t<tr><td>before</td><td>192.7 </td></tr>\n",
       "\t<tr><td>before</td><td>213.0 </td></tr>\n",
       "\t<tr><td>before</td><td>241.4 </td></tr>\n",
       "\t<tr><td>before</td><td>196.9 </td></tr>\n",
       "\t<tr><td>before</td><td>172.2 </td></tr>\n",
       "\t<tr><td>before</td><td>185.5 </td></tr>\n",
       "\t<tr><td>before</td><td>205.2 </td></tr>\n",
       "\t<tr><td>before</td><td>193.7 </td></tr>\n",
       "\t<tr><td>after </td><td>392.9 </td></tr>\n",
       "\t<tr><td>after </td><td>393.2 </td></tr>\n",
       "\t<tr><td>after </td><td>345.1 </td></tr>\n",
       "\t<tr><td>after </td><td>393.0 </td></tr>\n",
       "\t<tr><td>after </td><td>434.0 </td></tr>\n",
       "\t<tr><td>after </td><td>427.9 </td></tr>\n",
       "\t<tr><td>after </td><td>422.0 </td></tr>\n",
       "\t<tr><td>after </td><td>383.9 </td></tr>\n",
       "\t<tr><td>after </td><td>392.3 </td></tr>\n",
       "\t<tr><td>after </td><td>352.2 </td></tr>\n",
       "</tbody>\n",
       "</table>\n"
      ],
      "text/latex": [
       "\\begin{tabular}{r|ll}\n",
       " group & weight\\\\\n",
       "\\hline\n",
       "\t before & 200.1 \\\\\n",
       "\t before & 190.9 \\\\\n",
       "\t before & 192.7 \\\\\n",
       "\t before & 213.0 \\\\\n",
       "\t before & 241.4 \\\\\n",
       "\t before & 196.9 \\\\\n",
       "\t before & 172.2 \\\\\n",
       "\t before & 185.5 \\\\\n",
       "\t before & 205.2 \\\\\n",
       "\t before & 193.7 \\\\\n",
       "\t after  & 392.9 \\\\\n",
       "\t after  & 393.2 \\\\\n",
       "\t after  & 345.1 \\\\\n",
       "\t after  & 393.0 \\\\\n",
       "\t after  & 434.0 \\\\\n",
       "\t after  & 427.9 \\\\\n",
       "\t after  & 422.0 \\\\\n",
       "\t after  & 383.9 \\\\\n",
       "\t after  & 392.3 \\\\\n",
       "\t after  & 352.2 \\\\\n",
       "\\end{tabular}\n"
      ],
      "text/markdown": [
       "\n",
       "| group | weight |\n",
       "|---|---|\n",
       "| before | 200.1  |\n",
       "| before | 190.9  |\n",
       "| before | 192.7  |\n",
       "| before | 213.0  |\n",
       "| before | 241.4  |\n",
       "| before | 196.9  |\n",
       "| before | 172.2  |\n",
       "| before | 185.5  |\n",
       "| before | 205.2  |\n",
       "| before | 193.7  |\n",
       "| after  | 392.9  |\n",
       "| after  | 393.2  |\n",
       "| after  | 345.1  |\n",
       "| after  | 393.0  |\n",
       "| after  | 434.0  |\n",
       "| after  | 427.9  |\n",
       "| after  | 422.0  |\n",
       "| after  | 383.9  |\n",
       "| after  | 392.3  |\n",
       "| after  | 352.2  |\n",
       "\n"
      ],
      "text/plain": [
       "   group  weight\n",
       "1  before 200.1 \n",
       "2  before 190.9 \n",
       "3  before 192.7 \n",
       "4  before 213.0 \n",
       "5  before 241.4 \n",
       "6  before 196.9 \n",
       "7  before 172.2 \n",
       "8  before 185.5 \n",
       "9  before 205.2 \n",
       "10 before 193.7 \n",
       "11 after  392.9 \n",
       "12 after  393.2 \n",
       "13 after  345.1 \n",
       "14 after  393.0 \n",
       "15 after  434.0 \n",
       "16 after  427.9 \n",
       "17 after  422.0 \n",
       "18 after  383.9 \n",
       "19 after  392.3 \n",
       "20 after  352.2 "
      ]
     },
     "metadata": {},
     "output_type": "display_data"
    }
   ],
   "source": [
    "my_data"
   ]
  },
  {
   "cell_type": "code",
   "execution_count": null,
   "metadata": {},
   "outputs": [],
   "source": []
  }
 ],
 "metadata": {
  "kernelspec": {
   "display_name": "R",
   "language": "R",
   "name": "ir"
  },
  "language_info": {
   "codemirror_mode": "r",
   "file_extension": ".r",
   "mimetype": "text/x-r-source",
   "name": "R",
   "pygments_lexer": "r",
   "version": "3.6.1"
  }
 },
 "nbformat": 4,
 "nbformat_minor": 4
}
