{
 "cells": [
  {
   "cell_type": "markdown",
   "metadata": {},
   "source": [
    "ANOVA & Correlation analysis"
   ]
  },
  {
   "cell_type": "code",
   "execution_count": 1,
   "metadata": {},
   "outputs": [],
   "source": [
    "my_data <- PlantGrowth"
   ]
  },
  {
   "cell_type": "code",
   "execution_count": 3,
   "metadata": {},
   "outputs": [
    {
     "data": {
      "text/html": [
       "<table>\n",
       "<thead><tr><th scope=col>weight</th><th scope=col>group</th></tr></thead>\n",
       "<tbody>\n",
       "\t<tr><td>4.17</td><td>ctrl</td></tr>\n",
       "\t<tr><td>5.58</td><td>ctrl</td></tr>\n",
       "\t<tr><td>5.18</td><td>ctrl</td></tr>\n",
       "\t<tr><td>6.11</td><td>ctrl</td></tr>\n",
       "\t<tr><td>4.50</td><td>ctrl</td></tr>\n",
       "\t<tr><td>4.61</td><td>ctrl</td></tr>\n",
       "</tbody>\n",
       "</table>\n"
      ],
      "text/latex": [
       "\\begin{tabular}{r|ll}\n",
       " weight & group\\\\\n",
       "\\hline\n",
       "\t 4.17 & ctrl\\\\\n",
       "\t 5.58 & ctrl\\\\\n",
       "\t 5.18 & ctrl\\\\\n",
       "\t 6.11 & ctrl\\\\\n",
       "\t 4.50 & ctrl\\\\\n",
       "\t 4.61 & ctrl\\\\\n",
       "\\end{tabular}\n"
      ],
      "text/markdown": [
       "\n",
       "| weight | group |\n",
       "|---|---|\n",
       "| 4.17 | ctrl |\n",
       "| 5.58 | ctrl |\n",
       "| 5.18 | ctrl |\n",
       "| 6.11 | ctrl |\n",
       "| 4.50 | ctrl |\n",
       "| 4.61 | ctrl |\n",
       "\n"
      ],
      "text/plain": [
       "  weight group\n",
       "1 4.17   ctrl \n",
       "2 5.58   ctrl \n",
       "3 5.18   ctrl \n",
       "4 6.11   ctrl \n",
       "5 4.50   ctrl \n",
       "6 4.61   ctrl "
      ]
     },
     "metadata": {},
     "output_type": "display_data"
    }
   ],
   "source": [
    "head(my_data)"
   ]
  },
  {
   "cell_type": "code",
   "execution_count": 4,
   "metadata": {},
   "outputs": [
    {
     "name": "stderr",
     "output_type": "stream",
     "text": [
      "\n",
      "Attaching package: 'dplyr'\n",
      "\n",
      "The following objects are masked from 'package:stats':\n",
      "\n",
      "    filter, lag\n",
      "\n",
      "The following objects are masked from 'package:base':\n",
      "\n",
      "    intersect, setdiff, setequal, union\n",
      "\n"
     ]
    }
   ],
   "source": [
    "library(dplyr)"
   ]
  },
  {
   "cell_type": "code",
   "execution_count": 5,
   "metadata": {},
   "outputs": [
    {
     "data": {
      "text/html": [
       "<table>\n",
       "<thead><tr><th scope=col>weight</th><th scope=col>group</th></tr></thead>\n",
       "<tbody>\n",
       "\t<tr><td>6.15</td><td>trt2</td></tr>\n",
       "\t<tr><td>3.83</td><td>trt1</td></tr>\n",
       "\t<tr><td>5.29</td><td>trt2</td></tr>\n",
       "\t<tr><td>5.12</td><td>trt2</td></tr>\n",
       "\t<tr><td>4.50</td><td>ctrl</td></tr>\n",
       "\t<tr><td>4.17</td><td>trt1</td></tr>\n",
       "\t<tr><td>5.87</td><td>trt1</td></tr>\n",
       "\t<tr><td>5.33</td><td>ctrl</td></tr>\n",
       "\t<tr><td>5.26</td><td>trt2</td></tr>\n",
       "\t<tr><td>4.61</td><td>ctrl</td></tr>\n",
       "</tbody>\n",
       "</table>\n"
      ],
      "text/latex": [
       "\\begin{tabular}{r|ll}\n",
       " weight & group\\\\\n",
       "\\hline\n",
       "\t 6.15 & trt2\\\\\n",
       "\t 3.83 & trt1\\\\\n",
       "\t 5.29 & trt2\\\\\n",
       "\t 5.12 & trt2\\\\\n",
       "\t 4.50 & ctrl\\\\\n",
       "\t 4.17 & trt1\\\\\n",
       "\t 5.87 & trt1\\\\\n",
       "\t 5.33 & ctrl\\\\\n",
       "\t 5.26 & trt2\\\\\n",
       "\t 4.61 & ctrl\\\\\n",
       "\\end{tabular}\n"
      ],
      "text/markdown": [
       "\n",
       "| weight | group |\n",
       "|---|---|\n",
       "| 6.15 | trt2 |\n",
       "| 3.83 | trt1 |\n",
       "| 5.29 | trt2 |\n",
       "| 5.12 | trt2 |\n",
       "| 4.50 | ctrl |\n",
       "| 4.17 | trt1 |\n",
       "| 5.87 | trt1 |\n",
       "| 5.33 | ctrl |\n",
       "| 5.26 | trt2 |\n",
       "| 4.61 | ctrl |\n",
       "\n"
      ],
      "text/plain": [
       "   weight group\n",
       "1  6.15   trt2 \n",
       "2  3.83   trt1 \n",
       "3  5.29   trt2 \n",
       "4  5.12   trt2 \n",
       "5  4.50   ctrl \n",
       "6  4.17   trt1 \n",
       "7  5.87   trt1 \n",
       "8  5.33   ctrl \n",
       "9  5.26   trt2 \n",
       "10 4.61   ctrl "
      ]
     },
     "metadata": {},
     "output_type": "display_data"
    }
   ],
   "source": [
    "#  To Show a random sample\n",
    "set.seed(1234)\n",
    "sample_n(my_data, 10)"
   ]
  },
  {
   "cell_type": "markdown",
   "metadata": {},
   "source": [
    "Compututing summary statistics by groups like count, mean, sd:"
   ]
  },
  {
   "cell_type": "code",
   "execution_count": 6,
   "metadata": {},
   "outputs": [
    {
     "data": {
      "text/html": [
       "<table>\n",
       "<thead><tr><th scope=col>group</th><th scope=col>count</th><th scope=col>mean</th><th scope=col>sd</th></tr></thead>\n",
       "<tbody>\n",
       "\t<tr><td>ctrl     </td><td>10       </td><td>5.032    </td><td>0.5830914</td></tr>\n",
       "\t<tr><td>trt1     </td><td>10       </td><td>4.661    </td><td>0.7936757</td></tr>\n",
       "\t<tr><td>trt2     </td><td>10       </td><td>5.526    </td><td>0.4425733</td></tr>\n",
       "</tbody>\n",
       "</table>\n"
      ],
      "text/latex": [
       "\\begin{tabular}{r|llll}\n",
       " group & count & mean & sd\\\\\n",
       "\\hline\n",
       "\t ctrl      & 10        & 5.032     & 0.5830914\\\\\n",
       "\t trt1      & 10        & 4.661     & 0.7936757\\\\\n",
       "\t trt2      & 10        & 5.526     & 0.4425733\\\\\n",
       "\\end{tabular}\n"
      ],
      "text/markdown": [
       "\n",
       "| group | count | mean | sd |\n",
       "|---|---|---|---|\n",
       "| ctrl      | 10        | 5.032     | 0.5830914 |\n",
       "| trt1      | 10        | 4.661     | 0.7936757 |\n",
       "| trt2      | 10        | 5.526     | 0.4425733 |\n",
       "\n"
      ],
      "text/plain": [
       "  group count mean  sd       \n",
       "1 ctrl  10    5.032 0.5830914\n",
       "2 trt1  10    4.661 0.7936757\n",
       "3 trt2  10    5.526 0.4425733"
      ]
     },
     "metadata": {},
     "output_type": "display_data"
    }
   ],
   "source": [
    "group_by(my_data, group) %>%\n",
    "  summarise(\n",
    "    count = n(),\n",
    "    mean = mean(weight, na.rm = TRUE),\n",
    "    sd = sd(weight, na.rm = TRUE)\n",
    "  )"
   ]
  },
  {
   "cell_type": "markdown",
   "metadata": {},
   "source": [
    "Visualize your data"
   ]
  },
  {
   "cell_type": "code",
   "execution_count": 7,
   "metadata": {},
   "outputs": [
    {
     "name": "stderr",
     "output_type": "stream",
     "text": [
      "Registered S3 methods overwritten by 'ggplot2':\n",
      "  method         from \n",
      "  [.quosures     rlang\n",
      "  c.quosures     rlang\n",
      "  print.quosures rlang\n"
     ]
    }
   ],
   "source": [
    "library(ggplot2)"
   ]
  },
  {
   "cell_type": "code",
   "execution_count": 8,
   "metadata": {},
   "outputs": [
    {
     "ename": "ERROR",
     "evalue": "Error in ggboxplot(my_data, x = \"group\", y = \"weight\", color = \"group\", : could not find function \"ggboxplot\"\n",
     "output_type": "error",
     "traceback": [
      "Error in ggboxplot(my_data, x = \"group\", y = \"weight\", color = \"group\", : could not find function \"ggboxplot\"\nTraceback:\n"
     ]
    }
   ],
   "source": [
    "ggboxplot(my_data, x = \"group\", y = \"weight\", \n",
    "          color = \"group\", palette = c(\"#00AFBB\", \"#E7B800\", \"#FC4E07\"),\n",
    "          order = c(\"ctrl\", \"trt1\", \"trt2\"),\n",
    "          ylab = \"Weight\", xlab = \"Treatment\")"
   ]
  },
  {
   "cell_type": "code",
   "execution_count": null,
   "metadata": {},
   "outputs": [],
   "source": []
  }
 ],
 "metadata": {
  "kernelspec": {
   "display_name": "R",
   "language": "R",
   "name": "ir"
  },
  "language_info": {
   "codemirror_mode": "r",
   "file_extension": ".r",
   "mimetype": "text/x-r-source",
   "name": "R",
   "pygments_lexer": "r",
   "version": "3.6.1"
  }
 },
 "nbformat": 4,
 "nbformat_minor": 4
}
