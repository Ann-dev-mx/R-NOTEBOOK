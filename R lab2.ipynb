{
 "cells": [
  {
   "cell_type": "markdown",
   "metadata": {},
   "source": [
    "Working with Vectors in R"
   ]
  },
  {
   "cell_type": "markdown",
   "metadata": {},
   "source": [
    "Create vector ‘class’ to store the class names ‘class1’,’class2’,…,’class5’"
   ]
  },
  {
   "cell_type": "code",
   "execution_count": 16,
   "metadata": {},
   "outputs": [],
   "source": [
    "class  <- c('class1','class2','class3','class4','class5')\n"
   ]
  },
  {
   "cell_type": "markdown",
   "metadata": {},
   "source": [
    "Use assign() function to create a vector ‘avg’ to store the average marks."
   ]
  },
  {
   "cell_type": "code",
   "execution_count": 6,
   "metadata": {},
   "outputs": [
    {
     "data": {
      "text/html": [
       "<ol class=list-inline>\n",
       "\t<li>90</li>\n",
       "\t<li>55</li>\n",
       "\t<li>46</li>\n",
       "\t<li>34</li>\n",
       "\t<li>80</li>\n",
       "</ol>\n"
      ],
      "text/latex": [
       "\\begin{enumerate*}\n",
       "\\item 90\n",
       "\\item 55\n",
       "\\item 46\n",
       "\\item 34\n",
       "\\item 80\n",
       "\\end{enumerate*}\n"
      ],
      "text/markdown": [
       "1. 90\n",
       "2. 55\n",
       "3. 46\n",
       "4. 34\n",
       "5. 80\n",
       "\n",
       "\n"
      ],
      "text/plain": [
       "[1] 90 55 46 34 80"
      ]
     },
     "metadata": {},
     "output_type": "display_data"
    }
   ],
   "source": [
    "assign(\"avg\",c(90,55,46,34,80))\n",
    "avg"
   ]
  },
  {
   "cell_type": "markdown",
   "metadata": {},
   "source": [
    "Display the average mark of class2."
   ]
  },
  {
   "cell_type": "code",
   "execution_count": 7,
   "metadata": {},
   "outputs": [
    {
     "data": {
      "text/html": [
       "55"
      ],
      "text/latex": [
       "55"
      ],
      "text/markdown": [
       "55"
      ],
      "text/plain": [
       "[1] 55"
      ]
     },
     "metadata": {},
     "output_type": "display_data"
    }
   ],
   "source": [
    "avg[c(2)]"
   ]
  },
  {
   "cell_type": "code",
   "execution_count": null,
   "metadata": {},
   "outputs": [],
   "source": [
    "Display all the average marks except class 2."
   ]
  },
  {
   "cell_type": "code",
   "execution_count": 8,
   "metadata": {},
   "outputs": [
    {
     "data": {
      "text/html": [
       "<ol class=list-inline>\n",
       "\t<li>90</li>\n",
       "\t<li>46</li>\n",
       "\t<li>34</li>\n",
       "\t<li>80</li>\n",
       "</ol>\n"
      ],
      "text/latex": [
       "\\begin{enumerate*}\n",
       "\\item 90\n",
       "\\item 46\n",
       "\\item 34\n",
       "\\item 80\n",
       "\\end{enumerate*}\n"
      ],
      "text/markdown": [
       "1. 90\n",
       "2. 46\n",
       "3. 34\n",
       "4. 80\n",
       "\n",
       "\n"
      ],
      "text/plain": [
       "[1] 90 46 34 80"
      ]
     },
     "metadata": {},
     "output_type": "display_data"
    }
   ],
   "source": [
    "avg[c(1,3,4,5)]"
   ]
  },
  {
   "cell_type": "markdown",
   "metadata": {},
   "source": [
    "Access the average mark of class4 by its name."
   ]
  },
  {
   "cell_type": "code",
   "execution_count": 19,
   "metadata": {},
   "outputs": [
    {
     "name": "stdout",
     "output_type": "stream",
     "text": [
      "class4 \n",
      "    34 \n"
     ]
    }
   ],
   "source": [
    "names(avg) <- c(\"class1\",\"class2\",\"class3\",\"class4\",\"class5\")\n",
    "\n",
    "print(avg[c(4)])"
   ]
  },
  {
   "cell_type": "code",
   "execution_count": 30,
   "metadata": {},
   "outputs": [
    {
     "data": {
      "text/html": [
       "<table>\n",
       "<thead><tr><th></th><th scope=col>class</th><th scope=col>avg</th></tr></thead>\n",
       "<tbody>\n",
       "\t<tr><th scope=row>class1</th><td>class1</td><td>90    </td></tr>\n",
       "\t<tr><th scope=row>class2</th><td>class2</td><td>55    </td></tr>\n",
       "\t<tr><th scope=row>class3</th><td>class3</td><td>46    </td></tr>\n",
       "\t<tr><th scope=row>class4</th><td>class4</td><td>34    </td></tr>\n",
       "\t<tr><th scope=row>class5</th><td>class5</td><td>80    </td></tr>\n",
       "</tbody>\n",
       "</table>\n"
      ],
      "text/latex": [
       "\\begin{tabular}{r|ll}\n",
       "  & class & avg\\\\\n",
       "\\hline\n",
       "\tclass1 & class1 & 90    \\\\\n",
       "\tclass2 & class2 & 55    \\\\\n",
       "\tclass3 & class3 & 46    \\\\\n",
       "\tclass4 & class4 & 34    \\\\\n",
       "\tclass5 & class5 & 80    \\\\\n",
       "\\end{tabular}\n"
      ],
      "text/markdown": [
       "\n",
       "| <!--/--> | class | avg |\n",
       "|---|---|---|\n",
       "| class1 | class1 | 90     |\n",
       "| class2 | class2 | 55     |\n",
       "| class3 | class3 | 46     |\n",
       "| class4 | class4 | 34     |\n",
       "| class5 | class5 | 80     |\n",
       "\n"
      ],
      "text/plain": [
       "       class  avg\n",
       "class1 class1 90 \n",
       "class2 class2 55 \n",
       "class3 class3 46 \n",
       "class4 class4 34 \n",
       "class5 class5 80 "
      ]
     },
     "metadata": {},
     "output_type": "display_data"
    }
   ],
   "source": [
    "marks  <- data.frame(class,avg)\n",
    "marks"
   ]
  },
  {
   "cell_type": "markdown",
   "metadata": {},
   "source": [
    "Find the minimum average mark and print the class which scored it."
   ]
  },
  {
   "cell_type": "code",
   "execution_count": 36,
   "metadata": {},
   "outputs": [
    {
     "data": {
      "text/html": [
       "class4\n",
       "<details>\n",
       "\t<summary style=display:list-item;cursor:pointer>\n",
       "\t\t<strong>Levels</strong>:\n",
       "\t</summary>\n",
       "\t<ol class=list-inline>\n",
       "\t\t<li>'class1'</li>\n",
       "\t\t<li>'class2'</li>\n",
       "\t\t<li>'class3'</li>\n",
       "\t\t<li>'class4'</li>\n",
       "\t\t<li>'class5'</li>\n",
       "\t</ol>\n",
       "</details>"
      ],
      "text/latex": [
       "class4\n",
       "\\emph{Levels}: \\begin{enumerate*}\n",
       "\\item 'class1'\n",
       "\\item 'class2'\n",
       "\\item 'class3'\n",
       "\\item 'class4'\n",
       "\\item 'class5'\n",
       "\\end{enumerate*}\n"
      ],
      "text/markdown": [
       "class4\n",
       "**Levels**: 1. 'class1'\n",
       "2. 'class2'\n",
       "3. 'class3'\n",
       "4. 'class4'\n",
       "5. 'class5'\n",
       "\n",
       "\n"
      ],
      "text/plain": [
       "[1] class4\n",
       "Levels: class1 class2 class3 class4 class5"
      ]
     },
     "metadata": {},
     "output_type": "display_data"
    }
   ],
   "source": [
    "marks$class[marks$avg==min(marks$avg)]\n"
   ]
  },
  {
   "cell_type": "markdown",
   "metadata": {},
   "source": [
    "Find the maximum average mark and print the class which scored it."
   ]
  },
  {
   "cell_type": "code",
   "execution_count": 37,
   "metadata": {},
   "outputs": [
    {
     "data": {
      "text/html": [
       "class1\n",
       "<details>\n",
       "\t<summary style=display:list-item;cursor:pointer>\n",
       "\t\t<strong>Levels</strong>:\n",
       "\t</summary>\n",
       "\t<ol class=list-inline>\n",
       "\t\t<li>'class1'</li>\n",
       "\t\t<li>'class2'</li>\n",
       "\t\t<li>'class3'</li>\n",
       "\t\t<li>'class4'</li>\n",
       "\t\t<li>'class5'</li>\n",
       "\t</ol>\n",
       "</details>"
      ],
      "text/latex": [
       "class1\n",
       "\\emph{Levels}: \\begin{enumerate*}\n",
       "\\item 'class1'\n",
       "\\item 'class2'\n",
       "\\item 'class3'\n",
       "\\item 'class4'\n",
       "\\item 'class5'\n",
       "\\end{enumerate*}\n"
      ],
      "text/markdown": [
       "class1\n",
       "**Levels**: 1. 'class1'\n",
       "2. 'class2'\n",
       "3. 'class3'\n",
       "4. 'class4'\n",
       "5. 'class5'\n",
       "\n",
       "\n"
      ],
      "text/plain": [
       "[1] class1\n",
       "Levels: class1 class2 class3 class4 class5"
      ]
     },
     "metadata": {},
     "output_type": "display_data"
    }
   ],
   "source": [
    "marks$class[marks$avg==max(marks$avg)]"
   ]
  },
  {
   "cell_type": "markdown",
   "metadata": {},
   "source": [
    "Find the total of average marks scored by all classes."
   ]
  },
  {
   "cell_type": "code",
   "execution_count": 41,
   "metadata": {},
   "outputs": [
    {
     "data": {
      "text/html": [],
      "text/latex": [],
      "text/markdown": [],
      "text/plain": [
       "numeric(0)"
      ]
     },
     "metadata": {},
     "output_type": "display_data"
    }
   ],
   "source": [
    "s  <- marks$avg[marks$avg==sum(marks$avg)]\n",
    "s"
   ]
  },
  {
   "cell_type": "markdown",
   "metadata": {},
   "source": [
    "Find the total of average marks scored by all classes."
   ]
  },
  {
   "cell_type": "code",
   "execution_count": 44,
   "metadata": {},
   "outputs": [
    {
     "data": {
      "text/html": [
       "305"
      ],
      "text/latex": [
       "305"
      ],
      "text/markdown": [
       "305"
      ],
      "text/plain": [
       "[1] 305"
      ]
     },
     "metadata": {},
     "output_type": "display_data"
    }
   ],
   "source": [
    "sum(avg)"
   ]
  },
  {
   "cell_type": "code",
   "execution_count": null,
   "metadata": {},
   "outputs": [],
   "source": [
    "Find the mean of the average marks scored by all classes."
   ]
  },
  {
   "cell_type": "code",
   "execution_count": 45,
   "metadata": {},
   "outputs": [
    {
     "data": {
      "text/html": [
       "61"
      ],
      "text/latex": [
       "61"
      ],
      "text/markdown": [
       "61"
      ],
      "text/plain": [
       "[1] 61"
      ]
     },
     "metadata": {},
     "output_type": "display_data"
    }
   ],
   "source": [
    "mean(avg)"
   ]
  },
  {
   "cell_type": "markdown",
   "metadata": {},
   "source": [
    "Find the standard deviation of the average marks scored by all classes."
   ]
  },
  {
   "cell_type": "code",
   "execution_count": 46,
   "metadata": {},
   "outputs": [
    {
     "data": {
      "text/html": [
       "23.4093998214393"
      ],
      "text/latex": [
       "23.4093998214393"
      ],
      "text/markdown": [
       "23.4093998214393"
      ],
      "text/plain": [
       "[1] 23.4094"
      ]
     },
     "metadata": {},
     "output_type": "display_data"
    }
   ],
   "source": [
    "sd(avg)"
   ]
  },
  {
   "cell_type": "markdown",
   "metadata": {},
   "source": [
    "Arrange the average marks in ascending order."
   ]
  },
  {
   "cell_type": "code",
   "execution_count": 47,
   "metadata": {},
   "outputs": [
    {
     "data": {
      "text/html": [
       "<dl class=dl-horizontal>\n",
       "\t<dt>class4</dt>\n",
       "\t\t<dd>34</dd>\n",
       "\t<dt>class3</dt>\n",
       "\t\t<dd>46</dd>\n",
       "\t<dt>class2</dt>\n",
       "\t\t<dd>55</dd>\n",
       "\t<dt>class5</dt>\n",
       "\t\t<dd>80</dd>\n",
       "\t<dt>class1</dt>\n",
       "\t\t<dd>90</dd>\n",
       "</dl>\n"
      ],
      "text/latex": [
       "\\begin{description*}\n",
       "\\item[class4] 34\n",
       "\\item[class3] 46\n",
       "\\item[class2] 55\n",
       "\\item[class5] 80\n",
       "\\item[class1] 90\n",
       "\\end{description*}\n"
      ],
      "text/markdown": [
       "class4\n",
       ":   34class3\n",
       ":   46class2\n",
       ":   55class5\n",
       ":   80class1\n",
       ":   90\n",
       "\n"
      ],
      "text/plain": [
       "class4 class3 class2 class5 class1 \n",
       "    34     46     55     80     90 "
      ]
     },
     "metadata": {},
     "output_type": "display_data"
    }
   ],
   "source": [
    "sort(avg)"
   ]
  },
  {
   "cell_type": "markdown",
   "metadata": {},
   "source": [
    "Create a vector classes by repeat the vector class twice."
   ]
  },
  {
   "cell_type": "code",
   "execution_count": 50,
   "metadata": {},
   "outputs": [
    {
     "data": {
      "text/html": [
       "<ol class=list-inline>\n",
       "\t<li>'class1'</li>\n",
       "\t<li>'class2'</li>\n",
       "\t<li>'class3'</li>\n",
       "\t<li>'class4'</li>\n",
       "\t<li>'class5'</li>\n",
       "\t<li>'class1'</li>\n",
       "\t<li>'class2'</li>\n",
       "\t<li>'class3'</li>\n",
       "\t<li>'class4'</li>\n",
       "\t<li>'class5'</li>\n",
       "</ol>\n"
      ],
      "text/latex": [
       "\\begin{enumerate*}\n",
       "\\item 'class1'\n",
       "\\item 'class2'\n",
       "\\item 'class3'\n",
       "\\item 'class4'\n",
       "\\item 'class5'\n",
       "\\item 'class1'\n",
       "\\item 'class2'\n",
       "\\item 'class3'\n",
       "\\item 'class4'\n",
       "\\item 'class5'\n",
       "\\end{enumerate*}\n"
      ],
      "text/markdown": [
       "1. 'class1'\n",
       "2. 'class2'\n",
       "3. 'class3'\n",
       "4. 'class4'\n",
       "5. 'class5'\n",
       "6. 'class1'\n",
       "7. 'class2'\n",
       "8. 'class3'\n",
       "9. 'class4'\n",
       "10. 'class5'\n",
       "\n",
       "\n"
      ],
      "text/plain": [
       " [1] \"class1\" \"class2\" \"class3\" \"class4\" \"class5\" \"class1\" \"class2\" \"class3\"\n",
       " [9] \"class4\" \"class5\""
      ]
     },
     "metadata": {},
     "output_type": "display_data"
    }
   ],
   "source": [
    "classes  <- rep(c(class), times = 2)\n",
    "classes"
   ]
  },
  {
   "cell_type": "markdown",
   "metadata": {},
   "source": [
    "Create a vector marks by repeating each average mark twice."
   ]
  },
  {
   "cell_type": "code",
   "execution_count": 51,
   "metadata": {},
   "outputs": [
    {
     "data": {
      "text/html": [
       "<dl class=dl-horizontal>\n",
       "\t<dt>class1</dt>\n",
       "\t\t<dd>90</dd>\n",
       "\t<dt>class2</dt>\n",
       "\t\t<dd>55</dd>\n",
       "\t<dt>class3</dt>\n",
       "\t\t<dd>46</dd>\n",
       "\t<dt>class4</dt>\n",
       "\t\t<dd>34</dd>\n",
       "\t<dt>class5</dt>\n",
       "\t\t<dd>80</dd>\n",
       "\t<dt>class1</dt>\n",
       "\t\t<dd>90</dd>\n",
       "\t<dt>class2</dt>\n",
       "\t\t<dd>55</dd>\n",
       "\t<dt>class3</dt>\n",
       "\t\t<dd>46</dd>\n",
       "\t<dt>class4</dt>\n",
       "\t\t<dd>34</dd>\n",
       "\t<dt>class5</dt>\n",
       "\t\t<dd>80</dd>\n",
       "</dl>\n"
      ],
      "text/latex": [
       "\\begin{description*}\n",
       "\\item[class1] 90\n",
       "\\item[class2] 55\n",
       "\\item[class3] 46\n",
       "\\item[class4] 34\n",
       "\\item[class5] 80\n",
       "\\item[class1] 90\n",
       "\\item[class2] 55\n",
       "\\item[class3] 46\n",
       "\\item[class4] 34\n",
       "\\item[class5] 80\n",
       "\\end{description*}\n"
      ],
      "text/markdown": [
       "class1\n",
       ":   90class2\n",
       ":   55class3\n",
       ":   46class4\n",
       ":   34class5\n",
       ":   80class1\n",
       ":   90class2\n",
       ":   55class3\n",
       ":   46class4\n",
       ":   34class5\n",
       ":   80\n",
       "\n"
      ],
      "text/plain": [
       "class1 class2 class3 class4 class5 class1 class2 class3 class4 class5 \n",
       "    90     55     46     34     80     90     55     46     34     80 "
      ]
     },
     "metadata": {},
     "output_type": "display_data"
    }
   ],
   "source": [
    "marks1  <- rep(c(avg), times = 2)\n",
    "marks1"
   ]
  },
  {
   "cell_type": "markdown",
   "metadata": {},
   "source": [
    "Create a vector ‘report’ by adding the vector ‘avg’ with a sequence of 10 to 1 and find its length."
   ]
  },
  {
   "cell_type": "code",
   "execution_count": 53,
   "metadata": {},
   "outputs": [
    {
     "data": {
      "text/html": [
       "<dl class=dl-horizontal>\n",
       "\t<dt>class1</dt>\n",
       "\t\t<dd>90</dd>\n",
       "\t<dt>class2</dt>\n",
       "\t\t<dd>55</dd>\n",
       "\t<dt>class3</dt>\n",
       "\t\t<dd>46</dd>\n",
       "\t<dt>class4</dt>\n",
       "\t\t<dd>34</dd>\n",
       "\t<dt>class5</dt>\n",
       "\t\t<dd>80</dd>\n",
       "\t<dt>6</dt>\n",
       "\t\t<dd>10</dd>\n",
       "\t<dt>7</dt>\n",
       "\t\t<dd>9</dd>\n",
       "\t<dt>8</dt>\n",
       "\t\t<dd>8</dd>\n",
       "\t<dt>9</dt>\n",
       "\t\t<dd>7</dd>\n",
       "\t<dt>10</dt>\n",
       "\t\t<dd>6</dd>\n",
       "\t<dt>11</dt>\n",
       "\t\t<dd>5</dd>\n",
       "\t<dt>12</dt>\n",
       "\t\t<dd>4</dd>\n",
       "\t<dt>13</dt>\n",
       "\t\t<dd>3</dd>\n",
       "\t<dt>14</dt>\n",
       "\t\t<dd>2</dd>\n",
       "\t<dt>15</dt>\n",
       "\t\t<dd>1</dd>\n",
       "</dl>\n"
      ],
      "text/latex": [
       "\\begin{description*}\n",
       "\\item[class1] 90\n",
       "\\item[class2] 55\n",
       "\\item[class3] 46\n",
       "\\item[class4] 34\n",
       "\\item[class5] 80\n",
       "\\item[6] 10\n",
       "\\item[7] 9\n",
       "\\item[8] 8\n",
       "\\item[9] 7\n",
       "\\item[10] 6\n",
       "\\item[11] 5\n",
       "\\item[12] 4\n",
       "\\item[13] 3\n",
       "\\item[14] 2\n",
       "\\item[15] 1\n",
       "\\end{description*}\n"
      ],
      "text/markdown": [
       "class1\n",
       ":   90class2\n",
       ":   55class3\n",
       ":   46class4\n",
       ":   34class5\n",
       ":   806\n",
       ":   107\n",
       ":   98\n",
       ":   89\n",
       ":   710\n",
       ":   611\n",
       ":   512\n",
       ":   413\n",
       ":   314\n",
       ":   215\n",
       ":   1\n",
       "\n"
      ],
      "text/plain": [
       "class1 class2 class3 class4 class5                                           \n",
       "    90     55     46     34     80     10      9      8      7      6      5 \n",
       "                            \n",
       "     4      3      2      1 "
      ]
     },
     "metadata": {},
     "output_type": "display_data"
    },
    {
     "data": {
      "text/html": [
       "15"
      ],
      "text/latex": [
       "15"
      ],
      "text/markdown": [
       "15"
      ],
      "text/plain": [
       "[1] 15"
      ]
     },
     "metadata": {},
     "output_type": "display_data"
    }
   ],
   "source": [
    "report  <- c(avg,10:1)\n",
    "report\n",
    "length(report)"
   ]
  },
  {
   "cell_type": "markdown",
   "metadata": {},
   "source": [
    "dentify the classes for which average marks>70."
   ]
  },
  {
   "cell_type": "code",
   "execution_count": 54,
   "metadata": {},
   "outputs": [
    {
     "data": {
      "text/html": [
       "<ol class=list-inline>\n",
       "\t<li>class1</li>\n",
       "\t<li>class5</li>\n",
       "</ol>\n",
       "\n",
       "<details>\n",
       "\t<summary style=display:list-item;cursor:pointer>\n",
       "\t\t<strong>Levels</strong>:\n",
       "\t</summary>\n",
       "\t<ol class=list-inline>\n",
       "\t\t<li>'class1'</li>\n",
       "\t\t<li>'class2'</li>\n",
       "\t\t<li>'class3'</li>\n",
       "\t\t<li>'class4'</li>\n",
       "\t\t<li>'class5'</li>\n",
       "\t</ol>\n",
       "</details>"
      ],
      "text/latex": [
       "\\begin{enumerate*}\n",
       "\\item class1\n",
       "\\item class5\n",
       "\\end{enumerate*}\n",
       "\n",
       "\\emph{Levels}: \\begin{enumerate*}\n",
       "\\item 'class1'\n",
       "\\item 'class2'\n",
       "\\item 'class3'\n",
       "\\item 'class4'\n",
       "\\item 'class5'\n",
       "\\end{enumerate*}\n"
      ],
      "text/markdown": [
       "1. class1\n",
       "2. class5\n",
       "\n",
       "\n",
       "\n",
       "**Levels**: 1. 'class1'\n",
       "2. 'class2'\n",
       "3. 'class3'\n",
       "4. 'class4'\n",
       "5. 'class5'\n",
       "\n",
       "\n"
      ],
      "text/plain": [
       "[1] class1 class5\n",
       "Levels: class1 class2 class3 class4 class5"
      ]
     },
     "metadata": {},
     "output_type": "display_data"
    }
   ],
   "source": [
    "marks$class[marks$avg>70]"
   ]
  },
  {
   "cell_type": "markdown",
   "metadata": {},
   "source": [
    "Create a vector ‘random’ by generating 5 random numbers between minimum value and maximum value of vector ‘avg’."
   ]
  },
  {
   "cell_type": "code",
   "execution_count": 55,
   "metadata": {},
   "outputs": [
    {
     "data": {
      "text/html": [
       "<ol class=list-inline>\n",
       "\t<li>69.2969342749566</li>\n",
       "\t<li>47.5490694548935</li>\n",
       "\t<li>77.698373330757</li>\n",
       "\t<li>83.8493970744312</li>\n",
       "\t<li>84.2051642239094</li>\n",
       "</ol>\n"
      ],
      "text/latex": [
       "\\begin{enumerate*}\n",
       "\\item 69.2969342749566\n",
       "\\item 47.5490694548935\n",
       "\\item 77.698373330757\n",
       "\\item 83.8493970744312\n",
       "\\item 84.2051642239094\n",
       "\\end{enumerate*}\n"
      ],
      "text/markdown": [
       "1. 69.2969342749566\n",
       "2. 47.5490694548935\n",
       "3. 77.698373330757\n",
       "4. 83.8493970744312\n",
       "5. 84.2051642239094\n",
       "\n",
       "\n"
      ],
      "text/plain": [
       "[1] 69.29693 47.54907 77.69837 83.84940 84.20516"
      ]
     },
     "metadata": {},
     "output_type": "display_data"
    }
   ],
   "source": [
    "random  <- runif(5,min(marks$avg),max(marks$avg))\n",
    "random"
   ]
  },
  {
   "cell_type": "markdown",
   "metadata": {},
   "source": [
    "Create a list to maintain the details of a student such as registration number, name, \n",
    "no. of courses registered and marks in each subject."
   ]
  },
  {
   "cell_type": "code",
   "execution_count": 71,
   "metadata": {},
   "outputs": [
    {
     "data": {
      "text/html": [
       "<dl>\n",
       "\t<dt>$regno</dt>\n",
       "\t\t<dd>'20MCS100'</dd>\n",
       "\t<dt>$name</dt>\n",
       "\t\t<dd>'ann'</dd>\n",
       "\t<dt>$num_of_course</dt>\n",
       "\t\t<dd>6</dd>\n",
       "\t<dt>$sub1</dt>\n",
       "\t\t<dd>88</dd>\n",
       "\t<dt>$sub2</dt>\n",
       "\t\t<dd>93</dd>\n",
       "\t<dt>$sub3</dt>\n",
       "\t\t<dd>90</dd>\n",
       "\t<dt>$sub4</dt>\n",
       "\t\t<dd>78</dd>\n",
       "\t<dt>$sub5</dt>\n",
       "\t\t<dd>85</dd>\n",
       "\t<dt>$sub6</dt>\n",
       "\t\t<dd>46</dd>\n",
       "</dl>\n"
      ],
      "text/latex": [
       "\\begin{description}\n",
       "\\item[\\$regno] '20MCS100'\n",
       "\\item[\\$name] 'ann'\n",
       "\\item[\\$num\\_of\\_course] 6\n",
       "\\item[\\$sub1] 88\n",
       "\\item[\\$sub2] 93\n",
       "\\item[\\$sub3] 90\n",
       "\\item[\\$sub4] 78\n",
       "\\item[\\$sub5] 85\n",
       "\\item[\\$sub6] 46\n",
       "\\end{description}\n"
      ],
      "text/markdown": [
       "$regno\n",
       ":   '20MCS100'\n",
       "$name\n",
       ":   'ann'\n",
       "$num_of_course\n",
       ":   6\n",
       "$sub1\n",
       ":   88\n",
       "$sub2\n",
       ":   93\n",
       "$sub3\n",
       ":   90\n",
       "$sub4\n",
       ":   78\n",
       "$sub5\n",
       ":   85\n",
       "$sub6\n",
       ":   46\n",
       "\n",
       "\n"
      ],
      "text/plain": [
       "$regno\n",
       "[1] \"20MCS100\"\n",
       "\n",
       "$name\n",
       "[1] \"ann\"\n",
       "\n",
       "$num_of_course\n",
       "[1] 6\n",
       "\n",
       "$sub1\n",
       "[1] 88\n",
       "\n",
       "$sub2\n",
       "[1] 93\n",
       "\n",
       "$sub3\n",
       "[1] 90\n",
       "\n",
       "$sub4\n",
       "[1] 78\n",
       "\n",
       "$sub5\n",
       "[1] 85\n",
       "\n",
       "$sub6\n",
       "[1] 46\n"
      ]
     },
     "metadata": {},
     "output_type": "display_data"
    }
   ],
   "source": [
    "details=list(regno=\"20MCS100\",name=\"ann\",num_of_course=6,sub1=88,sub2=93,sub3=90,sub4=78,sub5=85,sub6=46)\n",
    "details"
   ]
  },
  {
   "cell_type": "markdown",
   "metadata": {},
   "source": [
    "Retrieve the name of the students."
   ]
  },
  {
   "cell_type": "code",
   "execution_count": 72,
   "metadata": {},
   "outputs": [
    {
     "name": "stdout",
     "output_type": "stream",
     "text": [
      "[1] \"ann\"\n"
     ]
    }
   ],
   "source": [
    "print(details$name)"
   ]
  },
  {
   "cell_type": "markdown",
   "metadata": {},
   "source": [
    "Extract only the registration number and the marks of the students."
   ]
  },
  {
   "cell_type": "code",
   "execution_count": 73,
   "metadata": {},
   "outputs": [
    {
     "name": "stdout",
     "output_type": "stream",
     "text": [
      "$regno\n",
      "[1] \"20MCS100\"\n",
      "\n",
      "$sub1\n",
      "[1] 88\n",
      "\n"
     ]
    }
   ],
   "source": [
    "print(details[c(1,4)])"
   ]
  },
  {
   "cell_type": "markdown",
   "metadata": {},
   "source": [
    " Access the mark in the first course registered.\n",
    "Modify the mark entry in the last course as 5 more than the existing mark."
   ]
  },
  {
   "cell_type": "code",
   "execution_count": 74,
   "metadata": {},
   "outputs": [
    {
     "data": {
      "text/html": [
       "88"
      ],
      "text/latex": [
       "88"
      ],
      "text/markdown": [
       "88"
      ],
      "text/plain": [
       "[1] 88"
      ]
     },
     "metadata": {},
     "output_type": "display_data"
    }
   ],
   "source": [
    "details$sub1"
   ]
  },
  {
   "cell_type": "code",
   "execution_count": 76,
   "metadata": {},
   "outputs": [
    {
     "data": {
      "text/html": [
       "<strong>$sub5</strong> = 95"
      ],
      "text/latex": [
       "\\textbf{\\$sub5} = 95"
      ],
      "text/markdown": [
       "**$sub5** = 95"
      ],
      "text/plain": [
       "$sub5\n",
       "[1] 95\n"
      ]
     },
     "metadata": {},
     "output_type": "display_data"
    }
   ],
   "source": [
    "\n",
    "details[8]<-(details$sub5)+5\n",
    "details[8]"
   ]
  }
 ],
 "metadata": {
  "kernelspec": {
   "display_name": "R",
   "language": "R",
   "name": "ir"
  },
  "language_info": {
   "codemirror_mode": "r",
   "file_extension": ".r",
   "mimetype": "text/x-r-source",
   "name": "R",
   "pygments_lexer": "r",
   "version": "3.6.1"
  }
 },
 "nbformat": 4,
 "nbformat_minor": 4
}
