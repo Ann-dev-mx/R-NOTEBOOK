{
 "cells": [
  {
   "cell_type": "code",
   "execution_count": 1,
   "metadata": {},
   "outputs": [],
   "source": [
    "library(MASS)"
   ]
  },
  {
   "cell_type": "code",
   "execution_count": 2,
   "metadata": {},
   "outputs": [
    {
     "name": "stdout",
     "output_type": "stream",
     "text": [
      "'data.frame':\t237 obs. of  12 variables:\n",
      " $ Sex   : Factor w/ 2 levels \"Female\",\"Male\": 1 2 2 2 2 1 2 1 2 2 ...\n",
      " $ Wr.Hnd: num  18.5 19.5 18 18.8 20 18 17.7 17 20 18.5 ...\n",
      " $ NW.Hnd: num  18 20.5 13.3 18.9 20 17.7 17.7 17.3 19.5 18.5 ...\n",
      " $ W.Hnd : Factor w/ 2 levels \"Left\",\"Right\": 2 1 2 2 2 2 2 2 2 2 ...\n",
      " $ Fold  : Factor w/ 3 levels \"L on R\",\"Neither\",..: 3 3 1 3 2 1 1 3 3 3 ...\n",
      " $ Pulse : int  92 104 87 NA 35 64 83 74 72 90 ...\n",
      " $ Clap  : Factor w/ 3 levels \"Left\",\"Neither\",..: 1 1 2 2 3 3 3 3 3 3 ...\n",
      " $ Exer  : Factor w/ 3 levels \"Freq\",\"None\",..: 3 2 2 2 3 3 1 1 3 3 ...\n",
      " $ Smoke : Factor w/ 4 levels \"Heavy\",\"Never\",..: 2 4 3 2 2 2 2 2 2 2 ...\n",
      " $ Height: num  173 178 NA 160 165 ...\n",
      " $ M.I   : Factor w/ 2 levels \"Imperial\",\"Metric\": 2 1 NA 2 2 1 1 2 2 2 ...\n",
      " $ Age   : num  18.2 17.6 16.9 20.3 23.7 ...\n"
     ]
    }
   ],
   "source": [
    "str(survey)"
   ]
  },
  {
   "cell_type": "code",
   "execution_count": 4,
   "metadata": {},
   "outputs": [
    {
     "data": {
      "text/html": [
       "<table>\n",
       "<thead><tr><th scope=col>Sex</th><th scope=col>Wr.Hnd</th><th scope=col>NW.Hnd</th><th scope=col>W.Hnd</th><th scope=col>Fold</th><th scope=col>Pulse</th><th scope=col>Clap</th><th scope=col>Exer</th><th scope=col>Smoke</th><th scope=col>Height</th><th scope=col>M.I</th><th scope=col>Age</th></tr></thead>\n",
       "<tbody>\n",
       "\t<tr><td>Female  </td><td>18.5    </td><td>18.0    </td><td>Right   </td><td>R on L  </td><td> 92     </td><td>Left    </td><td>Some    </td><td>Never   </td><td>173.00  </td><td>Metric  </td><td>18.250  </td></tr>\n",
       "\t<tr><td>Male    </td><td>19.5    </td><td>20.5    </td><td>Left    </td><td>R on L  </td><td>104     </td><td>Left    </td><td>None    </td><td>Regul   </td><td>177.80  </td><td>Imperial</td><td>17.583  </td></tr>\n",
       "\t<tr><td>Male    </td><td>18.0    </td><td>13.3    </td><td>Right   </td><td>L on R  </td><td> 87     </td><td>Neither </td><td>None    </td><td>Occas   </td><td>    NA  </td><td>NA      </td><td>16.917  </td></tr>\n",
       "\t<tr><td>Male    </td><td>18.8    </td><td>18.9    </td><td>Right   </td><td>R on L  </td><td> NA     </td><td>Neither </td><td>None    </td><td>Never   </td><td>160.00  </td><td>Metric  </td><td>20.333  </td></tr>\n",
       "\t<tr><td>Male    </td><td>20.0    </td><td>20.0    </td><td>Right   </td><td>Neither </td><td> 35     </td><td>Right   </td><td>Some    </td><td>Never   </td><td>165.00  </td><td>Metric  </td><td>23.667  </td></tr>\n",
       "\t<tr><td>Female  </td><td>18.0    </td><td>17.7    </td><td>Right   </td><td>L on R  </td><td> 64     </td><td>Right   </td><td>Some    </td><td>Never   </td><td>172.72  </td><td>Imperial</td><td>21.000  </td></tr>\n",
       "</tbody>\n",
       "</table>\n"
      ],
      "text/latex": [
       "\\begin{tabular}{r|llllllllllll}\n",
       " Sex & Wr.Hnd & NW.Hnd & W.Hnd & Fold & Pulse & Clap & Exer & Smoke & Height & M.I & Age\\\\\n",
       "\\hline\n",
       "\t Female   & 18.5     & 18.0     & Right    & R on L   &  92      & Left     & Some     & Never    & 173.00   & Metric   & 18.250  \\\\\n",
       "\t Male     & 19.5     & 20.5     & Left     & R on L   & 104      & Left     & None     & Regul    & 177.80   & Imperial & 17.583  \\\\\n",
       "\t Male     & 18.0     & 13.3     & Right    & L on R   &  87      & Neither  & None     & Occas    &     NA   & NA       & 16.917  \\\\\n",
       "\t Male     & 18.8     & 18.9     & Right    & R on L   &  NA      & Neither  & None     & Never    & 160.00   & Metric   & 20.333  \\\\\n",
       "\t Male     & 20.0     & 20.0     & Right    & Neither  &  35      & Right    & Some     & Never    & 165.00   & Metric   & 23.667  \\\\\n",
       "\t Female   & 18.0     & 17.7     & Right    & L on R   &  64      & Right    & Some     & Never    & 172.72   & Imperial & 21.000  \\\\\n",
       "\\end{tabular}\n"
      ],
      "text/markdown": [
       "\n",
       "| Sex | Wr.Hnd | NW.Hnd | W.Hnd | Fold | Pulse | Clap | Exer | Smoke | Height | M.I | Age |\n",
       "|---|---|---|---|---|---|---|---|---|---|---|---|\n",
       "| Female   | 18.5     | 18.0     | Right    | R on L   |  92      | Left     | Some     | Never    | 173.00   | Metric   | 18.250   |\n",
       "| Male     | 19.5     | 20.5     | Left     | R on L   | 104      | Left     | None     | Regul    | 177.80   | Imperial | 17.583   |\n",
       "| Male     | 18.0     | 13.3     | Right    | L on R   |  87      | Neither  | None     | Occas    |     NA   | NA       | 16.917   |\n",
       "| Male     | 18.8     | 18.9     | Right    | R on L   |  NA      | Neither  | None     | Never    | 160.00   | Metric   | 20.333   |\n",
       "| Male     | 20.0     | 20.0     | Right    | Neither  |  35      | Right    | Some     | Never    | 165.00   | Metric   | 23.667   |\n",
       "| Female   | 18.0     | 17.7     | Right    | L on R   |  64      | Right    | Some     | Never    | 172.72   | Imperial | 21.000   |\n",
       "\n"
      ],
      "text/plain": [
       "  Sex    Wr.Hnd NW.Hnd W.Hnd Fold    Pulse Clap    Exer Smoke Height M.I     \n",
       "1 Female 18.5   18.0   Right R on L   92   Left    Some Never 173.00 Metric  \n",
       "2 Male   19.5   20.5   Left  R on L  104   Left    None Regul 177.80 Imperial\n",
       "3 Male   18.0   13.3   Right L on R   87   Neither None Occas     NA NA      \n",
       "4 Male   18.8   18.9   Right R on L   NA   Neither None Never 160.00 Metric  \n",
       "5 Male   20.0   20.0   Right Neither  35   Right   Some Never 165.00 Metric  \n",
       "6 Female 18.0   17.7   Right L on R   64   Right   Some Never 172.72 Imperial\n",
       "  Age   \n",
       "1 18.250\n",
       "2 17.583\n",
       "3 16.917\n",
       "4 20.333\n",
       "5 23.667\n",
       "6 21.000"
      ]
     },
     "metadata": {},
     "output_type": "display_data"
    }
   ],
   "source": [
    "head(survey)"
   ]
  },
  {
   "cell_type": "markdown",
   "metadata": {},
   "source": [
    "List the rows of data that has missing values.\n"
   ]
  },
  {
   "cell_type": "code",
   "execution_count": 8,
   "metadata": {},
   "outputs": [
    {
     "data": {
      "text/html": [
       "<table>\n",
       "<thead><tr><th></th><th scope=col>Sex</th><th scope=col>Wr.Hnd</th><th scope=col>NW.Hnd</th><th scope=col>W.Hnd</th><th scope=col>Fold</th><th scope=col>Pulse</th><th scope=col>Clap</th><th scope=col>Exer</th><th scope=col>Smoke</th><th scope=col>Height</th><th scope=col>M.I</th><th scope=col>Age</th></tr></thead>\n",
       "<tbody>\n",
       "\t<tr><th scope=row>3</th><td>Male    </td><td>18.0    </td><td>13.3    </td><td>Right   </td><td>L on R  </td><td>87      </td><td>Neither </td><td>None    </td><td>Occas   </td><td>    NA  </td><td>NA      </td><td>16.917  </td></tr>\n",
       "\t<tr><th scope=row>4</th><td>Male    </td><td>18.8    </td><td>18.9    </td><td>Right   </td><td>R on L  </td><td>NA      </td><td>Neither </td><td>None    </td><td>Never   </td><td>160.00  </td><td>Metric  </td><td>20.333  </td></tr>\n",
       "\t<tr><th scope=row>12</th><td>Male    </td><td>21.0    </td><td>21.0    </td><td>Right   </td><td>R on L  </td><td>68      </td><td>Left    </td><td>Freq    </td><td>Never   </td><td>    NA  </td><td>NA      </td><td>18.250  </td></tr>\n",
       "\t<tr><th scope=row>13</th><td>Female  </td><td>16.0    </td><td>16.0    </td><td>Right   </td><td>L on R  </td><td>NA      </td><td>Right   </td><td>Some    </td><td>Never   </td><td>155.00  </td><td>Metric  </td><td>18.750  </td></tr>\n",
       "\t<tr><th scope=row>15</th><td>Male    </td><td>16.0    </td><td>15.5    </td><td>Right   </td><td>R on L  </td><td>60      </td><td>Right   </td><td>Some    </td><td>Never   </td><td>    NA  </td><td>NA      </td><td>17.167  </td></tr>\n",
       "\t<tr><th scope=row>16</th><td>Female  </td><td>17.5    </td><td>17.0    </td><td>Right   </td><td>R on L  </td><td>NA      </td><td>Right   </td><td>Freq    </td><td>Never   </td><td>156.00  </td><td>Metric  </td><td>17.167  </td></tr>\n",
       "\t<tr><th scope=row>19</th><td>Male    </td><td>20.5    </td><td>20.5    </td><td>Right   </td><td>L on R  </td><td>NA      </td><td>Left    </td><td>Some    </td><td>Never   </td><td>190.50  </td><td>Imperial</td><td>19.750  </td></tr>\n",
       "\t<tr><th scope=row>25</th><td>Female  </td><td>17.0    </td><td>17.5    </td><td>Right   </td><td>R on L  </td><td>64      </td><td>Left    </td><td>Some    </td><td>Never   </td><td>    NA  </td><td>NA      </td><td>19.167  </td></tr>\n",
       "\t<tr><th scope=row>26</th><td>Male    </td><td>18.5    </td><td>18.5    </td><td>Right   </td><td>Neither </td><td>90      </td><td>Neither </td><td>Some    </td><td>Never   </td><td>    NA  </td><td>NA      </td><td>17.583  </td></tr>\n",
       "\t<tr><th scope=row>29</th><td>Male    </td><td>17.8    </td><td>17.8    </td><td>Right   </td><td>L on R  </td><td>76      </td><td>Neither </td><td>Freq    </td><td>Never   </td><td>    NA  </td><td>NA      </td><td>21.917  </td></tr>\n",
       "\t<tr><th scope=row>31</th><td>Female  </td><td>18.5    </td><td>18.0    </td><td>Right   </td><td>R on L  </td><td>76      </td><td>Right   </td><td>None    </td><td>Occas   </td><td>    NA  </td><td>NA      </td><td>41.583  </td></tr>\n",
       "\t<tr><th scope=row>35</th><td>Male    </td><td>18.0    </td><td>19.0    </td><td>Right   </td><td>L on R  </td><td>54      </td><td>Neither </td><td>Some    </td><td>Regul   </td><td>    NA  </td><td>NA      </td><td>17.750  </td></tr>\n",
       "\t<tr><th scope=row>37</th><td>Female  </td><td>16.0    </td><td>16.5    </td><td>Right   </td><td>L on R  </td><td>NA      </td><td>Right   </td><td>Some    </td><td>Never   </td><td>168.00  </td><td>Metric  </td><td>19.000  </td></tr>\n",
       "\t<tr><th scope=row>40</th><td>Male    </td><td>19.0    </td><td>19.0    </td><td>Right   </td><td>R on L  </td><td>NA      </td><td>Neither </td><td>Freq    </td><td>Occas   </td><td>171.00  </td><td>Metric  </td><td>19.917  </td></tr>\n",
       "\t<tr><th scope=row>41</th><td>Female  </td><td>17.5    </td><td>16.0    </td><td>Right   </td><td>L on R  </td><td>NA      </td><td>Right   </td><td>Some    </td><td>Never   </td><td>169.00  </td><td>Metric  </td><td>17.500  </td></tr>\n",
       "\t<tr><th scope=row>43</th><td>Male    </td><td>  NA    </td><td>  NA    </td><td>Right   </td><td>R on L  </td><td>60      </td><td>NA      </td><td>Some    </td><td>Never   </td><td>172.00  </td><td>Metric  </td><td>28.583  </td></tr>\n",
       "\t<tr><th scope=row>45</th><td>Female  </td><td>13.0    </td><td>13.0    </td><td>NA      </td><td>L on R  </td><td>70      </td><td>Left    </td><td>Freq    </td><td>Never   </td><td>180.34  </td><td>Imperial</td><td>17.417  </td></tr>\n",
       "\t<tr><th scope=row>46</th><td>Male    </td><td>17.0    </td><td>17.5    </td><td>Right   </td><td>R on L  </td><td>NA      </td><td>Neither </td><td>Freq    </td><td>Never   </td><td>180.34  </td><td>Imperial</td><td>18.500  </td></tr>\n",
       "\t<tr><th scope=row>56</th><td>Male    </td><td>18.5    </td><td>18.5    </td><td>Right   </td><td>L on R  </td><td>NA      </td><td>Neither </td><td>Freq    </td><td>Never   </td><td>171.00  </td><td>Metric  </td><td>18.333  </td></tr>\n",
       "\t<tr><th scope=row>58</th><td>Male    </td><td>19.5    </td><td>19.7    </td><td>Right   </td><td>R on L  </td><td>72      </td><td>Right   </td><td>Freq    </td><td>Never   </td><td>    NA  </td><td>NA      </td><td>17.417  </td></tr>\n",
       "\t<tr><th scope=row>60</th><td>Male    </td><td>20.6    </td><td>21.0    </td><td>Left    </td><td>L on R  </td><td>NA      </td><td>Left    </td><td>Freq    </td><td>Occas   </td><td>175.26  </td><td>Imperial</td><td>18.417  </td></tr>\n",
       "\t<tr><th scope=row>64</th><td>Female  </td><td>18.7    </td><td>18.0    </td><td>Left    </td><td>L on R  </td><td>NA      </td><td>Left    </td><td>None    </td><td>Never   </td><td>170.00  </td><td>Metric  </td><td>19.833  </td></tr>\n",
       "\t<tr><th scope=row>66</th><td>Male    </td><td>19.5    </td><td>19.8    </td><td>Right   </td><td>Neither </td><td>NA      </td><td>Right   </td><td>Freq    </td><td>Never   </td><td>183.00  </td><td>Metric  </td><td>18.000  </td></tr>\n",
       "\t<tr><th scope=row>67</th><td>Female  </td><td>19.0    </td><td>19.1    </td><td>Right   </td><td>L on R  </td><td>NA      </td><td>Neither </td><td>Freq    </td><td>Never   </td><td>172.00  </td><td>Metric  </td><td>30.667  </td></tr>\n",
       "\t<tr><th scope=row>68</th><td>Female  </td><td>18.5    </td><td>18.0    </td><td>Right   </td><td>R on L  </td><td>64      </td><td>Right   </td><td>Freq    </td><td>Never   </td><td>    NA  </td><td>NA      </td><td>16.917  </td></tr>\n",
       "\t<tr><th scope=row>69</th><td>Male    </td><td>19.0    </td><td>19.0    </td><td>Right   </td><td>L on R  </td><td>NA      </td><td>Right   </td><td>Some    </td><td>Never   </td><td>180.00  </td><td>Metric  </td><td>19.917  </td></tr>\n",
       "\t<tr><th scope=row>70</th><td>Male    </td><td>21.0    </td><td>19.5    </td><td>Right   </td><td>L on R  </td><td>80      </td><td>Left    </td><td>None    </td><td>NA      </td><td>    NA  </td><td>NA      </td><td>18.333  </td></tr>\n",
       "\t<tr><th scope=row>72</th><td>Male    </td><td>19.4    </td><td>19.5    </td><td>Right   </td><td>R on L  </td><td>NA      </td><td>Right   </td><td>Freq    </td><td>Heavy   </td><td>176.00  </td><td>Metric  </td><td>17.833  </td></tr>\n",
       "\t<tr><th scope=row>78</th><td>Female  </td><td>18.6    </td><td>18.0    </td><td>Right   </td><td>L on R  </td><td>NA      </td><td>Neither </td><td>Freq    </td><td>Heavy   </td><td>165.10  </td><td>Imperial</td><td>17.167  </td></tr>\n",
       "\t<tr><th scope=row>80</th><td>Male    </td><td>20.0    </td><td>20.5    </td><td>Right   </td><td>L on R  </td><td>NA      </td><td>Right   </td><td>Freq    </td><td>Never   </td><td>185.42  </td><td>Imperial</td><td>18.750  </td></tr>\n",
       "\t<tr><th scope=row>...</th><td>...</td><td>...</td><td>...</td><td>...</td><td>...</td><td>...</td><td>...</td><td>...</td><td>...</td><td>...</td><td>...</td><td>...</td></tr>\n",
       "\t<tr><th scope=row>103</th><td>Female  </td><td>16.0    </td><td>16.0    </td><td>Right   </td><td>Neither </td><td>NA      </td><td>Right   </td><td>Some    </td><td>Never   </td><td>159.00  </td><td>Metric  </td><td>20.833  </td></tr>\n",
       "\t<tr><th scope=row>107</th><td>Female  </td><td>16.2    </td><td>16.4    </td><td>Right   </td><td>R on L  </td><td>NA      </td><td>Right   </td><td>Freq    </td><td>Occas   </td><td>172.00  </td><td>Metric  </td><td>17.000  </td></tr>\n",
       "\t<tr><th scope=row>108</th><td>Female  </td><td>17.0    </td><td>15.9    </td><td>Right   </td><td>R on L  </td><td>85      </td><td>Right   </td><td>Freq    </td><td>Never   </td><td>    NA  </td><td>NA      </td><td>18.500  </td></tr>\n",
       "\t<tr><th scope=row>121</th><td>Male    </td><td>20.0    </td><td>20.0    </td><td>Right   </td><td>R on L  </td><td>80      </td><td>Neither </td><td>Freq    </td><td>Occas   </td><td>    NA  </td><td>NA      </td><td>17.500  </td></tr>\n",
       "\t<tr><th scope=row>126</th><td>Male    </td><td>19.3    </td><td>19.4    </td><td>Right   </td><td>R on L  </td><td>NA      </td><td>Right   </td><td>Freq    </td><td>Never   </td><td>180.34  </td><td>Imperial</td><td>19.833  </td></tr>\n",
       "\t<tr><th scope=row>133</th><td>Female  </td><td>18.9    </td><td>20.0    </td><td>Right   </td><td>R on L  </td><td>86      </td><td>Right   </td><td>Some    </td><td>Never   </td><td>    NA  </td><td>NA      </td><td>19.083  </td></tr>\n",
       "\t<tr><th scope=row>137</th><td>NA      </td><td>19.8    </td><td>19.0    </td><td>Left    </td><td>L on R  </td><td>73      </td><td>Neither </td><td>Freq    </td><td>Never   </td><td>172.00  </td><td>Metric  </td><td>21.500  </td></tr>\n",
       "\t<tr><th scope=row>139</th><td>Male    </td><td>20.0    </td><td>19.5    </td><td>Right   </td><td>L on R  </td><td>NA      </td><td>Right   </td><td>Freq    </td><td>Never   </td><td>170.00  </td><td>Metric  </td><td>21.417  </td></tr>\n",
       "\t<tr><th scope=row>142</th><td>Female  </td><td>18.3    </td><td>19.0    </td><td>Right   </td><td>R on L  </td><td>NA      </td><td>Right   </td><td>None    </td><td>Never   </td><td>165.00  </td><td>Metric  </td><td>21.083  </td></tr>\n",
       "\t<tr><th scope=row>157</th><td>Male    </td><td>14.0    </td><td>15.5    </td><td>Right   </td><td>L on R  </td><td>NA      </td><td>Neither </td><td>Freq    </td><td>Heavy   </td><td>    NA  </td><td>NA      </td><td>21.083  </td></tr>\n",
       "\t<tr><th scope=row>159</th><td>Male    </td><td>20.0    </td><td>20.5    </td><td>Right   </td><td>R on L  </td><td>NA      </td><td>Right   </td><td>None    </td><td>Never   </td><td>187.96  </td><td>Imperial</td><td>19.667  </td></tr>\n",
       "\t<tr><th scope=row>162</th><td>Male    </td><td>18.1    </td><td>18.2    </td><td>Left    </td><td>Neither </td><td>NA      </td><td>Right   </td><td>Some    </td><td>Never   </td><td>168.00  </td><td>Metric  </td><td>21.167  </td></tr>\n",
       "\t<tr><th scope=row>165</th><td>Male    </td><td>19.1    </td><td>19.1    </td><td>Right   </td><td>Neither </td><td>NA      </td><td>Right   </td><td>Some    </td><td>Never   </td><td>177.00  </td><td>Metric  </td><td>19.917  </td></tr>\n",
       "\t<tr><th scope=row>169</th><td>Male    </td><td>19.0    </td><td>18.5    </td><td>Right   </td><td>L on R  </td><td>NA      </td><td>Neither </td><td>Freq    </td><td>Never   </td><td>189.00  </td><td>Metric  </td><td>17.417  </td></tr>\n",
       "\t<tr><th scope=row>171</th><td>Female  </td><td>16.5    </td><td>17.0    </td><td>Right   </td><td>L on R  </td><td>NA      </td><td>Right   </td><td>Some    </td><td>Never   </td><td>168.00  </td><td>Metric  </td><td>73.000  </td></tr>\n",
       "\t<tr><th scope=row>173</th><td>Female  </td><td>15.5    </td><td>15.5    </td><td>Right   </td><td>Neither </td><td>50      </td><td>Right   </td><td>Some    </td><td>Regul   </td><td>    NA  </td><td>NA      </td><td>18.500  </td></tr>\n",
       "\t<tr><th scope=row>179</th><td>Female  </td><td>20.5    </td><td>20.5    </td><td>Right   </td><td>R on L  </td><td>NA      </td><td>Left    </td><td>Freq    </td><td>Regul   </td><td>    NA  </td><td>NA      </td><td>19.250  </td></tr>\n",
       "\t<tr><th scope=row>195</th><td>Female  </td><td>16.7    </td><td>15.1    </td><td>Right   </td><td>Neither </td><td>NA      </td><td>Right   </td><td>None    </td><td>Never   </td><td>157.48  </td><td>Imperial</td><td>18.167  </td></tr>\n",
       "\t<tr><th scope=row>203</th><td>Female  </td><td>18.8    </td><td>17.8    </td><td>Right   </td><td>R on L  </td><td>76      </td><td>Right   </td><td>Some    </td><td>Never   </td><td>    NA  </td><td>NA      </td><td>18.583  </td></tr>\n",
       "\t<tr><th scope=row>210</th><td>Female  </td><td>20.8    </td><td>20.7    </td><td>Right   </td><td>R on L  </td><td>NA      </td><td>Neither </td><td>Freq    </td><td>Never   </td><td>171.50  </td><td>Metric  </td><td>18.500  </td></tr>\n",
       "\t<tr><th scope=row>213</th><td>Male    </td><td>18.0    </td><td>18.5    </td><td>Right   </td><td>R on L  </td><td>78      </td><td>Right   </td><td>Freq    </td><td>Never   </td><td>    NA  </td><td>NA      </td><td>17.500  </td></tr>\n",
       "\t<tr><th scope=row>216</th><td>Male    </td><td>19.5    </td><td>20.0    </td><td>Right   </td><td>Neither </td><td>NA      </td><td>Right   </td><td>Some    </td><td>Never   </td><td>170.00  </td><td>Metric  </td><td>21.250  </td></tr>\n",
       "\t<tr><th scope=row>217</th><td>Female  </td><td>16.3    </td><td>16.2    </td><td>Right   </td><td>L on R  </td><td>NA      </td><td>Right   </td><td>None    </td><td>Never   </td><td>    NA  </td><td>NA      </td><td>19.250  </td></tr>\n",
       "\t<tr><th scope=row>219</th><td>Female  </td><td>17.0    </td><td>17.3    </td><td>Right   </td><td>L on R  </td><td>NA      </td><td>Neither </td><td>Freq    </td><td>Never   </td><td>173.00  </td><td>Metric  </td><td>19.167  </td></tr>\n",
       "\t<tr><th scope=row>221</th><td>Male    </td><td>23.2    </td><td>23.3    </td><td>Right   </td><td>L on R  </td><td>NA      </td><td>Right   </td><td>None    </td><td>Heavy   </td><td>171.00  </td><td>Metric  </td><td>20.917  </td></tr>\n",
       "\t<tr><th scope=row>224</th><td>Female  </td><td>17.5    </td><td>17.6    </td><td>Right   </td><td>L on R  </td><td>NA      </td><td>Right   </td><td>Freq    </td><td>Never   </td><td>150.00  </td><td>Metric  </td><td>20.750  </td></tr>\n",
       "\t<tr><th scope=row>225</th><td>Female  </td><td>17.6    </td><td>17.2    </td><td>Right   </td><td>L on R  </td><td>NA      </td><td>Right   </td><td>Some    </td><td>Never   </td><td>    NA  </td><td>NA      </td><td>19.917  </td></tr>\n",
       "\t<tr><th scope=row>226</th><td>Female  </td><td>17.5    </td><td>17.8    </td><td>Right   </td><td>R on L  </td><td>96      </td><td>Right   </td><td>Some    </td><td>Never   </td><td>    NA  </td><td>NA      </td><td>18.667  </td></tr>\n",
       "\t<tr><th scope=row>232</th><td>Male    </td><td>18.0    </td><td>16.0    </td><td>Right   </td><td>R on L  </td><td>NA      </td><td>Right   </td><td>Some    </td><td>Never   </td><td>180.34  </td><td>Imperial</td><td>20.750  </td></tr>\n",
       "\t<tr><th scope=row>235</th><td>Female  </td><td>17.5    </td><td>16.5    </td><td>Right   </td><td>R on L  </td><td>NA      </td><td>Right   </td><td>Some    </td><td>Never   </td><td>170.00  </td><td>Metric  </td><td>18.583  </td></tr>\n",
       "</tbody>\n",
       "</table>\n"
      ],
      "text/latex": [
       "\\begin{tabular}{r|llllllllllll}\n",
       "  & Sex & Wr.Hnd & NW.Hnd & W.Hnd & Fold & Pulse & Clap & Exer & Smoke & Height & M.I & Age\\\\\n",
       "\\hline\n",
       "\t3 & Male     & 18.0     & 13.3     & Right    & L on R   & 87       & Neither  & None     & Occas    &     NA   & NA       & 16.917  \\\\\n",
       "\t4 & Male     & 18.8     & 18.9     & Right    & R on L   & NA       & Neither  & None     & Never    & 160.00   & Metric   & 20.333  \\\\\n",
       "\t12 & Male     & 21.0     & 21.0     & Right    & R on L   & 68       & Left     & Freq     & Never    &     NA   & NA       & 18.250  \\\\\n",
       "\t13 & Female   & 16.0     & 16.0     & Right    & L on R   & NA       & Right    & Some     & Never    & 155.00   & Metric   & 18.750  \\\\\n",
       "\t15 & Male     & 16.0     & 15.5     & Right    & R on L   & 60       & Right    & Some     & Never    &     NA   & NA       & 17.167  \\\\\n",
       "\t16 & Female   & 17.5     & 17.0     & Right    & R on L   & NA       & Right    & Freq     & Never    & 156.00   & Metric   & 17.167  \\\\\n",
       "\t19 & Male     & 20.5     & 20.5     & Right    & L on R   & NA       & Left     & Some     & Never    & 190.50   & Imperial & 19.750  \\\\\n",
       "\t25 & Female   & 17.0     & 17.5     & Right    & R on L   & 64       & Left     & Some     & Never    &     NA   & NA       & 19.167  \\\\\n",
       "\t26 & Male     & 18.5     & 18.5     & Right    & Neither  & 90       & Neither  & Some     & Never    &     NA   & NA       & 17.583  \\\\\n",
       "\t29 & Male     & 17.8     & 17.8     & Right    & L on R   & 76       & Neither  & Freq     & Never    &     NA   & NA       & 21.917  \\\\\n",
       "\t31 & Female   & 18.5     & 18.0     & Right    & R on L   & 76       & Right    & None     & Occas    &     NA   & NA       & 41.583  \\\\\n",
       "\t35 & Male     & 18.0     & 19.0     & Right    & L on R   & 54       & Neither  & Some     & Regul    &     NA   & NA       & 17.750  \\\\\n",
       "\t37 & Female   & 16.0     & 16.5     & Right    & L on R   & NA       & Right    & Some     & Never    & 168.00   & Metric   & 19.000  \\\\\n",
       "\t40 & Male     & 19.0     & 19.0     & Right    & R on L   & NA       & Neither  & Freq     & Occas    & 171.00   & Metric   & 19.917  \\\\\n",
       "\t41 & Female   & 17.5     & 16.0     & Right    & L on R   & NA       & Right    & Some     & Never    & 169.00   & Metric   & 17.500  \\\\\n",
       "\t43 & Male     &   NA     &   NA     & Right    & R on L   & 60       & NA       & Some     & Never    & 172.00   & Metric   & 28.583  \\\\\n",
       "\t45 & Female   & 13.0     & 13.0     & NA       & L on R   & 70       & Left     & Freq     & Never    & 180.34   & Imperial & 17.417  \\\\\n",
       "\t46 & Male     & 17.0     & 17.5     & Right    & R on L   & NA       & Neither  & Freq     & Never    & 180.34   & Imperial & 18.500  \\\\\n",
       "\t56 & Male     & 18.5     & 18.5     & Right    & L on R   & NA       & Neither  & Freq     & Never    & 171.00   & Metric   & 18.333  \\\\\n",
       "\t58 & Male     & 19.5     & 19.7     & Right    & R on L   & 72       & Right    & Freq     & Never    &     NA   & NA       & 17.417  \\\\\n",
       "\t60 & Male     & 20.6     & 21.0     & Left     & L on R   & NA       & Left     & Freq     & Occas    & 175.26   & Imperial & 18.417  \\\\\n",
       "\t64 & Female   & 18.7     & 18.0     & Left     & L on R   & NA       & Left     & None     & Never    & 170.00   & Metric   & 19.833  \\\\\n",
       "\t66 & Male     & 19.5     & 19.8     & Right    & Neither  & NA       & Right    & Freq     & Never    & 183.00   & Metric   & 18.000  \\\\\n",
       "\t67 & Female   & 19.0     & 19.1     & Right    & L on R   & NA       & Neither  & Freq     & Never    & 172.00   & Metric   & 30.667  \\\\\n",
       "\t68 & Female   & 18.5     & 18.0     & Right    & R on L   & 64       & Right    & Freq     & Never    &     NA   & NA       & 16.917  \\\\\n",
       "\t69 & Male     & 19.0     & 19.0     & Right    & L on R   & NA       & Right    & Some     & Never    & 180.00   & Metric   & 19.917  \\\\\n",
       "\t70 & Male     & 21.0     & 19.5     & Right    & L on R   & 80       & Left     & None     & NA       &     NA   & NA       & 18.333  \\\\\n",
       "\t72 & Male     & 19.4     & 19.5     & Right    & R on L   & NA       & Right    & Freq     & Heavy    & 176.00   & Metric   & 17.833  \\\\\n",
       "\t78 & Female   & 18.6     & 18.0     & Right    & L on R   & NA       & Neither  & Freq     & Heavy    & 165.10   & Imperial & 17.167  \\\\\n",
       "\t80 & Male     & 20.0     & 20.5     & Right    & L on R   & NA       & Right    & Freq     & Never    & 185.42   & Imperial & 18.750  \\\\\n",
       "\t... & ... & ... & ... & ... & ... & ... & ... & ... & ... & ... & ... & ...\\\\\n",
       "\t103 & Female   & 16.0     & 16.0     & Right    & Neither  & NA       & Right    & Some     & Never    & 159.00   & Metric   & 20.833  \\\\\n",
       "\t107 & Female   & 16.2     & 16.4     & Right    & R on L   & NA       & Right    & Freq     & Occas    & 172.00   & Metric   & 17.000  \\\\\n",
       "\t108 & Female   & 17.0     & 15.9     & Right    & R on L   & 85       & Right    & Freq     & Never    &     NA   & NA       & 18.500  \\\\\n",
       "\t121 & Male     & 20.0     & 20.0     & Right    & R on L   & 80       & Neither  & Freq     & Occas    &     NA   & NA       & 17.500  \\\\\n",
       "\t126 & Male     & 19.3     & 19.4     & Right    & R on L   & NA       & Right    & Freq     & Never    & 180.34   & Imperial & 19.833  \\\\\n",
       "\t133 & Female   & 18.9     & 20.0     & Right    & R on L   & 86       & Right    & Some     & Never    &     NA   & NA       & 19.083  \\\\\n",
       "\t137 & NA       & 19.8     & 19.0     & Left     & L on R   & 73       & Neither  & Freq     & Never    & 172.00   & Metric   & 21.500  \\\\\n",
       "\t139 & Male     & 20.0     & 19.5     & Right    & L on R   & NA       & Right    & Freq     & Never    & 170.00   & Metric   & 21.417  \\\\\n",
       "\t142 & Female   & 18.3     & 19.0     & Right    & R on L   & NA       & Right    & None     & Never    & 165.00   & Metric   & 21.083  \\\\\n",
       "\t157 & Male     & 14.0     & 15.5     & Right    & L on R   & NA       & Neither  & Freq     & Heavy    &     NA   & NA       & 21.083  \\\\\n",
       "\t159 & Male     & 20.0     & 20.5     & Right    & R on L   & NA       & Right    & None     & Never    & 187.96   & Imperial & 19.667  \\\\\n",
       "\t162 & Male     & 18.1     & 18.2     & Left     & Neither  & NA       & Right    & Some     & Never    & 168.00   & Metric   & 21.167  \\\\\n",
       "\t165 & Male     & 19.1     & 19.1     & Right    & Neither  & NA       & Right    & Some     & Never    & 177.00   & Metric   & 19.917  \\\\\n",
       "\t169 & Male     & 19.0     & 18.5     & Right    & L on R   & NA       & Neither  & Freq     & Never    & 189.00   & Metric   & 17.417  \\\\\n",
       "\t171 & Female   & 16.5     & 17.0     & Right    & L on R   & NA       & Right    & Some     & Never    & 168.00   & Metric   & 73.000  \\\\\n",
       "\t173 & Female   & 15.5     & 15.5     & Right    & Neither  & 50       & Right    & Some     & Regul    &     NA   & NA       & 18.500  \\\\\n",
       "\t179 & Female   & 20.5     & 20.5     & Right    & R on L   & NA       & Left     & Freq     & Regul    &     NA   & NA       & 19.250  \\\\\n",
       "\t195 & Female   & 16.7     & 15.1     & Right    & Neither  & NA       & Right    & None     & Never    & 157.48   & Imperial & 18.167  \\\\\n",
       "\t203 & Female   & 18.8     & 17.8     & Right    & R on L   & 76       & Right    & Some     & Never    &     NA   & NA       & 18.583  \\\\\n",
       "\t210 & Female   & 20.8     & 20.7     & Right    & R on L   & NA       & Neither  & Freq     & Never    & 171.50   & Metric   & 18.500  \\\\\n",
       "\t213 & Male     & 18.0     & 18.5     & Right    & R on L   & 78       & Right    & Freq     & Never    &     NA   & NA       & 17.500  \\\\\n",
       "\t216 & Male     & 19.5     & 20.0     & Right    & Neither  & NA       & Right    & Some     & Never    & 170.00   & Metric   & 21.250  \\\\\n",
       "\t217 & Female   & 16.3     & 16.2     & Right    & L on R   & NA       & Right    & None     & Never    &     NA   & NA       & 19.250  \\\\\n",
       "\t219 & Female   & 17.0     & 17.3     & Right    & L on R   & NA       & Neither  & Freq     & Never    & 173.00   & Metric   & 19.167  \\\\\n",
       "\t221 & Male     & 23.2     & 23.3     & Right    & L on R   & NA       & Right    & None     & Heavy    & 171.00   & Metric   & 20.917  \\\\\n",
       "\t224 & Female   & 17.5     & 17.6     & Right    & L on R   & NA       & Right    & Freq     & Never    & 150.00   & Metric   & 20.750  \\\\\n",
       "\t225 & Female   & 17.6     & 17.2     & Right    & L on R   & NA       & Right    & Some     & Never    &     NA   & NA       & 19.917  \\\\\n",
       "\t226 & Female   & 17.5     & 17.8     & Right    & R on L   & 96       & Right    & Some     & Never    &     NA   & NA       & 18.667  \\\\\n",
       "\t232 & Male     & 18.0     & 16.0     & Right    & R on L   & NA       & Right    & Some     & Never    & 180.34   & Imperial & 20.750  \\\\\n",
       "\t235 & Female   & 17.5     & 16.5     & Right    & R on L   & NA       & Right    & Some     & Never    & 170.00   & Metric   & 18.583  \\\\\n",
       "\\end{tabular}\n"
      ],
      "text/markdown": [
       "\n",
       "| <!--/--> | Sex | Wr.Hnd | NW.Hnd | W.Hnd | Fold | Pulse | Clap | Exer | Smoke | Height | M.I | Age |\n",
       "|---|---|---|---|---|---|---|---|---|---|---|---|---|\n",
       "| 3 | Male     | 18.0     | 13.3     | Right    | L on R   | 87       | Neither  | None     | Occas    |     NA   | NA       | 16.917   |\n",
       "| 4 | Male     | 18.8     | 18.9     | Right    | R on L   | NA       | Neither  | None     | Never    | 160.00   | Metric   | 20.333   |\n",
       "| 12 | Male     | 21.0     | 21.0     | Right    | R on L   | 68       | Left     | Freq     | Never    |     NA   | NA       | 18.250   |\n",
       "| 13 | Female   | 16.0     | 16.0     | Right    | L on R   | NA       | Right    | Some     | Never    | 155.00   | Metric   | 18.750   |\n",
       "| 15 | Male     | 16.0     | 15.5     | Right    | R on L   | 60       | Right    | Some     | Never    |     NA   | NA       | 17.167   |\n",
       "| 16 | Female   | 17.5     | 17.0     | Right    | R on L   | NA       | Right    | Freq     | Never    | 156.00   | Metric   | 17.167   |\n",
       "| 19 | Male     | 20.5     | 20.5     | Right    | L on R   | NA       | Left     | Some     | Never    | 190.50   | Imperial | 19.750   |\n",
       "| 25 | Female   | 17.0     | 17.5     | Right    | R on L   | 64       | Left     | Some     | Never    |     NA   | NA       | 19.167   |\n",
       "| 26 | Male     | 18.5     | 18.5     | Right    | Neither  | 90       | Neither  | Some     | Never    |     NA   | NA       | 17.583   |\n",
       "| 29 | Male     | 17.8     | 17.8     | Right    | L on R   | 76       | Neither  | Freq     | Never    |     NA   | NA       | 21.917   |\n",
       "| 31 | Female   | 18.5     | 18.0     | Right    | R on L   | 76       | Right    | None     | Occas    |     NA   | NA       | 41.583   |\n",
       "| 35 | Male     | 18.0     | 19.0     | Right    | L on R   | 54       | Neither  | Some     | Regul    |     NA   | NA       | 17.750   |\n",
       "| 37 | Female   | 16.0     | 16.5     | Right    | L on R   | NA       | Right    | Some     | Never    | 168.00   | Metric   | 19.000   |\n",
       "| 40 | Male     | 19.0     | 19.0     | Right    | R on L   | NA       | Neither  | Freq     | Occas    | 171.00   | Metric   | 19.917   |\n",
       "| 41 | Female   | 17.5     | 16.0     | Right    | L on R   | NA       | Right    | Some     | Never    | 169.00   | Metric   | 17.500   |\n",
       "| 43 | Male     |   NA     |   NA     | Right    | R on L   | 60       | NA       | Some     | Never    | 172.00   | Metric   | 28.583   |\n",
       "| 45 | Female   | 13.0     | 13.0     | NA       | L on R   | 70       | Left     | Freq     | Never    | 180.34   | Imperial | 17.417   |\n",
       "| 46 | Male     | 17.0     | 17.5     | Right    | R on L   | NA       | Neither  | Freq     | Never    | 180.34   | Imperial | 18.500   |\n",
       "| 56 | Male     | 18.5     | 18.5     | Right    | L on R   | NA       | Neither  | Freq     | Never    | 171.00   | Metric   | 18.333   |\n",
       "| 58 | Male     | 19.5     | 19.7     | Right    | R on L   | 72       | Right    | Freq     | Never    |     NA   | NA       | 17.417   |\n",
       "| 60 | Male     | 20.6     | 21.0     | Left     | L on R   | NA       | Left     | Freq     | Occas    | 175.26   | Imperial | 18.417   |\n",
       "| 64 | Female   | 18.7     | 18.0     | Left     | L on R   | NA       | Left     | None     | Never    | 170.00   | Metric   | 19.833   |\n",
       "| 66 | Male     | 19.5     | 19.8     | Right    | Neither  | NA       | Right    | Freq     | Never    | 183.00   | Metric   | 18.000   |\n",
       "| 67 | Female   | 19.0     | 19.1     | Right    | L on R   | NA       | Neither  | Freq     | Never    | 172.00   | Metric   | 30.667   |\n",
       "| 68 | Female   | 18.5     | 18.0     | Right    | R on L   | 64       | Right    | Freq     | Never    |     NA   | NA       | 16.917   |\n",
       "| 69 | Male     | 19.0     | 19.0     | Right    | L on R   | NA       | Right    | Some     | Never    | 180.00   | Metric   | 19.917   |\n",
       "| 70 | Male     | 21.0     | 19.5     | Right    | L on R   | 80       | Left     | None     | NA       |     NA   | NA       | 18.333   |\n",
       "| 72 | Male     | 19.4     | 19.5     | Right    | R on L   | NA       | Right    | Freq     | Heavy    | 176.00   | Metric   | 17.833   |\n",
       "| 78 | Female   | 18.6     | 18.0     | Right    | L on R   | NA       | Neither  | Freq     | Heavy    | 165.10   | Imperial | 17.167   |\n",
       "| 80 | Male     | 20.0     | 20.5     | Right    | L on R   | NA       | Right    | Freq     | Never    | 185.42   | Imperial | 18.750   |\n",
       "| ... | ... | ... | ... | ... | ... | ... | ... | ... | ... | ... | ... | ... |\n",
       "| 103 | Female   | 16.0     | 16.0     | Right    | Neither  | NA       | Right    | Some     | Never    | 159.00   | Metric   | 20.833   |\n",
       "| 107 | Female   | 16.2     | 16.4     | Right    | R on L   | NA       | Right    | Freq     | Occas    | 172.00   | Metric   | 17.000   |\n",
       "| 108 | Female   | 17.0     | 15.9     | Right    | R on L   | 85       | Right    | Freq     | Never    |     NA   | NA       | 18.500   |\n",
       "| 121 | Male     | 20.0     | 20.0     | Right    | R on L   | 80       | Neither  | Freq     | Occas    |     NA   | NA       | 17.500   |\n",
       "| 126 | Male     | 19.3     | 19.4     | Right    | R on L   | NA       | Right    | Freq     | Never    | 180.34   | Imperial | 19.833   |\n",
       "| 133 | Female   | 18.9     | 20.0     | Right    | R on L   | 86       | Right    | Some     | Never    |     NA   | NA       | 19.083   |\n",
       "| 137 | NA       | 19.8     | 19.0     | Left     | L on R   | 73       | Neither  | Freq     | Never    | 172.00   | Metric   | 21.500   |\n",
       "| 139 | Male     | 20.0     | 19.5     | Right    | L on R   | NA       | Right    | Freq     | Never    | 170.00   | Metric   | 21.417   |\n",
       "| 142 | Female   | 18.3     | 19.0     | Right    | R on L   | NA       | Right    | None     | Never    | 165.00   | Metric   | 21.083   |\n",
       "| 157 | Male     | 14.0     | 15.5     | Right    | L on R   | NA       | Neither  | Freq     | Heavy    |     NA   | NA       | 21.083   |\n",
       "| 159 | Male     | 20.0     | 20.5     | Right    | R on L   | NA       | Right    | None     | Never    | 187.96   | Imperial | 19.667   |\n",
       "| 162 | Male     | 18.1     | 18.2     | Left     | Neither  | NA       | Right    | Some     | Never    | 168.00   | Metric   | 21.167   |\n",
       "| 165 | Male     | 19.1     | 19.1     | Right    | Neither  | NA       | Right    | Some     | Never    | 177.00   | Metric   | 19.917   |\n",
       "| 169 | Male     | 19.0     | 18.5     | Right    | L on R   | NA       | Neither  | Freq     | Never    | 189.00   | Metric   | 17.417   |\n",
       "| 171 | Female   | 16.5     | 17.0     | Right    | L on R   | NA       | Right    | Some     | Never    | 168.00   | Metric   | 73.000   |\n",
       "| 173 | Female   | 15.5     | 15.5     | Right    | Neither  | 50       | Right    | Some     | Regul    |     NA   | NA       | 18.500   |\n",
       "| 179 | Female   | 20.5     | 20.5     | Right    | R on L   | NA       | Left     | Freq     | Regul    |     NA   | NA       | 19.250   |\n",
       "| 195 | Female   | 16.7     | 15.1     | Right    | Neither  | NA       | Right    | None     | Never    | 157.48   | Imperial | 18.167   |\n",
       "| 203 | Female   | 18.8     | 17.8     | Right    | R on L   | 76       | Right    | Some     | Never    |     NA   | NA       | 18.583   |\n",
       "| 210 | Female   | 20.8     | 20.7     | Right    | R on L   | NA       | Neither  | Freq     | Never    | 171.50   | Metric   | 18.500   |\n",
       "| 213 | Male     | 18.0     | 18.5     | Right    | R on L   | 78       | Right    | Freq     | Never    |     NA   | NA       | 17.500   |\n",
       "| 216 | Male     | 19.5     | 20.0     | Right    | Neither  | NA       | Right    | Some     | Never    | 170.00   | Metric   | 21.250   |\n",
       "| 217 | Female   | 16.3     | 16.2     | Right    | L on R   | NA       | Right    | None     | Never    |     NA   | NA       | 19.250   |\n",
       "| 219 | Female   | 17.0     | 17.3     | Right    | L on R   | NA       | Neither  | Freq     | Never    | 173.00   | Metric   | 19.167   |\n",
       "| 221 | Male     | 23.2     | 23.3     | Right    | L on R   | NA       | Right    | None     | Heavy    | 171.00   | Metric   | 20.917   |\n",
       "| 224 | Female   | 17.5     | 17.6     | Right    | L on R   | NA       | Right    | Freq     | Never    | 150.00   | Metric   | 20.750   |\n",
       "| 225 | Female   | 17.6     | 17.2     | Right    | L on R   | NA       | Right    | Some     | Never    |     NA   | NA       | 19.917   |\n",
       "| 226 | Female   | 17.5     | 17.8     | Right    | R on L   | 96       | Right    | Some     | Never    |     NA   | NA       | 18.667   |\n",
       "| 232 | Male     | 18.0     | 16.0     | Right    | R on L   | NA       | Right    | Some     | Never    | 180.34   | Imperial | 20.750   |\n",
       "| 235 | Female   | 17.5     | 16.5     | Right    | R on L   | NA       | Right    | Some     | Never    | 170.00   | Metric   | 18.583   |\n",
       "\n"
      ],
      "text/plain": [
       "    Sex    Wr.Hnd NW.Hnd W.Hnd Fold    Pulse Clap    Exer Smoke Height M.I     \n",
       "3   Male   18.0   13.3   Right L on R  87    Neither None Occas     NA NA      \n",
       "4   Male   18.8   18.9   Right R on L  NA    Neither None Never 160.00 Metric  \n",
       "12  Male   21.0   21.0   Right R on L  68    Left    Freq Never     NA NA      \n",
       "13  Female 16.0   16.0   Right L on R  NA    Right   Some Never 155.00 Metric  \n",
       "15  Male   16.0   15.5   Right R on L  60    Right   Some Never     NA NA      \n",
       "16  Female 17.5   17.0   Right R on L  NA    Right   Freq Never 156.00 Metric  \n",
       "19  Male   20.5   20.5   Right L on R  NA    Left    Some Never 190.50 Imperial\n",
       "25  Female 17.0   17.5   Right R on L  64    Left    Some Never     NA NA      \n",
       "26  Male   18.5   18.5   Right Neither 90    Neither Some Never     NA NA      \n",
       "29  Male   17.8   17.8   Right L on R  76    Neither Freq Never     NA NA      \n",
       "31  Female 18.5   18.0   Right R on L  76    Right   None Occas     NA NA      \n",
       "35  Male   18.0   19.0   Right L on R  54    Neither Some Regul     NA NA      \n",
       "37  Female 16.0   16.5   Right L on R  NA    Right   Some Never 168.00 Metric  \n",
       "40  Male   19.0   19.0   Right R on L  NA    Neither Freq Occas 171.00 Metric  \n",
       "41  Female 17.5   16.0   Right L on R  NA    Right   Some Never 169.00 Metric  \n",
       "43  Male     NA     NA   Right R on L  60    NA      Some Never 172.00 Metric  \n",
       "45  Female 13.0   13.0   NA    L on R  70    Left    Freq Never 180.34 Imperial\n",
       "46  Male   17.0   17.5   Right R on L  NA    Neither Freq Never 180.34 Imperial\n",
       "56  Male   18.5   18.5   Right L on R  NA    Neither Freq Never 171.00 Metric  \n",
       "58  Male   19.5   19.7   Right R on L  72    Right   Freq Never     NA NA      \n",
       "60  Male   20.6   21.0   Left  L on R  NA    Left    Freq Occas 175.26 Imperial\n",
       "64  Female 18.7   18.0   Left  L on R  NA    Left    None Never 170.00 Metric  \n",
       "66  Male   19.5   19.8   Right Neither NA    Right   Freq Never 183.00 Metric  \n",
       "67  Female 19.0   19.1   Right L on R  NA    Neither Freq Never 172.00 Metric  \n",
       "68  Female 18.5   18.0   Right R on L  64    Right   Freq Never     NA NA      \n",
       "69  Male   19.0   19.0   Right L on R  NA    Right   Some Never 180.00 Metric  \n",
       "70  Male   21.0   19.5   Right L on R  80    Left    None NA        NA NA      \n",
       "72  Male   19.4   19.5   Right R on L  NA    Right   Freq Heavy 176.00 Metric  \n",
       "78  Female 18.6   18.0   Right L on R  NA    Neither Freq Heavy 165.10 Imperial\n",
       "80  Male   20.0   20.5   Right L on R  NA    Right   Freq Never 185.42 Imperial\n",
       "... ...    ...    ...    ...   ...     ...   ...     ...  ...   ...    ...     \n",
       "103 Female 16.0   16.0   Right Neither NA    Right   Some Never 159.00 Metric  \n",
       "107 Female 16.2   16.4   Right R on L  NA    Right   Freq Occas 172.00 Metric  \n",
       "108 Female 17.0   15.9   Right R on L  85    Right   Freq Never     NA NA      \n",
       "121 Male   20.0   20.0   Right R on L  80    Neither Freq Occas     NA NA      \n",
       "126 Male   19.3   19.4   Right R on L  NA    Right   Freq Never 180.34 Imperial\n",
       "133 Female 18.9   20.0   Right R on L  86    Right   Some Never     NA NA      \n",
       "137 NA     19.8   19.0   Left  L on R  73    Neither Freq Never 172.00 Metric  \n",
       "139 Male   20.0   19.5   Right L on R  NA    Right   Freq Never 170.00 Metric  \n",
       "142 Female 18.3   19.0   Right R on L  NA    Right   None Never 165.00 Metric  \n",
       "157 Male   14.0   15.5   Right L on R  NA    Neither Freq Heavy     NA NA      \n",
       "159 Male   20.0   20.5   Right R on L  NA    Right   None Never 187.96 Imperial\n",
       "162 Male   18.1   18.2   Left  Neither NA    Right   Some Never 168.00 Metric  \n",
       "165 Male   19.1   19.1   Right Neither NA    Right   Some Never 177.00 Metric  \n",
       "169 Male   19.0   18.5   Right L on R  NA    Neither Freq Never 189.00 Metric  \n",
       "171 Female 16.5   17.0   Right L on R  NA    Right   Some Never 168.00 Metric  \n",
       "173 Female 15.5   15.5   Right Neither 50    Right   Some Regul     NA NA      \n",
       "179 Female 20.5   20.5   Right R on L  NA    Left    Freq Regul     NA NA      \n",
       "195 Female 16.7   15.1   Right Neither NA    Right   None Never 157.48 Imperial\n",
       "203 Female 18.8   17.8   Right R on L  76    Right   Some Never     NA NA      \n",
       "210 Female 20.8   20.7   Right R on L  NA    Neither Freq Never 171.50 Metric  \n",
       "213 Male   18.0   18.5   Right R on L  78    Right   Freq Never     NA NA      \n",
       "216 Male   19.5   20.0   Right Neither NA    Right   Some Never 170.00 Metric  \n",
       "217 Female 16.3   16.2   Right L on R  NA    Right   None Never     NA NA      \n",
       "219 Female 17.0   17.3   Right L on R  NA    Neither Freq Never 173.00 Metric  \n",
       "221 Male   23.2   23.3   Right L on R  NA    Right   None Heavy 171.00 Metric  \n",
       "224 Female 17.5   17.6   Right L on R  NA    Right   Freq Never 150.00 Metric  \n",
       "225 Female 17.6   17.2   Right L on R  NA    Right   Some Never     NA NA      \n",
       "226 Female 17.5   17.8   Right R on L  96    Right   Some Never     NA NA      \n",
       "232 Male   18.0   16.0   Right R on L  NA    Right   Some Never 180.34 Imperial\n",
       "235 Female 17.5   16.5   Right R on L  NA    Right   Some Never 170.00 Metric  \n",
       "    Age   \n",
       "3   16.917\n",
       "4   20.333\n",
       "12  18.250\n",
       "13  18.750\n",
       "15  17.167\n",
       "16  17.167\n",
       "19  19.750\n",
       "25  19.167\n",
       "26  17.583\n",
       "29  21.917\n",
       "31  41.583\n",
       "35  17.750\n",
       "37  19.000\n",
       "40  19.917\n",
       "41  17.500\n",
       "43  28.583\n",
       "45  17.417\n",
       "46  18.500\n",
       "56  18.333\n",
       "58  17.417\n",
       "60  18.417\n",
       "64  19.833\n",
       "66  18.000\n",
       "67  30.667\n",
       "68  16.917\n",
       "69  19.917\n",
       "70  18.333\n",
       "72  17.833\n",
       "78  17.167\n",
       "80  18.750\n",
       "... ...   \n",
       "103 20.833\n",
       "107 17.000\n",
       "108 18.500\n",
       "121 17.500\n",
       "126 19.833\n",
       "133 19.083\n",
       "137 21.500\n",
       "139 21.417\n",
       "142 21.083\n",
       "157 21.083\n",
       "159 19.667\n",
       "162 21.167\n",
       "165 19.917\n",
       "169 17.417\n",
       "171 73.000\n",
       "173 18.500\n",
       "179 19.250\n",
       "195 18.167\n",
       "203 18.583\n",
       "210 18.500\n",
       "213 17.500\n",
       "216 21.250\n",
       "217 19.250\n",
       "219 19.167\n",
       "221 20.917\n",
       "224 20.750\n",
       "225 19.917\n",
       "226 18.667\n",
       "232 20.750\n",
       "235 18.583"
      ]
     },
     "metadata": {},
     "output_type": "display_data"
    }
   ],
   "source": [
    "survey[rowSums(is.na(survey)) > 0,]"
   ]
  },
  {
   "cell_type": "markdown",
   "metadata": {},
   "source": [
    "Create a data frame ‘newsurvey’ that contains the survey data after removing the na values. Use it for answering further queries"
   ]
  },
  {
   "cell_type": "code",
   "execution_count": 5,
   "metadata": {},
   "outputs": [],
   "source": [
    " newsurvey <- na.omit(survey)"
   ]
  },
  {
   "cell_type": "code",
   "execution_count": 6,
   "metadata": {},
   "outputs": [
    {
     "data": {
      "text/html": [
       "<table>\n",
       "<thead><tr><th></th><th scope=col>Sex</th><th scope=col>Wr.Hnd</th><th scope=col>NW.Hnd</th><th scope=col>W.Hnd</th><th scope=col>Fold</th><th scope=col>Pulse</th><th scope=col>Clap</th><th scope=col>Exer</th><th scope=col>Smoke</th><th scope=col>Height</th><th scope=col>M.I</th><th scope=col>Age</th></tr></thead>\n",
       "<tbody>\n",
       "\t<tr><th scope=row>1</th><td>Female  </td><td>18.5    </td><td>18.0    </td><td>Right   </td><td>R on L  </td><td> 92     </td><td>Left    </td><td>Some    </td><td>Never   </td><td>173.00  </td><td>Metric  </td><td>18.250  </td></tr>\n",
       "\t<tr><th scope=row>2</th><td>Male    </td><td>19.5    </td><td>20.5    </td><td>Left    </td><td>R on L  </td><td>104     </td><td>Left    </td><td>None    </td><td>Regul   </td><td>177.80  </td><td>Imperial</td><td>17.583  </td></tr>\n",
       "\t<tr><th scope=row>5</th><td>Male    </td><td>20.0    </td><td>20.0    </td><td>Right   </td><td>Neither </td><td> 35     </td><td>Right   </td><td>Some    </td><td>Never   </td><td>165.00  </td><td>Metric  </td><td>23.667  </td></tr>\n",
       "\t<tr><th scope=row>6</th><td>Female  </td><td>18.0    </td><td>17.7    </td><td>Right   </td><td>L on R  </td><td> 64     </td><td>Right   </td><td>Some    </td><td>Never   </td><td>172.72  </td><td>Imperial</td><td>21.000  </td></tr>\n",
       "\t<tr><th scope=row>7</th><td>Male    </td><td>17.7    </td><td>17.7    </td><td>Right   </td><td>L on R  </td><td> 83     </td><td>Right   </td><td>Freq    </td><td>Never   </td><td>182.88  </td><td>Imperial</td><td>18.833  </td></tr>\n",
       "\t<tr><th scope=row>8</th><td>Female  </td><td>17.0    </td><td>17.3    </td><td>Right   </td><td>R on L  </td><td> 74     </td><td>Right   </td><td>Freq    </td><td>Never   </td><td>157.00  </td><td>Metric  </td><td>35.833  </td></tr>\n",
       "</tbody>\n",
       "</table>\n"
      ],
      "text/latex": [
       "\\begin{tabular}{r|llllllllllll}\n",
       "  & Sex & Wr.Hnd & NW.Hnd & W.Hnd & Fold & Pulse & Clap & Exer & Smoke & Height & M.I & Age\\\\\n",
       "\\hline\n",
       "\t1 & Female   & 18.5     & 18.0     & Right    & R on L   &  92      & Left     & Some     & Never    & 173.00   & Metric   & 18.250  \\\\\n",
       "\t2 & Male     & 19.5     & 20.5     & Left     & R on L   & 104      & Left     & None     & Regul    & 177.80   & Imperial & 17.583  \\\\\n",
       "\t5 & Male     & 20.0     & 20.0     & Right    & Neither  &  35      & Right    & Some     & Never    & 165.00   & Metric   & 23.667  \\\\\n",
       "\t6 & Female   & 18.0     & 17.7     & Right    & L on R   &  64      & Right    & Some     & Never    & 172.72   & Imperial & 21.000  \\\\\n",
       "\t7 & Male     & 17.7     & 17.7     & Right    & L on R   &  83      & Right    & Freq     & Never    & 182.88   & Imperial & 18.833  \\\\\n",
       "\t8 & Female   & 17.0     & 17.3     & Right    & R on L   &  74      & Right    & Freq     & Never    & 157.00   & Metric   & 35.833  \\\\\n",
       "\\end{tabular}\n"
      ],
      "text/markdown": [
       "\n",
       "| <!--/--> | Sex | Wr.Hnd | NW.Hnd | W.Hnd | Fold | Pulse | Clap | Exer | Smoke | Height | M.I | Age |\n",
       "|---|---|---|---|---|---|---|---|---|---|---|---|---|\n",
       "| 1 | Female   | 18.5     | 18.0     | Right    | R on L   |  92      | Left     | Some     | Never    | 173.00   | Metric   | 18.250   |\n",
       "| 2 | Male     | 19.5     | 20.5     | Left     | R on L   | 104      | Left     | None     | Regul    | 177.80   | Imperial | 17.583   |\n",
       "| 5 | Male     | 20.0     | 20.0     | Right    | Neither  |  35      | Right    | Some     | Never    | 165.00   | Metric   | 23.667   |\n",
       "| 6 | Female   | 18.0     | 17.7     | Right    | L on R   |  64      | Right    | Some     | Never    | 172.72   | Imperial | 21.000   |\n",
       "| 7 | Male     | 17.7     | 17.7     | Right    | L on R   |  83      | Right    | Freq     | Never    | 182.88   | Imperial | 18.833   |\n",
       "| 8 | Female   | 17.0     | 17.3     | Right    | R on L   |  74      | Right    | Freq     | Never    | 157.00   | Metric   | 35.833   |\n",
       "\n"
      ],
      "text/plain": [
       "  Sex    Wr.Hnd NW.Hnd W.Hnd Fold    Pulse Clap  Exer Smoke Height M.I     \n",
       "1 Female 18.5   18.0   Right R on L   92   Left  Some Never 173.00 Metric  \n",
       "2 Male   19.5   20.5   Left  R on L  104   Left  None Regul 177.80 Imperial\n",
       "5 Male   20.0   20.0   Right Neither  35   Right Some Never 165.00 Metric  \n",
       "6 Female 18.0   17.7   Right L on R   64   Right Some Never 172.72 Imperial\n",
       "7 Male   17.7   17.7   Right L on R   83   Right Freq Never 182.88 Imperial\n",
       "8 Female 17.0   17.3   Right R on L   74   Right Freq Never 157.00 Metric  \n",
       "  Age   \n",
       "1 18.250\n",
       "2 17.583\n",
       "5 23.667\n",
       "6 21.000\n",
       "7 18.833\n",
       "8 35.833"
      ]
     },
     "metadata": {},
     "output_type": "display_data"
    }
   ],
   "source": [
    "head(newsurvey)"
   ]
  },
  {
   "cell_type": "markdown",
   "metadata": {},
   "source": [
    "How many male and female students participated in the survey?"
   ]
  },
  {
   "cell_type": "code",
   "execution_count": 97,
   "metadata": {},
   "outputs": [
    {
     "data": {
      "text/plain": [
       "\n",
       "Female   Male \n",
       "    84     84 "
      ]
     },
     "metadata": {},
     "output_type": "display_data"
    }
   ],
   "source": [
    "\n",
    "stu <- table(newsurvey$Sex)\n",
    "stu"
   ]
  },
  {
   "cell_type": "markdown",
   "metadata": {},
   "source": [
    "How many the left and right handers are there?"
   ]
  },
  {
   "cell_type": "code",
   "execution_count": 99,
   "metadata": {},
   "outputs": [
    {
     "data": {
      "text/plain": [
       "\n",
       " Left Right \n",
       "   12   156 "
      ]
     },
     "metadata": {},
     "output_type": "display_data"
    }
   ],
   "source": [
    "stu1 <- table(newsurvey$W.Hnd)\n",
    "stu1"
   ]
  },
  {
   "cell_type": "markdown",
   "metadata": {},
   "source": [
    "Find the relative frequency distribution of left and right handers and display them with the precision of two decimal places."
   ]
  },
  {
   "cell_type": "code",
   "execution_count": 100,
   "metadata": {},
   "outputs": [
    {
     "data": {
      "text/plain": [
       "\n",
       "      Left      Right \n",
       "0.07142857 0.92857143 "
      ]
     },
     "metadata": {},
     "output_type": "display_data"
    }
   ],
   "source": [
    "stu_relfreq <- stu1/nrow(newsurvey)\n",
    "stu_relfreq"
   ]
  },
  {
   "cell_type": "code",
   "execution_count": 98,
   "metadata": {},
   "outputs": [],
   "source": [
    "library(dplyr)"
   ]
  },
  {
   "cell_type": "markdown",
   "metadata": {},
   "source": [
    "Display the male left hander and female left hander in the column format."
   ]
  },
  {
   "cell_type": "code",
   "execution_count": 101,
   "metadata": {},
   "outputs": [
    {
     "data": {
      "text/html": [
       "<table>\n",
       "<thead><tr><th scope=col>Sex</th><th scope=col>Wr.Hnd</th><th scope=col>NW.Hnd</th><th scope=col>W.Hnd</th><th scope=col>Fold</th><th scope=col>Pulse</th><th scope=col>Clap</th><th scope=col>Exer</th><th scope=col>Smoke</th><th scope=col>Height</th><th scope=col>M.I</th><th scope=col>Age</th></tr></thead>\n",
       "<tbody>\n",
       "\t<tr><td>Male    </td><td>19.5    </td><td>20.5    </td><td>Left    </td><td>R on L  </td><td>104     </td><td>Left    </td><td>None    </td><td>Regul   </td><td>177.80  </td><td>Imperial</td><td>17.583  </td></tr>\n",
       "\t<tr><td>Male    </td><td>19.4    </td><td>19.2    </td><td>Left    </td><td>R on L  </td><td> 74     </td><td>Right   </td><td>Some    </td><td>Never   </td><td>182.88  </td><td>Imperial</td><td>18.333  </td></tr>\n",
       "\t<tr><td>Male    </td><td>22.0    </td><td>21.5    </td><td>Left    </td><td>R on L  </td><td> 55     </td><td>Left    </td><td>Freq    </td><td>Never   </td><td>200.00  </td><td>Metric  </td><td>18.500  </td></tr>\n",
       "\t<tr><td>Male    </td><td>23.0    </td><td>22.0    </td><td>Left    </td><td>L on R  </td><td> 83     </td><td>Left    </td><td>Some    </td><td>Heavy   </td><td>193.04  </td><td>Imperial</td><td>18.917  </td></tr>\n",
       "\t<tr><td>Female  </td><td>18.5    </td><td>18.0    </td><td>Left    </td><td>L on R  </td><td>100     </td><td>Neither </td><td>Some    </td><td>Never   </td><td>171.00  </td><td>Metric  </td><td>18.917  </td></tr>\n",
       "\t<tr><td>Male    </td><td>19.8    </td><td>20.0    </td><td>Left    </td><td>L on R  </td><td> 59     </td><td>Right   </td><td>Freq    </td><td>Never   </td><td>180.00  </td><td>Metric  </td><td>17.417  </td></tr>\n",
       "\t<tr><td>Female  </td><td>15.4    </td><td>16.4    </td><td>Left    </td><td>L on R  </td><td> 80     </td><td>Left    </td><td>Freq    </td><td>Occas   </td><td>160.02  </td><td>Imperial</td><td>18.500  </td></tr>\n",
       "\t<tr><td>Female  </td><td>20.0    </td><td>19.5    </td><td>Left    </td><td>R on L  </td><td> 68     </td><td>Neither </td><td>Freq    </td><td>Never   </td><td>172.00  </td><td>Metric  </td><td>19.167  </td></tr>\n",
       "\t<tr><td>Male    </td><td>20.5    </td><td>19.5    </td><td>Left    </td><td>L on R  </td><td> 80     </td><td>Right   </td><td>Some    </td><td>Occas   </td><td>182.88  </td><td>Imperial</td><td>18.667  </td></tr>\n",
       "\t<tr><td>Female  </td><td>19.0    </td><td>18.5    </td><td>Left    </td><td>L on R  </td><td>104     </td><td>Left    </td><td>Freq    </td><td>Never   </td><td>170.00  </td><td>Metric  </td><td>17.250  </td></tr>\n",
       "\t<tr><td>Male    </td><td>17.5    </td><td>17.0    </td><td>Left    </td><td>L on R  </td><td> 97     </td><td>Neither </td><td>None    </td><td>Never   </td><td>165.00  </td><td>Metric  </td><td>19.500  </td></tr>\n",
       "\t<tr><td>Female  </td><td>17.5    </td><td>17.5    </td><td>Left    </td><td>R on L  </td><td> 83     </td><td>Neither </td><td>Some    </td><td>Never   </td><td>163.00  </td><td>Metric  </td><td>17.250  </td></tr>\n",
       "</tbody>\n",
       "</table>\n"
      ],
      "text/latex": [
       "\\begin{tabular}{r|llllllllllll}\n",
       " Sex & Wr.Hnd & NW.Hnd & W.Hnd & Fold & Pulse & Clap & Exer & Smoke & Height & M.I & Age\\\\\n",
       "\\hline\n",
       "\t Male     & 19.5     & 20.5     & Left     & R on L   & 104      & Left     & None     & Regul    & 177.80   & Imperial & 17.583  \\\\\n",
       "\t Male     & 19.4     & 19.2     & Left     & R on L   &  74      & Right    & Some     & Never    & 182.88   & Imperial & 18.333  \\\\\n",
       "\t Male     & 22.0     & 21.5     & Left     & R on L   &  55      & Left     & Freq     & Never    & 200.00   & Metric   & 18.500  \\\\\n",
       "\t Male     & 23.0     & 22.0     & Left     & L on R   &  83      & Left     & Some     & Heavy    & 193.04   & Imperial & 18.917  \\\\\n",
       "\t Female   & 18.5     & 18.0     & Left     & L on R   & 100      & Neither  & Some     & Never    & 171.00   & Metric   & 18.917  \\\\\n",
       "\t Male     & 19.8     & 20.0     & Left     & L on R   &  59      & Right    & Freq     & Never    & 180.00   & Metric   & 17.417  \\\\\n",
       "\t Female   & 15.4     & 16.4     & Left     & L on R   &  80      & Left     & Freq     & Occas    & 160.02   & Imperial & 18.500  \\\\\n",
       "\t Female   & 20.0     & 19.5     & Left     & R on L   &  68      & Neither  & Freq     & Never    & 172.00   & Metric   & 19.167  \\\\\n",
       "\t Male     & 20.5     & 19.5     & Left     & L on R   &  80      & Right    & Some     & Occas    & 182.88   & Imperial & 18.667  \\\\\n",
       "\t Female   & 19.0     & 18.5     & Left     & L on R   & 104      & Left     & Freq     & Never    & 170.00   & Metric   & 17.250  \\\\\n",
       "\t Male     & 17.5     & 17.0     & Left     & L on R   &  97      & Neither  & None     & Never    & 165.00   & Metric   & 19.500  \\\\\n",
       "\t Female   & 17.5     & 17.5     & Left     & R on L   &  83      & Neither  & Some     & Never    & 163.00   & Metric   & 17.250  \\\\\n",
       "\\end{tabular}\n"
      ],
      "text/markdown": [
       "\n",
       "| Sex | Wr.Hnd | NW.Hnd | W.Hnd | Fold | Pulse | Clap | Exer | Smoke | Height | M.I | Age |\n",
       "|---|---|---|---|---|---|---|---|---|---|---|---|\n",
       "| Male     | 19.5     | 20.5     | Left     | R on L   | 104      | Left     | None     | Regul    | 177.80   | Imperial | 17.583   |\n",
       "| Male     | 19.4     | 19.2     | Left     | R on L   |  74      | Right    | Some     | Never    | 182.88   | Imperial | 18.333   |\n",
       "| Male     | 22.0     | 21.5     | Left     | R on L   |  55      | Left     | Freq     | Never    | 200.00   | Metric   | 18.500   |\n",
       "| Male     | 23.0     | 22.0     | Left     | L on R   |  83      | Left     | Some     | Heavy    | 193.04   | Imperial | 18.917   |\n",
       "| Female   | 18.5     | 18.0     | Left     | L on R   | 100      | Neither  | Some     | Never    | 171.00   | Metric   | 18.917   |\n",
       "| Male     | 19.8     | 20.0     | Left     | L on R   |  59      | Right    | Freq     | Never    | 180.00   | Metric   | 17.417   |\n",
       "| Female   | 15.4     | 16.4     | Left     | L on R   |  80      | Left     | Freq     | Occas    | 160.02   | Imperial | 18.500   |\n",
       "| Female   | 20.0     | 19.5     | Left     | R on L   |  68      | Neither  | Freq     | Never    | 172.00   | Metric   | 19.167   |\n",
       "| Male     | 20.5     | 19.5     | Left     | L on R   |  80      | Right    | Some     | Occas    | 182.88   | Imperial | 18.667   |\n",
       "| Female   | 19.0     | 18.5     | Left     | L on R   | 104      | Left     | Freq     | Never    | 170.00   | Metric   | 17.250   |\n",
       "| Male     | 17.5     | 17.0     | Left     | L on R   |  97      | Neither  | None     | Never    | 165.00   | Metric   | 19.500   |\n",
       "| Female   | 17.5     | 17.5     | Left     | R on L   |  83      | Neither  | Some     | Never    | 163.00   | Metric   | 17.250   |\n",
       "\n"
      ],
      "text/plain": [
       "   Sex    Wr.Hnd NW.Hnd W.Hnd Fold   Pulse Clap    Exer Smoke Height M.I     \n",
       "1  Male   19.5   20.5   Left  R on L 104   Left    None Regul 177.80 Imperial\n",
       "2  Male   19.4   19.2   Left  R on L  74   Right   Some Never 182.88 Imperial\n",
       "3  Male   22.0   21.5   Left  R on L  55   Left    Freq Never 200.00 Metric  \n",
       "4  Male   23.0   22.0   Left  L on R  83   Left    Some Heavy 193.04 Imperial\n",
       "5  Female 18.5   18.0   Left  L on R 100   Neither Some Never 171.00 Metric  \n",
       "6  Male   19.8   20.0   Left  L on R  59   Right   Freq Never 180.00 Metric  \n",
       "7  Female 15.4   16.4   Left  L on R  80   Left    Freq Occas 160.02 Imperial\n",
       "8  Female 20.0   19.5   Left  R on L  68   Neither Freq Never 172.00 Metric  \n",
       "9  Male   20.5   19.5   Left  L on R  80   Right   Some Occas 182.88 Imperial\n",
       "10 Female 19.0   18.5   Left  L on R 104   Left    Freq Never 170.00 Metric  \n",
       "11 Male   17.5   17.0   Left  L on R  97   Neither None Never 165.00 Metric  \n",
       "12 Female 17.5   17.5   Left  R on L  83   Neither Some Never 163.00 Metric  \n",
       "   Age   \n",
       "1  17.583\n",
       "2  18.333\n",
       "3  18.500\n",
       "4  18.917\n",
       "5  18.917\n",
       "6  17.417\n",
       "7  18.500\n",
       "8  19.167\n",
       "9  18.667\n",
       "10 17.250\n",
       "11 19.500\n",
       "12 17.250"
      ]
     },
     "metadata": {},
     "output_type": "display_data"
    }
   ],
   "source": [
    "stu2<-newsurvey %>%\n",
    "    filter(W.Hnd=='Left')%>%\n",
    "    group_by(Sex)\n",
    "\n",
    "cbind(stu2)"
   ]
  },
  {
   "cell_type": "markdown",
   "metadata": {},
   "source": [
    "What percentage of male left handers never smokes?"
   ]
  },
  {
   "cell_type": "code",
   "execution_count": 102,
   "metadata": {},
   "outputs": [
    {
     "data": {
      "text/html": [
       "2.38095238095238"
      ],
      "text/latex": [
       "2.38095238095238"
      ],
      "text/markdown": [
       "2.38095238095238"
      ],
      "text/plain": [
       "[1] 2.380952"
      ]
     },
     "metadata": {},
     "output_type": "display_data"
    }
   ],
   "source": [
    "\n",
    "numer <- nrow(newsurvey%>%\n",
    "\n",
    " filter(Sex=='Male',W.Hnd=='Left',Smoke=='Never'))\n",
    " \n",
    "denom <- nrow(newsurvey)\n",
    " \n",
    "percentage = (numer/denom)*100\n",
    "\n",
    " percentage"
   ]
  },
  {
   "cell_type": "markdown",
   "metadata": {},
   "source": [
    "Break the age range into non-overlapping sub-intervals by defining a sequence of equal distance break points of 10 by rounding the range to nearest integer."
   ]
  },
  {
   "cell_type": "code",
   "execution_count": 24,
   "metadata": {},
   "outputs": [],
   "source": [
    "newsurvey <- na.omit(survey)\n",
    "newsurvey <- na.omit(survey)"
   ]
  },
  {
   "cell_type": "code",
   "execution_count": 25,
   "metadata": {},
   "outputs": [
    {
     "name": "stderr",
     "output_type": "stream",
     "text": [
      "The following objects are masked from newsurvey (pos = 3):\n",
      "\n",
      "    Age, Clap, Exer, Fold, Height, M.I, NW.Hnd, Pulse, Sex, Smoke,\n",
      "    W.Hnd, Wr.Hnd\n",
      "\n",
      "The following objects are masked from newsurvey (pos = 4):\n",
      "\n",
      "    Age, Clap, Exer, Fold, Height, M.I, NW.Hnd, Pulse, Sex, Smoke,\n",
      "    W.Hnd, Wr.Hnd\n",
      "\n"
     ]
    }
   ],
   "source": [
    "attach(newsurvey)"
   ]
  },
  {
   "cell_type": "code",
   "execution_count": 26,
   "metadata": {},
   "outputs": [
    {
     "data": {
      "text/html": [
       "<ol class=list-inline>\n",
       "\t<li>16.917</li>\n",
       "\t<li>70.417</li>\n",
       "</ol>\n"
      ],
      "text/latex": [
       "\\begin{enumerate*}\n",
       "\\item 16.917\n",
       "\\item 70.417\n",
       "\\end{enumerate*}\n"
      ],
      "text/markdown": [
       "1. 16.917\n",
       "2. 70.417\n",
       "\n",
       "\n"
      ],
      "text/plain": [
       "[1] 16.917 70.417"
      ]
     },
     "metadata": {},
     "output_type": "display_data"
    }
   ],
   "source": [
    "range(Age)"
   ]
  },
  {
   "cell_type": "code",
   "execution_count": 32,
   "metadata": {},
   "outputs": [
    {
     "data": {
      "text/html": [
       "<ol class=list-inline>\n",
       "\t<li>[17,27)</li>\n",
       "\t<li>[17,27)</li>\n",
       "\t<li>[17,27)</li>\n",
       "\t<li>[17,27)</li>\n",
       "\t<li>[17,27)</li>\n",
       "\t<li>[27,37)</li>\n",
       "\t<li>[17,27)</li>\n",
       "\t<li>[17,27)</li>\n",
       "\t<li>[27,37)</li>\n",
       "\t<li>[17,27)</li>\n",
       "\t<li>[17,27)</li>\n",
       "\t<li>[17,27)</li>\n",
       "\t<li>[17,27)</li>\n",
       "\t<li>[17,27)</li>\n",
       "\t<li>[17,27)</li>\n",
       "\t<li>[17,27)</li>\n",
       "\t<li>[17,27)</li>\n",
       "\t<li>[17,27)</li>\n",
       "\t<li>[17,27)</li>\n",
       "\t<li>[17,27)</li>\n",
       "\t<li>[17,27)</li>\n",
       "\t<li>[37,47)</li>\n",
       "\t<li>[17,27)</li>\n",
       "\t<li>[17,27)</li>\n",
       "\t<li>[17,27)</li>\n",
       "\t<li>[27,37)</li>\n",
       "\t<li>[17,27)</li>\n",
       "\t<li>[17,27)</li>\n",
       "\t<li>[17,27)</li>\n",
       "\t<li>[17,27)</li>\n",
       "\t<li>[17,27)</li>\n",
       "\t<li>[27,37)</li>\n",
       "\t<li>[17,27)</li>\n",
       "\t<li>[17,27)</li>\n",
       "\t<li>[17,27)</li>\n",
       "\t<li>[17,27)</li>\n",
       "\t<li>[17,27)</li>\n",
       "\t<li>[17,27)</li>\n",
       "\t<li>[17,27)</li>\n",
       "\t<li>[17,27)</li>\n",
       "\t<li>[17,27)</li>\n",
       "\t<li>[17,27)</li>\n",
       "\t<li>[17,27)</li>\n",
       "\t<li>[17,27)</li>\n",
       "\t<li>[17,27)</li>\n",
       "\t<li>[17,27)</li>\n",
       "\t<li>[17,27)</li>\n",
       "\t<li>[17,27)</li>\n",
       "\t<li>[17,27)</li>\n",
       "\t<li>[17,27)</li>\n",
       "\t<li>[17,27)</li>\n",
       "\t<li>[17,27)</li>\n",
       "\t<li>[17,27)</li>\n",
       "\t<li>[17,27)</li>\n",
       "\t<li>[17,27)</li>\n",
       "\t<li>[17,27)</li>\n",
       "\t<li>[17,27)</li>\n",
       "\t<li>[17,27)</li>\n",
       "\t<li>[17,27)</li>\n",
       "\t<li>[17,27)</li>\n",
       "\t<li>[17,27)</li>\n",
       "\t<li>[17,27)</li>\n",
       "\t<li>[17,27)</li>\n",
       "\t<li>[17,27)</li>\n",
       "\t<li>[17,27)</li>\n",
       "\t<li>[17,27)</li>\n",
       "\t<li>[17,27)</li>\n",
       "\t<li>[17,27)</li>\n",
       "\t<li>[17,27)</li>\n",
       "\t<li>[17,27)</li>\n",
       "\t<li>[17,27)</li>\n",
       "\t<li>[17,27)</li>\n",
       "\t<li>[17,27)</li>\n",
       "\t<li>[17,27)</li>\n",
       "\t<li>[17,27)</li>\n",
       "\t<li>[17,27)</li>\n",
       "\t<li>[17,27)</li>\n",
       "\t<li>[17,27)</li>\n",
       "\t<li>[17,27)</li>\n",
       "\t<li>[17,27)</li>\n",
       "\t<li>[17,27)</li>\n",
       "\t<li>[17,27)</li>\n",
       "\t<li>[17,27)</li>\n",
       "\t<li>[17,27)</li>\n",
       "\t<li>[17,27)</li>\n",
       "\t<li>[17,27)</li>\n",
       "\t<li>[17,27)</li>\n",
       "\t<li>[17,27)</li>\n",
       "\t<li>[17,27)</li>\n",
       "\t<li>[17,27)</li>\n",
       "\t<li>[17,27)</li>\n",
       "\t<li>[17,27)</li>\n",
       "\t<li>[17,27)</li>\n",
       "\t<li>[17,27)</li>\n",
       "\t<li>[17,27)</li>\n",
       "\t<li>[17,27)</li>\n",
       "\t<li>[17,27)</li>\n",
       "\t<li>[17,27)</li>\n",
       "\t<li>[17,27)</li>\n",
       "\t<li>[27,37)</li>\n",
       "\t<li>[17,27)</li>\n",
       "\t<li>[17,27)</li>\n",
       "\t<li>[17,27)</li>\n",
       "\t<li>[17,27)</li>\n",
       "\t<li>[17,27)</li>\n",
       "\t<li>&lt;NA&gt;</li>\n",
       "\t<li>[37,47)</li>\n",
       "\t<li>[17,27)</li>\n",
       "\t<li>[37,47)</li>\n",
       "\t<li>[17,27)</li>\n",
       "\t<li>[17,27)</li>\n",
       "\t<li>[17,27)</li>\n",
       "\t<li>[27,37)</li>\n",
       "\t<li>[17,27)</li>\n",
       "\t<li>[17,27)</li>\n",
       "\t<li>[27,37)</li>\n",
       "\t<li>[17,27)</li>\n",
       "\t<li>[17,27)</li>\n",
       "\t<li>[17,27)</li>\n",
       "\t<li>[17,27)</li>\n",
       "\t<li>[17,27)</li>\n",
       "\t<li>[27,37)</li>\n",
       "\t<li>[17,27)</li>\n",
       "\t<li>[17,27)</li>\n",
       "\t<li>[17,27)</li>\n",
       "\t<li>[17,27)</li>\n",
       "\t<li>[17,27)</li>\n",
       "\t<li>[17,27)</li>\n",
       "\t<li>[17,27)</li>\n",
       "\t<li>[17,27)</li>\n",
       "\t<li>[17,27)</li>\n",
       "\t<li>[17,27)</li>\n",
       "\t<li>[17,27)</li>\n",
       "\t<li>[17,27)</li>\n",
       "\t<li>[17,27)</li>\n",
       "\t<li>[27,37)</li>\n",
       "\t<li>[17,27)</li>\n",
       "\t<li>[17,27)</li>\n",
       "\t<li>[17,27)</li>\n",
       "\t<li>[17,27)</li>\n",
       "\t<li>[17,27)</li>\n",
       "\t<li>[17,27)</li>\n",
       "\t<li>[17,27)</li>\n",
       "\t<li>[17,27)</li>\n",
       "\t<li>[17,27)</li>\n",
       "\t<li>[17,27)</li>\n",
       "\t<li>[17,27)</li>\n",
       "\t<li>[17,27)</li>\n",
       "\t<li>[17,27)</li>\n",
       "\t<li>[17,27)</li>\n",
       "\t<li>[17,27)</li>\n",
       "\t<li>[17,27)</li>\n",
       "\t<li>[17,27)</li>\n",
       "\t<li>[17,27)</li>\n",
       "\t<li>[17,27)</li>\n",
       "\t<li>[17,27)</li>\n",
       "\t<li>[17,27)</li>\n",
       "\t<li>[17,27)</li>\n",
       "\t<li>[17,27)</li>\n",
       "\t<li>[17,27)</li>\n",
       "\t<li>[17,27)</li>\n",
       "\t<li>[17,27)</li>\n",
       "\t<li>[17,27)</li>\n",
       "\t<li>[17,27)</li>\n",
       "\t<li>[17,27)</li>\n",
       "\t<li>&lt;NA&gt;</li>\n",
       "\t<li>[17,27)</li>\n",
       "\t<li>[17,27)</li>\n",
       "</ol>\n",
       "\n",
       "<details>\n",
       "\t<summary style=display:list-item;cursor:pointer>\n",
       "\t\t<strong>Levels</strong>:\n",
       "\t</summary>\n",
       "\t<ol class=list-inline>\n",
       "\t\t<li>'[17,27)'</li>\n",
       "\t\t<li>'[27,37)'</li>\n",
       "\t\t<li>'[37,47)'</li>\n",
       "\t\t<li>'[47,57)'</li>\n",
       "\t\t<li>'[57,67)'</li>\n",
       "\t</ol>\n",
       "</details>"
      ],
      "text/latex": [
       "\\begin{enumerate*}\n",
       "\\item {[}17,27)\n",
       "\\item {[}17,27)\n",
       "\\item {[}17,27)\n",
       "\\item {[}17,27)\n",
       "\\item {[}17,27)\n",
       "\\item {[}27,37)\n",
       "\\item {[}17,27)\n",
       "\\item {[}17,27)\n",
       "\\item {[}27,37)\n",
       "\\item {[}17,27)\n",
       "\\item {[}17,27)\n",
       "\\item {[}17,27)\n",
       "\\item {[}17,27)\n",
       "\\item {[}17,27)\n",
       "\\item {[}17,27)\n",
       "\\item {[}17,27)\n",
       "\\item {[}17,27)\n",
       "\\item {[}17,27)\n",
       "\\item {[}17,27)\n",
       "\\item {[}17,27)\n",
       "\\item {[}17,27)\n",
       "\\item {[}37,47)\n",
       "\\item {[}17,27)\n",
       "\\item {[}17,27)\n",
       "\\item {[}17,27)\n",
       "\\item {[}27,37)\n",
       "\\item {[}17,27)\n",
       "\\item {[}17,27)\n",
       "\\item {[}17,27)\n",
       "\\item {[}17,27)\n",
       "\\item {[}17,27)\n",
       "\\item {[}27,37)\n",
       "\\item {[}17,27)\n",
       "\\item {[}17,27)\n",
       "\\item {[}17,27)\n",
       "\\item {[}17,27)\n",
       "\\item {[}17,27)\n",
       "\\item {[}17,27)\n",
       "\\item {[}17,27)\n",
       "\\item {[}17,27)\n",
       "\\item {[}17,27)\n",
       "\\item {[}17,27)\n",
       "\\item {[}17,27)\n",
       "\\item {[}17,27)\n",
       "\\item {[}17,27)\n",
       "\\item {[}17,27)\n",
       "\\item {[}17,27)\n",
       "\\item {[}17,27)\n",
       "\\item {[}17,27)\n",
       "\\item {[}17,27)\n",
       "\\item {[}17,27)\n",
       "\\item {[}17,27)\n",
       "\\item {[}17,27)\n",
       "\\item {[}17,27)\n",
       "\\item {[}17,27)\n",
       "\\item {[}17,27)\n",
       "\\item {[}17,27)\n",
       "\\item {[}17,27)\n",
       "\\item {[}17,27)\n",
       "\\item {[}17,27)\n",
       "\\item {[}17,27)\n",
       "\\item {[}17,27)\n",
       "\\item {[}17,27)\n",
       "\\item {[}17,27)\n",
       "\\item {[}17,27)\n",
       "\\item {[}17,27)\n",
       "\\item {[}17,27)\n",
       "\\item {[}17,27)\n",
       "\\item {[}17,27)\n",
       "\\item {[}17,27)\n",
       "\\item {[}17,27)\n",
       "\\item {[}17,27)\n",
       "\\item {[}17,27)\n",
       "\\item {[}17,27)\n",
       "\\item {[}17,27)\n",
       "\\item {[}17,27)\n",
       "\\item {[}17,27)\n",
       "\\item {[}17,27)\n",
       "\\item {[}17,27)\n",
       "\\item {[}17,27)\n",
       "\\item {[}17,27)\n",
       "\\item {[}17,27)\n",
       "\\item {[}17,27)\n",
       "\\item {[}17,27)\n",
       "\\item {[}17,27)\n",
       "\\item {[}17,27)\n",
       "\\item {[}17,27)\n",
       "\\item {[}17,27)\n",
       "\\item {[}17,27)\n",
       "\\item {[}17,27)\n",
       "\\item {[}17,27)\n",
       "\\item {[}17,27)\n",
       "\\item {[}17,27)\n",
       "\\item {[}17,27)\n",
       "\\item {[}17,27)\n",
       "\\item {[}17,27)\n",
       "\\item {[}17,27)\n",
       "\\item {[}17,27)\n",
       "\\item {[}17,27)\n",
       "\\item {[}27,37)\n",
       "\\item {[}17,27)\n",
       "\\item {[}17,27)\n",
       "\\item {[}17,27)\n",
       "\\item {[}17,27)\n",
       "\\item {[}17,27)\n",
       "\\item <NA>\n",
       "\\item {[}37,47)\n",
       "\\item {[}17,27)\n",
       "\\item {[}37,47)\n",
       "\\item {[}17,27)\n",
       "\\item {[}17,27)\n",
       "\\item {[}17,27)\n",
       "\\item {[}27,37)\n",
       "\\item {[}17,27)\n",
       "\\item {[}17,27)\n",
       "\\item {[}27,37)\n",
       "\\item {[}17,27)\n",
       "\\item {[}17,27)\n",
       "\\item {[}17,27)\n",
       "\\item {[}17,27)\n",
       "\\item {[}17,27)\n",
       "\\item {[}27,37)\n",
       "\\item {[}17,27)\n",
       "\\item {[}17,27)\n",
       "\\item {[}17,27)\n",
       "\\item {[}17,27)\n",
       "\\item {[}17,27)\n",
       "\\item {[}17,27)\n",
       "\\item {[}17,27)\n",
       "\\item {[}17,27)\n",
       "\\item {[}17,27)\n",
       "\\item {[}17,27)\n",
       "\\item {[}17,27)\n",
       "\\item {[}17,27)\n",
       "\\item {[}17,27)\n",
       "\\item {[}27,37)\n",
       "\\item {[}17,27)\n",
       "\\item {[}17,27)\n",
       "\\item {[}17,27)\n",
       "\\item {[}17,27)\n",
       "\\item {[}17,27)\n",
       "\\item {[}17,27)\n",
       "\\item {[}17,27)\n",
       "\\item {[}17,27)\n",
       "\\item {[}17,27)\n",
       "\\item {[}17,27)\n",
       "\\item {[}17,27)\n",
       "\\item {[}17,27)\n",
       "\\item {[}17,27)\n",
       "\\item {[}17,27)\n",
       "\\item {[}17,27)\n",
       "\\item {[}17,27)\n",
       "\\item {[}17,27)\n",
       "\\item {[}17,27)\n",
       "\\item {[}17,27)\n",
       "\\item {[}17,27)\n",
       "\\item {[}17,27)\n",
       "\\item {[}17,27)\n",
       "\\item {[}17,27)\n",
       "\\item {[}17,27)\n",
       "\\item {[}17,27)\n",
       "\\item {[}17,27)\n",
       "\\item {[}17,27)\n",
       "\\item {[}17,27)\n",
       "\\item {[}17,27)\n",
       "\\item <NA>\n",
       "\\item {[}17,27)\n",
       "\\item {[}17,27)\n",
       "\\end{enumerate*}\n",
       "\n",
       "\\emph{Levels}: \\begin{enumerate*}\n",
       "\\item '{[}17,27)'\n",
       "\\item '{[}27,37)'\n",
       "\\item '{[}37,47)'\n",
       "\\item '{[}47,57)'\n",
       "\\item '{[}57,67)'\n",
       "\\end{enumerate*}\n"
      ],
      "text/markdown": [
       "1. [17,27)\n",
       "2. [17,27)\n",
       "3. [17,27)\n",
       "4. [17,27)\n",
       "5. [17,27)\n",
       "6. [27,37)\n",
       "7. [17,27)\n",
       "8. [17,27)\n",
       "9. [27,37)\n",
       "10. [17,27)\n",
       "11. [17,27)\n",
       "12. [17,27)\n",
       "13. [17,27)\n",
       "14. [17,27)\n",
       "15. [17,27)\n",
       "16. [17,27)\n",
       "17. [17,27)\n",
       "18. [17,27)\n",
       "19. [17,27)\n",
       "20. [17,27)\n",
       "21. [17,27)\n",
       "22. [37,47)\n",
       "23. [17,27)\n",
       "24. [17,27)\n",
       "25. [17,27)\n",
       "26. [27,37)\n",
       "27. [17,27)\n",
       "28. [17,27)\n",
       "29. [17,27)\n",
       "30. [17,27)\n",
       "31. [17,27)\n",
       "32. [27,37)\n",
       "33. [17,27)\n",
       "34. [17,27)\n",
       "35. [17,27)\n",
       "36. [17,27)\n",
       "37. [17,27)\n",
       "38. [17,27)\n",
       "39. [17,27)\n",
       "40. [17,27)\n",
       "41. [17,27)\n",
       "42. [17,27)\n",
       "43. [17,27)\n",
       "44. [17,27)\n",
       "45. [17,27)\n",
       "46. [17,27)\n",
       "47. [17,27)\n",
       "48. [17,27)\n",
       "49. [17,27)\n",
       "50. [17,27)\n",
       "51. [17,27)\n",
       "52. [17,27)\n",
       "53. [17,27)\n",
       "54. [17,27)\n",
       "55. [17,27)\n",
       "56. [17,27)\n",
       "57. [17,27)\n",
       "58. [17,27)\n",
       "59. [17,27)\n",
       "60. [17,27)\n",
       "61. [17,27)\n",
       "62. [17,27)\n",
       "63. [17,27)\n",
       "64. [17,27)\n",
       "65. [17,27)\n",
       "66. [17,27)\n",
       "67. [17,27)\n",
       "68. [17,27)\n",
       "69. [17,27)\n",
       "70. [17,27)\n",
       "71. [17,27)\n",
       "72. [17,27)\n",
       "73. [17,27)\n",
       "74. [17,27)\n",
       "75. [17,27)\n",
       "76. [17,27)\n",
       "77. [17,27)\n",
       "78. [17,27)\n",
       "79. [17,27)\n",
       "80. [17,27)\n",
       "81. [17,27)\n",
       "82. [17,27)\n",
       "83. [17,27)\n",
       "84. [17,27)\n",
       "85. [17,27)\n",
       "86. [17,27)\n",
       "87. [17,27)\n",
       "88. [17,27)\n",
       "89. [17,27)\n",
       "90. [17,27)\n",
       "91. [17,27)\n",
       "92. [17,27)\n",
       "93. [17,27)\n",
       "94. [17,27)\n",
       "95. [17,27)\n",
       "96. [17,27)\n",
       "97. [17,27)\n",
       "98. [17,27)\n",
       "99. [17,27)\n",
       "100. [27,37)\n",
       "101. [17,27)\n",
       "102. [17,27)\n",
       "103. [17,27)\n",
       "104. [17,27)\n",
       "105. [17,27)\n",
       "106. &lt;NA&gt;\n",
       "107. [37,47)\n",
       "108. [17,27)\n",
       "109. [37,47)\n",
       "110. [17,27)\n",
       "111. [17,27)\n",
       "112. [17,27)\n",
       "113. [27,37)\n",
       "114. [17,27)\n",
       "115. [17,27)\n",
       "116. [27,37)\n",
       "117. [17,27)\n",
       "118. [17,27)\n",
       "119. [17,27)\n",
       "120. [17,27)\n",
       "121. [17,27)\n",
       "122. [27,37)\n",
       "123. [17,27)\n",
       "124. [17,27)\n",
       "125. [17,27)\n",
       "126. [17,27)\n",
       "127. [17,27)\n",
       "128. [17,27)\n",
       "129. [17,27)\n",
       "130. [17,27)\n",
       "131. [17,27)\n",
       "132. [17,27)\n",
       "133. [17,27)\n",
       "134. [17,27)\n",
       "135. [17,27)\n",
       "136. [27,37)\n",
       "137. [17,27)\n",
       "138. [17,27)\n",
       "139. [17,27)\n",
       "140. [17,27)\n",
       "141. [17,27)\n",
       "142. [17,27)\n",
       "143. [17,27)\n",
       "144. [17,27)\n",
       "145. [17,27)\n",
       "146. [17,27)\n",
       "147. [17,27)\n",
       "148. [17,27)\n",
       "149. [17,27)\n",
       "150. [17,27)\n",
       "151. [17,27)\n",
       "152. [17,27)\n",
       "153. [17,27)\n",
       "154. [17,27)\n",
       "155. [17,27)\n",
       "156. [17,27)\n",
       "157. [17,27)\n",
       "158. [17,27)\n",
       "159. [17,27)\n",
       "160. [17,27)\n",
       "161. [17,27)\n",
       "162. [17,27)\n",
       "163. [17,27)\n",
       "164. [17,27)\n",
       "165. [17,27)\n",
       "166. &lt;NA&gt;\n",
       "167. [17,27)\n",
       "168. [17,27)\n",
       "\n",
       "\n",
       "\n",
       "**Levels**: 1. '[17,27)'\n",
       "2. '[27,37)'\n",
       "3. '[37,47)'\n",
       "4. '[47,57)'\n",
       "5. '[57,67)'\n",
       "\n",
       "\n"
      ],
      "text/plain": [
       "  [1] [17,27) [17,27) [17,27) [17,27) [17,27) [27,37) [17,27) [17,27) [27,37)\n",
       " [10] [17,27) [17,27) [17,27) [17,27) [17,27) [17,27) [17,27) [17,27) [17,27)\n",
       " [19] [17,27) [17,27) [17,27) [37,47) [17,27) [17,27) [17,27) [27,37) [17,27)\n",
       " [28] [17,27) [17,27) [17,27) [17,27) [27,37) [17,27) [17,27) [17,27) [17,27)\n",
       " [37] [17,27) [17,27) [17,27) [17,27) [17,27) [17,27) [17,27) [17,27) [17,27)\n",
       " [46] [17,27) [17,27) [17,27) [17,27) [17,27) [17,27) [17,27) [17,27) [17,27)\n",
       " [55] [17,27) [17,27) [17,27) [17,27) [17,27) [17,27) [17,27) [17,27) [17,27)\n",
       " [64] [17,27) [17,27) [17,27) [17,27) [17,27) [17,27) [17,27) [17,27) [17,27)\n",
       " [73] [17,27) [17,27) [17,27) [17,27) [17,27) [17,27) [17,27) [17,27) [17,27)\n",
       " [82] [17,27) [17,27) [17,27) [17,27) [17,27) [17,27) [17,27) [17,27) [17,27)\n",
       " [91] [17,27) [17,27) [17,27) [17,27) [17,27) [17,27) [17,27) [17,27) [17,27)\n",
       "[100] [27,37) [17,27) [17,27) [17,27) [17,27) [17,27) <NA>    [37,47) [17,27)\n",
       "[109] [37,47) [17,27) [17,27) [17,27) [27,37) [17,27) [17,27) [27,37) [17,27)\n",
       "[118] [17,27) [17,27) [17,27) [17,27) [27,37) [17,27) [17,27) [17,27) [17,27)\n",
       "[127] [17,27) [17,27) [17,27) [17,27) [17,27) [17,27) [17,27) [17,27) [17,27)\n",
       "[136] [27,37) [17,27) [17,27) [17,27) [17,27) [17,27) [17,27) [17,27) [17,27)\n",
       "[145] [17,27) [17,27) [17,27) [17,27) [17,27) [17,27) [17,27) [17,27) [17,27)\n",
       "[154] [17,27) [17,27) [17,27) [17,27) [17,27) [17,27) [17,27) [17,27) [17,27)\n",
       "[163] [17,27) [17,27) [17,27) <NA>    [17,27) [17,27)\n",
       "Levels: [17,27) [27,37) [37,47) [47,57) [57,67)"
      ]
     },
     "metadata": {},
     "output_type": "display_data"
    }
   ],
   "source": [
    "breaks <- seq(17,70,by=10)\n",
    "age_bins <- cut(Age,breaks,right=FALSE)\n",
    "age_bins"
   ]
  },
  {
   "cell_type": "code",
   "execution_count": 33,
   "metadata": {},
   "outputs": [
    {
     "data": {
      "text/plain": [
       "age_bins\n",
       "[17,27) [27,37) [37,47) [47,57) [57,67) \n",
       "    154       9       3       0       0 "
      ]
     },
     "metadata": {},
     "output_type": "display_data"
    }
   ],
   "source": [
    "age_freq <- table(age_bins)\n",
    "age_freq"
   ]
  },
  {
   "cell_type": "markdown",
   "metadata": {},
   "source": [
    "Find the distribution of the age range according to the sub-intervals with cut with its right boundary opened. Display it in column form."
   ]
  },
  {
   "cell_type": "code",
   "execution_count": 34,
   "metadata": {},
   "outputs": [
    {
     "data": {
      "text/plain": [
       "age_bins\n",
       "   [17,27)    [27,37)    [37,47)    [47,57)    [57,67) \n",
       "0.91666667 0.05357143 0.01785714 0.00000000 0.00000000 "
      ]
     },
     "metadata": {},
     "output_type": "display_data"
    }
   ],
   "source": [
    "age_relfreq <- age_freq/nrow(newsurvey)\n",
    "age_relfreq"
   ]
  },
  {
   "cell_type": "code",
   "execution_count": 35,
   "metadata": {},
   "outputs": [
    {
     "data": {
      "text/html": [
       "<dl class=dl-horizontal>\n",
       "\t<dt>[17,27)</dt>\n",
       "\t\t<dd>154</dd>\n",
       "\t<dt>[27,37)</dt>\n",
       "\t\t<dd>163</dd>\n",
       "\t<dt>[37,47)</dt>\n",
       "\t\t<dd>166</dd>\n",
       "\t<dt>[47,57)</dt>\n",
       "\t\t<dd>166</dd>\n",
       "\t<dt>[57,67)</dt>\n",
       "\t\t<dd>166</dd>\n",
       "</dl>\n"
      ],
      "text/latex": [
       "\\begin{description*}\n",
       "\\item[\\{{[}\\}17,27)] 154\n",
       "\\item[\\{{[}\\}27,37)] 163\n",
       "\\item[\\{{[}\\}37,47)] 166\n",
       "\\item[\\{{[}\\}47,57)] 166\n",
       "\\item[\\{{[}\\}57,67)] 166\n",
       "\\end{description*}\n"
      ],
      "text/markdown": [
       "[17,27)\n",
       ":   154[27,37)\n",
       ":   163[37,47)\n",
       ":   166[47,57)\n",
       ":   166[57,67)\n",
       ":   166\n",
       "\n"
      ],
      "text/plain": [
       "[17,27) [27,37) [37,47) [47,57) [57,67) \n",
       "    154     163     166     166     166 "
      ]
     },
     "metadata": {},
     "output_type": "display_data"
    }
   ],
   "source": [
    "age_cumfrq <- cumsum(age_freq)\n",
    "age_cumfrq"
   ]
  },
  {
   "cell_type": "markdown",
   "metadata": {},
   "source": [
    "Which age range of students has mostly participated in the survey."
   ]
  },
  {
   "cell_type": "code",
   "execution_count": 37,
   "metadata": {},
   "outputs": [
    {
     "data": {
      "text/html": [
       "<ol class=list-inline>\n",
       "\t<li>166</li>\n",
       "\t<li>166</li>\n",
       "</ol>\n"
      ],
      "text/latex": [
       "\\begin{enumerate*}\n",
       "\\item 166\n",
       "\\item 166\n",
       "\\end{enumerate*}\n"
      ],
      "text/markdown": [
       "1. 166\n",
       "2. 166\n",
       "\n",
       "\n"
      ],
      "text/plain": [
       "[1] 166 166"
      ]
     },
     "metadata": {},
     "output_type": "display_data"
    }
   ],
   "source": [
    "range(max(age_cumfrq))"
   ]
  },
  {
   "cell_type": "markdown",
   "metadata": {},
   "source": [
    "Similarly, find the frequency distribution of Wr.Hnd span and display it in column format."
   ]
  },
  {
   "cell_type": "code",
   "execution_count": 38,
   "metadata": {},
   "outputs": [
    {
     "data": {
      "text/html": [
       "<ol class=list-inline>\n",
       "\t<li>13</li>\n",
       "\t<li>23.2</li>\n",
       "</ol>\n"
      ],
      "text/latex": [
       "\\begin{enumerate*}\n",
       "\\item 13\n",
       "\\item 23.2\n",
       "\\end{enumerate*}\n"
      ],
      "text/markdown": [
       "1. 13\n",
       "2. 23.2\n",
       "\n",
       "\n"
      ],
      "text/plain": [
       "[1] 13.0 23.2"
      ]
     },
     "metadata": {},
     "output_type": "display_data"
    }
   ],
   "source": [
    "range(Wr.Hnd)"
   ]
  },
  {
   "cell_type": "code",
   "execution_count": 41,
   "metadata": {},
   "outputs": [
    {
     "data": {
      "text/html": [
       "<ol class=list-inline>\n",
       "\t<li>[18,23)</li>\n",
       "\t<li>[18,23)</li>\n",
       "\t<li>[18,23)</li>\n",
       "\t<li>[18,23)</li>\n",
       "\t<li>[13,18)</li>\n",
       "\t<li>[13,18)</li>\n",
       "\t<li>[18,23)</li>\n",
       "\t<li>[18,23)</li>\n",
       "\t<li>[13,18)</li>\n",
       "\t<li>[18,23)</li>\n",
       "\t<li>[18,23)</li>\n",
       "\t<li>[18,23)</li>\n",
       "\t<li>[18,23)</li>\n",
       "\t<li>[18,23)</li>\n",
       "\t<li>[18,23)</li>\n",
       "\t<li>[18,23)</li>\n",
       "\t<li>[18,23)</li>\n",
       "\t<li>[18,23)</li>\n",
       "\t<li>[18,23)</li>\n",
       "\t<li>[18,23)</li>\n",
       "\t<li>[18,23)</li>\n",
       "\t<li>[13,18)</li>\n",
       "\t<li>[18,23)</li>\n",
       "\t<li>[18,23)</li>\n",
       "\t<li>[18,23)</li>\n",
       "\t<li>[18,23)</li>\n",
       "\t<li>[13,18)</li>\n",
       "\t<li>[18,23)</li>\n",
       "\t<li>&lt;NA&gt;</li>\n",
       "\t<li>[18,23)</li>\n",
       "\t<li>[18,23)</li>\n",
       "\t<li>[18,23)</li>\n",
       "\t<li>[18,23)</li>\n",
       "\t<li>[18,23)</li>\n",
       "\t<li>[13,18)</li>\n",
       "\t<li>[18,23)</li>\n",
       "\t<li>[18,23)</li>\n",
       "\t<li>[13,18)</li>\n",
       "\t<li>[18,23)</li>\n",
       "\t<li>[18,23)</li>\n",
       "\t<li>[18,23)</li>\n",
       "\t<li>[18,23)</li>\n",
       "\t<li>[13,18)</li>\n",
       "\t<li>[18,23)</li>\n",
       "\t<li>[13,18)</li>\n",
       "\t<li>[13,18)</li>\n",
       "\t<li>[13,18)</li>\n",
       "\t<li>[13,18)</li>\n",
       "\t<li>[13,18)</li>\n",
       "\t<li>[18,23)</li>\n",
       "\t<li>[18,23)</li>\n",
       "\t<li>&lt;NA&gt;</li>\n",
       "\t<li>[13,18)</li>\n",
       "\t<li>[18,23)</li>\n",
       "\t<li>[18,23)</li>\n",
       "\t<li>[18,23)</li>\n",
       "\t<li>[18,23)</li>\n",
       "\t<li>[18,23)</li>\n",
       "\t<li>[18,23)</li>\n",
       "\t<li>[18,23)</li>\n",
       "\t<li>[13,18)</li>\n",
       "\t<li>[18,23)</li>\n",
       "\t<li>[18,23)</li>\n",
       "\t<li>[13,18)</li>\n",
       "\t<li>[13,18)</li>\n",
       "\t<li>[18,23)</li>\n",
       "\t<li>[13,18)</li>\n",
       "\t<li>[18,23)</li>\n",
       "\t<li>[18,23)</li>\n",
       "\t<li>[18,23)</li>\n",
       "\t<li>[13,18)</li>\n",
       "\t<li>[18,23)</li>\n",
       "\t<li>[13,18)</li>\n",
       "\t<li>[13,18)</li>\n",
       "\t<li>[13,18)</li>\n",
       "\t<li>&lt;NA&gt;</li>\n",
       "\t<li>[18,23)</li>\n",
       "\t<li>[18,23)</li>\n",
       "\t<li>[18,23)</li>\n",
       "\t<li>[18,23)</li>\n",
       "\t<li>[18,23)</li>\n",
       "\t<li>[18,23)</li>\n",
       "\t<li>[13,18)</li>\n",
       "\t<li>[18,23)</li>\n",
       "\t<li>[13,18)</li>\n",
       "\t<li>[13,18)</li>\n",
       "\t<li>[18,23)</li>\n",
       "\t<li>[18,23)</li>\n",
       "\t<li>[13,18)</li>\n",
       "\t<li>[13,18)</li>\n",
       "\t<li>&lt;NA&gt;</li>\n",
       "\t<li>[18,23)</li>\n",
       "\t<li>[18,23)</li>\n",
       "\t<li>[18,23)</li>\n",
       "\t<li>[18,23)</li>\n",
       "\t<li>[18,23)</li>\n",
       "\t<li>[18,23)</li>\n",
       "\t<li>[18,23)</li>\n",
       "\t<li>[18,23)</li>\n",
       "\t<li>[18,23)</li>\n",
       "\t<li>[18,23)</li>\n",
       "\t<li>[18,23)</li>\n",
       "\t<li>[18,23)</li>\n",
       "\t<li>[13,18)</li>\n",
       "\t<li>[13,18)</li>\n",
       "\t<li>[18,23)</li>\n",
       "\t<li>[18,23)</li>\n",
       "\t<li>[18,23)</li>\n",
       "\t<li>[18,23)</li>\n",
       "\t<li>[18,23)</li>\n",
       "\t<li>[13,18)</li>\n",
       "\t<li>[18,23)</li>\n",
       "\t<li>[13,18)</li>\n",
       "\t<li>[13,18)</li>\n",
       "\t<li>[18,23)</li>\n",
       "\t<li>[13,18)</li>\n",
       "\t<li>[18,23)</li>\n",
       "\t<li>[18,23)</li>\n",
       "\t<li>[18,23)</li>\n",
       "\t<li>[13,18)</li>\n",
       "\t<li>[18,23)</li>\n",
       "\t<li>[18,23)</li>\n",
       "\t<li>[13,18)</li>\n",
       "\t<li>[13,18)</li>\n",
       "\t<li>[18,23)</li>\n",
       "\t<li>[13,18)</li>\n",
       "\t<li>[13,18)</li>\n",
       "\t<li>[18,23)</li>\n",
       "\t<li>[18,23)</li>\n",
       "\t<li>[18,23)</li>\n",
       "\t<li>[13,18)</li>\n",
       "\t<li>[18,23)</li>\n",
       "\t<li>[18,23)</li>\n",
       "\t<li>[18,23)</li>\n",
       "\t<li>[18,23)</li>\n",
       "\t<li>[18,23)</li>\n",
       "\t<li>[13,18)</li>\n",
       "\t<li>[13,18)</li>\n",
       "\t<li>[13,18)</li>\n",
       "\t<li>[13,18)</li>\n",
       "\t<li>[13,18)</li>\n",
       "\t<li>[18,23)</li>\n",
       "\t<li>[13,18)</li>\n",
       "\t<li>[13,18)</li>\n",
       "\t<li>[18,23)</li>\n",
       "\t<li>[18,23)</li>\n",
       "\t<li>[13,18)</li>\n",
       "\t<li>[13,18)</li>\n",
       "\t<li>[13,18)</li>\n",
       "\t<li>[13,18)</li>\n",
       "\t<li>[13,18)</li>\n",
       "\t<li>[18,23)</li>\n",
       "\t<li>[13,18)</li>\n",
       "\t<li>[13,18)</li>\n",
       "\t<li>[18,23)</li>\n",
       "\t<li>[18,23)</li>\n",
       "\t<li>&lt;NA&gt;</li>\n",
       "\t<li>[13,18)</li>\n",
       "\t<li>[13,18)</li>\n",
       "\t<li>[18,23)</li>\n",
       "\t<li>[18,23)</li>\n",
       "\t<li>[18,23)</li>\n",
       "\t<li>[18,23)</li>\n",
       "\t<li>[18,23)</li>\n",
       "\t<li>[18,23)</li>\n",
       "\t<li>[18,23)</li>\n",
       "\t<li>[18,23)</li>\n",
       "\t<li>[13,18)</li>\n",
       "</ol>\n",
       "\n",
       "<details>\n",
       "\t<summary style=display:list-item;cursor:pointer>\n",
       "\t\t<strong>Levels</strong>:\n",
       "\t</summary>\n",
       "\t<ol class=list-inline>\n",
       "\t\t<li>'[13,18)'</li>\n",
       "\t\t<li>'[18,23)'</li>\n",
       "\t</ol>\n",
       "</details>"
      ],
      "text/latex": [
       "\\begin{enumerate*}\n",
       "\\item {[}18,23)\n",
       "\\item {[}18,23)\n",
       "\\item {[}18,23)\n",
       "\\item {[}18,23)\n",
       "\\item {[}13,18)\n",
       "\\item {[}13,18)\n",
       "\\item {[}18,23)\n",
       "\\item {[}18,23)\n",
       "\\item {[}13,18)\n",
       "\\item {[}18,23)\n",
       "\\item {[}18,23)\n",
       "\\item {[}18,23)\n",
       "\\item {[}18,23)\n",
       "\\item {[}18,23)\n",
       "\\item {[}18,23)\n",
       "\\item {[}18,23)\n",
       "\\item {[}18,23)\n",
       "\\item {[}18,23)\n",
       "\\item {[}18,23)\n",
       "\\item {[}18,23)\n",
       "\\item {[}18,23)\n",
       "\\item {[}13,18)\n",
       "\\item {[}18,23)\n",
       "\\item {[}18,23)\n",
       "\\item {[}18,23)\n",
       "\\item {[}18,23)\n",
       "\\item {[}13,18)\n",
       "\\item {[}18,23)\n",
       "\\item <NA>\n",
       "\\item {[}18,23)\n",
       "\\item {[}18,23)\n",
       "\\item {[}18,23)\n",
       "\\item {[}18,23)\n",
       "\\item {[}18,23)\n",
       "\\item {[}13,18)\n",
       "\\item {[}18,23)\n",
       "\\item {[}18,23)\n",
       "\\item {[}13,18)\n",
       "\\item {[}18,23)\n",
       "\\item {[}18,23)\n",
       "\\item {[}18,23)\n",
       "\\item {[}18,23)\n",
       "\\item {[}13,18)\n",
       "\\item {[}18,23)\n",
       "\\item {[}13,18)\n",
       "\\item {[}13,18)\n",
       "\\item {[}13,18)\n",
       "\\item {[}13,18)\n",
       "\\item {[}13,18)\n",
       "\\item {[}18,23)\n",
       "\\item {[}18,23)\n",
       "\\item <NA>\n",
       "\\item {[}13,18)\n",
       "\\item {[}18,23)\n",
       "\\item {[}18,23)\n",
       "\\item {[}18,23)\n",
       "\\item {[}18,23)\n",
       "\\item {[}18,23)\n",
       "\\item {[}18,23)\n",
       "\\item {[}18,23)\n",
       "\\item {[}13,18)\n",
       "\\item {[}18,23)\n",
       "\\item {[}18,23)\n",
       "\\item {[}13,18)\n",
       "\\item {[}13,18)\n",
       "\\item {[}18,23)\n",
       "\\item {[}13,18)\n",
       "\\item {[}18,23)\n",
       "\\item {[}18,23)\n",
       "\\item {[}18,23)\n",
       "\\item {[}13,18)\n",
       "\\item {[}18,23)\n",
       "\\item {[}13,18)\n",
       "\\item {[}13,18)\n",
       "\\item {[}13,18)\n",
       "\\item <NA>\n",
       "\\item {[}18,23)\n",
       "\\item {[}18,23)\n",
       "\\item {[}18,23)\n",
       "\\item {[}18,23)\n",
       "\\item {[}18,23)\n",
       "\\item {[}18,23)\n",
       "\\item {[}13,18)\n",
       "\\item {[}18,23)\n",
       "\\item {[}13,18)\n",
       "\\item {[}13,18)\n",
       "\\item {[}18,23)\n",
       "\\item {[}18,23)\n",
       "\\item {[}13,18)\n",
       "\\item {[}13,18)\n",
       "\\item <NA>\n",
       "\\item {[}18,23)\n",
       "\\item {[}18,23)\n",
       "\\item {[}18,23)\n",
       "\\item {[}18,23)\n",
       "\\item {[}18,23)\n",
       "\\item {[}18,23)\n",
       "\\item {[}18,23)\n",
       "\\item {[}18,23)\n",
       "\\item {[}18,23)\n",
       "\\item {[}18,23)\n",
       "\\item {[}18,23)\n",
       "\\item {[}18,23)\n",
       "\\item {[}13,18)\n",
       "\\item {[}13,18)\n",
       "\\item {[}18,23)\n",
       "\\item {[}18,23)\n",
       "\\item {[}18,23)\n",
       "\\item {[}18,23)\n",
       "\\item {[}18,23)\n",
       "\\item {[}13,18)\n",
       "\\item {[}18,23)\n",
       "\\item {[}13,18)\n",
       "\\item {[}13,18)\n",
       "\\item {[}18,23)\n",
       "\\item {[}13,18)\n",
       "\\item {[}18,23)\n",
       "\\item {[}18,23)\n",
       "\\item {[}18,23)\n",
       "\\item {[}13,18)\n",
       "\\item {[}18,23)\n",
       "\\item {[}18,23)\n",
       "\\item {[}13,18)\n",
       "\\item {[}13,18)\n",
       "\\item {[}18,23)\n",
       "\\item {[}13,18)\n",
       "\\item {[}13,18)\n",
       "\\item {[}18,23)\n",
       "\\item {[}18,23)\n",
       "\\item {[}18,23)\n",
       "\\item {[}13,18)\n",
       "\\item {[}18,23)\n",
       "\\item {[}18,23)\n",
       "\\item {[}18,23)\n",
       "\\item {[}18,23)\n",
       "\\item {[}18,23)\n",
       "\\item {[}13,18)\n",
       "\\item {[}13,18)\n",
       "\\item {[}13,18)\n",
       "\\item {[}13,18)\n",
       "\\item {[}13,18)\n",
       "\\item {[}18,23)\n",
       "\\item {[}13,18)\n",
       "\\item {[}13,18)\n",
       "\\item {[}18,23)\n",
       "\\item {[}18,23)\n",
       "\\item {[}13,18)\n",
       "\\item {[}13,18)\n",
       "\\item {[}13,18)\n",
       "\\item {[}13,18)\n",
       "\\item {[}13,18)\n",
       "\\item {[}18,23)\n",
       "\\item {[}13,18)\n",
       "\\item {[}13,18)\n",
       "\\item {[}18,23)\n",
       "\\item {[}18,23)\n",
       "\\item <NA>\n",
       "\\item {[}13,18)\n",
       "\\item {[}13,18)\n",
       "\\item {[}18,23)\n",
       "\\item {[}18,23)\n",
       "\\item {[}18,23)\n",
       "\\item {[}18,23)\n",
       "\\item {[}18,23)\n",
       "\\item {[}18,23)\n",
       "\\item {[}18,23)\n",
       "\\item {[}18,23)\n",
       "\\item {[}13,18)\n",
       "\\end{enumerate*}\n",
       "\n",
       "\\emph{Levels}: \\begin{enumerate*}\n",
       "\\item '{[}13,18)'\n",
       "\\item '{[}18,23)'\n",
       "\\end{enumerate*}\n"
      ],
      "text/markdown": [
       "1. [18,23)\n",
       "2. [18,23)\n",
       "3. [18,23)\n",
       "4. [18,23)\n",
       "5. [13,18)\n",
       "6. [13,18)\n",
       "7. [18,23)\n",
       "8. [18,23)\n",
       "9. [13,18)\n",
       "10. [18,23)\n",
       "11. [18,23)\n",
       "12. [18,23)\n",
       "13. [18,23)\n",
       "14. [18,23)\n",
       "15. [18,23)\n",
       "16. [18,23)\n",
       "17. [18,23)\n",
       "18. [18,23)\n",
       "19. [18,23)\n",
       "20. [18,23)\n",
       "21. [18,23)\n",
       "22. [13,18)\n",
       "23. [18,23)\n",
       "24. [18,23)\n",
       "25. [18,23)\n",
       "26. [18,23)\n",
       "27. [13,18)\n",
       "28. [18,23)\n",
       "29. &lt;NA&gt;\n",
       "30. [18,23)\n",
       "31. [18,23)\n",
       "32. [18,23)\n",
       "33. [18,23)\n",
       "34. [18,23)\n",
       "35. [13,18)\n",
       "36. [18,23)\n",
       "37. [18,23)\n",
       "38. [13,18)\n",
       "39. [18,23)\n",
       "40. [18,23)\n",
       "41. [18,23)\n",
       "42. [18,23)\n",
       "43. [13,18)\n",
       "44. [18,23)\n",
       "45. [13,18)\n",
       "46. [13,18)\n",
       "47. [13,18)\n",
       "48. [13,18)\n",
       "49. [13,18)\n",
       "50. [18,23)\n",
       "51. [18,23)\n",
       "52. &lt;NA&gt;\n",
       "53. [13,18)\n",
       "54. [18,23)\n",
       "55. [18,23)\n",
       "56. [18,23)\n",
       "57. [18,23)\n",
       "58. [18,23)\n",
       "59. [18,23)\n",
       "60. [18,23)\n",
       "61. [13,18)\n",
       "62. [18,23)\n",
       "63. [18,23)\n",
       "64. [13,18)\n",
       "65. [13,18)\n",
       "66. [18,23)\n",
       "67. [13,18)\n",
       "68. [18,23)\n",
       "69. [18,23)\n",
       "70. [18,23)\n",
       "71. [13,18)\n",
       "72. [18,23)\n",
       "73. [13,18)\n",
       "74. [13,18)\n",
       "75. [13,18)\n",
       "76. &lt;NA&gt;\n",
       "77. [18,23)\n",
       "78. [18,23)\n",
       "79. [18,23)\n",
       "80. [18,23)\n",
       "81. [18,23)\n",
       "82. [18,23)\n",
       "83. [13,18)\n",
       "84. [18,23)\n",
       "85. [13,18)\n",
       "86. [13,18)\n",
       "87. [18,23)\n",
       "88. [18,23)\n",
       "89. [13,18)\n",
       "90. [13,18)\n",
       "91. &lt;NA&gt;\n",
       "92. [18,23)\n",
       "93. [18,23)\n",
       "94. [18,23)\n",
       "95. [18,23)\n",
       "96. [18,23)\n",
       "97. [18,23)\n",
       "98. [18,23)\n",
       "99. [18,23)\n",
       "100. [18,23)\n",
       "101. [18,23)\n",
       "102. [18,23)\n",
       "103. [18,23)\n",
       "104. [13,18)\n",
       "105. [13,18)\n",
       "106. [18,23)\n",
       "107. [18,23)\n",
       "108. [18,23)\n",
       "109. [18,23)\n",
       "110. [18,23)\n",
       "111. [13,18)\n",
       "112. [18,23)\n",
       "113. [13,18)\n",
       "114. [13,18)\n",
       "115. [18,23)\n",
       "116. [13,18)\n",
       "117. [18,23)\n",
       "118. [18,23)\n",
       "119. [18,23)\n",
       "120. [13,18)\n",
       "121. [18,23)\n",
       "122. [18,23)\n",
       "123. [13,18)\n",
       "124. [13,18)\n",
       "125. [18,23)\n",
       "126. [13,18)\n",
       "127. [13,18)\n",
       "128. [18,23)\n",
       "129. [18,23)\n",
       "130. [18,23)\n",
       "131. [13,18)\n",
       "132. [18,23)\n",
       "133. [18,23)\n",
       "134. [18,23)\n",
       "135. [18,23)\n",
       "136. [18,23)\n",
       "137. [13,18)\n",
       "138. [13,18)\n",
       "139. [13,18)\n",
       "140. [13,18)\n",
       "141. [13,18)\n",
       "142. [18,23)\n",
       "143. [13,18)\n",
       "144. [13,18)\n",
       "145. [18,23)\n",
       "146. [18,23)\n",
       "147. [13,18)\n",
       "148. [13,18)\n",
       "149. [13,18)\n",
       "150. [13,18)\n",
       "151. [13,18)\n",
       "152. [18,23)\n",
       "153. [13,18)\n",
       "154. [13,18)\n",
       "155. [18,23)\n",
       "156. [18,23)\n",
       "157. &lt;NA&gt;\n",
       "158. [13,18)\n",
       "159. [13,18)\n",
       "160. [18,23)\n",
       "161. [18,23)\n",
       "162. [18,23)\n",
       "163. [18,23)\n",
       "164. [18,23)\n",
       "165. [18,23)\n",
       "166. [18,23)\n",
       "167. [18,23)\n",
       "168. [13,18)\n",
       "\n",
       "\n",
       "\n",
       "**Levels**: 1. '[13,18)'\n",
       "2. '[18,23)'\n",
       "\n",
       "\n"
      ],
      "text/plain": [
       "  [1] [18,23) [18,23) [18,23) [18,23) [13,18) [13,18) [18,23) [18,23) [13,18)\n",
       " [10] [18,23) [18,23) [18,23) [18,23) [18,23) [18,23) [18,23) [18,23) [18,23)\n",
       " [19] [18,23) [18,23) [18,23) [13,18) [18,23) [18,23) [18,23) [18,23) [13,18)\n",
       " [28] [18,23) <NA>    [18,23) [18,23) [18,23) [18,23) [18,23) [13,18) [18,23)\n",
       " [37] [18,23) [13,18) [18,23) [18,23) [18,23) [18,23) [13,18) [18,23) [13,18)\n",
       " [46] [13,18) [13,18) [13,18) [13,18) [18,23) [18,23) <NA>    [13,18) [18,23)\n",
       " [55] [18,23) [18,23) [18,23) [18,23) [18,23) [18,23) [13,18) [18,23) [18,23)\n",
       " [64] [13,18) [13,18) [18,23) [13,18) [18,23) [18,23) [18,23) [13,18) [18,23)\n",
       " [73] [13,18) [13,18) [13,18) <NA>    [18,23) [18,23) [18,23) [18,23) [18,23)\n",
       " [82] [18,23) [13,18) [18,23) [13,18) [13,18) [18,23) [18,23) [13,18) [13,18)\n",
       " [91] <NA>    [18,23) [18,23) [18,23) [18,23) [18,23) [18,23) [18,23) [18,23)\n",
       "[100] [18,23) [18,23) [18,23) [18,23) [13,18) [13,18) [18,23) [18,23) [18,23)\n",
       "[109] [18,23) [18,23) [13,18) [18,23) [13,18) [13,18) [18,23) [13,18) [18,23)\n",
       "[118] [18,23) [18,23) [13,18) [18,23) [18,23) [13,18) [13,18) [18,23) [13,18)\n",
       "[127] [13,18) [18,23) [18,23) [18,23) [13,18) [18,23) [18,23) [18,23) [18,23)\n",
       "[136] [18,23) [13,18) [13,18) [13,18) [13,18) [13,18) [18,23) [13,18) [13,18)\n",
       "[145] [18,23) [18,23) [13,18) [13,18) [13,18) [13,18) [13,18) [18,23) [13,18)\n",
       "[154] [13,18) [18,23) [18,23) <NA>    [13,18) [13,18) [18,23) [18,23) [18,23)\n",
       "[163] [18,23) [18,23) [18,23) [18,23) [18,23) [13,18)\n",
       "Levels: [13,18) [18,23)"
      ]
     },
     "metadata": {},
     "output_type": "display_data"
    }
   ],
   "source": [
    "breaks <- seq(13,23,by=5)\n",
    "wr.hnd_bins <- cut(Wr.Hnd,breaks,right=FALSE)\n",
    "wr.hnd_bins"
   ]
  },
  {
   "cell_type": "code",
   "execution_count": 42,
   "metadata": {},
   "outputs": [
    {
     "data": {
      "text/plain": [
       "wr.hnd_bins\n",
       "[13,18) [18,23) \n",
       "     56     107 "
      ]
     },
     "metadata": {},
     "output_type": "display_data"
    }
   ],
   "source": [
    "wr.hnd_freq <- table(wr.hnd_bins)\n",
    "wr.hnd_freq"
   ]
  },
  {
   "cell_type": "code",
   "execution_count": 43,
   "metadata": {},
   "outputs": [
    {
     "data": {
      "text/html": [
       "<dl class=dl-horizontal>\n",
       "\t<dt>[13,18)</dt>\n",
       "\t\t<dd>56</dd>\n",
       "\t<dt>[18,23)</dt>\n",
       "\t\t<dd>163</dd>\n",
       "</dl>\n"
      ],
      "text/latex": [
       "\\begin{description*}\n",
       "\\item[\\{{[}\\}13,18)] 56\n",
       "\\item[\\{{[}\\}18,23)] 163\n",
       "\\end{description*}\n"
      ],
      "text/markdown": [
       "[13,18)\n",
       ":   56[18,23)\n",
       ":   163\n",
       "\n"
      ],
      "text/plain": [
       "[13,18) [18,23) \n",
       "     56     163 "
      ]
     },
     "metadata": {},
     "output_type": "display_data"
    }
   ],
   "source": [
    "wr.hnd_cumfrq <- cumsum(wr.hnd_freq)\n",
    "wr.hnd_cumfrq"
   ]
  },
  {
   "cell_type": "markdown",
   "metadata": {},
   "source": [
    "Find the relative frequency of Wr.Hnd and display it by correcting to 3 decimal places."
   ]
  },
  {
   "cell_type": "code",
   "execution_count": 46,
   "metadata": {},
   "outputs": [
    {
     "data": {
      "text/plain": [
       "wr.hnd_bins\n",
       "[13,18) [18,23) \n",
       "  0.333   0.637 "
      ]
     },
     "metadata": {},
     "output_type": "display_data"
    }
   ],
   "source": [
    "wr.hnd_relfreq <- wr.hnd_freq/nrow(newsurvey)\n",
    "round(wr.hnd_relfreq, digits=3)"
   ]
  },
  {
   "cell_type": "markdown",
   "metadata": {},
   "source": [
    "Find the average age of the students participated in the survey."
   ]
  },
  {
   "cell_type": "code",
   "execution_count": 47,
   "metadata": {},
   "outputs": [
    {
     "data": {
      "text/html": [
       "53.5"
      ],
      "text/latex": [
       "53.5"
      ],
      "text/markdown": [
       "53.5"
      ],
      "text/plain": [
       "[1] 53.5"
      ]
     },
     "metadata": {},
     "output_type": "display_data"
    }
   ],
   "source": [
    "avg  <- var(Age)\n",
    "avg"
   ]
  },
  {
   "cell_type": "markdown",
   "metadata": {},
   "source": [
    "Compute the standard deviation and variance of the height of the students participated in the survey."
   ]
  },
  {
   "cell_type": "code",
   "execution_count": 48,
   "metadata": {},
   "outputs": [
    {
     "data": {
      "text/html": [
       "99.1924821072141"
      ],
      "text/latex": [
       "99.1924821072141"
      ],
      "text/markdown": [
       "99.1924821072141"
      ],
      "text/plain": [
       "[1] 99.19248"
      ]
     },
     "metadata": {},
     "output_type": "display_data"
    }
   ],
   "source": [
    "variance  <- var(Height)\n",
    "variance"
   ]
  },
  {
   "cell_type": "code",
   "execution_count": 50,
   "metadata": {},
   "outputs": [
    {
     "data": {
      "text/html": [
       "9.95954226394035"
      ],
      "text/latex": [
       "9.95954226394035"
      ],
      "text/markdown": [
       "9.95954226394035"
      ],
      "text/plain": [
       "[1] 9.959542"
      ]
     },
     "metadata": {},
     "output_type": "display_data"
    }
   ],
   "source": [
    "standard_deviation <- sd(Height)\n",
    "standard_deviation"
   ]
  },
  {
   "cell_type": "code",
   "execution_count": null,
   "metadata": {},
   "outputs": [],
   "source": [
    "Compute the quartile of write hand span."
   ]
  },
  {
   "cell_type": "code",
   "execution_count": 52,
   "metadata": {},
   "outputs": [
    {
     "data": {
      "text/html": [
       "<dl class=dl-horizontal>\n",
       "\t<dt>30%</dt>\n",
       "\t\t<dd>17.61</dd>\n",
       "\t<dt>60%</dt>\n",
       "\t\t<dd>19</dd>\n",
       "\t<dt>90%</dt>\n",
       "\t\t<dd>21.59</dd>\n",
       "</dl>\n"
      ],
      "text/latex": [
       "\\begin{description*}\n",
       "\\item[30\\textbackslash{}\\%] 17.61\n",
       "\\item[60\\textbackslash{}\\%] 19\n",
       "\\item[90\\textbackslash{}\\%] 21.59\n",
       "\\end{description*}\n"
      ],
      "text/markdown": [
       "30%\n",
       ":   17.6160%\n",
       ":   1990%\n",
       ":   21.59\n",
       "\n"
      ],
      "text/plain": [
       "  30%   60%   90% \n",
       "17.61 19.00 21.59 "
      ]
     },
     "metadata": {},
     "output_type": "display_data"
    }
   ],
   "source": [
    "quartile  <- quantile(Wr.Hnd,c(0.3,0.6,0.9))\n",
    "quartile"
   ]
  },
  {
   "cell_type": "markdown",
   "metadata": {},
   "source": [
    "Find the correlation between write hand span and pulse rate of the students."
   ]
  },
  {
   "cell_type": "code",
   "execution_count": 53,
   "metadata": {},
   "outputs": [
    {
     "data": {
      "text/html": [
       "-0.0138214448711253"
      ],
      "text/latex": [
       "-0.0138214448711253"
      ],
      "text/markdown": [
       "-0.0138214448711253"
      ],
      "text/plain": [
       "[1] -0.01382144"
      ]
     },
     "metadata": {},
     "output_type": "display_data"
    }
   ],
   "source": [
    "cor(Wr.Hnd,Pulse)"
   ]
  },
  {
   "cell_type": "markdown",
   "metadata": {},
   "source": [
    "Obtain the summary statistics of pulse rate of the students."
   ]
  },
  {
   "cell_type": "code",
   "execution_count": 109,
   "metadata": {},
   "outputs": [
    {
     "data": {
      "text/plain": [
       "   Min. 1st Qu.  Median    Mean 3rd Qu.    Max. \n",
       "  35.00   66.75   72.00   74.02   80.00  104.00 "
      ]
     },
     "metadata": {},
     "output_type": "display_data"
    }
   ],
   "source": [
    "summary(Pulse)"
   ]
  },
  {
   "cell_type": "markdown",
   "metadata": {},
   "source": [
    "B) Choose any dataset of your choice and perform parametric and Non-parametric statistical analysis and provide your inference."
   ]
  },
  {
   "cell_type": "markdown",
   "metadata": {},
   "source": [
    "for comparing means"
   ]
  },
  {
   "cell_type": "code",
   "execution_count": 60,
   "metadata": {},
   "outputs": [],
   "source": [
    "set.seed(1236)\n",
    "data <- data.frame(\n",
    "  name = paste0(rep(\"NAME\", 20), 1:20),\n",
    "  height = round(rnorm(10, 20, 2), 1)\n",
    "    )"
   ]
  },
  {
   "cell_type": "code",
   "execution_count": 61,
   "metadata": {},
   "outputs": [
    {
     "data": {
      "text/html": [
       "<table>\n",
       "<thead><tr><th scope=col>name</th><th scope=col>height</th></tr></thead>\n",
       "<tbody>\n",
       "\t<tr><td>NAME1 </td><td>18.2  </td></tr>\n",
       "\t<tr><td>NAME2 </td><td>19.0  </td></tr>\n",
       "\t<tr><td>NAME3 </td><td>19.5  </td></tr>\n",
       "\t<tr><td>NAME4 </td><td>21.9  </td></tr>\n",
       "\t<tr><td>NAME5 </td><td>16.7  </td></tr>\n",
       "\t<tr><td>NAME6 </td><td>20.7  </td></tr>\n",
       "\t<tr><td>NAME7 </td><td>17.6  </td></tr>\n",
       "\t<tr><td>NAME8 </td><td>22.6  </td></tr>\n",
       "\t<tr><td>NAME9 </td><td>18.3  </td></tr>\n",
       "\t<tr><td>NAME10</td><td>21.2  </td></tr>\n",
       "\t<tr><td>NAME11</td><td>18.2  </td></tr>\n",
       "\t<tr><td>NAME12</td><td>19.0  </td></tr>\n",
       "\t<tr><td>NAME13</td><td>19.5  </td></tr>\n",
       "\t<tr><td>NAME14</td><td>21.9  </td></tr>\n",
       "\t<tr><td>NAME15</td><td>16.7  </td></tr>\n",
       "\t<tr><td>NAME16</td><td>20.7  </td></tr>\n",
       "\t<tr><td>NAME17</td><td>17.6  </td></tr>\n",
       "\t<tr><td>NAME18</td><td>22.6  </td></tr>\n",
       "\t<tr><td>NAME19</td><td>18.3  </td></tr>\n",
       "\t<tr><td>NAME20</td><td>21.2  </td></tr>\n",
       "</tbody>\n",
       "</table>\n"
      ],
      "text/latex": [
       "\\begin{tabular}{r|ll}\n",
       " name & height\\\\\n",
       "\\hline\n",
       "\t NAME1  & 18.2  \\\\\n",
       "\t NAME2  & 19.0  \\\\\n",
       "\t NAME3  & 19.5  \\\\\n",
       "\t NAME4  & 21.9  \\\\\n",
       "\t NAME5  & 16.7  \\\\\n",
       "\t NAME6  & 20.7  \\\\\n",
       "\t NAME7  & 17.6  \\\\\n",
       "\t NAME8  & 22.6  \\\\\n",
       "\t NAME9  & 18.3  \\\\\n",
       "\t NAME10 & 21.2  \\\\\n",
       "\t NAME11 & 18.2  \\\\\n",
       "\t NAME12 & 19.0  \\\\\n",
       "\t NAME13 & 19.5  \\\\\n",
       "\t NAME14 & 21.9  \\\\\n",
       "\t NAME15 & 16.7  \\\\\n",
       "\t NAME16 & 20.7  \\\\\n",
       "\t NAME17 & 17.6  \\\\\n",
       "\t NAME18 & 22.6  \\\\\n",
       "\t NAME19 & 18.3  \\\\\n",
       "\t NAME20 & 21.2  \\\\\n",
       "\\end{tabular}\n"
      ],
      "text/markdown": [
       "\n",
       "| name | height |\n",
       "|---|---|\n",
       "| NAME1  | 18.2   |\n",
       "| NAME2  | 19.0   |\n",
       "| NAME3  | 19.5   |\n",
       "| NAME4  | 21.9   |\n",
       "| NAME5  | 16.7   |\n",
       "| NAME6  | 20.7   |\n",
       "| NAME7  | 17.6   |\n",
       "| NAME8  | 22.6   |\n",
       "| NAME9  | 18.3   |\n",
       "| NAME10 | 21.2   |\n",
       "| NAME11 | 18.2   |\n",
       "| NAME12 | 19.0   |\n",
       "| NAME13 | 19.5   |\n",
       "| NAME14 | 21.9   |\n",
       "| NAME15 | 16.7   |\n",
       "| NAME16 | 20.7   |\n",
       "| NAME17 | 17.6   |\n",
       "| NAME18 | 22.6   |\n",
       "| NAME19 | 18.3   |\n",
       "| NAME20 | 21.2   |\n",
       "\n"
      ],
      "text/plain": [
       "   name   height\n",
       "1  NAME1  18.2  \n",
       "2  NAME2  19.0  \n",
       "3  NAME3  19.5  \n",
       "4  NAME4  21.9  \n",
       "5  NAME5  16.7  \n",
       "6  NAME6  20.7  \n",
       "7  NAME7  17.6  \n",
       "8  NAME8  22.6  \n",
       "9  NAME9  18.3  \n",
       "10 NAME10 21.2  \n",
       "11 NAME11 18.2  \n",
       "12 NAME12 19.0  \n",
       "13 NAME13 19.5  \n",
       "14 NAME14 21.9  \n",
       "15 NAME15 16.7  \n",
       "16 NAME16 20.7  \n",
       "17 NAME17 17.6  \n",
       "18 NAME18 22.6  \n",
       "19 NAME19 18.3  \n",
       "20 NAME20 21.2  "
      ]
     },
     "metadata": {},
     "output_type": "display_data"
    }
   ],
   "source": [
    "data"
   ]
  },
  {
   "cell_type": "code",
   "execution_count": 62,
   "metadata": {},
   "outputs": [
    {
     "data": {
      "text/plain": [
       "   Min. 1st Qu.  Median    Mean 3rd Qu.    Max. \n",
       "  16.70   18.20   19.25   19.57   21.20   22.60 "
      ]
     },
     "metadata": {},
     "output_type": "display_data"
    }
   ],
   "source": [
    "summary(data$height)"
   ]
  },
  {
   "cell_type": "code",
   "execution_count": 63,
   "metadata": {},
   "outputs": [
    {
     "data": {
      "text/plain": [
       "\n",
       "\tShapiro-Wilk normality test\n",
       "\n",
       "data:  data$height\n",
       "W = 0.93634, p-value = 0.2043\n"
      ]
     },
     "metadata": {},
     "output_type": "display_data"
    }
   ],
   "source": [
    "shapiro.test(data$height)"
   ]
  },
  {
   "cell_type": "code",
   "execution_count": 64,
   "metadata": {},
   "outputs": [
    {
     "data": {
      "image/png": "[encoded data removed]",
      "text/plain": [
       "Plot with title \"Normal Q-Q Plot\""
      ]
     },
     "metadata": {},
     "output_type": "display_data"
    }
   ],
   "source": [
    "qqnorm(data$height)\n",
    "qqline(data$height)"
   ]
  },
  {
   "cell_type": "code",
   "execution_count": 67,
   "metadata": {},
   "outputs": [
    {
     "name": "stdout",
     "output_type": "stream",
     "text": [
      "package 'car' successfully unpacked and MD5 sums checked\n",
      "\n",
      "The downloaded binary packages are in\n",
      "\tC:\\Users\\AKHIL\\AppData\\Local\\Temp\\Rtmp0MlnXD\\downloaded_packages\n"
     ]
    }
   ],
   "source": [
    "install.packages(\"car\")"
   ]
  },
  {
   "cell_type": "code",
   "execution_count": 68,
   "metadata": {},
   "outputs": [
    {
     "name": "stderr",
     "output_type": "stream",
     "text": [
      "Warning message:\n",
      "\"package 'car' was built under R version 3.6.3\"Loading required package: carData\n",
      "Warning message:\n",
      "\"package 'carData' was built under R version 3.6.3\"\n",
      "Attaching package: 'car'\n",
      "\n",
      "The following object is masked from 'package:dplyr':\n",
      "\n",
      "    recode\n",
      "\n"
     ]
    },
    {
     "data": {
      "text/html": [
       "<ol class=list-inline>\n",
       "\t<li>8</li>\n",
       "\t<li>18</li>\n",
       "</ol>\n"
      ],
      "text/latex": [
       "\\begin{enumerate*}\n",
       "\\item 8\n",
       "\\item 18\n",
       "\\end{enumerate*}\n"
      ],
      "text/markdown": [
       "1. 8\n",
       "2. 18\n",
       "\n",
       "\n"
      ],
      "text/plain": [
       "[1]  8 18"
      ]
     },
     "metadata": {},
     "output_type": "display_data"
    },
    {
     "data": {
      "image/png": "[encoded data removed]",
      "text/plain": [
       "plot without title"
      ]
     },
     "metadata": {},
     "output_type": "display_data"
    }
   ],
   "source": [
    "library(car)\n",
    "qqPlot(data$height)"
   ]
  },
  {
   "cell_type": "code",
   "execution_count": 69,
   "metadata": {},
   "outputs": [
    {
     "data": {
      "text/plain": [
       "\n",
       "\tOne Sample t-test\n",
       "\n",
       "data:  data$height\n",
       "t = 10.141, df = 19, p-value = 4.2e-09\n",
       "alternative hypothesis: true mean is not equal to 15.25\n",
       "95 percent confidence interval:\n",
       " 18.67836 20.46164\n",
       "sample estimates:\n",
       "mean of x \n",
       "    19.57 \n"
      ]
     },
     "metadata": {},
     "output_type": "display_data"
    }
   ],
   "source": [
    "res <- t.test(data$height,mu=15.25) \n",
    "res"
   ]
  },
  {
   "cell_type": "code",
   "execution_count": 70,
   "metadata": {},
   "outputs": [
    {
     "data": {
      "text/html": [
       "4.19991955234135e-09"
      ],
      "text/latex": [
       "4.19991955234135e-09"
      ],
      "text/markdown": [
       "4.19991955234135e-09"
      ],
      "text/plain": [
       "[1] 4.19992e-09"
      ]
     },
     "metadata": {},
     "output_type": "display_data"
    }
   ],
   "source": [
    "res$p.value"
   ]
  },
  {
   "cell_type": "code",
   "execution_count": 71,
   "metadata": {},
   "outputs": [
    {
     "data": {
      "text/html": [
       "<strong>mean of x:</strong> 19.57"
      ],
      "text/latex": [
       "\\textbf{mean of x:} 19.57"
      ],
      "text/markdown": [
       "**mean of x:** 19.57"
      ],
      "text/plain": [
       "mean of x \n",
       "    19.57 "
      ]
     },
     "metadata": {},
     "output_type": "display_data"
    }
   ],
   "source": [
    "res$estimate"
   ]
  },
  {
   "cell_type": "code",
   "execution_count": 72,
   "metadata": {},
   "outputs": [
    {
     "data": {
      "text/html": [
       "<ol class=list-inline>\n",
       "\t<li>18.6783645123432</li>\n",
       "\t<li>20.4616354876568</li>\n",
       "</ol>\n"
      ],
      "text/latex": [
       "\\begin{enumerate*}\n",
       "\\item 18.6783645123432\n",
       "\\item 20.4616354876568\n",
       "\\end{enumerate*}\n"
      ],
      "text/markdown": [
       "1. 18.6783645123432\n",
       "2. 20.4616354876568\n",
       "\n",
       "\n"
      ],
      "text/plain": [
       "[1] 18.67836 20.46164\n",
       "attr(,\"conf.level\")\n",
       "[1] 0.95"
      ]
     },
     "metadata": {},
     "output_type": "display_data"
    }
   ],
   "source": [
    "res$conf.int"
   ]
  },
  {
   "cell_type": "code",
   "execution_count": 73,
   "metadata": {},
   "outputs": [
    {
     "data": {
      "text/plain": [
       "\n",
       "\tOne Sample t-test\n",
       "\n",
       "data:  data$height\n",
       "t = -12.746, df = 19, p-value = 4.645e-11\n",
       "alternative hypothesis: true mean is less than 25\n",
       "95 percent confidence interval:\n",
       "     -Inf 20.30662\n",
       "sample estimates:\n",
       "mean of x \n",
       "    19.57 \n"
      ]
     },
     "metadata": {},
     "output_type": "display_data"
    }
   ],
   "source": [
    "res1 <- t.test(data$height,mu=25,alternative = \"less\")\n",
    "res1"
   ]
  },
  {
   "cell_type": "code",
   "execution_count": 74,
   "metadata": {},
   "outputs": [
    {
     "data": {
      "text/plain": [
       "\n",
       "\tOne Sample t-test\n",
       "\n",
       "data:  data$height\n",
       "t = -12.746, df = 19, p-value = 1\n",
       "alternative hypothesis: true mean is greater than 25\n",
       "95 percent confidence interval:\n",
       " 18.83338      Inf\n",
       "sample estimates:\n",
       "mean of x \n",
       "    19.57 \n"
      ]
     },
     "metadata": {},
     "output_type": "display_data"
    }
   ],
   "source": [
    "res2 <- t.test(data$height,mu=25,alternative = \"greater\")\n",
    "res2"
   ]
  },
  {
   "cell_type": "code",
   "execution_count": 76,
   "metadata": {},
   "outputs": [
    {
     "name": "stderr",
     "output_type": "stream",
     "text": [
      "Warning message in wilcox.test.default(data$height, mu = 25):\n",
      "\"cannot compute exact p-value with ties\""
     ]
    },
    {
     "data": {
      "text/plain": [
       "\n",
       "\tWilcoxon signed rank test with continuity correction\n",
       "\n",
       "data:  data$height\n",
       "V = 0, p-value = 9.436e-05\n",
       "alternative hypothesis: true location is not equal to 25\n"
      ]
     },
     "metadata": {},
     "output_type": "display_data"
    }
   ],
   "source": [
    "res <- wilcox.test(data$height, mu = 25)\n",
    "res "
   ]
  },
  {
   "cell_type": "code",
   "execution_count": 77,
   "metadata": {},
   "outputs": [
    {
     "name": "stderr",
     "output_type": "stream",
     "text": [
      "Warning message in wilcox.test.default(data$height, mu = 25, alternative = \"less\"):\n",
      "\"cannot compute exact p-value with ties\""
     ]
    },
    {
     "data": {
      "text/plain": [
       "\n",
       "\tWilcoxon signed rank test with continuity correction\n",
       "\n",
       "data:  data$height\n",
       "V = 0, p-value = 4.718e-05\n",
       "alternative hypothesis: true location is less than 25\n"
      ]
     },
     "metadata": {},
     "output_type": "display_data"
    }
   ],
   "source": [
    "wilcox.test(data$height, mu = 25,alternative = \"less\")"
   ]
  },
  {
   "cell_type": "code",
   "execution_count": 78,
   "metadata": {},
   "outputs": [
    {
     "name": "stderr",
     "output_type": "stream",
     "text": [
      "Warning message in wilcox.test.default(data$height, mu = 25, alternative = \"greater\"):\n",
      "\"cannot compute exact p-value with ties\""
     ]
    },
    {
     "data": {
      "text/plain": [
       "\n",
       "\tWilcoxon signed rank test with continuity correction\n",
       "\n",
       "data:  data$height\n",
       "V = 0, p-value = 1\n",
       "alternative hypothesis: true location is greater than 25\n"
      ]
     },
     "metadata": {},
     "output_type": "display_data"
    }
   ],
   "source": [
    "wilcox.test(data$height, mu = 25,alternative = \"greater\")"
   ]
  },
  {
   "cell_type": "markdown",
   "metadata": {},
   "source": [
    "Comparing the means of two independent groups"
   ]
  },
  {
   "cell_type": "code",
   "execution_count": 86,
   "metadata": {},
   "outputs": [
    {
     "data": {
      "text/html": [
       "<table>\n",
       "<thead><tr><th scope=col>group</th><th scope=col>speed</th></tr></thead>\n",
       "<tbody>\n",
       "\t<tr><td>maruthi</td><td> 90.60 </td></tr>\n",
       "\t<tr><td>maruthi</td><td>110.10 </td></tr>\n",
       "\t<tr><td>maruthi</td><td> 92.71 </td></tr>\n",
       "\t<tr><td>maruthi</td><td>150.87 </td></tr>\n",
       "\t<tr><td>maruthi</td><td>101.45 </td></tr>\n",
       "\t<tr><td>maruthi</td><td>161.32 </td></tr>\n",
       "\t<tr><td>maruthi</td><td> 98.54 </td></tr>\n",
       "\t<tr><td>maruthi</td><td> 99.12 </td></tr>\n",
       "\t<tr><td>honda  </td><td> 89.13 </td></tr>\n",
       "\t<tr><td>honda  </td><td> 87.90 </td></tr>\n",
       "\t<tr><td>honda  </td><td>112.13 </td></tr>\n",
       "\t<tr><td>honda  </td><td> 90.45 </td></tr>\n",
       "\t<tr><td>honda  </td><td>142.56 </td></tr>\n",
       "\t<tr><td>honda  </td><td>102.40 </td></tr>\n",
       "\t<tr><td>honda  </td><td>130.79 </td></tr>\n",
       "\t<tr><td>honda  </td><td>113.33 </td></tr>\n",
       "</tbody>\n",
       "</table>\n"
      ],
      "text/latex": [
       "\\begin{tabular}{r|ll}\n",
       " group & speed\\\\\n",
       "\\hline\n",
       "\t maruthi &  90.60 \\\\\n",
       "\t maruthi & 110.10 \\\\\n",
       "\t maruthi &  92.71 \\\\\n",
       "\t maruthi & 150.87 \\\\\n",
       "\t maruthi & 101.45 \\\\\n",
       "\t maruthi & 161.32 \\\\\n",
       "\t maruthi &  98.54 \\\\\n",
       "\t maruthi &  99.12 \\\\\n",
       "\t honda   &  89.13 \\\\\n",
       "\t honda   &  87.90 \\\\\n",
       "\t honda   & 112.13 \\\\\n",
       "\t honda   &  90.45 \\\\\n",
       "\t honda   & 142.56 \\\\\n",
       "\t honda   & 102.40 \\\\\n",
       "\t honda   & 130.79 \\\\\n",
       "\t honda   & 113.33 \\\\\n",
       "\\end{tabular}\n"
      ],
      "text/markdown": [
       "\n",
       "| group | speed |\n",
       "|---|---|\n",
       "| maruthi |  90.60  |\n",
       "| maruthi | 110.10  |\n",
       "| maruthi |  92.71  |\n",
       "| maruthi | 150.87  |\n",
       "| maruthi | 101.45  |\n",
       "| maruthi | 161.32  |\n",
       "| maruthi |  98.54  |\n",
       "| maruthi |  99.12  |\n",
       "| honda   |  89.13  |\n",
       "| honda   |  87.90  |\n",
       "| honda   | 112.13  |\n",
       "| honda   |  90.45  |\n",
       "| honda   | 142.56  |\n",
       "| honda   | 102.40  |\n",
       "| honda   | 130.79  |\n",
       "| honda   | 113.33  |\n",
       "\n"
      ],
      "text/plain": [
       "   group   speed \n",
       "1  maruthi  90.60\n",
       "2  maruthi 110.10\n",
       "3  maruthi  92.71\n",
       "4  maruthi 150.87\n",
       "5  maruthi 101.45\n",
       "6  maruthi 161.32\n",
       "7  maruthi  98.54\n",
       "8  maruthi  99.12\n",
       "9  honda    89.13\n",
       "10 honda    87.90\n",
       "11 honda   112.13\n",
       "12 honda    90.45\n",
       "13 honda   142.56\n",
       "14 honda   102.40\n",
       "15 honda   130.79\n",
       "16 honda   113.33"
      ]
     },
     "metadata": {},
     "output_type": "display_data"
    }
   ],
   "source": [
    "maruthi_speed <- c(90.6, 110.1, 92.71, 150.87, 101.45, 161.32, 98.54, 99.12)\n",
    "honda_speed <- c(89.13, 87.90, 112.13, 90.45, 142.56, 102.4, 130.79, 113.33) \n",
    "# Create a data frame\n",
    "my_data <- data.frame( \n",
    "                group = rep(c(\"maruthi\", \"honda\"), each = 8),\n",
    "                speed = c(maruthi_speed,  honda_speed)\n",
    "                )\n",
    "my_data"
   ]
  },
  {
   "cell_type": "code",
   "execution_count": 87,
   "metadata": {},
   "outputs": [
    {
     "data": {
      "text/html": [
       "<table>\n",
       "<thead><tr><th scope=col>group</th><th scope=col>count</th><th scope=col>mean_wt</th><th scope=col>sd</th></tr></thead>\n",
       "<tbody>\n",
       "\t<tr><td>honda   </td><td>8       </td><td>108.5863</td><td>20.19881</td></tr>\n",
       "\t<tr><td>maruthi </td><td>8       </td><td>113.0888</td><td>27.32319</td></tr>\n",
       "</tbody>\n",
       "</table>\n"
      ],
      "text/latex": [
       "\\begin{tabular}{r|llll}\n",
       " group & count & mean\\_wt & sd\\\\\n",
       "\\hline\n",
       "\t honda    & 8        & 108.5863 & 20.19881\\\\\n",
       "\t maruthi  & 8        & 113.0888 & 27.32319\\\\\n",
       "\\end{tabular}\n"
      ],
      "text/markdown": [
       "\n",
       "| group | count | mean_wt | sd |\n",
       "|---|---|---|---|\n",
       "| honda    | 8        | 108.5863 | 20.19881 |\n",
       "| maruthi  | 8        | 113.0888 | 27.32319 |\n",
       "\n"
      ],
      "text/plain": [
       "  group   count mean_wt  sd      \n",
       "1 honda   8     108.5863 20.19881\n",
       "2 maruthi 8     113.0888 27.32319"
      ]
     },
     "metadata": {},
     "output_type": "display_data"
    }
   ],
   "source": [
    "my_data%>%\n",
    "group_by(group)%>%\n",
    "summarize(count=n(),mean_wt=mean(speed,na.rm = TRUE),sd=sd(speed,na.rm=TRUE))"
   ]
  },
  {
   "cell_type": "code",
   "execution_count": 88,
   "metadata": {},
   "outputs": [
    {
     "name": "stderr",
     "output_type": "stream",
     "text": [
      "Registered S3 methods overwritten by 'ggplot2':\n",
      "  method         from \n",
      "  [.quosures     rlang\n",
      "  c.quosures     rlang\n",
      "  print.quosures rlang\n"
     ]
    }
   ],
   "source": [
    "library(ggplot2)"
   ]
  },
  {
   "cell_type": "code",
   "execution_count": 89,
   "metadata": {},
   "outputs": [
    {
     "data": {
      "image/png": "[encoded data removed]",
      "text/plain": [
       "plot without title"
      ]
     },
     "metadata": {},
     "output_type": "display_data"
    }
   ],
   "source": [
    "ggplot(my_data,aes(x=group,y=speed))+geom_boxplot()"
   ]
  },
  {
   "cell_type": "code",
   "execution_count": 90,
   "metadata": {},
   "outputs": [
    {
     "data": {
      "text/plain": [
       "\n",
       "\tShapiro-Wilk normality test\n",
       "\n",
       "data:  speed[group == \"maruthi\"]\n",
       "W = 0.76775, p-value = 0.01281\n"
      ]
     },
     "metadata": {},
     "output_type": "display_data"
    }
   ],
   "source": [
    "with(my_data, shapiro.test(speed[group == \"maruthi\"]))"
   ]
  },
  {
   "cell_type": "code",
   "execution_count": 91,
   "metadata": {},
   "outputs": [
    {
     "data": {
      "text/plain": [
       "\n",
       "\tShapiro-Wilk normality test\n",
       "\n",
       "data:  speed[group == \"honda\"]\n",
       "W = 0.90381, p-value = 0.3125\n"
      ]
     },
     "metadata": {},
     "output_type": "display_data"
    }
   ],
   "source": [
    "with(my_data, shapiro.test(speed[group == \"honda\"]))"
   ]
  },
  {
   "cell_type": "code",
   "execution_count": 92,
   "metadata": {},
   "outputs": [
    {
     "data": {
      "text/plain": [
       "\n",
       "\tF test to compare two variances\n",
       "\n",
       "data:  speed by group\n",
       "F = 0.5465, num df = 7, denom df = 7, p-value = 0.4438\n",
       "alternative hypothesis: true ratio of variances is not equal to 1\n",
       "95 percent confidence interval:\n",
       " 0.109411 2.729708\n",
       "sample estimates:\n",
       "ratio of variances \n",
       "          0.546498 \n"
      ]
     },
     "metadata": {},
     "output_type": "display_data"
    }
   ],
   "source": [
    "res.ftest <- var.test(speed ~ group, data = my_data)\n",
    "res.ftest"
   ]
  },
  {
   "cell_type": "code",
   "execution_count": 93,
   "metadata": {},
   "outputs": [
    {
     "data": {
      "text/plain": [
       "\n",
       "\tTwo Sample t-test\n",
       "\n",
       "data:  speed by group\n",
       "t = -0.37479, df = 14, p-value = 0.7134\n",
       "alternative hypothesis: true difference in means is not equal to 0\n",
       "95 percent confidence interval:\n",
       " -30.2684  21.2634\n",
       "sample estimates:\n",
       "  mean in group honda mean in group maruthi \n",
       "             108.5863              113.0888 \n"
      ]
     },
     "metadata": {},
     "output_type": "display_data"
    }
   ],
   "source": [
    "res <- t.test(speed~group, data=my_data, var.equal = TRUE)\n",
    "res"
   ]
  },
  {
   "cell_type": "code",
   "execution_count": 94,
   "metadata": {},
   "outputs": [
    {
     "data": {
      "text/plain": [
       "\n",
       "\tTwo Sample t-test\n",
       "\n",
       "data:  speed by group\n",
       "t = -0.37479, df = 14, p-value = 0.3567\n",
       "alternative hypothesis: true difference in means is less than 0\n",
       "95 percent confidence interval:\n",
       "     -Inf 16.65659\n",
       "sample estimates:\n",
       "  mean in group honda mean in group maruthi \n",
       "             108.5863              113.0888 \n"
      ]
     },
     "metadata": {},
     "output_type": "display_data"
    }
   ],
   "source": [
    "res <- t.test(speed~group, data=my_data, var.equal = TRUE,alternative = \"less\")\n",
    "res"
   ]
  },
  {
   "cell_type": "code",
   "execution_count": 95,
   "metadata": {},
   "outputs": [
    {
     "data": {
      "text/plain": [
       "\n",
       "\tTwo Sample t-test\n",
       "\n",
       "data:  speed by group\n",
       "t = -0.37479, df = 14, p-value = 0.6433\n",
       "alternative hypothesis: true difference in means is greater than 0\n",
       "95 percent confidence interval:\n",
       " -25.66159       Inf\n",
       "sample estimates:\n",
       "  mean in group honda mean in group maruthi \n",
       "             108.5863              113.0888 \n"
      ]
     },
     "metadata": {},
     "output_type": "display_data"
    }
   ],
   "source": [
    "res <- t.test(speed~group, data=my_data, var.equal = TRUE,alternative = \"greater\")\n",
    "res"
   ]
  },
  {
   "cell_type": "code",
   "execution_count": 96,
   "metadata": {},
   "outputs": [
    {
     "data": {
      "text/plain": [
       "\n",
       "\tWilcoxon rank sum test with continuity correction\n",
       "\n",
       "data:  speed by group\n",
       "W = 29, p-value = 0.7929\n",
       "alternative hypothesis: true location shift is not equal to 0\n"
      ]
     },
     "metadata": {},
     "output_type": "display_data"
    }
   ],
   "source": [
    "res <- wilcox.test(speed~group,data=my_data,exact=FALSE)\n",
    "res"
   ]
  },
  {
   "cell_type": "code",
   "execution_count": null,
   "metadata": {},
   "outputs": [],
   "source": []
  }
 ],
 "metadata": {
  "kernelspec": {
   "display_name": "R",
   "language": "R",
   "name": "ir"
  },
  "language_info": {
   "codemirror_mode": "r",
   "file_extension": ".r",
   "mimetype": "text/x-r-source",
   "name": "R",
   "pygments_lexer": "r",
   "version": "3.6.1"
  }
 },
 "nbformat": 4,
 "nbformat_minor": 4
}
