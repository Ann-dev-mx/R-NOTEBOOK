{
 "cells": [
  {
   "cell_type": "code",
   "execution_count": 1,
   "metadata": {},
   "outputs": [
    {
     "data": {
      "text/html": [
       "<table>\n",
       "<thead><tr><th scope=col>Sex</th><th scope=col>Wr.Hnd</th><th scope=col>NW.Hnd</th><th scope=col>W.Hnd</th><th scope=col>Fold</th><th scope=col>Pulse</th><th scope=col>Clap</th><th scope=col>Exer</th><th scope=col>Smoke</th><th scope=col>Height</th><th scope=col>M.I</th><th scope=col>Age</th></tr></thead>\n",
       "<tbody>\n",
       "\t<tr><td>Female  </td><td>18.5    </td><td>18.0    </td><td>Right   </td><td>R on L  </td><td> 92     </td><td>Left    </td><td>Some    </td><td>Never   </td><td>173.00  </td><td>Metric  </td><td>18.250  </td></tr>\n",
       "\t<tr><td>Male    </td><td>19.5    </td><td>20.5    </td><td>Left    </td><td>R on L  </td><td>104     </td><td>Left    </td><td>None    </td><td>Regul   </td><td>177.80  </td><td>Imperial</td><td>17.583  </td></tr>\n",
       "\t<tr><td>Male    </td><td>18.0    </td><td>13.3    </td><td>Right   </td><td>L on R  </td><td> 87     </td><td>Neither </td><td>None    </td><td>Occas   </td><td>    NA  </td><td>NA      </td><td>16.917  </td></tr>\n",
       "\t<tr><td>Male    </td><td>18.8    </td><td>18.9    </td><td>Right   </td><td>R on L  </td><td> NA     </td><td>Neither </td><td>None    </td><td>Never   </td><td>160.00  </td><td>Metric  </td><td>20.333  </td></tr>\n",
       "\t<tr><td>Male    </td><td>20.0    </td><td>20.0    </td><td>Right   </td><td>Neither </td><td> 35     </td><td>Right   </td><td>Some    </td><td>Never   </td><td>165.00  </td><td>Metric  </td><td>23.667  </td></tr>\n",
       "\t<tr><td>Female  </td><td>18.0    </td><td>17.7    </td><td>Right   </td><td>L on R  </td><td> 64     </td><td>Right   </td><td>Some    </td><td>Never   </td><td>172.72  </td><td>Imperial</td><td>21.000  </td></tr>\n",
       "</tbody>\n",
       "</table>\n"
      ],
      "text/latex": [
       "\\begin{tabular}{r|llllllllllll}\n",
       " Sex & Wr.Hnd & NW.Hnd & W.Hnd & Fold & Pulse & Clap & Exer & Smoke & Height & M.I & Age\\\\\n",
       "\\hline\n",
       "\t Female   & 18.5     & 18.0     & Right    & R on L   &  92      & Left     & Some     & Never    & 173.00   & Metric   & 18.250  \\\\\n",
       "\t Male     & 19.5     & 20.5     & Left     & R on L   & 104      & Left     & None     & Regul    & 177.80   & Imperial & 17.583  \\\\\n",
       "\t Male     & 18.0     & 13.3     & Right    & L on R   &  87      & Neither  & None     & Occas    &     NA   & NA       & 16.917  \\\\\n",
       "\t Male     & 18.8     & 18.9     & Right    & R on L   &  NA      & Neither  & None     & Never    & 160.00   & Metric   & 20.333  \\\\\n",
       "\t Male     & 20.0     & 20.0     & Right    & Neither  &  35      & Right    & Some     & Never    & 165.00   & Metric   & 23.667  \\\\\n",
       "\t Female   & 18.0     & 17.7     & Right    & L on R   &  64      & Right    & Some     & Never    & 172.72   & Imperial & 21.000  \\\\\n",
       "\\end{tabular}\n"
      ],
      "text/markdown": [
       "\n",
       "| Sex | Wr.Hnd | NW.Hnd | W.Hnd | Fold | Pulse | Clap | Exer | Smoke | Height | M.I | Age |\n",
       "|---|---|---|---|---|---|---|---|---|---|---|---|\n",
       "| Female   | 18.5     | 18.0     | Right    | R on L   |  92      | Left     | Some     | Never    | 173.00   | Metric   | 18.250   |\n",
       "| Male     | 19.5     | 20.5     | Left     | R on L   | 104      | Left     | None     | Regul    | 177.80   | Imperial | 17.583   |\n",
       "| Male     | 18.0     | 13.3     | Right    | L on R   |  87      | Neither  | None     | Occas    |     NA   | NA       | 16.917   |\n",
       "| Male     | 18.8     | 18.9     | Right    | R on L   |  NA      | Neither  | None     | Never    | 160.00   | Metric   | 20.333   |\n",
       "| Male     | 20.0     | 20.0     | Right    | Neither  |  35      | Right    | Some     | Never    | 165.00   | Metric   | 23.667   |\n",
       "| Female   | 18.0     | 17.7     | Right    | L on R   |  64      | Right    | Some     | Never    | 172.72   | Imperial | 21.000   |\n",
       "\n"
      ],
      "text/plain": [
       "  Sex    Wr.Hnd NW.Hnd W.Hnd Fold    Pulse Clap    Exer Smoke Height M.I     \n",
       "1 Female 18.5   18.0   Right R on L   92   Left    Some Never 173.00 Metric  \n",
       "2 Male   19.5   20.5   Left  R on L  104   Left    None Regul 177.80 Imperial\n",
       "3 Male   18.0   13.3   Right L on R   87   Neither None Occas     NA NA      \n",
       "4 Male   18.8   18.9   Right R on L   NA   Neither None Never 160.00 Metric  \n",
       "5 Male   20.0   20.0   Right Neither  35   Right   Some Never 165.00 Metric  \n",
       "6 Female 18.0   17.7   Right L on R   64   Right   Some Never 172.72 Imperial\n",
       "  Age   \n",
       "1 18.250\n",
       "2 17.583\n",
       "3 16.917\n",
       "4 20.333\n",
       "5 23.667\n",
       "6 21.000"
      ]
     },
     "metadata": {},
     "output_type": "display_data"
    }
   ],
   "source": [
    "library (MASS)\n",
    "data(survey)\n",
    "head(survey)"
   ]
  },
  {
   "cell_type": "code",
   "execution_count": 2,
   "metadata": {},
   "outputs": [],
   "source": [
    "new_survey  <- survey"
   ]
  },
  {
   "cell_type": "code",
   "execution_count": 19,
   "metadata": {},
   "outputs": [],
   "source": [
    "dt  <- na.omit(survey)"
   ]
  },
  {
   "cell_type": "markdown",
   "metadata": {},
   "source": [
    "Plot a bar graph for the number of male and female participants in the survey. Provide the title as “Male and Female participants”, y-axis label as “frequency” and specify the colours for the bars."
   ]
  },
  {
   "cell_type": "code",
   "execution_count": 23,
   "metadata": {},
   "outputs": [
    {
     "ename": "ERROR",
     "evalue": "Error in barplot.default(dt$Sex, main = \"Male and Female participants\", : 'height' must be a vector or a matrix\n",
     "output_type": "error",
     "traceback": [
      "Error in barplot.default(dt$Sex, main = \"Male and Female participants\", : 'height' must be a vector or a matrix\nTraceback:\n",
      "1. barplot(dt$Sex, main = \"Male and Female participants\", xlab = \"index\", \n .     ylab = \"frequency\")",
      "2. barplot.default(dt$Sex, main = \"Male and Female participants\", \n .     xlab = \"index\", ylab = \"frequency\")",
      "3. stop(\"'height' must be a vector or a matrix\")"
     ]
    }
   ],
   "source": [
    "barplot(dt$Sex, main = 'Male and Female participants', xlab='index',ylab = 'frequency')\n",
    "filter(new_survey,Sex == 'Female', W.Hnd == 'Right' , Clap == 'Right' )"
   ]
  },
  {
   "cell_type": "code",
   "execution_count": 13,
   "metadata": {},
   "outputs": [],
   "source": [
    "library(ggplot2)"
   ]
  },
  {
   "cell_type": "code",
   "execution_count": 20,
   "metadata": {},
   "outputs": [
    {
     "data": {
      "image/png": "[encoded data removed]",
      "text/plain": [
       "plot without title"
      ]
     },
     "metadata": {},
     "output_type": "display_data"
    }
   ],
   "source": [
    "ggplot(dt,aes(x=Sex))+geom_bar(color='blue',fill='red')+labs(x='index',y='frequency',title='Male and Female participants')"
   ]
  },
  {
   "cell_type": "markdown",
   "metadata": {},
   "source": [
    "Plot a bar graph for the number of left handers and right handers in the survey. Provide the title as “Left Handers and Right Handers”, y-axis label as “count” and specify the colours for the bars."
   ]
  },
  {
   "cell_type": "code",
   "execution_count": 21,
   "metadata": {},
   "outputs": [
    {
     "data": {
      "image/png": "[encoded data removed]",
      "text/plain": [
       "plot without title"
      ]
     },
     "metadata": {},
     "output_type": "display_data"
    }
   ],
   "source": [
    "ggplot(dt,aes(x=W.Hnd))+geom_bar(color='blue',fill='red')+labs(x='index',y='count',title='Left Handers and Right Handers')"
   ]
  },
  {
   "cell_type": "markdown",
   "metadata": {},
   "source": [
    "Plot the distribution between male left handers and female left handers using bar chart. Provide the title as “Female Left Handers and Male Left Handers , y-axis label as “count” and specify the colours for the bars."
   ]
  },
  {
   "cell_type": "code",
   "execution_count": 41,
   "metadata": {},
   "outputs": [],
   "source": [
    "w  <- dt %>%\n",
    "filter(W.Hnd == 'Left') %>%\n",
    "select(Sex)\n"
   ]
  },
  {
   "cell_type": "code",
   "execution_count": 42,
   "metadata": {},
   "outputs": [
    {
     "ename": "ERROR",
     "evalue": "Error in table(W): object 'W' not found\n",
     "output_type": "error",
     "traceback": [
      "Error in table(W): object 'W' not found\nTraceback:\n",
      "1. table(W)"
     ]
    }
   ],
   "source": [
    "table(W) \n",
    "ggplot(dt,aes(x=W))+geom_histogram()+labs(title='distribution of hp',y='frequency')\n"
   ]
  },
  {
   "cell_type": "code",
   "execution_count": 35,
   "metadata": {},
   "outputs": [
    {
     "name": "stderr",
     "output_type": "stream",
     "text": [
      "\n",
      "Attaching package: 'dplyr'\n",
      "\n",
      "The following object is masked from 'package:MASS':\n",
      "\n",
      "    select\n",
      "\n",
      "The following objects are masked from 'package:stats':\n",
      "\n",
      "    filter, lag\n",
      "\n",
      "The following objects are masked from 'package:base':\n",
      "\n",
      "    intersect, setdiff, setequal, union\n",
      "\n"
     ]
    }
   ],
   "source": [
    "library(dplyr)"
   ]
  },
  {
   "cell_type": "code",
   "execution_count": 37,
   "metadata": {},
   "outputs": [
    {
     "data": {
      "text/html": [
       "<table>\n",
       "<thead><tr><th scope=col>Sex</th></tr></thead>\n",
       "<tbody>\n",
       "\t<tr><td>Male  </td></tr>\n",
       "\t<tr><td>Male  </td></tr>\n",
       "\t<tr><td>Male  </td></tr>\n",
       "\t<tr><td>Male  </td></tr>\n",
       "\t<tr><td>Female</td></tr>\n",
       "\t<tr><td>Male  </td></tr>\n",
       "\t<tr><td>Female</td></tr>\n",
       "\t<tr><td>Female</td></tr>\n",
       "\t<tr><td>Male  </td></tr>\n",
       "\t<tr><td>Female</td></tr>\n",
       "\t<tr><td>Male  </td></tr>\n",
       "\t<tr><td>Female</td></tr>\n",
       "</tbody>\n",
       "</table>\n"
      ],
      "text/latex": [
       "\\begin{tabular}{r|l}\n",
       " Sex\\\\\n",
       "\\hline\n",
       "\t Male  \\\\\n",
       "\t Male  \\\\\n",
       "\t Male  \\\\\n",
       "\t Male  \\\\\n",
       "\t Female\\\\\n",
       "\t Male  \\\\\n",
       "\t Female\\\\\n",
       "\t Female\\\\\n",
       "\t Male  \\\\\n",
       "\t Female\\\\\n",
       "\t Male  \\\\\n",
       "\t Female\\\\\n",
       "\\end{tabular}\n"
      ],
      "text/markdown": [
       "\n",
       "| Sex |\n",
       "|---|\n",
       "| Male   |\n",
       "| Male   |\n",
       "| Male   |\n",
       "| Male   |\n",
       "| Female |\n",
       "| Male   |\n",
       "| Female |\n",
       "| Female |\n",
       "| Male   |\n",
       "| Female |\n",
       "| Male   |\n",
       "| Female |\n",
       "\n"
      ],
      "text/plain": [
       "   Sex   \n",
       "1  Male  \n",
       "2  Male  \n",
       "3  Male  \n",
       "4  Male  \n",
       "5  Female\n",
       "6  Male  \n",
       "7  Female\n",
       "8  Female\n",
       "9  Male  \n",
       "10 Female\n",
       "11 Male  \n",
       "12 Female"
      ]
     },
     "metadata": {},
     "output_type": "display_data"
    }
   ],
   "source": [
    "dt %>%\n",
    "filter(W.Hnd == 'Left') %>%\n",
    "select(Sex)\n"
   ]
  },
  {
   "cell_type": "code",
   "execution_count": null,
   "metadata": {},
   "outputs": [],
   "source": []
  }
 ],
 "metadata": {
  "kernelspec": {
   "display_name": "R",
   "language": "R",
   "name": "ir"
  },
  "language_info": {
   "codemirror_mode": "r",
   "file_extension": ".r",
   "mimetype": "text/x-r-source",
   "name": "R",
   "pygments_lexer": "r",
   "version": "3.6.1"
  }
 },
 "nbformat": 4,
 "nbformat_minor": 4
}
